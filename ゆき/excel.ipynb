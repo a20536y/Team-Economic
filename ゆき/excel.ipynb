{
 "cells": [
  {
   "cell_type": "code",
   "execution_count": 6,
   "metadata": {},
   "outputs": [],
   "source": [
    "import pandas as pd\n",
    "\n",
    "# 同じ階層に変換したいデータを配置\n",
    "# pop.csvは読み込むファイル名\n",
    "df = pd.read_csv('life ex.csv', index_col=None)\n",
    "\n",
    "# データを縦に並べる\n",
    "melted_df = df.melt(id_vars='country', var_name='Year', value_name='Value')\n",
    "\n",
    "# 書き出すファイルパスを指定（converted_data.csvって名前で出力）\n",
    "output_path = 'liheex_data.csv'\n",
    "\n",
    "# csvとして出力\n",
    "melted_df.to_csv(output_path, index=False)"
   ]
  }
 ],
 "metadata": {
  "kernelspec": {
   "display_name": "gis",
   "language": "python",
   "name": "python3"
  },
  "language_info": {
   "codemirror_mode": {
    "name": "ipython",
    "version": 3
   },
   "file_extension": ".py",
   "mimetype": "text/x-python",
   "name": "python",
   "nbconvert_exporter": "python",
   "pygments_lexer": "ipython3",
   "version": "3.11.3"
  },
  "orig_nbformat": 4
 },
 "nbformat": 4,
 "nbformat_minor": 2
}
