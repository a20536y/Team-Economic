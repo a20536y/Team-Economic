{
 "cells": [
  {
   "cell_type": "code",
   "execution_count": 10,
   "metadata": {},
   "outputs": [],
   "source": [
    "import pandas as pd\n",
    "\n",
    "# Load the CSV data into DataFrames\n",
    "master2 = pd.read_csv('master2.csv')\n",
    "ad_birth = pd.read_csv('Healthy life expectancy at birth.csv')\n",
    "ad_money = pd.read_csv('money.csv')\n",
    "ad_time = pd.read_csv('time.csv')\n"
   ]
  },
  {
   "cell_type": "code",
   "execution_count": 11,
   "metadata": {},
   "outputs": [],
   "source": [
    "# Sort the main DataFrame by year and country\n",
    "master2.sort_values(['year', 'ISO3'], inplace=True)"
   ]
  },
  {
   "cell_type": "code",
   "execution_count": 14,
   "metadata": {},
   "outputs": [],
   "source": [
    "# Merge the data on 'year' and 'country' columns, keeping all rows\n",
    "\n",
    "newmaster2 = pd.merge(master2, ad_time, on=['year', 'ISO3'], how='left')\n",
    "newmaster3 = pd.merge(newmaster2, ad_money, on=['year', 'ISO3'], how='left')\n",
    "\n"
   ]
  },
  {
   "cell_type": "code",
   "execution_count": 15,
   "metadata": {},
   "outputs": [
    {
     "name": "stdout",
     "output_type": "stream",
     "text": [
      "       Country name Alpha-2 code ISO3  Numeric code  latitude  longitude   \n",
      "0             Aruba           AW  ABW           533   12.5000   -69.9667  \\\n",
      "1       Afghanistan           AF  AFG             4   33.0000    65.0000   \n",
      "2            Angola           AO  AGO            24  -12.5000    18.5000   \n",
      "3          Anguilla           AI  AIA           660   18.2500   -63.1667   \n",
      "4           Albania           AL  ALB             8   41.0000    20.0000   \n",
      "...             ...          ...  ...           ...       ...        ...   \n",
      "16123         Samoa           WS  WSM           882  -13.5833  -172.3333   \n",
      "16124         Yemen           YE  YEM           887   15.0000    48.0000   \n",
      "16125  South Africa           ZA  ZAF           710  -29.0000    24.0000   \n",
      "16126        Zambia           ZM  ZMB           894  -15.0000    30.0000   \n",
      "16127      Zimbabwe           ZW  ZWE           716  -20.0000    30.0000   \n",
      "\n",
      "       year INDICATOR_x SUBJECT_x MEASURE_x FREQUENCY_x  time  Flag Codes_x   \n",
      "0      1960         NaN       NaN       NaN         NaN   NaN           NaN  \\\n",
      "1      1960         NaN       NaN       NaN         NaN   NaN           NaN   \n",
      "2      1960         NaN       NaN       NaN         NaN   NaN           NaN   \n",
      "3      1960         NaN       NaN       NaN         NaN   NaN           NaN   \n",
      "4      1960         NaN       NaN       NaN         NaN   NaN           NaN   \n",
      "...     ...         ...       ...       ...         ...   ...           ...   \n",
      "16123  2022         NaN       NaN       NaN         NaN   NaN           NaN   \n",
      "16124  2022         NaN       NaN       NaN         NaN   NaN           NaN   \n",
      "16125  2022         NaN       NaN       NaN         NaN   NaN           NaN   \n",
      "16126  2022         NaN       NaN       NaN         NaN   NaN           NaN   \n",
      "16127  2022         NaN       NaN       NaN         NaN   NaN           NaN   \n",
      "\n",
      "      INDICATOR_y SUBJECT_y MEASURE_y FREQUENCY_y  money  Flag Codes_y  \n",
      "0             NaN       NaN       NaN         NaN    NaN           NaN  \n",
      "1             NaN       NaN       NaN         NaN    NaN           NaN  \n",
      "2             NaN       NaN       NaN         NaN    NaN           NaN  \n",
      "3             NaN       NaN       NaN         NaN    NaN           NaN  \n",
      "4             NaN       NaN       NaN         NaN    NaN           NaN  \n",
      "...           ...       ...       ...         ...    ...           ...  \n",
      "16123         NaN       NaN       NaN         NaN    NaN           NaN  \n",
      "16124         NaN       NaN       NaN         NaN    NaN           NaN  \n",
      "16125         NaN       NaN       NaN         NaN    NaN           NaN  \n",
      "16126         NaN       NaN       NaN         NaN    NaN           NaN  \n",
      "16127         NaN       NaN       NaN         NaN    NaN           NaN  \n",
      "\n",
      "[16128 rows x 19 columns]\n"
     ]
    }
   ],
   "source": [
    "# Forward fill missing values with data from the previous year\n",
    "newmaster2.fillna(method='ffill', inplace=True)\n",
    "\n",
    "# Display the merged DataFrame\n",
    "print(newmaster3)"
   ]
  }
 ],
 "metadata": {
  "kernelspec": {
   "display_name": "gis",
   "language": "python",
   "name": "python3"
  },
  "language_info": {
   "codemirror_mode": {
    "name": "ipython",
    "version": 3
   },
   "file_extension": ".py",
   "mimetype": "text/x-python",
   "name": "python",
   "nbconvert_exporter": "python",
   "pygments_lexer": "ipython3",
   "version": "3.11.3"
  },
  "orig_nbformat": 4
 },
 "nbformat": 4,
 "nbformat_minor": 2
}
