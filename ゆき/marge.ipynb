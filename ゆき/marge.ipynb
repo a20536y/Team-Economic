{
 "cells": [
  {
   "cell_type": "code",
   "execution_count": 35,
   "metadata": {},
   "outputs": [],
   "source": [
    "import pandas as pd\n",
    "\n",
    "# Load the CSV data into DataFrames\n",
    "master2 = pd.read_csv('master2.csv')\n",
    "ad_birth = pd.read_csv('Healthy life expectancy at birth.csv')\n",
    "ad_money = pd.read_csv('money.csv')\n",
    "ad_time = pd.read_csv('time.csv')\n"
   ]
  },
  {
   "cell_type": "code",
   "execution_count": 36,
   "metadata": {},
   "outputs": [],
   "source": [
    "# Sort the main DataFrame by year and country\n",
    "master2.sort_values(['year', 'ISO3'], inplace=True)"
   ]
  },
  {
   "cell_type": "code",
   "execution_count": 37,
   "metadata": {},
   "outputs": [
    {
     "ename": "ValueError",
     "evalue": "You are trying to merge on object and float64 columns. If you wish to proceed you should use pd.concat",
     "output_type": "error",
     "traceback": [
      "\u001b[1;31m---------------------------------------------------------------------------\u001b[0m",
      "\u001b[1;31mValueError\u001b[0m                                Traceback (most recent call last)",
      "Cell \u001b[1;32mIn[37], line 5\u001b[0m\n\u001b[0;32m      3\u001b[0m newmaster2 \u001b[39m=\u001b[39m pd\u001b[39m.\u001b[39mmerge(master2, ad_time, on\u001b[39m=\u001b[39m[\u001b[39m'\u001b[39m\u001b[39myear\u001b[39m\u001b[39m'\u001b[39m, \u001b[39m'\u001b[39m\u001b[39mISO3\u001b[39m\u001b[39m'\u001b[39m], how\u001b[39m=\u001b[39m\u001b[39m'\u001b[39m\u001b[39mleft\u001b[39m\u001b[39m'\u001b[39m)\n\u001b[0;32m      4\u001b[0m newmaster2 \u001b[39m=\u001b[39m pd\u001b[39m.\u001b[39mmerge(master2, ad_money, on\u001b[39m=\u001b[39m[\u001b[39m'\u001b[39m\u001b[39myear\u001b[39m\u001b[39m'\u001b[39m, \u001b[39m'\u001b[39m\u001b[39mISO3\u001b[39m\u001b[39m'\u001b[39m], how\u001b[39m=\u001b[39m\u001b[39m'\u001b[39m\u001b[39mleft\u001b[39m\u001b[39m'\u001b[39m)\n\u001b[1;32m----> 5\u001b[0m newmaster2 \u001b[39m=\u001b[39m pd\u001b[39m.\u001b[39;49mmerge(master2, ad_birth, on\u001b[39m=\u001b[39;49m[\u001b[39m'\u001b[39;49m\u001b[39myear\u001b[39;49m\u001b[39m'\u001b[39;49m, \u001b[39m'\u001b[39;49m\u001b[39mISO3\u001b[39;49m\u001b[39m'\u001b[39;49m], how\u001b[39m=\u001b[39;49m\u001b[39m'\u001b[39;49m\u001b[39mleft\u001b[39;49m\u001b[39m'\u001b[39;49m)\n",
      "File \u001b[1;32mc:\\Users\\asedf\\miniconda3\\envs\\gis\\Lib\\site-packages\\pandas\\core\\reshape\\merge.py:144\u001b[0m, in \u001b[0;36mmerge\u001b[1;34m(left, right, how, on, left_on, right_on, left_index, right_index, sort, suffixes, copy, indicator, validate)\u001b[0m\n\u001b[0;32m    127\u001b[0m \u001b[39m@Substitution\u001b[39m(\u001b[39m\"\u001b[39m\u001b[39m\\n\u001b[39;00m\u001b[39mleft : DataFrame or named Series\u001b[39m\u001b[39m\"\u001b[39m)\n\u001b[0;32m    128\u001b[0m \u001b[39m@Appender\u001b[39m(_merge_doc, indents\u001b[39m=\u001b[39m\u001b[39m0\u001b[39m)\n\u001b[0;32m    129\u001b[0m \u001b[39mdef\u001b[39;00m \u001b[39mmerge\u001b[39m(\n\u001b[1;32m   (...)\u001b[0m\n\u001b[0;32m    142\u001b[0m     validate: \u001b[39mstr\u001b[39m \u001b[39m|\u001b[39m \u001b[39mNone\u001b[39;00m \u001b[39m=\u001b[39m \u001b[39mNone\u001b[39;00m,\n\u001b[0;32m    143\u001b[0m ) \u001b[39m-\u001b[39m\u001b[39m>\u001b[39m DataFrame:\n\u001b[1;32m--> 144\u001b[0m     op \u001b[39m=\u001b[39m _MergeOperation(\n\u001b[0;32m    145\u001b[0m         left,\n\u001b[0;32m    146\u001b[0m         right,\n\u001b[0;32m    147\u001b[0m         how\u001b[39m=\u001b[39;49mhow,\n\u001b[0;32m    148\u001b[0m         on\u001b[39m=\u001b[39;49mon,\n\u001b[0;32m    149\u001b[0m         left_on\u001b[39m=\u001b[39;49mleft_on,\n\u001b[0;32m    150\u001b[0m         right_on\u001b[39m=\u001b[39;49mright_on,\n\u001b[0;32m    151\u001b[0m         left_index\u001b[39m=\u001b[39;49mleft_index,\n\u001b[0;32m    152\u001b[0m         right_index\u001b[39m=\u001b[39;49mright_index,\n\u001b[0;32m    153\u001b[0m         sort\u001b[39m=\u001b[39;49msort,\n\u001b[0;32m    154\u001b[0m         suffixes\u001b[39m=\u001b[39;49msuffixes,\n\u001b[0;32m    155\u001b[0m         indicator\u001b[39m=\u001b[39;49mindicator,\n\u001b[0;32m    156\u001b[0m         validate\u001b[39m=\u001b[39;49mvalidate,\n\u001b[0;32m    157\u001b[0m     )\n\u001b[0;32m    158\u001b[0m     \u001b[39mreturn\u001b[39;00m op\u001b[39m.\u001b[39mget_result(copy\u001b[39m=\u001b[39mcopy)\n",
      "File \u001b[1;32mc:\\Users\\asedf\\miniconda3\\envs\\gis\\Lib\\site-packages\\pandas\\core\\reshape\\merge.py:737\u001b[0m, in \u001b[0;36m_MergeOperation.__init__\u001b[1;34m(self, left, right, how, on, left_on, right_on, axis, left_index, right_index, sort, suffixes, indicator, validate)\u001b[0m\n\u001b[0;32m    729\u001b[0m (\n\u001b[0;32m    730\u001b[0m     \u001b[39mself\u001b[39m\u001b[39m.\u001b[39mleft_join_keys,\n\u001b[0;32m    731\u001b[0m     \u001b[39mself\u001b[39m\u001b[39m.\u001b[39mright_join_keys,\n\u001b[0;32m    732\u001b[0m     \u001b[39mself\u001b[39m\u001b[39m.\u001b[39mjoin_names,\n\u001b[0;32m    733\u001b[0m ) \u001b[39m=\u001b[39m \u001b[39mself\u001b[39m\u001b[39m.\u001b[39m_get_merge_keys()\n\u001b[0;32m    735\u001b[0m \u001b[39m# validate the merge keys dtypes. We may need to coerce\u001b[39;00m\n\u001b[0;32m    736\u001b[0m \u001b[39m# to avoid incompatible dtypes\u001b[39;00m\n\u001b[1;32m--> 737\u001b[0m \u001b[39mself\u001b[39;49m\u001b[39m.\u001b[39;49m_maybe_coerce_merge_keys()\n\u001b[0;32m    739\u001b[0m \u001b[39m# If argument passed to validate,\u001b[39;00m\n\u001b[0;32m    740\u001b[0m \u001b[39m# check if columns specified as unique\u001b[39;00m\n\u001b[0;32m    741\u001b[0m \u001b[39m# are in fact unique.\u001b[39;00m\n\u001b[0;32m    742\u001b[0m \u001b[39mif\u001b[39;00m validate \u001b[39mis\u001b[39;00m \u001b[39mnot\u001b[39;00m \u001b[39mNone\u001b[39;00m:\n",
      "File \u001b[1;32mc:\\Users\\asedf\\miniconda3\\envs\\gis\\Lib\\site-packages\\pandas\\core\\reshape\\merge.py:1389\u001b[0m, in \u001b[0;36m_MergeOperation._maybe_coerce_merge_keys\u001b[1;34m(self)\u001b[0m\n\u001b[0;32m   1383\u001b[0m     \u001b[39m# unless we are merging non-string-like with string-like\u001b[39;00m\n\u001b[0;32m   1384\u001b[0m     \u001b[39melif\u001b[39;00m (\n\u001b[0;32m   1385\u001b[0m         inferred_left \u001b[39min\u001b[39;00m string_types \u001b[39mand\u001b[39;00m inferred_right \u001b[39mnot\u001b[39;00m \u001b[39min\u001b[39;00m string_types\n\u001b[0;32m   1386\u001b[0m     ) \u001b[39mor\u001b[39;00m (\n\u001b[0;32m   1387\u001b[0m         inferred_right \u001b[39min\u001b[39;00m string_types \u001b[39mand\u001b[39;00m inferred_left \u001b[39mnot\u001b[39;00m \u001b[39min\u001b[39;00m string_types\n\u001b[0;32m   1388\u001b[0m     ):\n\u001b[1;32m-> 1389\u001b[0m         \u001b[39mraise\u001b[39;00m \u001b[39mValueError\u001b[39;00m(msg)\n\u001b[0;32m   1391\u001b[0m \u001b[39m# datetimelikes must match exactly\u001b[39;00m\n\u001b[0;32m   1392\u001b[0m \u001b[39melif\u001b[39;00m needs_i8_conversion(lk\u001b[39m.\u001b[39mdtype) \u001b[39mand\u001b[39;00m \u001b[39mnot\u001b[39;00m needs_i8_conversion(rk\u001b[39m.\u001b[39mdtype):\n",
      "\u001b[1;31mValueError\u001b[0m: You are trying to merge on object and float64 columns. If you wish to proceed you should use pd.concat"
     ]
    }
   ],
   "source": [
    "# Merge the data on 'year' and 'country' columns, keeping all rows\n",
    "\n",
    "newmaster2 = pd.merge(master2, ad_time, on=['year', 'ISO3'], how='left')\n",
    "newmaster2 = pd.merge(master2, ad_money, on=['year', 'ISO3'], how='left')\n",
    "newmaster2 = pd.merge(master2, ad_birth, on=['year', 'ISO3'], how='left')\n"
   ]
  },
  {
   "cell_type": "code",
   "execution_count": null,
   "metadata": {},
   "outputs": [],
   "source": [
    "# Merge the data on 'year' and 'country' columns, keeping all rows\n",
    "\n",
    "newmaster2 = pd.merge(master2, ad_time, on=['year', 'ISO3'], how='left')\n",
    "newmaster2 = pd.merge(master2, ad_money, on=['year', 'ISO3'], how='left')\n",
    "\n"
   ]
  },
  {
   "cell_type": "code",
   "execution_count": null,
   "metadata": {},
   "outputs": [
    {
     "name": "stdout",
     "output_type": "stream",
     "text": [
      "       Country name Alpha-2 code ISO3  Numeric code  latitude  longitude   \n",
      "0             Aruba           AW  ABW           533   12.5000   -69.9667  \\\n",
      "1       Afghanistan           AF  AFG             4   33.0000    65.0000   \n",
      "2            Angola           AO  AGO            24  -12.5000    18.5000   \n",
      "3          Anguilla           AI  AIA           660   18.2500   -63.1667   \n",
      "4           Albania           AL  ALB             8   41.0000    20.0000   \n",
      "...             ...          ...  ...           ...       ...        ...   \n",
      "16123         Samoa           WS  WSM           882  -13.5833  -172.3333   \n",
      "16124         Yemen           YE  YEM           887   15.0000    48.0000   \n",
      "16125  South Africa           ZA  ZAF           710  -29.0000    24.0000   \n",
      "16126        Zambia           ZM  ZMB           894  -15.0000    30.0000   \n",
      "16127      Zimbabwe           ZW  ZWE           716  -20.0000    30.0000   \n",
      "\n",
      "       year INDICATOR_x SUBJECT_x MEASURE_x FREQUENCY_x    time  Flag Codes_x   \n",
      "0      1960         NaN       NaN       NaN         NaN     NaN           NaN  \\\n",
      "1      1960         NaN       NaN       NaN         NaN     NaN           NaN   \n",
      "2      1960         NaN       NaN       NaN         NaN     NaN           NaN   \n",
      "3      1960         NaN       NaN       NaN         NaN     NaN           NaN   \n",
      "4      1960         NaN       NaN       NaN         NaN     NaN           NaN   \n",
      "...     ...         ...       ...       ...         ...     ...           ...   \n",
      "16123  2022       HRWKD       TOT    HR_WKD           A  1791.0           NaN   \n",
      "16124  2022       HRWKD       TOT    HR_WKD           A  1791.0           NaN   \n",
      "16125  2022       HRWKD       TOT    HR_WKD           A  1791.0           NaN   \n",
      "16126  2022       HRWKD       TOT    HR_WKD           A  1791.0           NaN   \n",
      "16127  2022       HRWKD       TOT    HR_WKD           A  1791.0           NaN   \n",
      "\n",
      "      INDICATOR_y SUBJECT_y MEASURE_y FREQUENCY_y     money  Flag Codes_y  \n",
      "0             NaN       NaN       NaN         NaN       NaN           NaN  \n",
      "1             NaN       NaN       NaN         NaN       NaN           NaN  \n",
      "2             NaN       NaN       NaN         NaN       NaN           NaN  \n",
      "3             NaN       NaN       NaN         NaN       NaN           NaN  \n",
      "4             NaN       NaN       NaN         NaN       NaN           NaN  \n",
      "...           ...       ...       ...         ...       ...           ...  \n",
      "16123      AVWAGE       TOT       USD           A  77463.47           NaN  \n",
      "16124      AVWAGE       TOT       USD           A  77463.47           NaN  \n",
      "16125      AVWAGE       TOT       USD           A  77463.47           NaN  \n",
      "16126      AVWAGE       TOT       USD           A  77463.47           NaN  \n",
      "16127      AVWAGE       TOT       USD           A  77463.47           NaN  \n",
      "\n",
      "[16128 rows x 19 columns]\n"
     ]
    }
   ],
   "source": [
    "# Forward fill missing values with data from the previous year\n",
    "newmaster2.fillna(method='ffill', inplace=True)\n",
    "\n",
    "# Display the merged DataFrame\n",
    "print(newmaster2)"
   ]
  }
 ],
 "metadata": {
  "kernelspec": {
   "display_name": "gis",
   "language": "python",
   "name": "python3"
  },
  "language_info": {
   "codemirror_mode": {
    "name": "ipython",
    "version": 3
   },
   "file_extension": ".py",
   "mimetype": "text/x-python",
   "name": "python",
   "nbconvert_exporter": "python",
   "pygments_lexer": "ipython3",
   "version": "3.11.3"
  },
  "orig_nbformat": 4
 },
 "nbformat": 4,
 "nbformat_minor": 2
}
