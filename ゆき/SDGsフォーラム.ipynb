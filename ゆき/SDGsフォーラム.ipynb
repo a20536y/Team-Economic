{
 "cells": [
  {
   "cell_type": "markdown",
   "metadata": {},
   "source": [
    "これからのスケジュール（第８回）\n",
    "\n",
    "①10/5    ：プレゼンの大枠の確定\n",
    "②10/12   ：データの収集と確定①\n",
    "③10/19   ：データの収集と確定②\n",
    "④10/26   ：ギャップマインダーブラッシュアップ①\n",
    "⑤11/2    ：ギャップマインダーブラッシュアップ②\n",
    "⑥11/9    ：データの分析①\n",
    "⑦11/16   ：データの分析②\n",
    "⑧11/23   ：データの完成＋プレゼンの流れを確定\n",
    "⑨11/30   ：パワポのブラッシュアップ\n",
    "⑩12/7    ：プレゼンの練習（データ＋パワポは完成済み）\n",
    "12/9    ：SDGsフォーラム"
   ]
  },
  {
   "attachments": {},
   "cell_type": "markdown",
   "metadata": {},
   "source": [
    "幸せな国は何の項目の点数が高いのか\n",
    "一方で、幸せではない国はどの項目の点数が高いのか\n",
    "\n",
    "＝回帰分析（不要）"
   ]
  },
  {
   "attachments": {},
   "cell_type": "markdown",
   "metadata": {},
   "source": [
    "テッドトック\n",
    "→検索「ギャッププマインダー　アニメーション」\n",
    "\n",
    "どのデータを使用して散布図を作るのか？\n",
    "（例：テッドトック→人口・出生率・年数・地域）\n",
    "縦：Happiness\n",
    "横：自由な時間 = 24h - 労働時間\n",
    "    →（日本は留まるのでは？）"
   ]
  },
  {
   "attachments": {},
   "cell_type": "markdown",
   "metadata": {},
   "source": [
    "テーマ『労働環境』\n",
    "グループメンバー：なおき、まお、ゆき\n",
    "参考データ：OECD,World Happiness Report,\n",
    "縦軸＝幸福度\n",
    "横軸＝就業時間\n",
    "円周＝"
   ]
  },
  {
   "attachments": {},
   "cell_type": "markdown",
   "metadata": {},
   "source": [
    "マインド的な話（例：ブータン）\n",
    "＋データを見せる（日本人の平均の話）\n",
    "\n",
    "最後に自分たちの結論を言って\n",
    "→あとは聞いている人たちに考えてもらう"
   ]
  },
  {
   "attachments": {},
   "cell_type": "markdown",
   "metadata": {},
   "source": [
    "聞いている人たちに何を聞くか\n",
    "・幸せとは\n",
    "・幸せだと感じるために必要な要素\n",
    "・"
   ]
  },
  {
   "attachments": {},
   "cell_type": "markdown",
   "metadata": {},
   "source": [
    "〇プレゼンの流れ\n",
    "・タイトル「」\n",
    "・問題提起\n",
    "    幸せだと感じたとき\n",
    "    →観客にも聞く\n",
    "    みんなは〇〇なときは幸せなのね...\n",
    "    私達は〇〇な要素で幸せだと考えました\n",
    "\n",
    "・データのプレゼン\n",
    "    スマートフォン、\n",
    "\n",
    "・逆説\n",
    "    でも、これだけで幸せと言える？\n",
    "    （メンタル面の実例）ブータン？（SNSから新しい幸せもあるし、不幸になる人もいる）\n",
    "\n",
    "落ち\n",
    "→"
   ]
  },
  {
   "attachments": {},
   "cell_type": "markdown",
   "metadata": {},
   "source": [
    "データ関連\n",
    "国名を３文字に統一する\n",
    "\n",
    "・年間労働時間\n",
    "    1961から（カナダ）,日本は1970\n",
    "    45カ国\n",
    "\n",
    "・平均寿命\n",
    "    1960～2020\n",
    "    49カ国\n",
    "\n",
    "・健康寿命\n",
    "    2020～\n",
    "\n",
    "・幸福度\n",
    "    2019年から\n"
   ]
  }
 ],
 "metadata": {
  "kernelspec": {
   "display_name": "gis",
   "language": "python",
   "name": "python3"
  },
  "language_info": {
   "codemirror_mode": {
    "name": "ipython",
    "version": 3
   },
   "file_extension": ".py",
   "mimetype": "text/x-python",
   "name": "python",
   "nbconvert_exporter": "python",
   "pygments_lexer": "ipython3",
   "version": "3.11.3"
  },
  "orig_nbformat": 4
 },
 "nbformat": 4,
 "nbformat_minor": 2
}
