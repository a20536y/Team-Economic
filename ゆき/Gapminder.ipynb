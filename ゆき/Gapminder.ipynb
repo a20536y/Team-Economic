{
 "cells": [
  {
   "cell_type": "code",
   "execution_count": 10,
   "metadata": {},
   "outputs": [],
   "source": [
    "#padasというLiblaryを入れる\n",
    "import pandas as pd"
   ]
  },
  {
   "cell_type": "code",
   "execution_count": 11,
   "metadata": {},
   "outputs": [],
   "source": [
    "#newmasterを読み込む\n",
    "master = pd.read_csv('newmaster.csv')"
   ]
  },
  {
   "cell_type": "code",
   "execution_count": 12,
   "metadata": {},
   "outputs": [
    {
     "data": {
      "text/html": [
       "<div>\n",
       "<style scoped>\n",
       "    .dataframe tbody tr th:only-of-type {\n",
       "        vertical-align: middle;\n",
       "    }\n",
       "\n",
       "    .dataframe tbody tr th {\n",
       "        vertical-align: top;\n",
       "    }\n",
       "\n",
       "    .dataframe thead th {\n",
       "        text-align: right;\n",
       "    }\n",
       "</style>\n",
       "<table border=\"1\" class=\"dataframe\">\n",
       "  <thead>\n",
       "    <tr style=\"text-align: right;\">\n",
       "      <th></th>\n",
       "      <th>Country name_x</th>\n",
       "      <th>Alpha-2 code</th>\n",
       "      <th>ISO3</th>\n",
       "      <th>Numeric code</th>\n",
       "      <th>latitude</th>\n",
       "      <th>longitude</th>\n",
       "      <th>year</th>\n",
       "      <th>Country name_y</th>\n",
       "      <th>Healthy life expectancy at birth</th>\n",
       "      <th>INDICATOR_x</th>\n",
       "      <th>...</th>\n",
       "      <th>MEASURE_x</th>\n",
       "      <th>FREQUENCY_x</th>\n",
       "      <th>money</th>\n",
       "      <th>Flag Codes_x</th>\n",
       "      <th>INDICATOR_y</th>\n",
       "      <th>SUBJECT_y</th>\n",
       "      <th>MEASURE_y</th>\n",
       "      <th>FREQUENCY_y</th>\n",
       "      <th>time</th>\n",
       "      <th>Flag Codes_y</th>\n",
       "    </tr>\n",
       "  </thead>\n",
       "  <tbody>\n",
       "    <tr>\n",
       "      <th>0</th>\n",
       "      <td>Australia</td>\n",
       "      <td>AU</td>\n",
       "      <td>AUS</td>\n",
       "      <td>36</td>\n",
       "      <td>-27.0000</td>\n",
       "      <td>133.0</td>\n",
       "      <td>2005</td>\n",
       "      <td>Australia</td>\n",
       "      <td>69.80</td>\n",
       "      <td>AVWAGE</td>\n",
       "      <td>...</td>\n",
       "      <td>USD</td>\n",
       "      <td>A</td>\n",
       "      <td>52013.94</td>\n",
       "      <td>NaN</td>\n",
       "      <td>HRWKD</td>\n",
       "      <td>TOT</td>\n",
       "      <td>HR_WKD</td>\n",
       "      <td>A</td>\n",
       "      <td>1807.904</td>\n",
       "      <td>NaN</td>\n",
       "    </tr>\n",
       "    <tr>\n",
       "      <th>1</th>\n",
       "      <td>Belgium</td>\n",
       "      <td>BE</td>\n",
       "      <td>BEL</td>\n",
       "      <td>56</td>\n",
       "      <td>50.8333</td>\n",
       "      <td>4.0</td>\n",
       "      <td>2005</td>\n",
       "      <td>Belgium</td>\n",
       "      <td>68.40</td>\n",
       "      <td>AVWAGE</td>\n",
       "      <td>...</td>\n",
       "      <td>USD</td>\n",
       "      <td>A</td>\n",
       "      <td>62139.95</td>\n",
       "      <td>NaN</td>\n",
       "      <td>HRWKD</td>\n",
       "      <td>TOT</td>\n",
       "      <td>HR_WKD</td>\n",
       "      <td>A</td>\n",
       "      <td>1578.000</td>\n",
       "      <td>NaN</td>\n",
       "    </tr>\n",
       "    <tr>\n",
       "      <th>2</th>\n",
       "      <td>Canada</td>\n",
       "      <td>CA</td>\n",
       "      <td>CAN</td>\n",
       "      <td>124</td>\n",
       "      <td>60.0000</td>\n",
       "      <td>-95.0</td>\n",
       "      <td>2005</td>\n",
       "      <td>Canada</td>\n",
       "      <td>70.50</td>\n",
       "      <td>AVWAGE</td>\n",
       "      <td>...</td>\n",
       "      <td>USD</td>\n",
       "      <td>A</td>\n",
       "      <td>48325.74</td>\n",
       "      <td>NaN</td>\n",
       "      <td>HRWKD</td>\n",
       "      <td>TOT</td>\n",
       "      <td>HR_WKD</td>\n",
       "      <td>A</td>\n",
       "      <td>1745.000</td>\n",
       "      <td>NaN</td>\n",
       "    </tr>\n",
       "    <tr>\n",
       "      <th>3</th>\n",
       "      <td>Czech Republic</td>\n",
       "      <td>CZ</td>\n",
       "      <td>CZE</td>\n",
       "      <td>203</td>\n",
       "      <td>49.7500</td>\n",
       "      <td>15.5</td>\n",
       "      <td>2005</td>\n",
       "      <td>Czechia</td>\n",
       "      <td>67.10</td>\n",
       "      <td>AVWAGE</td>\n",
       "      <td>...</td>\n",
       "      <td>USD</td>\n",
       "      <td>A</td>\n",
       "      <td>25914.07</td>\n",
       "      <td>NaN</td>\n",
       "      <td>HRWKD</td>\n",
       "      <td>TOT</td>\n",
       "      <td>HR_WKD</td>\n",
       "      <td>A</td>\n",
       "      <td>1802.926</td>\n",
       "      <td>NaN</td>\n",
       "    </tr>\n",
       "    <tr>\n",
       "      <th>4</th>\n",
       "      <td>Denmark</td>\n",
       "      <td>DK</td>\n",
       "      <td>DNK</td>\n",
       "      <td>208</td>\n",
       "      <td>56.0000</td>\n",
       "      <td>10.0</td>\n",
       "      <td>2005</td>\n",
       "      <td>Denmark</td>\n",
       "      <td>68.30</td>\n",
       "      <td>AVWAGE</td>\n",
       "      <td>...</td>\n",
       "      <td>USD</td>\n",
       "      <td>A</td>\n",
       "      <td>57030.24</td>\n",
       "      <td>NaN</td>\n",
       "      <td>HRWKD</td>\n",
       "      <td>TOT</td>\n",
       "      <td>HR_WKD</td>\n",
       "      <td>A</td>\n",
       "      <td>1451.362</td>\n",
       "      <td>NaN</td>\n",
       "    </tr>\n",
       "    <tr>\n",
       "      <th>...</th>\n",
       "      <td>...</td>\n",
       "      <td>...</td>\n",
       "      <td>...</td>\n",
       "      <td>...</td>\n",
       "      <td>...</td>\n",
       "      <td>...</td>\n",
       "      <td>...</td>\n",
       "      <td>...</td>\n",
       "      <td>...</td>\n",
       "      <td>...</td>\n",
       "      <td>...</td>\n",
       "      <td>...</td>\n",
       "      <td>...</td>\n",
       "      <td>...</td>\n",
       "      <td>...</td>\n",
       "      <td>...</td>\n",
       "      <td>...</td>\n",
       "      <td>...</td>\n",
       "      <td>...</td>\n",
       "      <td>...</td>\n",
       "      <td>...</td>\n",
       "    </tr>\n",
       "    <tr>\n",
       "      <th>557</th>\n",
       "      <td>Spain</td>\n",
       "      <td>ES</td>\n",
       "      <td>ESP</td>\n",
       "      <td>724</td>\n",
       "      <td>40.0000</td>\n",
       "      <td>-4.0</td>\n",
       "      <td>2021</td>\n",
       "      <td>Spain</td>\n",
       "      <td>72.35</td>\n",
       "      <td>AVWAGE</td>\n",
       "      <td>...</td>\n",
       "      <td>USD</td>\n",
       "      <td>A</td>\n",
       "      <td>44443.89</td>\n",
       "      <td>NaN</td>\n",
       "      <td>HRWKD</td>\n",
       "      <td>TOT</td>\n",
       "      <td>HR_WKD</td>\n",
       "      <td>A</td>\n",
       "      <td>1640.941</td>\n",
       "      <td>NaN</td>\n",
       "    </tr>\n",
       "    <tr>\n",
       "      <th>558</th>\n",
       "      <td>Sweden</td>\n",
       "      <td>SE</td>\n",
       "      <td>SWE</td>\n",
       "      <td>752</td>\n",
       "      <td>62.0000</td>\n",
       "      <td>15.0</td>\n",
       "      <td>2021</td>\n",
       "      <td>Sweden</td>\n",
       "      <td>72.15</td>\n",
       "      <td>AVWAGE</td>\n",
       "      <td>...</td>\n",
       "      <td>USD</td>\n",
       "      <td>A</td>\n",
       "      <td>51928.98</td>\n",
       "      <td>NaN</td>\n",
       "      <td>HRWKD</td>\n",
       "      <td>TOT</td>\n",
       "      <td>HR_WKD</td>\n",
       "      <td>A</td>\n",
       "      <td>1444.285</td>\n",
       "      <td>NaN</td>\n",
       "    </tr>\n",
       "    <tr>\n",
       "      <th>559</th>\n",
       "      <td>Switzerland</td>\n",
       "      <td>CH</td>\n",
       "      <td>CHE</td>\n",
       "      <td>756</td>\n",
       "      <td>47.0000</td>\n",
       "      <td>8.0</td>\n",
       "      <td>2021</td>\n",
       "      <td>Switzerland</td>\n",
       "      <td>72.90</td>\n",
       "      <td>AVWAGE</td>\n",
       "      <td>...</td>\n",
       "      <td>USD</td>\n",
       "      <td>A</td>\n",
       "      <td>72358.44</td>\n",
       "      <td>NaN</td>\n",
       "      <td>HRWKD</td>\n",
       "      <td>TOT</td>\n",
       "      <td>HR_WKD</td>\n",
       "      <td>A</td>\n",
       "      <td>1533.304</td>\n",
       "      <td>NaN</td>\n",
       "    </tr>\n",
       "    <tr>\n",
       "      <th>560</th>\n",
       "      <td>United Kingdom</td>\n",
       "      <td>GB</td>\n",
       "      <td>GBR</td>\n",
       "      <td>826</td>\n",
       "      <td>54.0000</td>\n",
       "      <td>-2.0</td>\n",
       "      <td>2021</td>\n",
       "      <td>United Kingdom</td>\n",
       "      <td>70.30</td>\n",
       "      <td>AVWAGE</td>\n",
       "      <td>...</td>\n",
       "      <td>USD</td>\n",
       "      <td>A</td>\n",
       "      <td>54762.30</td>\n",
       "      <td>NaN</td>\n",
       "      <td>HRWKD</td>\n",
       "      <td>TOT</td>\n",
       "      <td>HR_WKD</td>\n",
       "      <td>A</td>\n",
       "      <td>1497.375</td>\n",
       "      <td>NaN</td>\n",
       "    </tr>\n",
       "    <tr>\n",
       "      <th>561</th>\n",
       "      <td>United States</td>\n",
       "      <td>US</td>\n",
       "      <td>USA</td>\n",
       "      <td>840</td>\n",
       "      <td>38.0000</td>\n",
       "      <td>-97.0</td>\n",
       "      <td>2021</td>\n",
       "      <td>United States</td>\n",
       "      <td>65.85</td>\n",
       "      <td>AVWAGE</td>\n",
       "      <td>...</td>\n",
       "      <td>USD</td>\n",
       "      <td>A</td>\n",
       "      <td>78894.28</td>\n",
       "      <td>NaN</td>\n",
       "      <td>HRWKD</td>\n",
       "      <td>TOT</td>\n",
       "      <td>HR_WKD</td>\n",
       "      <td>A</td>\n",
       "      <td>1791.000</td>\n",
       "      <td>NaN</td>\n",
       "    </tr>\n",
       "  </tbody>\n",
       "</table>\n",
       "<p>562 rows × 21 columns</p>\n",
       "</div>"
      ],
      "text/plain": [
       "     Country name_x Alpha-2 code ISO3  Numeric code  latitude  longitude   \n",
       "0         Australia           AU  AUS            36  -27.0000      133.0  \\\n",
       "1           Belgium           BE  BEL            56   50.8333        4.0   \n",
       "2            Canada           CA  CAN           124   60.0000      -95.0   \n",
       "3    Czech Republic           CZ  CZE           203   49.7500       15.5   \n",
       "4           Denmark           DK  DNK           208   56.0000       10.0   \n",
       "..              ...          ...  ...           ...       ...        ...   \n",
       "557           Spain           ES  ESP           724   40.0000       -4.0   \n",
       "558          Sweden           SE  SWE           752   62.0000       15.0   \n",
       "559     Switzerland           CH  CHE           756   47.0000        8.0   \n",
       "560  United Kingdom           GB  GBR           826   54.0000       -2.0   \n",
       "561   United States           US  USA           840   38.0000      -97.0   \n",
       "\n",
       "     year  Country name_y  Healthy life expectancy at birth INDICATOR_x  ...   \n",
       "0    2005       Australia                             69.80      AVWAGE  ...  \\\n",
       "1    2005         Belgium                             68.40      AVWAGE  ...   \n",
       "2    2005          Canada                             70.50      AVWAGE  ...   \n",
       "3    2005         Czechia                             67.10      AVWAGE  ...   \n",
       "4    2005         Denmark                             68.30      AVWAGE  ...   \n",
       "..    ...             ...                               ...         ...  ...   \n",
       "557  2021           Spain                             72.35      AVWAGE  ...   \n",
       "558  2021          Sweden                             72.15      AVWAGE  ...   \n",
       "559  2021     Switzerland                             72.90      AVWAGE  ...   \n",
       "560  2021  United Kingdom                             70.30      AVWAGE  ...   \n",
       "561  2021   United States                             65.85      AVWAGE  ...   \n",
       "\n",
       "    MEASURE_x FREQUENCY_x     money  Flag Codes_x  INDICATOR_y SUBJECT_y   \n",
       "0         USD           A  52013.94           NaN        HRWKD       TOT  \\\n",
       "1         USD           A  62139.95           NaN        HRWKD       TOT   \n",
       "2         USD           A  48325.74           NaN        HRWKD       TOT   \n",
       "3         USD           A  25914.07           NaN        HRWKD       TOT   \n",
       "4         USD           A  57030.24           NaN        HRWKD       TOT   \n",
       "..        ...         ...       ...           ...          ...       ...   \n",
       "557       USD           A  44443.89           NaN        HRWKD       TOT   \n",
       "558       USD           A  51928.98           NaN        HRWKD       TOT   \n",
       "559       USD           A  72358.44           NaN        HRWKD       TOT   \n",
       "560       USD           A  54762.30           NaN        HRWKD       TOT   \n",
       "561       USD           A  78894.28           NaN        HRWKD       TOT   \n",
       "\n",
       "    MEASURE_y FREQUENCY_y      time  Flag Codes_y  \n",
       "0      HR_WKD           A  1807.904           NaN  \n",
       "1      HR_WKD           A  1578.000           NaN  \n",
       "2      HR_WKD           A  1745.000           NaN  \n",
       "3      HR_WKD           A  1802.926           NaN  \n",
       "4      HR_WKD           A  1451.362           NaN  \n",
       "..        ...         ...       ...           ...  \n",
       "557    HR_WKD           A  1640.941           NaN  \n",
       "558    HR_WKD           A  1444.285           NaN  \n",
       "559    HR_WKD           A  1533.304           NaN  \n",
       "560    HR_WKD           A  1497.375           NaN  \n",
       "561    HR_WKD           A  1791.000           NaN  \n",
       "\n",
       "[562 rows x 21 columns]"
      ]
     },
     "execution_count": 12,
     "metadata": {},
     "output_type": "execute_result"
    }
   ],
   "source": [
    "master"
   ]
  },
  {
   "cell_type": "code",
   "execution_count": 13,
   "metadata": {},
   "outputs": [
    {
     "ename": "SyntaxError",
     "evalue": "invalid syntax (3430162638.py, line 2)",
     "output_type": "error",
     "traceback": [
      "\u001b[1;36m  Cell \u001b[1;32mIn[13], line 2\u001b[1;36m\u001b[0m\n\u001b[1;33m    pip install plotly\u001b[0m\n\u001b[1;37m        ^\u001b[0m\n\u001b[1;31mSyntaxError\u001b[0m\u001b[1;31m:\u001b[0m invalid syntax\n"
     ]
    }
   ],
   "source": [
    "#pip=一次的に機能（plotly)を使えるようにする\n",
    "pip install plotly"
   ]
  },
  {
   "cell_type": "code",
   "execution_count": null,
   "metadata": {},
   "outputs": [
    {
     "data": {
      "application/vnd.plotly.v1+json": {
       "config": {
        "plotlyServerURL": "https://plot.ly"
       },
       "data": [
        {
         "hovertemplate": "<b>%{hovertext}</b><br><br>year=%{x}<br>money=%{y}<br>Healthy life expectancy at birth=%{marker.size}<extra></extra>",
         "hovertext": [
          "Australia",
          "Australia",
          "Australia",
          "Australia",
          "Australia",
          "Australia",
          "Australia",
          "Australia",
          "Australia",
          "Australia",
          "Australia",
          "Australia",
          "Australia",
          "Australia",
          "Australia",
          "Austria",
          "Austria",
          "Austria",
          "Austria",
          "Austria",
          "Austria",
          "Austria",
          "Austria",
          "Austria",
          "Austria",
          "Austria",
          "Austria",
          "Austria",
          "Austria",
          "Belgium",
          "Belgium",
          "Belgium",
          "Belgium",
          "Belgium",
          "Belgium",
          "Belgium",
          "Belgium",
          "Belgium",
          "Belgium",
          "Belgium",
          "Belgium",
          "Belgium",
          "Belgium",
          "Belgium",
          "Canada",
          "Canada",
          "Canada",
          "Canada",
          "Canada",
          "Canada",
          "Canada",
          "Canada",
          "Canada",
          "Canada",
          "Canada",
          "Canada",
          "Canada",
          "Canada",
          "Canada",
          "Canada",
          "Chile",
          "Chile",
          "Chile",
          "Chile",
          "Chile",
          "Chile",
          "Chile",
          "Chile",
          "Chile",
          "Chile",
          "Chile",
          "Chile",
          "Chile",
          "Chile",
          "Chile",
          "Chile",
          "Colombia",
          "Colombia",
          "Colombia",
          "Colombia",
          "Colombia",
          "Colombia",
          "Costa Rica",
          "Costa Rica",
          "Costa Rica",
          "Costa Rica",
          "Costa Rica",
          "Costa Rica",
          "Costa Rica",
          "Costa Rica",
          "Costa Rica",
          "Costa Rica",
          "Costa Rica",
          "Costa Rica",
          "Costa Rica",
          "Costa Rica",
          "Costa Rica",
          "Costa Rica",
          "Czech Republic",
          "Czech Republic",
          "Czech Republic",
          "Czech Republic",
          "Czech Republic",
          "Czech Republic",
          "Czech Republic",
          "Czech Republic",
          "Czech Republic",
          "Czech Republic",
          "Czech Republic",
          "Czech Republic",
          "Czechia",
          "Denmark",
          "Denmark",
          "Denmark",
          "Denmark",
          "Denmark",
          "Denmark",
          "Denmark",
          "Denmark",
          "Denmark",
          "Denmark",
          "Denmark",
          "Denmark",
          "Denmark",
          "Denmark",
          "Denmark",
          "Denmark",
          "Estonia",
          "Estonia",
          "Estonia",
          "Estonia",
          "Estonia",
          "Estonia",
          "Estonia",
          "Estonia",
          "Estonia",
          "Estonia",
          "Estonia",
          "Estonia",
          "Estonia",
          "Estonia",
          "Estonia",
          "Finland",
          "Finland",
          "Finland",
          "Finland",
          "Finland",
          "Finland",
          "Finland",
          "Finland",
          "Finland",
          "Finland",
          "Finland",
          "Finland",
          "Finland",
          "Finland",
          "France",
          "France",
          "France",
          "France",
          "France",
          "France",
          "France",
          "France",
          "France",
          "France",
          "France",
          "France",
          "France",
          "France",
          "France",
          "France",
          "Germany",
          "Germany",
          "Germany",
          "Germany",
          "Germany",
          "Germany",
          "Germany",
          "Germany",
          "Germany",
          "Germany",
          "Germany",
          "Germany",
          "Germany",
          "Germany",
          "Germany",
          "Germany",
          "Greece",
          "Greece",
          "Greece",
          "Greece",
          "Greece",
          "Greece",
          "Greece",
          "Greece",
          "Greece",
          "Greece",
          "Greece",
          "Greece",
          "Greece",
          "Greece",
          "Greece",
          "Hungary",
          "Hungary",
          "Hungary",
          "Hungary",
          "Hungary",
          "Hungary",
          "Hungary",
          "Hungary",
          "Hungary",
          "Hungary",
          "Hungary",
          "Hungary",
          "Hungary",
          "Hungary",
          "Hungary",
          "Iceland",
          "Iceland",
          "Iceland",
          "Iceland",
          "Iceland",
          "Iceland",
          "Iceland",
          "Iceland",
          "Iceland",
          "Ireland",
          "Ireland",
          "Ireland",
          "Ireland",
          "Ireland",
          "Ireland",
          "Ireland",
          "Ireland",
          "Ireland",
          "Ireland",
          "Ireland",
          "Ireland",
          "Ireland",
          "Ireland",
          "Ireland",
          "Israel",
          "Israel",
          "Israel",
          "Israel",
          "Israel",
          "Israel",
          "Israel",
          "Israel",
          "Israel",
          "Israel",
          "Israel",
          "Israel",
          "Israel",
          "Israel",
          "Israel",
          "Israel",
          "Italy",
          "Italy",
          "Italy",
          "Italy",
          "Italy",
          "Italy",
          "Italy",
          "Italy",
          "Italy",
          "Italy",
          "Italy",
          "Italy",
          "Italy",
          "Italy",
          "Italy",
          "Italy",
          "Japan",
          "Japan",
          "Japan",
          "Japan",
          "Japan",
          "Japan",
          "Japan",
          "Japan",
          "Japan",
          "Japan",
          "Japan",
          "Japan",
          "Japan",
          "Japan",
          "Japan",
          "Japan",
          "Korea, Republic of",
          "South Korea",
          "Korea, Republic of",
          "South Korea",
          "Korea, Republic of",
          "South Korea",
          "Korea, Republic of",
          "South Korea",
          "Korea, Republic of",
          "South Korea",
          "Korea, Republic of",
          "South Korea",
          "Korea, Republic of",
          "South Korea",
          "Korea, Republic of",
          "South Korea",
          "Korea, Republic of",
          "South Korea",
          "Korea, Republic of",
          "South Korea",
          "Korea, Republic of",
          "South Korea",
          "Korea, Republic of",
          "South Korea",
          "Korea, Republic of",
          "South Korea",
          "Korea, Republic of",
          "South Korea",
          "Latvia",
          "Latvia",
          "Latvia",
          "Latvia",
          "Latvia",
          "Latvia",
          "Latvia",
          "Latvia",
          "Latvia",
          "Latvia",
          "Latvia",
          "Latvia",
          "Latvia",
          "Latvia",
          "Latvia",
          "Lithuania",
          "Lithuania",
          "Lithuania",
          "Lithuania",
          "Lithuania",
          "Lithuania",
          "Lithuania",
          "Lithuania",
          "Lithuania",
          "Lithuania",
          "Lithuania",
          "Lithuania",
          "Lithuania",
          "Lithuania",
          "Lithuania",
          "Lithuania",
          "Luxembourg",
          "Luxembourg",
          "Luxembourg",
          "Luxembourg",
          "Luxembourg",
          "Luxembourg",
          "Luxembourg",
          "Luxembourg",
          "Luxembourg",
          "Luxembourg",
          "Luxembourg",
          "Mexico",
          "Mexico",
          "Mexico",
          "Mexico",
          "Mexico",
          "Mexico",
          "Mexico",
          "Mexico",
          "Mexico",
          "Mexico",
          "Mexico",
          "Mexico",
          "Mexico",
          "Mexico",
          "Mexico",
          "Mexico",
          "Netherlands",
          "Netherlands",
          "Netherlands",
          "Netherlands",
          "Netherlands",
          "Netherlands",
          "Netherlands",
          "Netherlands",
          "Netherlands",
          "Netherlands",
          "Netherlands",
          "Netherlands",
          "Netherlands",
          "Netherlands",
          "Netherlands",
          "New Zealand",
          "New Zealand",
          "New Zealand",
          "New Zealand",
          "New Zealand",
          "New Zealand",
          "New Zealand",
          "New Zealand",
          "New Zealand",
          "New Zealand",
          "New Zealand",
          "New Zealand",
          "New Zealand",
          "New Zealand",
          "New Zealand",
          "Norway",
          "Norway",
          "Norway",
          "Norway",
          "Norway",
          "Norway",
          "Norway",
          "Norway",
          "Norway",
          "Norway",
          "Norway",
          "Poland",
          "Poland",
          "Poland",
          "Poland",
          "Poland",
          "Poland",
          "Poland",
          "Poland",
          "Poland",
          "Poland",
          "Poland",
          "Poland",
          "Poland",
          "Poland",
          "Poland",
          "Portugal",
          "Portugal",
          "Portugal",
          "Portugal",
          "Portugal",
          "Portugal",
          "Portugal",
          "Portugal",
          "Portugal",
          "Portugal",
          "Portugal",
          "Portugal",
          "Portugal",
          "Portugal",
          "Slovakia",
          "Slovakia",
          "Slovakia",
          "Slovakia",
          "Slovakia",
          "Slovakia",
          "Slovakia",
          "Slovakia",
          "Slovakia",
          "Slovakia",
          "Slovakia",
          "Slovakia",
          "Slovakia",
          "Slovenia",
          "Slovenia",
          "Slovenia",
          "Slovenia",
          "Slovenia",
          "Slovenia",
          "Slovenia",
          "Slovenia",
          "Slovenia",
          "Slovenia",
          "Slovenia",
          "Slovenia",
          "Slovenia",
          "Slovenia",
          "Spain",
          "Spain",
          "Spain",
          "Spain",
          "Spain",
          "Spain",
          "Spain",
          "Spain",
          "Spain",
          "Spain",
          "Spain",
          "Spain",
          "Spain",
          "Spain",
          "Spain",
          "Spain",
          "Sweden",
          "Sweden",
          "Sweden",
          "Sweden",
          "Sweden",
          "Sweden",
          "Sweden",
          "Sweden",
          "Sweden",
          "Sweden",
          "Sweden",
          "Sweden",
          "Sweden",
          "Sweden",
          "Sweden",
          "Sweden",
          "Switzerland",
          "Switzerland",
          "Switzerland",
          "Switzerland",
          "Switzerland",
          "Switzerland",
          "Switzerland",
          "Switzerland",
          "Switzerland",
          "Switzerland",
          "Switzerland",
          "Turkey",
          "Turkey",
          "Turkey",
          "Turkey",
          "Turkey",
          "Turkey",
          "Turkey",
          "Turkey",
          "Turkey",
          "Turkey",
          "Turkey",
          "Turkey",
          "Turkey",
          "Turkey",
          "United Kingdom",
          "United Kingdom",
          "United Kingdom",
          "United Kingdom",
          "United Kingdom",
          "United Kingdom",
          "United Kingdom",
          "United Kingdom",
          "United Kingdom",
          "United Kingdom",
          "United Kingdom",
          "United Kingdom",
          "United Kingdom",
          "United Kingdom",
          "United Kingdom",
          "United Kingdom",
          "United States",
          "United States",
          "United States",
          "United States",
          "United States",
          "United States",
          "United States",
          "United States",
          "United States",
          "United States",
          "United States",
          "United States",
          "United States",
          "United States",
          "United States",
          "United States"
         ],
         "legendgroup": "",
         "marker": {
          "color": "#636efa",
          "size": [
           69.8,
           69.96,
           70.04,
           70.2,
           70.28,
           70.36,
           70.44,
           70.52,
           70.6,
           70.675,
           70.75,
           70.825,
           70.9,
           70.975,
           71.05,
           69.5,
           69.7,
           69.9,
           70,
           70.1,
           70.2,
           70.3,
           70.4,
           70.525,
           70.65,
           70.775,
           70.9,
           71.025,
           71.15,
           68.4,
           68.72,
           68.88,
           69.2,
           69.36,
           69.52,
           69.68,
           69.84,
           70,
           70.15,
           70.3,
           70.45,
           70.6,
           70.75,
           70.9,
           70.5,
           70.62,
           70.68,
           70.74,
           70.8,
           70.86,
           70.92,
           70.98,
           71.04,
           71.1,
           71.15,
           71.2,
           71.25,
           71.3,
           71.35,
           71.4,
           67.78,
           67.96,
           68.14,
           68.32,
           68.5,
           68.68,
           68.86,
           69.04,
           69.22,
           69.4,
           69.55,
           69.7,
           69.85,
           70,
           70.15,
           70.3,
           68.3,
           68.475,
           68.65,
           68.825,
           69,
           69.175,
           68.56,
           68.72,
           68.88,
           69.04,
           69.2,
           69.36,
           69.52,
           69.68,
           69.84,
           70,
           70,
           70,
           70,
           70,
           70,
           70,
           67.1,
           67.34,
           67.7,
           67.82,
           67.94,
           68.06,
           68.18,
           68.3,
           68.425,
           68.55,
           68.675,
           68.925,
           69.05,
           68.3,
           68.74,
           68.96,
           69.18,
           69.4,
           69.62,
           69.84,
           70.06,
           70.28,
           70.5,
           70.625,
           70.75,
           70.875,
           71,
           71.125,
           71.25,
           65.78,
           66.06,
           66.34,
           66.62,
           67.18,
           67.46,
           67.74,
           68.02,
           68.3,
           68.525,
           68.75,
           68.975,
           69.2,
           69.425,
           69.65,
           68.72,
           69.16,
           69.6,
           69.82,
           70.04,
           70.26,
           70.48,
           70.7,
           70.775,
           70.85,
           70.925,
           71,
           71.075,
           71.15,
           70.7,
           70.8,
           71,
           71.1,
           71.2,
           71.3,
           71.4,
           71.5,
           71.6,
           71.7,
           71.8,
           71.9,
           72,
           72.1,
           72.2,
           72.3,
           69.9,
           69.94,
           69.96,
           69.98,
           70,
           70.02,
           70.04,
           70.06,
           70.08,
           70.1,
           70.3,
           70.5,
           70.7,
           70.9,
           71.1,
           71.3,
           69.6,
           69.76,
           69.92,
           70,
           70.08,
           70.16,
           70.24,
           70.32,
           70.4,
           70.525,
           70.65,
           70.775,
           70.9,
           71.025,
           71.15,
           65,
           65.32,
           65.64,
           65.8,
           65.96,
           66.12,
           66.28,
           66.44,
           66.6,
           66.75,
           66.9,
           67.05,
           67.2,
           67.35,
           67.5,
           71.2,
           71.6,
           71.7,
           71.9,
           71.925,
           71.95,
           72,
           72.025,
           72.05,
           69.62,
           69.86,
           69.98,
           70.1,
           70.22,
           70.34,
           70.46,
           70.58,
           70.7,
           70.8,
           70.9,
           71,
           71.1,
           71.2,
           71.3,
           71.08,
           71.16,
           71.24,
           71.32,
           71.4,
           71.48,
           71.56,
           71.64,
           71.72,
           71.8,
           71.95,
           72.1,
           72.25,
           72.4,
           72.55,
           72.7,
           70.6,
           70.8,
           70.9,
           71,
           71.1,
           71.2,
           71.3,
           71.4,
           71.5,
           71.6,
           71.675,
           71.75,
           71.825,
           71.9,
           71.975,
           72.05,
           72.4,
           72.64,
           72.76,
           72.88,
           73,
           73.12,
           73.24,
           73.36,
           73.48,
           73.6,
           73.725,
           73.85,
           73.975,
           74.1,
           74.225,
           74.35,
           70.46,
           70.46,
           70.68,
           70.68,
           70.9,
           70.9,
           71.12,
           71.12,
           71.34,
           71.34,
           71.56,
           71.56,
           71.78,
           71.78,
           72,
           72,
           72.275,
           72.275,
           72.55,
           72.55,
           72.825,
           72.825,
           73.1,
           73.1,
           73.375,
           73.375,
           73.65,
           73.65,
           63.1,
           63.4,
           63.7,
           64,
           64.6,
           64.9,
           65.2,
           65.5,
           65.8,
           65.9,
           66,
           66.1,
           66.2,
           66.3,
           66.4,
           63.5,
           63.7,
           63.9,
           64.1,
           64.3,
           64.5,
           64.7,
           64.9,
           65.1,
           65.3,
           65.65,
           66,
           66.35,
           66.7,
           67.05,
           67.4,
           70.3,
           70.5,
           70.7,
           70.9,
           71.1,
           71.3,
           71.5,
           71.525,
           71.55,
           71.575,
           71.6,
           64.4,
           64.68,
           64.82,
           64.96,
           65.1,
           65.24,
           65.38,
           65.52,
           65.66,
           65.8,
           65.8,
           65.8,
           65.8,
           65.8,
           65.8,
           65.8,
           70.7,
           70.78,
           70.82,
           70.9,
           70.94,
           70.98,
           71.02,
           71.06,
           71.1,
           71.175,
           71.25,
           71.325,
           71.4,
           71.475,
           71.55,
           69.72,
           69.74,
           69.76,
           69.8,
           69.82,
           69.84,
           69.86,
           69.88,
           69.9,
           69.975,
           70.05,
           70.125,
           70.2,
           70.275,
           70.35,
           69.4,
           69.8,
           70.6,
           71,
           71.2,
           71.25,
           71.3,
           71.35,
           71.4,
           71.45,
           71.5,
           66.2,
           66.56,
           66.92,
           67.1,
           67.28,
           67.46,
           67.64,
           67.82,
           68,
           68.175,
           68.35,
           68.525,
           68.7,
           68.875,
           69.05,
           68.34,
           68.82,
           69.3,
           69.54,
           69.78,
           70.02,
           70.26,
           70.5,
           70.625,
           70.75,
           70.875,
           71,
           71.125,
           71.25,
           65.62,
           66.5,
           66.72,
           66.94,
           67.16,
           67.38,
           67.6,
           67.825,
           68.05,
           68.275,
           68.5,
           68.725,
           68.95,
           68.56,
           69.04,
           69.2,
           69.36,
           69.52,
           69.68,
           69.84,
           70,
           70.175,
           70.35,
           70.525,
           70.7,
           70.875,
           71.05,
           70.4,
           70.64,
           70.76,
           70.88,
           71,
           71.12,
           71.24,
           71.36,
           71.48,
           71.6,
           71.725,
           71.85,
           71.975,
           72.1,
           72.225,
           72.35,
           71,
           71.08,
           71.12,
           71.16,
           71.2,
           71.24,
           71.28,
           71.32,
           71.36,
           71.4,
           71.525,
           71.65,
           71.775,
           71.9,
           72.025,
           72.15,
           71.16,
           71.34,
           71.52,
           71.64,
           71.7,
           71.9,
           72.1,
           72.3,
           72.5,
           72.7,
           72.9,
           66.42,
           66.58,
           66.74,
           66.9,
           67.06,
           67.22,
           67.38,
           67.54,
           67.7,
           67.875,
           68.05,
           68.225,
           68.4,
           68.575,
           69.1,
           69.22,
           69.28,
           69.34,
           69.4,
           69.46,
           69.52,
           69.58,
           69.64,
           69.7,
           69.8,
           69.9,
           70,
           70.1,
           70.2,
           70.3,
           66.78,
           66.76,
           66.74,
           66.72,
           66.7,
           66.68,
           66.66,
           66.64,
           66.62,
           66.6,
           66.475,
           66.35,
           66.225,
           66.1,
           65.975,
           65.85
          ],
          "sizemode": "area",
          "sizeref": 0.18587499999999998,
          "symbol": "circle"
         },
         "mode": "markers",
         "name": "",
         "orientation": "v",
         "showlegend": false,
         "type": "scatter",
         "x": [
          2005,
          2007,
          2008,
          2010,
          2011,
          2012,
          2013,
          2014,
          2015,
          2016,
          2017,
          2018,
          2019,
          2020,
          2021,
          2006,
          2008,
          2010,
          2011,
          2012,
          2013,
          2014,
          2015,
          2016,
          2017,
          2018,
          2019,
          2020,
          2021,
          2005,
          2007,
          2008,
          2010,
          2011,
          2012,
          2013,
          2014,
          2015,
          2016,
          2017,
          2018,
          2019,
          2020,
          2021,
          2005,
          2007,
          2008,
          2009,
          2010,
          2011,
          2012,
          2013,
          2014,
          2015,
          2016,
          2017,
          2018,
          2019,
          2020,
          2021,
          2006,
          2007,
          2008,
          2009,
          2010,
          2011,
          2012,
          2013,
          2014,
          2015,
          2016,
          2017,
          2018,
          2019,
          2020,
          2021,
          2015,
          2016,
          2017,
          2018,
          2019,
          2020,
          2006,
          2007,
          2008,
          2009,
          2010,
          2011,
          2012,
          2013,
          2014,
          2015,
          2016,
          2017,
          2018,
          2019,
          2020,
          2021,
          2005,
          2007,
          2010,
          2011,
          2012,
          2013,
          2014,
          2015,
          2016,
          2017,
          2018,
          2020,
          2021,
          2005,
          2007,
          2008,
          2009,
          2010,
          2011,
          2012,
          2013,
          2014,
          2015,
          2016,
          2017,
          2018,
          2019,
          2020,
          2021,
          2006,
          2007,
          2008,
          2009,
          2011,
          2012,
          2013,
          2014,
          2015,
          2016,
          2017,
          2018,
          2019,
          2020,
          2021,
          2006,
          2008,
          2010,
          2011,
          2012,
          2013,
          2014,
          2015,
          2016,
          2017,
          2018,
          2019,
          2020,
          2021,
          2005,
          2006,
          2008,
          2009,
          2010,
          2011,
          2012,
          2013,
          2014,
          2015,
          2016,
          2017,
          2018,
          2019,
          2020,
          2021,
          2005,
          2007,
          2008,
          2009,
          2010,
          2011,
          2012,
          2013,
          2014,
          2015,
          2016,
          2017,
          2018,
          2019,
          2020,
          2021,
          2005,
          2007,
          2009,
          2010,
          2011,
          2012,
          2013,
          2014,
          2015,
          2016,
          2017,
          2018,
          2019,
          2020,
          2021,
          2005,
          2007,
          2009,
          2010,
          2011,
          2012,
          2013,
          2014,
          2015,
          2016,
          2017,
          2018,
          2019,
          2020,
          2021,
          2008,
          2012,
          2013,
          2015,
          2016,
          2017,
          2019,
          2020,
          2021,
          2006,
          2008,
          2009,
          2010,
          2011,
          2012,
          2013,
          2014,
          2015,
          2016,
          2017,
          2018,
          2019,
          2020,
          2021,
          2006,
          2007,
          2008,
          2009,
          2010,
          2011,
          2012,
          2013,
          2014,
          2015,
          2016,
          2017,
          2018,
          2019,
          2020,
          2021,
          2005,
          2007,
          2008,
          2009,
          2010,
          2011,
          2012,
          2013,
          2014,
          2015,
          2016,
          2017,
          2018,
          2019,
          2020,
          2021,
          2005,
          2007,
          2008,
          2009,
          2010,
          2011,
          2012,
          2013,
          2014,
          2015,
          2016,
          2017,
          2018,
          2019,
          2020,
          2021,
          2008,
          2008,
          2009,
          2009,
          2010,
          2010,
          2011,
          2011,
          2012,
          2012,
          2013,
          2013,
          2014,
          2014,
          2015,
          2015,
          2016,
          2016,
          2017,
          2017,
          2018,
          2018,
          2019,
          2019,
          2020,
          2020,
          2021,
          2021,
          2006,
          2007,
          2008,
          2009,
          2011,
          2012,
          2013,
          2014,
          2015,
          2016,
          2017,
          2018,
          2019,
          2020,
          2021,
          2006,
          2007,
          2008,
          2009,
          2010,
          2011,
          2012,
          2013,
          2014,
          2015,
          2016,
          2017,
          2018,
          2019,
          2020,
          2021,
          2009,
          2010,
          2011,
          2012,
          2013,
          2014,
          2015,
          2016,
          2017,
          2018,
          2019,
          2005,
          2007,
          2008,
          2009,
          2010,
          2011,
          2012,
          2013,
          2014,
          2015,
          2016,
          2017,
          2018,
          2019,
          2020,
          2021,
          2005,
          2007,
          2008,
          2010,
          2011,
          2012,
          2013,
          2014,
          2015,
          2016,
          2017,
          2018,
          2019,
          2020,
          2021,
          2006,
          2007,
          2008,
          2010,
          2011,
          2012,
          2013,
          2014,
          2015,
          2016,
          2017,
          2018,
          2019,
          2020,
          2021,
          2006,
          2008,
          2012,
          2014,
          2015,
          2016,
          2017,
          2018,
          2019,
          2020,
          2021,
          2005,
          2007,
          2009,
          2010,
          2011,
          2012,
          2013,
          2014,
          2015,
          2016,
          2017,
          2018,
          2019,
          2020,
          2021,
          2006,
          2008,
          2010,
          2011,
          2012,
          2013,
          2014,
          2015,
          2016,
          2017,
          2018,
          2019,
          2020,
          2021,
          2006,
          2010,
          2011,
          2012,
          2013,
          2014,
          2015,
          2016,
          2017,
          2018,
          2019,
          2020,
          2021,
          2006,
          2009,
          2010,
          2011,
          2012,
          2013,
          2014,
          2015,
          2016,
          2017,
          2018,
          2019,
          2020,
          2021,
          2005,
          2007,
          2008,
          2009,
          2010,
          2011,
          2012,
          2013,
          2014,
          2015,
          2016,
          2017,
          2018,
          2019,
          2020,
          2021,
          2005,
          2007,
          2008,
          2009,
          2010,
          2011,
          2012,
          2013,
          2014,
          2015,
          2016,
          2017,
          2018,
          2019,
          2020,
          2021,
          2006,
          2009,
          2012,
          2014,
          2015,
          2016,
          2017,
          2018,
          2019,
          2020,
          2021,
          2007,
          2008,
          2009,
          2010,
          2011,
          2012,
          2013,
          2014,
          2015,
          2016,
          2017,
          2018,
          2019,
          2020,
          2005,
          2007,
          2008,
          2009,
          2010,
          2011,
          2012,
          2013,
          2014,
          2015,
          2016,
          2017,
          2018,
          2019,
          2020,
          2021,
          2006,
          2007,
          2008,
          2009,
          2010,
          2011,
          2012,
          2013,
          2014,
          2015,
          2016,
          2017,
          2018,
          2019,
          2020,
          2021
         ],
         "xaxis": "x",
         "y": [
          52013.94,
          53805,
          54149,
          55536,
          57361,
          57752,
          57579,
          58102,
          57744,
          57885,
          57619,
          57843,
          58620,
          60377,
          60681.5,
          60698,
          62081,
          62831,
          62159,
          62515,
          62568,
          62801,
          63231,
          63860,
          63856,
          64101,
          64623,
          64648,
          65402.32,
          62139.95,
          62446,
          62715,
          63295,
          63944,
          64461,
          65099,
          65461,
          65017,
          65157,
          64700,
          65083,
          65700,
          63677,
          65520.82,
          48325.74,
          51127,
          52025,
          52363,
          52457,
          53088,
          53717,
          54286,
          54995,
          55400,
          54350,
          55122,
          56083,
          56370,
          59160,
          59568.78,
          21588.58,
          22100.34,
          22504.53,
          24588.31,
          27871,
          28639,
          29661,
          30530,
          30657,
          30614.54,
          31834,
          30847,
          32348,
          33190.5,
          31369,
          33042.33,
          17879.31,
          18653.26,
          19424.86,
          20370.7,
          20706.68,
          23617.24,
          11520.52,
          12378.14,
          14052.17,
          16404.81,
          17665.79,
          18955.02,
          19540.81,
          21696.29,
          22743.08,
          24448.59,
          25689.46,
          25839.5,
          26764.21,
          27875.2,
          30658.3,
          30499.41,
          25914.07,
          27757,
          28648,
          28881.64,
          28934.46,
          28754,
          29360.49,
          30224,
          31291.43,
          32890.57,
          34632.6,
          35552,
          36269.71,
          57030.24,
          58638,
          59414,
          60853,
          61537,
          61213,
          61121,
          61548,
          62723,
          63828,
          63894,
          64281,
          64765,
          65222,
          66203,
          66503.05,
          21504,
          25012,
          25382.4,
          24704.34,
          23907.26,
          24256,
          24858.68,
          26232.47,
          27434,
          28837,
          29499.52,
          31391,
          33006,
          35128,
          37317.82,
          47757,
          48809,
          49911,
          49925,
          49965,
          49465,
          49449,
          49836,
          50274,
          49985,
          50354,
          50873,
          51092,
          52785.32,
          46823.79,
          47347,
          47429,
          48938,
          49926,
          49836,
          50159,
          50581,
          50929,
          51415,
          52010,
          52732,
          52664,
          53172,
          50550,
          52542.19,
          52377.65,
          52208,
          52442,
          52453,
          52912,
          53980,
          54699,
          55215,
          56141,
          57431,
          58311,
          58924,
          59750,
          60732,
          60309,
          60291.24,
          35603.32,
          36033.46,
          37151,
          35454,
          33205,
          31272.46,
          29229,
          29108.47,
          29394.43,
          28720,
          28903,
          27569,
          27615.33,
          27747,
          27659.57,
          24491.94,
          24783,
          23692,
          24005,
          24316,
          23506,
          23266.38,
          22961.47,
          23139.58,
          23349.37,
          25038,
          26264.72,
          27140.4,
          27588,
          28462.42,
          62292,
          56277,
          57135,
          61777,
          68732,
          75287,
          76444,
          71687,
          74654.52,
          44703,
          48089.5,
          52639,
          52793,
          52035,
          51578,
          50323,
          50080,
          50079,
          50593,
          51180,
          51852,
          52648,
          53651,
          53209.48,
          36161,
          36502,
          35979,
          34890,
          34993,
          35189.5,
          35792,
          35900,
          36112.43,
          37213,
          38697.55,
          39898,
          41059,
          41964.5,
          42130,
          44338.87,
          46654.25,
          46928,
          46864.48,
          47224,
          47629,
          46866,
          45379,
          45527,
          45703.51,
          46103,
          46468.52,
          46169,
          46230,
          46460,
          44246,
          45960.65,
          41936.1,
          41799,
          41463,
          40869,
          40999,
          41656,
          40963,
          40995,
          40257,
          40062,
          40609,
          40710,
          41172,
          41699,
          41442,
          42041.31,
          38914.39,
          38914.39,
          39116,
          39116,
          39730.45,
          39730.45,
          40251.55,
          40251.55,
          39660,
          39660,
          40661,
          40661,
          40746,
          40746,
          41878,
          41878,
          43106,
          43106,
          44119,
          44119,
          45640,
          45640,
          47207,
          47207,
          48294,
          48294,
          49142.98,
          49142.98,
          20051.21,
          24721,
          25508.26,
          23031.26,
          21373,
          22240,
          23301.45,
          24864,
          26944,
          28522.6,
          29546,
          30640,
          31972,
          33199,
          35923.06,
          29975,
          31928.6,
          32512,
          28233,
          28340,
          28918,
          29401,
          30514.65,
          31902.39,
          33988.65,
          35752,
          37766,
          39524,
          42041,
          44228,
          47035.44,
          71070,
          71085,
          71478,
          70741,
          71601,
          72846,
          73225,
          72999,
          73918,
          74261,
          74399,
          18777.91,
          18818,
          18656,
          18806.33,
          17618.36,
          17776.57,
          17457.21,
          17469.69,
          17503,
          17730.33,
          17521.66,
          17475.39,
          17865.23,
          18031.44,
          17467,
          17637.06,
          62542.65,
          63276,
          63660,
          66270,
          65977,
          66198,
          66395,
          66039,
          66841,
          67112,
          66634,
          65910,
          65449,
          67163,
          66221.48,
          41548,
          43973,
          43463,
          44475.53,
          44442,
          45402,
          44794,
          44969,
          45779,
          47269,
          47594,
          48784,
          50211,
          51417,
          51877.34,
          43540,
          46429,
          50542,
          51809,
          52068,
          51226,
          51096,
          51340,
          52273,
          52415,
          53813.21,
          24682.38,
          25663.7,
          26996.51,
          28090.56,
          28247,
          27972,
          28273.57,
          28919,
          29635.47,
          31199,
          32474.61,
          34546,
          36667,
          37325,
          37126.69,
          30215.47,
          30315.49,
          31589,
          30820,
          29495.54,
          30055.6,
          29538,
          29448.48,
          29320,
          29433.32,
          29919.33,
          31081.37,
          31300.37,
          32089.38,
          19561,
          22641.75,
          22442.51,
          22161,
          22333,
          22780.73,
          23676,
          24426,
          25151.45,
          25862,
          26706.52,
          27052,
          27546.58,
          39774.48,
          41676,
          42846,
          42724.51,
          41437.46,
          40760,
          41576,
          42482,
          44095,
          44894,
          45702,
          47050,
          48605,
          50466.69,
          42437.2,
          42692,
          44201,
          46983,
          46538,
          45707,
          44427,
          44431,
          44294,
          44957,
          44704,
          44123,
          43975,
          44448,
          43828,
          44443.89,
          41216.49,
          43779,
          44635,
          44790,
          45337.48,
          46020,
          46993,
          47506,
          48043,
          48770.49,
          49535,
          49797,
          50041,
          50559,
          51214,
          51928.98,
          65847,
          68319,
          69383,
          70412,
          70797,
          70468,
          70087,
          69892,
          71189,
          69728,
          72358.44,
          22169.65,
          22042,
          22292,
          22847,
          23216,
          24153,
          25265,
          26126.55,
          26785.68,
          30081.3,
          29515.32,
          30040.53,
          31927,
          31761.46,
          50067.25,
          53926,
          52475,
          52346,
          52455,
          51497,
          51070,
          51594,
          51816,
          52549,
          53156,
          53471,
          53950,
          54703,
          53612,
          54762.3,
          64945,
          66174,
          66011,
          66673,
          67263,
          67353,
          67928,
          67604,
          68591,
          70320,
          70446,
          71157,
          71937,
          73194,
          77567,
          78894.28
         ],
         "yaxis": "y"
        }
       ],
       "layout": {
        "legend": {
         "itemsizing": "constant",
         "tracegroupgap": 0
        },
        "margin": {
         "t": 60
        },
        "template": {
         "data": {
          "bar": [
           {
            "error_x": {
             "color": "#2a3f5f"
            },
            "error_y": {
             "color": "#2a3f5f"
            },
            "marker": {
             "line": {
              "color": "#E5ECF6",
              "width": 0.5
             },
             "pattern": {
              "fillmode": "overlay",
              "size": 10,
              "solidity": 0.2
             }
            },
            "type": "bar"
           }
          ],
          "barpolar": [
           {
            "marker": {
             "line": {
              "color": "#E5ECF6",
              "width": 0.5
             },
             "pattern": {
              "fillmode": "overlay",
              "size": 10,
              "solidity": 0.2
             }
            },
            "type": "barpolar"
           }
          ],
          "carpet": [
           {
            "aaxis": {
             "endlinecolor": "#2a3f5f",
             "gridcolor": "white",
             "linecolor": "white",
             "minorgridcolor": "white",
             "startlinecolor": "#2a3f5f"
            },
            "baxis": {
             "endlinecolor": "#2a3f5f",
             "gridcolor": "white",
             "linecolor": "white",
             "minorgridcolor": "white",
             "startlinecolor": "#2a3f5f"
            },
            "type": "carpet"
           }
          ],
          "choropleth": [
           {
            "colorbar": {
             "outlinewidth": 0,
             "ticks": ""
            },
            "type": "choropleth"
           }
          ],
          "contour": [
           {
            "colorbar": {
             "outlinewidth": 0,
             "ticks": ""
            },
            "colorscale": [
             [
              0,
              "#0d0887"
             ],
             [
              0.1111111111111111,
              "#46039f"
             ],
             [
              0.2222222222222222,
              "#7201a8"
             ],
             [
              0.3333333333333333,
              "#9c179e"
             ],
             [
              0.4444444444444444,
              "#bd3786"
             ],
             [
              0.5555555555555556,
              "#d8576b"
             ],
             [
              0.6666666666666666,
              "#ed7953"
             ],
             [
              0.7777777777777778,
              "#fb9f3a"
             ],
             [
              0.8888888888888888,
              "#fdca26"
             ],
             [
              1,
              "#f0f921"
             ]
            ],
            "type": "contour"
           }
          ],
          "contourcarpet": [
           {
            "colorbar": {
             "outlinewidth": 0,
             "ticks": ""
            },
            "type": "contourcarpet"
           }
          ],
          "heatmap": [
           {
            "colorbar": {
             "outlinewidth": 0,
             "ticks": ""
            },
            "colorscale": [
             [
              0,
              "#0d0887"
             ],
             [
              0.1111111111111111,
              "#46039f"
             ],
             [
              0.2222222222222222,
              "#7201a8"
             ],
             [
              0.3333333333333333,
              "#9c179e"
             ],
             [
              0.4444444444444444,
              "#bd3786"
             ],
             [
              0.5555555555555556,
              "#d8576b"
             ],
             [
              0.6666666666666666,
              "#ed7953"
             ],
             [
              0.7777777777777778,
              "#fb9f3a"
             ],
             [
              0.8888888888888888,
              "#fdca26"
             ],
             [
              1,
              "#f0f921"
             ]
            ],
            "type": "heatmap"
           }
          ],
          "heatmapgl": [
           {
            "colorbar": {
             "outlinewidth": 0,
             "ticks": ""
            },
            "colorscale": [
             [
              0,
              "#0d0887"
             ],
             [
              0.1111111111111111,
              "#46039f"
             ],
             [
              0.2222222222222222,
              "#7201a8"
             ],
             [
              0.3333333333333333,
              "#9c179e"
             ],
             [
              0.4444444444444444,
              "#bd3786"
             ],
             [
              0.5555555555555556,
              "#d8576b"
             ],
             [
              0.6666666666666666,
              "#ed7953"
             ],
             [
              0.7777777777777778,
              "#fb9f3a"
             ],
             [
              0.8888888888888888,
              "#fdca26"
             ],
             [
              1,
              "#f0f921"
             ]
            ],
            "type": "heatmapgl"
           }
          ],
          "histogram": [
           {
            "marker": {
             "pattern": {
              "fillmode": "overlay",
              "size": 10,
              "solidity": 0.2
             }
            },
            "type": "histogram"
           }
          ],
          "histogram2d": [
           {
            "colorbar": {
             "outlinewidth": 0,
             "ticks": ""
            },
            "colorscale": [
             [
              0,
              "#0d0887"
             ],
             [
              0.1111111111111111,
              "#46039f"
             ],
             [
              0.2222222222222222,
              "#7201a8"
             ],
             [
              0.3333333333333333,
              "#9c179e"
             ],
             [
              0.4444444444444444,
              "#bd3786"
             ],
             [
              0.5555555555555556,
              "#d8576b"
             ],
             [
              0.6666666666666666,
              "#ed7953"
             ],
             [
              0.7777777777777778,
              "#fb9f3a"
             ],
             [
              0.8888888888888888,
              "#fdca26"
             ],
             [
              1,
              "#f0f921"
             ]
            ],
            "type": "histogram2d"
           }
          ],
          "histogram2dcontour": [
           {
            "colorbar": {
             "outlinewidth": 0,
             "ticks": ""
            },
            "colorscale": [
             [
              0,
              "#0d0887"
             ],
             [
              0.1111111111111111,
              "#46039f"
             ],
             [
              0.2222222222222222,
              "#7201a8"
             ],
             [
              0.3333333333333333,
              "#9c179e"
             ],
             [
              0.4444444444444444,
              "#bd3786"
             ],
             [
              0.5555555555555556,
              "#d8576b"
             ],
             [
              0.6666666666666666,
              "#ed7953"
             ],
             [
              0.7777777777777778,
              "#fb9f3a"
             ],
             [
              0.8888888888888888,
              "#fdca26"
             ],
             [
              1,
              "#f0f921"
             ]
            ],
            "type": "histogram2dcontour"
           }
          ],
          "mesh3d": [
           {
            "colorbar": {
             "outlinewidth": 0,
             "ticks": ""
            },
            "type": "mesh3d"
           }
          ],
          "parcoords": [
           {
            "line": {
             "colorbar": {
              "outlinewidth": 0,
              "ticks": ""
             }
            },
            "type": "parcoords"
           }
          ],
          "pie": [
           {
            "automargin": true,
            "type": "pie"
           }
          ],
          "scatter": [
           {
            "fillpattern": {
             "fillmode": "overlay",
             "size": 10,
             "solidity": 0.2
            },
            "type": "scatter"
           }
          ],
          "scatter3d": [
           {
            "line": {
             "colorbar": {
              "outlinewidth": 0,
              "ticks": ""
             }
            },
            "marker": {
             "colorbar": {
              "outlinewidth": 0,
              "ticks": ""
             }
            },
            "type": "scatter3d"
           }
          ],
          "scattercarpet": [
           {
            "marker": {
             "colorbar": {
              "outlinewidth": 0,
              "ticks": ""
             }
            },
            "type": "scattercarpet"
           }
          ],
          "scattergeo": [
           {
            "marker": {
             "colorbar": {
              "outlinewidth": 0,
              "ticks": ""
             }
            },
            "type": "scattergeo"
           }
          ],
          "scattergl": [
           {
            "marker": {
             "colorbar": {
              "outlinewidth": 0,
              "ticks": ""
             }
            },
            "type": "scattergl"
           }
          ],
          "scattermapbox": [
           {
            "marker": {
             "colorbar": {
              "outlinewidth": 0,
              "ticks": ""
             }
            },
            "type": "scattermapbox"
           }
          ],
          "scatterpolar": [
           {
            "marker": {
             "colorbar": {
              "outlinewidth": 0,
              "ticks": ""
             }
            },
            "type": "scatterpolar"
           }
          ],
          "scatterpolargl": [
           {
            "marker": {
             "colorbar": {
              "outlinewidth": 0,
              "ticks": ""
             }
            },
            "type": "scatterpolargl"
           }
          ],
          "scatterternary": [
           {
            "marker": {
             "colorbar": {
              "outlinewidth": 0,
              "ticks": ""
             }
            },
            "type": "scatterternary"
           }
          ],
          "surface": [
           {
            "colorbar": {
             "outlinewidth": 0,
             "ticks": ""
            },
            "colorscale": [
             [
              0,
              "#0d0887"
             ],
             [
              0.1111111111111111,
              "#46039f"
             ],
             [
              0.2222222222222222,
              "#7201a8"
             ],
             [
              0.3333333333333333,
              "#9c179e"
             ],
             [
              0.4444444444444444,
              "#bd3786"
             ],
             [
              0.5555555555555556,
              "#d8576b"
             ],
             [
              0.6666666666666666,
              "#ed7953"
             ],
             [
              0.7777777777777778,
              "#fb9f3a"
             ],
             [
              0.8888888888888888,
              "#fdca26"
             ],
             [
              1,
              "#f0f921"
             ]
            ],
            "type": "surface"
           }
          ],
          "table": [
           {
            "cells": {
             "fill": {
              "color": "#EBF0F8"
             },
             "line": {
              "color": "white"
             }
            },
            "header": {
             "fill": {
              "color": "#C8D4E3"
             },
             "line": {
              "color": "white"
             }
            },
            "type": "table"
           }
          ]
         },
         "layout": {
          "annotationdefaults": {
           "arrowcolor": "#2a3f5f",
           "arrowhead": 0,
           "arrowwidth": 1
          },
          "autotypenumbers": "strict",
          "coloraxis": {
           "colorbar": {
            "outlinewidth": 0,
            "ticks": ""
           }
          },
          "colorscale": {
           "diverging": [
            [
             0,
             "#8e0152"
            ],
            [
             0.1,
             "#c51b7d"
            ],
            [
             0.2,
             "#de77ae"
            ],
            [
             0.3,
             "#f1b6da"
            ],
            [
             0.4,
             "#fde0ef"
            ],
            [
             0.5,
             "#f7f7f7"
            ],
            [
             0.6,
             "#e6f5d0"
            ],
            [
             0.7,
             "#b8e186"
            ],
            [
             0.8,
             "#7fbc41"
            ],
            [
             0.9,
             "#4d9221"
            ],
            [
             1,
             "#276419"
            ]
           ],
           "sequential": [
            [
             0,
             "#0d0887"
            ],
            [
             0.1111111111111111,
             "#46039f"
            ],
            [
             0.2222222222222222,
             "#7201a8"
            ],
            [
             0.3333333333333333,
             "#9c179e"
            ],
            [
             0.4444444444444444,
             "#bd3786"
            ],
            [
             0.5555555555555556,
             "#d8576b"
            ],
            [
             0.6666666666666666,
             "#ed7953"
            ],
            [
             0.7777777777777778,
             "#fb9f3a"
            ],
            [
             0.8888888888888888,
             "#fdca26"
            ],
            [
             1,
             "#f0f921"
            ]
           ],
           "sequentialminus": [
            [
             0,
             "#0d0887"
            ],
            [
             0.1111111111111111,
             "#46039f"
            ],
            [
             0.2222222222222222,
             "#7201a8"
            ],
            [
             0.3333333333333333,
             "#9c179e"
            ],
            [
             0.4444444444444444,
             "#bd3786"
            ],
            [
             0.5555555555555556,
             "#d8576b"
            ],
            [
             0.6666666666666666,
             "#ed7953"
            ],
            [
             0.7777777777777778,
             "#fb9f3a"
            ],
            [
             0.8888888888888888,
             "#fdca26"
            ],
            [
             1,
             "#f0f921"
            ]
           ]
          },
          "colorway": [
           "#636efa",
           "#EF553B",
           "#00cc96",
           "#ab63fa",
           "#FFA15A",
           "#19d3f3",
           "#FF6692",
           "#B6E880",
           "#FF97FF",
           "#FECB52"
          ],
          "font": {
           "color": "#2a3f5f"
          },
          "geo": {
           "bgcolor": "white",
           "lakecolor": "white",
           "landcolor": "#E5ECF6",
           "showlakes": true,
           "showland": true,
           "subunitcolor": "white"
          },
          "hoverlabel": {
           "align": "left"
          },
          "hovermode": "closest",
          "mapbox": {
           "style": "light"
          },
          "paper_bgcolor": "white",
          "plot_bgcolor": "#E5ECF6",
          "polar": {
           "angularaxis": {
            "gridcolor": "white",
            "linecolor": "white",
            "ticks": ""
           },
           "bgcolor": "#E5ECF6",
           "radialaxis": {
            "gridcolor": "white",
            "linecolor": "white",
            "ticks": ""
           }
          },
          "scene": {
           "xaxis": {
            "backgroundcolor": "#E5ECF6",
            "gridcolor": "white",
            "gridwidth": 2,
            "linecolor": "white",
            "showbackground": true,
            "ticks": "",
            "zerolinecolor": "white"
           },
           "yaxis": {
            "backgroundcolor": "#E5ECF6",
            "gridcolor": "white",
            "gridwidth": 2,
            "linecolor": "white",
            "showbackground": true,
            "ticks": "",
            "zerolinecolor": "white"
           },
           "zaxis": {
            "backgroundcolor": "#E5ECF6",
            "gridcolor": "white",
            "gridwidth": 2,
            "linecolor": "white",
            "showbackground": true,
            "ticks": "",
            "zerolinecolor": "white"
           }
          },
          "shapedefaults": {
           "line": {
            "color": "#2a3f5f"
           }
          },
          "ternary": {
           "aaxis": {
            "gridcolor": "white",
            "linecolor": "white",
            "ticks": ""
           },
           "baxis": {
            "gridcolor": "white",
            "linecolor": "white",
            "ticks": ""
           },
           "bgcolor": "#E5ECF6",
           "caxis": {
            "gridcolor": "white",
            "linecolor": "white",
            "ticks": ""
           }
          },
          "title": {
           "x": 0.05
          },
          "xaxis": {
           "automargin": true,
           "gridcolor": "white",
           "linecolor": "white",
           "ticks": "",
           "title": {
            "standoff": 15
           },
           "zerolinecolor": "white",
           "zerolinewidth": 2
          },
          "yaxis": {
           "automargin": true,
           "gridcolor": "white",
           "linecolor": "white",
           "ticks": "",
           "title": {
            "standoff": 15
           },
           "zerolinecolor": "white",
           "zerolinewidth": 2
          }
         }
        },
        "xaxis": {
         "anchor": "y",
         "domain": [
          0,
          1
         ],
         "title": {
          "text": "year"
         },
         "type": "log"
        },
        "yaxis": {
         "anchor": "x",
         "domain": [
          0,
          1
         ],
         "title": {
          "text": "money"
         }
        }
       }
      }
     },
     "metadata": {},
     "output_type": "display_data"
    }
   ],
   "source": [
    "import plotly.express as px\n",
    "\n",
    "fig = px.scatter(master, x = 'year',y = 'money',size = 'Healthy life expectancy at birth',hover_name = 'Country name_x',log_x=True)\n",
    "\n",
    "fig.show()"
   ]
  },
  {
   "cell_type": "code",
   "execution_count": 20,
   "metadata": {},
   "outputs": [
    {
     "data": {
      "application/vnd.plotly.v1+json": {
       "config": {
        "plotlyServerURL": "https://plot.ly"
       },
       "data": [
        {
         "hovertemplate": "<b>%{hovertext}</b><br><br>ISO3=AUS<br>year=2005<br>Healthy life expectancy at birth=%{x}<br>money=%{marker.size}<extra></extra>",
         "hovertext": [
          "Australia"
         ],
         "legendgroup": "AUS",
         "marker": {
          "color": "#636efa",
          "size": [
           52013.94
          ],
          "sizemode": "area",
          "sizeref": 197.2357,
          "symbol": "circle"
         },
         "mode": "markers",
         "name": "AUS",
         "orientation": "v",
         "showlegend": true,
         "type": "scatter",
         "x": [
          69.8
         ],
         "xaxis": "x",
         "y": [
          52013.94
         ],
         "yaxis": "y"
        },
        {
         "hovertemplate": "<b>%{hovertext}</b><br><br>ISO3=BEL<br>year=2005<br>Healthy life expectancy at birth=%{x}<br>money=%{marker.size}<extra></extra>",
         "hovertext": [
          "Belgium"
         ],
         "legendgroup": "BEL",
         "marker": {
          "color": "#EF553B",
          "size": [
           62139.95
          ],
          "sizemode": "area",
          "sizeref": 197.2357,
          "symbol": "circle"
         },
         "mode": "markers",
         "name": "BEL",
         "orientation": "v",
         "showlegend": true,
         "type": "scatter",
         "x": [
          68.4
         ],
         "xaxis": "x",
         "y": [
          62139.95
         ],
         "yaxis": "y"
        },
        {
         "hovertemplate": "<b>%{hovertext}</b><br><br>ISO3=CAN<br>year=2005<br>Healthy life expectancy at birth=%{x}<br>money=%{marker.size}<extra></extra>",
         "hovertext": [
          "Canada"
         ],
         "legendgroup": "CAN",
         "marker": {
          "color": "#00cc96",
          "size": [
           48325.74
          ],
          "sizemode": "area",
          "sizeref": 197.2357,
          "symbol": "circle"
         },
         "mode": "markers",
         "name": "CAN",
         "orientation": "v",
         "showlegend": true,
         "type": "scatter",
         "x": [
          70.5
         ],
         "xaxis": "x",
         "y": [
          48325.74
         ],
         "yaxis": "y"
        },
        {
         "hovertemplate": "<b>%{hovertext}</b><br><br>ISO3=CZE<br>year=2005<br>Healthy life expectancy at birth=%{x}<br>money=%{marker.size}<extra></extra>",
         "hovertext": [
          "Czech Republic"
         ],
         "legendgroup": "CZE",
         "marker": {
          "color": "#ab63fa",
          "size": [
           25914.07
          ],
          "sizemode": "area",
          "sizeref": 197.2357,
          "symbol": "circle"
         },
         "mode": "markers",
         "name": "CZE",
         "orientation": "v",
         "showlegend": true,
         "type": "scatter",
         "x": [
          67.1
         ],
         "xaxis": "x",
         "y": [
          25914.07
         ],
         "yaxis": "y"
        },
        {
         "hovertemplate": "<b>%{hovertext}</b><br><br>ISO3=DNK<br>year=2005<br>Healthy life expectancy at birth=%{x}<br>money=%{marker.size}<extra></extra>",
         "hovertext": [
          "Denmark"
         ],
         "legendgroup": "DNK",
         "marker": {
          "color": "#FFA15A",
          "size": [
           57030.24
          ],
          "sizemode": "area",
          "sizeref": 197.2357,
          "symbol": "circle"
         },
         "mode": "markers",
         "name": "DNK",
         "orientation": "v",
         "showlegend": true,
         "type": "scatter",
         "x": [
          68.3
         ],
         "xaxis": "x",
         "y": [
          57030.24
         ],
         "yaxis": "y"
        },
        {
         "hovertemplate": "<b>%{hovertext}</b><br><br>ISO3=FRA<br>year=2005<br>Healthy life expectancy at birth=%{x}<br>money=%{marker.size}<extra></extra>",
         "hovertext": [
          "France"
         ],
         "legendgroup": "FRA",
         "marker": {
          "color": "#19d3f3",
          "size": [
           46823.79
          ],
          "sizemode": "area",
          "sizeref": 197.2357,
          "symbol": "circle"
         },
         "mode": "markers",
         "name": "FRA",
         "orientation": "v",
         "showlegend": true,
         "type": "scatter",
         "x": [
          70.7
         ],
         "xaxis": "x",
         "y": [
          46823.79
         ],
         "yaxis": "y"
        },
        {
         "hovertemplate": "<b>%{hovertext}</b><br><br>ISO3=DEU<br>year=2005<br>Healthy life expectancy at birth=%{x}<br>money=%{marker.size}<extra></extra>",
         "hovertext": [
          "Germany"
         ],
         "legendgroup": "DEU",
         "marker": {
          "color": "#FF6692",
          "size": [
           52377.65
          ],
          "sizemode": "area",
          "sizeref": 197.2357,
          "symbol": "circle"
         },
         "mode": "markers",
         "name": "DEU",
         "orientation": "v",
         "showlegend": true,
         "type": "scatter",
         "x": [
          69.9
         ],
         "xaxis": "x",
         "y": [
          52377.65
         ],
         "yaxis": "y"
        },
        {
         "hovertemplate": "<b>%{hovertext}</b><br><br>ISO3=GRC<br>year=2005<br>Healthy life expectancy at birth=%{x}<br>money=%{marker.size}<extra></extra>",
         "hovertext": [
          "Greece"
         ],
         "legendgroup": "GRC",
         "marker": {
          "color": "#B6E880",
          "size": [
           35603.32
          ],
          "sizemode": "area",
          "sizeref": 197.2357,
          "symbol": "circle"
         },
         "mode": "markers",
         "name": "GRC",
         "orientation": "v",
         "showlegend": true,
         "type": "scatter",
         "x": [
          69.6
         ],
         "xaxis": "x",
         "y": [
          35603.32
         ],
         "yaxis": "y"
        },
        {
         "hovertemplate": "<b>%{hovertext}</b><br><br>ISO3=HUN<br>year=2005<br>Healthy life expectancy at birth=%{x}<br>money=%{marker.size}<extra></extra>",
         "hovertext": [
          "Hungary"
         ],
         "legendgroup": "HUN",
         "marker": {
          "color": "#FF97FF",
          "size": [
           24491.94
          ],
          "sizemode": "area",
          "sizeref": 197.2357,
          "symbol": "circle"
         },
         "mode": "markers",
         "name": "HUN",
         "orientation": "v",
         "showlegend": true,
         "type": "scatter",
         "x": [
          65
         ],
         "xaxis": "x",
         "y": [
          24491.94
         ],
         "yaxis": "y"
        },
        {
         "hovertemplate": "<b>%{hovertext}</b><br><br>ISO3=ITA<br>year=2005<br>Healthy life expectancy at birth=%{x}<br>money=%{marker.size}<extra></extra>",
         "hovertext": [
          "Italy"
         ],
         "legendgroup": "ITA",
         "marker": {
          "color": "#FECB52",
          "size": [
           46654.25
          ],
          "sizemode": "area",
          "sizeref": 197.2357,
          "symbol": "circle"
         },
         "mode": "markers",
         "name": "ITA",
         "orientation": "v",
         "showlegend": true,
         "type": "scatter",
         "x": [
          70.6
         ],
         "xaxis": "x",
         "y": [
          46654.25
         ],
         "yaxis": "y"
        },
        {
         "hovertemplate": "<b>%{hovertext}</b><br><br>ISO3=JPN<br>year=2005<br>Healthy life expectancy at birth=%{x}<br>money=%{marker.size}<extra></extra>",
         "hovertext": [
          "Japan"
         ],
         "legendgroup": "JPN",
         "marker": {
          "color": "#636efa",
          "size": [
           41936.1
          ],
          "sizemode": "area",
          "sizeref": 197.2357,
          "symbol": "circle"
         },
         "mode": "markers",
         "name": "JPN",
         "orientation": "v",
         "showlegend": true,
         "type": "scatter",
         "x": [
          72.4
         ],
         "xaxis": "x",
         "y": [
          41936.1
         ],
         "yaxis": "y"
        },
        {
         "hovertemplate": "<b>%{hovertext}</b><br><br>ISO3=MEX<br>year=2005<br>Healthy life expectancy at birth=%{x}<br>money=%{marker.size}<extra></extra>",
         "hovertext": [
          "Mexico"
         ],
         "legendgroup": "MEX",
         "marker": {
          "color": "#EF553B",
          "size": [
           18777.91
          ],
          "sizemode": "area",
          "sizeref": 197.2357,
          "symbol": "circle"
         },
         "mode": "markers",
         "name": "MEX",
         "orientation": "v",
         "showlegend": true,
         "type": "scatter",
         "x": [
          64.4
         ],
         "xaxis": "x",
         "y": [
          18777.91
         ],
         "yaxis": "y"
        },
        {
         "hovertemplate": "<b>%{hovertext}</b><br><br>ISO3=NLD<br>year=2005<br>Healthy life expectancy at birth=%{x}<br>money=%{marker.size}<extra></extra>",
         "hovertext": [
          "Netherlands"
         ],
         "legendgroup": "NLD",
         "marker": {
          "color": "#00cc96",
          "size": [
           62542.65
          ],
          "sizemode": "area",
          "sizeref": 197.2357,
          "symbol": "circle"
         },
         "mode": "markers",
         "name": "NLD",
         "orientation": "v",
         "showlegend": true,
         "type": "scatter",
         "x": [
          70.7
         ],
         "xaxis": "x",
         "y": [
          62542.65
         ],
         "yaxis": "y"
        },
        {
         "hovertemplate": "<b>%{hovertext}</b><br><br>ISO3=POL<br>year=2005<br>Healthy life expectancy at birth=%{x}<br>money=%{marker.size}<extra></extra>",
         "hovertext": [
          "Poland"
         ],
         "legendgroup": "POL",
         "marker": {
          "color": "#ab63fa",
          "size": [
           24682.38
          ],
          "sizemode": "area",
          "sizeref": 197.2357,
          "symbol": "circle"
         },
         "mode": "markers",
         "name": "POL",
         "orientation": "v",
         "showlegend": true,
         "type": "scatter",
         "x": [
          66.2
         ],
         "xaxis": "x",
         "y": [
          24682.38
         ],
         "yaxis": "y"
        },
        {
         "hovertemplate": "<b>%{hovertext}</b><br><br>ISO3=ESP<br>year=2005<br>Healthy life expectancy at birth=%{x}<br>money=%{marker.size}<extra></extra>",
         "hovertext": [
          "Spain"
         ],
         "legendgroup": "ESP",
         "marker": {
          "color": "#FFA15A",
          "size": [
           42437.2
          ],
          "sizemode": "area",
          "sizeref": 197.2357,
          "symbol": "circle"
         },
         "mode": "markers",
         "name": "ESP",
         "orientation": "v",
         "showlegend": true,
         "type": "scatter",
         "x": [
          70.4
         ],
         "xaxis": "x",
         "y": [
          42437.2
         ],
         "yaxis": "y"
        },
        {
         "hovertemplate": "<b>%{hovertext}</b><br><br>ISO3=SWE<br>year=2005<br>Healthy life expectancy at birth=%{x}<br>money=%{marker.size}<extra></extra>",
         "hovertext": [
          "Sweden"
         ],
         "legendgroup": "SWE",
         "marker": {
          "color": "#19d3f3",
          "size": [
           41216.49
          ],
          "sizemode": "area",
          "sizeref": 197.2357,
          "symbol": "circle"
         },
         "mode": "markers",
         "name": "SWE",
         "orientation": "v",
         "showlegend": true,
         "type": "scatter",
         "x": [
          71
         ],
         "xaxis": "x",
         "y": [
          41216.49
         ],
         "yaxis": "y"
        },
        {
         "hovertemplate": "<b>%{hovertext}</b><br><br>ISO3=GBR<br>year=2005<br>Healthy life expectancy at birth=%{x}<br>money=%{marker.size}<extra></extra>",
         "hovertext": [
          "United Kingdom"
         ],
         "legendgroup": "GBR",
         "marker": {
          "color": "#FF6692",
          "size": [
           50067.25
          ],
          "sizemode": "area",
          "sizeref": 197.2357,
          "symbol": "circle"
         },
         "mode": "markers",
         "name": "GBR",
         "orientation": "v",
         "showlegend": true,
         "type": "scatter",
         "x": [
          69.1
         ],
         "xaxis": "x",
         "y": [
          50067.25
         ],
         "yaxis": "y"
        }
       ],
       "frames": [
        {
         "data": [
          {
           "hovertemplate": "<b>%{hovertext}</b><br><br>ISO3=AUS<br>year=2005<br>Healthy life expectancy at birth=%{x}<br>money=%{marker.size}<extra></extra>",
           "hovertext": [
            "Australia"
           ],
           "legendgroup": "AUS",
           "marker": {
            "color": "#636efa",
            "size": [
             52013.94
            ],
            "sizemode": "area",
            "sizeref": 197.2357,
            "symbol": "circle"
           },
           "mode": "markers",
           "name": "AUS",
           "orientation": "v",
           "showlegend": true,
           "type": "scatter",
           "x": [
            69.8
           ],
           "xaxis": "x",
           "y": [
            52013.94
           ],
           "yaxis": "y"
          },
          {
           "hovertemplate": "<b>%{hovertext}</b><br><br>ISO3=BEL<br>year=2005<br>Healthy life expectancy at birth=%{x}<br>money=%{marker.size}<extra></extra>",
           "hovertext": [
            "Belgium"
           ],
           "legendgroup": "BEL",
           "marker": {
            "color": "#EF553B",
            "size": [
             62139.95
            ],
            "sizemode": "area",
            "sizeref": 197.2357,
            "symbol": "circle"
           },
           "mode": "markers",
           "name": "BEL",
           "orientation": "v",
           "showlegend": true,
           "type": "scatter",
           "x": [
            68.4
           ],
           "xaxis": "x",
           "y": [
            62139.95
           ],
           "yaxis": "y"
          },
          {
           "hovertemplate": "<b>%{hovertext}</b><br><br>ISO3=CAN<br>year=2005<br>Healthy life expectancy at birth=%{x}<br>money=%{marker.size}<extra></extra>",
           "hovertext": [
            "Canada"
           ],
           "legendgroup": "CAN",
           "marker": {
            "color": "#00cc96",
            "size": [
             48325.74
            ],
            "sizemode": "area",
            "sizeref": 197.2357,
            "symbol": "circle"
           },
           "mode": "markers",
           "name": "CAN",
           "orientation": "v",
           "showlegend": true,
           "type": "scatter",
           "x": [
            70.5
           ],
           "xaxis": "x",
           "y": [
            48325.74
           ],
           "yaxis": "y"
          },
          {
           "hovertemplate": "<b>%{hovertext}</b><br><br>ISO3=CZE<br>year=2005<br>Healthy life expectancy at birth=%{x}<br>money=%{marker.size}<extra></extra>",
           "hovertext": [
            "Czech Republic"
           ],
           "legendgroup": "CZE",
           "marker": {
            "color": "#ab63fa",
            "size": [
             25914.07
            ],
            "sizemode": "area",
            "sizeref": 197.2357,
            "symbol": "circle"
           },
           "mode": "markers",
           "name": "CZE",
           "orientation": "v",
           "showlegend": true,
           "type": "scatter",
           "x": [
            67.1
           ],
           "xaxis": "x",
           "y": [
            25914.07
           ],
           "yaxis": "y"
          },
          {
           "hovertemplate": "<b>%{hovertext}</b><br><br>ISO3=DNK<br>year=2005<br>Healthy life expectancy at birth=%{x}<br>money=%{marker.size}<extra></extra>",
           "hovertext": [
            "Denmark"
           ],
           "legendgroup": "DNK",
           "marker": {
            "color": "#FFA15A",
            "size": [
             57030.24
            ],
            "sizemode": "area",
            "sizeref": 197.2357,
            "symbol": "circle"
           },
           "mode": "markers",
           "name": "DNK",
           "orientation": "v",
           "showlegend": true,
           "type": "scatter",
           "x": [
            68.3
           ],
           "xaxis": "x",
           "y": [
            57030.24
           ],
           "yaxis": "y"
          },
          {
           "hovertemplate": "<b>%{hovertext}</b><br><br>ISO3=FRA<br>year=2005<br>Healthy life expectancy at birth=%{x}<br>money=%{marker.size}<extra></extra>",
           "hovertext": [
            "France"
           ],
           "legendgroup": "FRA",
           "marker": {
            "color": "#19d3f3",
            "size": [
             46823.79
            ],
            "sizemode": "area",
            "sizeref": 197.2357,
            "symbol": "circle"
           },
           "mode": "markers",
           "name": "FRA",
           "orientation": "v",
           "showlegend": true,
           "type": "scatter",
           "x": [
            70.7
           ],
           "xaxis": "x",
           "y": [
            46823.79
           ],
           "yaxis": "y"
          },
          {
           "hovertemplate": "<b>%{hovertext}</b><br><br>ISO3=DEU<br>year=2005<br>Healthy life expectancy at birth=%{x}<br>money=%{marker.size}<extra></extra>",
           "hovertext": [
            "Germany"
           ],
           "legendgroup": "DEU",
           "marker": {
            "color": "#FF6692",
            "size": [
             52377.65
            ],
            "sizemode": "area",
            "sizeref": 197.2357,
            "symbol": "circle"
           },
           "mode": "markers",
           "name": "DEU",
           "orientation": "v",
           "showlegend": true,
           "type": "scatter",
           "x": [
            69.9
           ],
           "xaxis": "x",
           "y": [
            52377.65
           ],
           "yaxis": "y"
          },
          {
           "hovertemplate": "<b>%{hovertext}</b><br><br>ISO3=GRC<br>year=2005<br>Healthy life expectancy at birth=%{x}<br>money=%{marker.size}<extra></extra>",
           "hovertext": [
            "Greece"
           ],
           "legendgroup": "GRC",
           "marker": {
            "color": "#B6E880",
            "size": [
             35603.32
            ],
            "sizemode": "area",
            "sizeref": 197.2357,
            "symbol": "circle"
           },
           "mode": "markers",
           "name": "GRC",
           "orientation": "v",
           "showlegend": true,
           "type": "scatter",
           "x": [
            69.6
           ],
           "xaxis": "x",
           "y": [
            35603.32
           ],
           "yaxis": "y"
          },
          {
           "hovertemplate": "<b>%{hovertext}</b><br><br>ISO3=HUN<br>year=2005<br>Healthy life expectancy at birth=%{x}<br>money=%{marker.size}<extra></extra>",
           "hovertext": [
            "Hungary"
           ],
           "legendgroup": "HUN",
           "marker": {
            "color": "#FF97FF",
            "size": [
             24491.94
            ],
            "sizemode": "area",
            "sizeref": 197.2357,
            "symbol": "circle"
           },
           "mode": "markers",
           "name": "HUN",
           "orientation": "v",
           "showlegend": true,
           "type": "scatter",
           "x": [
            65
           ],
           "xaxis": "x",
           "y": [
            24491.94
           ],
           "yaxis": "y"
          },
          {
           "hovertemplate": "<b>%{hovertext}</b><br><br>ISO3=ITA<br>year=2005<br>Healthy life expectancy at birth=%{x}<br>money=%{marker.size}<extra></extra>",
           "hovertext": [
            "Italy"
           ],
           "legendgroup": "ITA",
           "marker": {
            "color": "#FECB52",
            "size": [
             46654.25
            ],
            "sizemode": "area",
            "sizeref": 197.2357,
            "symbol": "circle"
           },
           "mode": "markers",
           "name": "ITA",
           "orientation": "v",
           "showlegend": true,
           "type": "scatter",
           "x": [
            70.6
           ],
           "xaxis": "x",
           "y": [
            46654.25
           ],
           "yaxis": "y"
          },
          {
           "hovertemplate": "<b>%{hovertext}</b><br><br>ISO3=JPN<br>year=2005<br>Healthy life expectancy at birth=%{x}<br>money=%{marker.size}<extra></extra>",
           "hovertext": [
            "Japan"
           ],
           "legendgroup": "JPN",
           "marker": {
            "color": "#636efa",
            "size": [
             41936.1
            ],
            "sizemode": "area",
            "sizeref": 197.2357,
            "symbol": "circle"
           },
           "mode": "markers",
           "name": "JPN",
           "orientation": "v",
           "showlegend": true,
           "type": "scatter",
           "x": [
            72.4
           ],
           "xaxis": "x",
           "y": [
            41936.1
           ],
           "yaxis": "y"
          },
          {
           "hovertemplate": "<b>%{hovertext}</b><br><br>ISO3=MEX<br>year=2005<br>Healthy life expectancy at birth=%{x}<br>money=%{marker.size}<extra></extra>",
           "hovertext": [
            "Mexico"
           ],
           "legendgroup": "MEX",
           "marker": {
            "color": "#EF553B",
            "size": [
             18777.91
            ],
            "sizemode": "area",
            "sizeref": 197.2357,
            "symbol": "circle"
           },
           "mode": "markers",
           "name": "MEX",
           "orientation": "v",
           "showlegend": true,
           "type": "scatter",
           "x": [
            64.4
           ],
           "xaxis": "x",
           "y": [
            18777.91
           ],
           "yaxis": "y"
          },
          {
           "hovertemplate": "<b>%{hovertext}</b><br><br>ISO3=NLD<br>year=2005<br>Healthy life expectancy at birth=%{x}<br>money=%{marker.size}<extra></extra>",
           "hovertext": [
            "Netherlands"
           ],
           "legendgroup": "NLD",
           "marker": {
            "color": "#00cc96",
            "size": [
             62542.65
            ],
            "sizemode": "area",
            "sizeref": 197.2357,
            "symbol": "circle"
           },
           "mode": "markers",
           "name": "NLD",
           "orientation": "v",
           "showlegend": true,
           "type": "scatter",
           "x": [
            70.7
           ],
           "xaxis": "x",
           "y": [
            62542.65
           ],
           "yaxis": "y"
          },
          {
           "hovertemplate": "<b>%{hovertext}</b><br><br>ISO3=POL<br>year=2005<br>Healthy life expectancy at birth=%{x}<br>money=%{marker.size}<extra></extra>",
           "hovertext": [
            "Poland"
           ],
           "legendgroup": "POL",
           "marker": {
            "color": "#ab63fa",
            "size": [
             24682.38
            ],
            "sizemode": "area",
            "sizeref": 197.2357,
            "symbol": "circle"
           },
           "mode": "markers",
           "name": "POL",
           "orientation": "v",
           "showlegend": true,
           "type": "scatter",
           "x": [
            66.2
           ],
           "xaxis": "x",
           "y": [
            24682.38
           ],
           "yaxis": "y"
          },
          {
           "hovertemplate": "<b>%{hovertext}</b><br><br>ISO3=ESP<br>year=2005<br>Healthy life expectancy at birth=%{x}<br>money=%{marker.size}<extra></extra>",
           "hovertext": [
            "Spain"
           ],
           "legendgroup": "ESP",
           "marker": {
            "color": "#FFA15A",
            "size": [
             42437.2
            ],
            "sizemode": "area",
            "sizeref": 197.2357,
            "symbol": "circle"
           },
           "mode": "markers",
           "name": "ESP",
           "orientation": "v",
           "showlegend": true,
           "type": "scatter",
           "x": [
            70.4
           ],
           "xaxis": "x",
           "y": [
            42437.2
           ],
           "yaxis": "y"
          },
          {
           "hovertemplate": "<b>%{hovertext}</b><br><br>ISO3=SWE<br>year=2005<br>Healthy life expectancy at birth=%{x}<br>money=%{marker.size}<extra></extra>",
           "hovertext": [
            "Sweden"
           ],
           "legendgroup": "SWE",
           "marker": {
            "color": "#19d3f3",
            "size": [
             41216.49
            ],
            "sizemode": "area",
            "sizeref": 197.2357,
            "symbol": "circle"
           },
           "mode": "markers",
           "name": "SWE",
           "orientation": "v",
           "showlegend": true,
           "type": "scatter",
           "x": [
            71
           ],
           "xaxis": "x",
           "y": [
            41216.49
           ],
           "yaxis": "y"
          },
          {
           "hovertemplate": "<b>%{hovertext}</b><br><br>ISO3=GBR<br>year=2005<br>Healthy life expectancy at birth=%{x}<br>money=%{marker.size}<extra></extra>",
           "hovertext": [
            "United Kingdom"
           ],
           "legendgroup": "GBR",
           "marker": {
            "color": "#FF6692",
            "size": [
             50067.25
            ],
            "sizemode": "area",
            "sizeref": 197.2357,
            "symbol": "circle"
           },
           "mode": "markers",
           "name": "GBR",
           "orientation": "v",
           "showlegend": true,
           "type": "scatter",
           "x": [
            69.1
           ],
           "xaxis": "x",
           "y": [
            50067.25
           ],
           "yaxis": "y"
          }
         ],
         "name": "2005"
        },
        {
         "data": [
          {
           "hovertemplate": "<b>%{hovertext}</b><br><br>ISO3=FRA<br>year=2006<br>Healthy life expectancy at birth=%{x}<br>money=%{marker.size}<extra></extra>",
           "hovertext": [
            "France"
           ],
           "legendgroup": "FRA",
           "marker": {
            "color": "#19d3f3",
            "size": [
             47347
            ],
            "sizemode": "area",
            "sizeref": 197.2357,
            "symbol": "circle"
           },
           "mode": "markers",
           "name": "FRA",
           "orientation": "v",
           "showlegend": true,
           "type": "scatter",
           "x": [
            70.8
           ],
           "xaxis": "x",
           "y": [
            47347
           ],
           "yaxis": "y"
          },
          {
           "hovertemplate": "<b>%{hovertext}</b><br><br>ISO3=AUT<br>year=2006<br>Healthy life expectancy at birth=%{x}<br>money=%{marker.size}<extra></extra>",
           "hovertext": [
            "Austria"
           ],
           "legendgroup": "AUT",
           "marker": {
            "color": "#B6E880",
            "size": [
             60698
            ],
            "sizemode": "area",
            "sizeref": 197.2357,
            "symbol": "circle"
           },
           "mode": "markers",
           "name": "AUT",
           "orientation": "v",
           "showlegend": true,
           "type": "scatter",
           "x": [
            69.5
           ],
           "xaxis": "x",
           "y": [
            60698
           ],
           "yaxis": "y"
          },
          {
           "hovertemplate": "<b>%{hovertext}</b><br><br>ISO3=CHL<br>year=2006<br>Healthy life expectancy at birth=%{x}<br>money=%{marker.size}<extra></extra>",
           "hovertext": [
            "Chile"
           ],
           "legendgroup": "CHL",
           "marker": {
            "color": "#FF97FF",
            "size": [
             21588.58
            ],
            "sizemode": "area",
            "sizeref": 197.2357,
            "symbol": "circle"
           },
           "mode": "markers",
           "name": "CHL",
           "orientation": "v",
           "showlegend": true,
           "type": "scatter",
           "x": [
            67.78
           ],
           "xaxis": "x",
           "y": [
            21588.58
           ],
           "yaxis": "y"
          },
          {
           "hovertemplate": "<b>%{hovertext}</b><br><br>ISO3=CRI<br>year=2006<br>Healthy life expectancy at birth=%{x}<br>money=%{marker.size}<extra></extra>",
           "hovertext": [
            "Costa Rica"
           ],
           "legendgroup": "CRI",
           "marker": {
            "color": "#FECB52",
            "size": [
             11520.52
            ],
            "sizemode": "area",
            "sizeref": 197.2357,
            "symbol": "circle"
           },
           "mode": "markers",
           "name": "CRI",
           "orientation": "v",
           "showlegend": true,
           "type": "scatter",
           "x": [
            68.56
           ],
           "xaxis": "x",
           "y": [
            11520.52
           ],
           "yaxis": "y"
          },
          {
           "hovertemplate": "<b>%{hovertext}</b><br><br>ISO3=EST<br>year=2006<br>Healthy life expectancy at birth=%{x}<br>money=%{marker.size}<extra></extra>",
           "hovertext": [
            "Estonia"
           ],
           "legendgroup": "EST",
           "marker": {
            "color": "#636efa",
            "size": [
             21504
            ],
            "sizemode": "area",
            "sizeref": 197.2357,
            "symbol": "circle"
           },
           "mode": "markers",
           "name": "EST",
           "orientation": "v",
           "showlegend": true,
           "type": "scatter",
           "x": [
            65.78
           ],
           "xaxis": "x",
           "y": [
            21504
           ],
           "yaxis": "y"
          },
          {
           "hovertemplate": "<b>%{hovertext}</b><br><br>ISO3=FIN<br>year=2006<br>Healthy life expectancy at birth=%{x}<br>money=%{marker.size}<extra></extra>",
           "hovertext": [
            "Finland"
           ],
           "legendgroup": "FIN",
           "marker": {
            "color": "#EF553B",
            "size": [
             47757
            ],
            "sizemode": "area",
            "sizeref": 197.2357,
            "symbol": "circle"
           },
           "mode": "markers",
           "name": "FIN",
           "orientation": "v",
           "showlegend": true,
           "type": "scatter",
           "x": [
            68.72
           ],
           "xaxis": "x",
           "y": [
            47757
           ],
           "yaxis": "y"
          },
          {
           "hovertemplate": "<b>%{hovertext}</b><br><br>ISO3=IRL<br>year=2006<br>Healthy life expectancy at birth=%{x}<br>money=%{marker.size}<extra></extra>",
           "hovertext": [
            "Ireland"
           ],
           "legendgroup": "IRL",
           "marker": {
            "color": "#00cc96",
            "size": [
             44703
            ],
            "sizemode": "area",
            "sizeref": 197.2357,
            "symbol": "circle"
           },
           "mode": "markers",
           "name": "IRL",
           "orientation": "v",
           "showlegend": true,
           "type": "scatter",
           "x": [
            69.62
           ],
           "xaxis": "x",
           "y": [
            44703
           ],
           "yaxis": "y"
          },
          {
           "hovertemplate": "<b>%{hovertext}</b><br><br>ISO3=ISR<br>year=2006<br>Healthy life expectancy at birth=%{x}<br>money=%{marker.size}<extra></extra>",
           "hovertext": [
            "Israel"
           ],
           "legendgroup": "ISR",
           "marker": {
            "color": "#ab63fa",
            "size": [
             36161
            ],
            "sizemode": "area",
            "sizeref": 197.2357,
            "symbol": "circle"
           },
           "mode": "markers",
           "name": "ISR",
           "orientation": "v",
           "showlegend": true,
           "type": "scatter",
           "x": [
            71.08
           ],
           "xaxis": "x",
           "y": [
            36161
           ],
           "yaxis": "y"
          },
          {
           "hovertemplate": "<b>%{hovertext}</b><br><br>ISO3=LVA<br>year=2006<br>Healthy life expectancy at birth=%{x}<br>money=%{marker.size}<extra></extra>",
           "hovertext": [
            "Latvia"
           ],
           "legendgroup": "LVA",
           "marker": {
            "color": "#FFA15A",
            "size": [
             20051.21
            ],
            "sizemode": "area",
            "sizeref": 197.2357,
            "symbol": "circle"
           },
           "mode": "markers",
           "name": "LVA",
           "orientation": "v",
           "showlegend": true,
           "type": "scatter",
           "x": [
            63.1
           ],
           "xaxis": "x",
           "y": [
            20051.21
           ],
           "yaxis": "y"
          },
          {
           "hovertemplate": "<b>%{hovertext}</b><br><br>ISO3=LTU<br>year=2006<br>Healthy life expectancy at birth=%{x}<br>money=%{marker.size}<extra></extra>",
           "hovertext": [
            "Lithuania"
           ],
           "legendgroup": "LTU",
           "marker": {
            "color": "#19d3f3",
            "size": [
             29975
            ],
            "sizemode": "area",
            "sizeref": 197.2357,
            "symbol": "circle"
           },
           "mode": "markers",
           "name": "LTU",
           "orientation": "v",
           "showlegend": true,
           "type": "scatter",
           "x": [
            63.5
           ],
           "xaxis": "x",
           "y": [
            29975
           ],
           "yaxis": "y"
          },
          {
           "hovertemplate": "<b>%{hovertext}</b><br><br>ISO3=NZL<br>year=2006<br>Healthy life expectancy at birth=%{x}<br>money=%{marker.size}<extra></extra>",
           "hovertext": [
            "New Zealand"
           ],
           "legendgroup": "NZL",
           "marker": {
            "color": "#FF6692",
            "size": [
             41548
            ],
            "sizemode": "area",
            "sizeref": 197.2357,
            "symbol": "circle"
           },
           "mode": "markers",
           "name": "NZL",
           "orientation": "v",
           "showlegend": true,
           "type": "scatter",
           "x": [
            69.72
           ],
           "xaxis": "x",
           "y": [
            41548
           ],
           "yaxis": "y"
          },
          {
           "hovertemplate": "<b>%{hovertext}</b><br><br>ISO3=NOR<br>year=2006<br>Healthy life expectancy at birth=%{x}<br>money=%{marker.size}<extra></extra>",
           "hovertext": [
            "Norway"
           ],
           "legendgroup": "NOR",
           "marker": {
            "color": "#B6E880",
            "size": [
             43540
            ],
            "sizemode": "area",
            "sizeref": 197.2357,
            "symbol": "circle"
           },
           "mode": "markers",
           "name": "NOR",
           "orientation": "v",
           "showlegend": true,
           "type": "scatter",
           "x": [
            69.4
           ],
           "xaxis": "x",
           "y": [
            43540
           ],
           "yaxis": "y"
          },
          {
           "hovertemplate": "<b>%{hovertext}</b><br><br>ISO3=PRT<br>year=2006<br>Healthy life expectancy at birth=%{x}<br>money=%{marker.size}<extra></extra>",
           "hovertext": [
            "Portugal"
           ],
           "legendgroup": "PRT",
           "marker": {
            "color": "#FF97FF",
            "size": [
             30215.47
            ],
            "sizemode": "area",
            "sizeref": 197.2357,
            "symbol": "circle"
           },
           "mode": "markers",
           "name": "PRT",
           "orientation": "v",
           "showlegend": true,
           "type": "scatter",
           "x": [
            68.34
           ],
           "xaxis": "x",
           "y": [
            30215.47
           ],
           "yaxis": "y"
          },
          {
           "hovertemplate": "<b>%{hovertext}</b><br><br>ISO3=SVK<br>year=2006<br>Healthy life expectancy at birth=%{x}<br>money=%{marker.size}<extra></extra>",
           "hovertext": [
            "Slovakia"
           ],
           "legendgroup": "SVK",
           "marker": {
            "color": "#FECB52",
            "size": [
             19561
            ],
            "sizemode": "area",
            "sizeref": 197.2357,
            "symbol": "circle"
           },
           "mode": "markers",
           "name": "SVK",
           "orientation": "v",
           "showlegend": true,
           "type": "scatter",
           "x": [
            65.62
           ],
           "xaxis": "x",
           "y": [
            19561
           ],
           "yaxis": "y"
          },
          {
           "hovertemplate": "<b>%{hovertext}</b><br><br>ISO3=SVN<br>year=2006<br>Healthy life expectancy at birth=%{x}<br>money=%{marker.size}<extra></extra>",
           "hovertext": [
            "Slovenia"
           ],
           "legendgroup": "SVN",
           "marker": {
            "color": "#636efa",
            "size": [
             39774.48
            ],
            "sizemode": "area",
            "sizeref": 197.2357,
            "symbol": "circle"
           },
           "mode": "markers",
           "name": "SVN",
           "orientation": "v",
           "showlegend": true,
           "type": "scatter",
           "x": [
            68.56
           ],
           "xaxis": "x",
           "y": [
            39774.48
           ],
           "yaxis": "y"
          },
          {
           "hovertemplate": "<b>%{hovertext}</b><br><br>ISO3=CHE<br>year=2006<br>Healthy life expectancy at birth=%{x}<br>money=%{marker.size}<extra></extra>",
           "hovertext": [
            "Switzerland"
           ],
           "legendgroup": "CHE",
           "marker": {
            "color": "#EF553B",
            "size": [
             65847
            ],
            "sizemode": "area",
            "sizeref": 197.2357,
            "symbol": "circle"
           },
           "mode": "markers",
           "name": "CHE",
           "orientation": "v",
           "showlegend": true,
           "type": "scatter",
           "x": [
            71.16
           ],
           "xaxis": "x",
           "y": [
            65847
           ],
           "yaxis": "y"
          },
          {
           "hovertemplate": "<b>%{hovertext}</b><br><br>ISO3=USA<br>year=2006<br>Healthy life expectancy at birth=%{x}<br>money=%{marker.size}<extra></extra>",
           "hovertext": [
            "United States"
           ],
           "legendgroup": "USA",
           "marker": {
            "color": "#00cc96",
            "size": [
             64945
            ],
            "sizemode": "area",
            "sizeref": 197.2357,
            "symbol": "circle"
           },
           "mode": "markers",
           "name": "USA",
           "orientation": "v",
           "showlegend": true,
           "type": "scatter",
           "x": [
            66.78
           ],
           "xaxis": "x",
           "y": [
            64945
           ],
           "yaxis": "y"
          }
         ],
         "name": "2006"
        },
        {
         "data": [
          {
           "hovertemplate": "<b>%{hovertext}</b><br><br>ISO3=AUS<br>year=2007<br>Healthy life expectancy at birth=%{x}<br>money=%{marker.size}<extra></extra>",
           "hovertext": [
            "Australia"
           ],
           "legendgroup": "AUS",
           "marker": {
            "color": "#636efa",
            "size": [
             53805
            ],
            "sizemode": "area",
            "sizeref": 197.2357,
            "symbol": "circle"
           },
           "mode": "markers",
           "name": "AUS",
           "orientation": "v",
           "showlegend": true,
           "type": "scatter",
           "x": [
            69.96
           ],
           "xaxis": "x",
           "y": [
            53805
           ],
           "yaxis": "y"
          },
          {
           "hovertemplate": "<b>%{hovertext}</b><br><br>ISO3=BEL<br>year=2007<br>Healthy life expectancy at birth=%{x}<br>money=%{marker.size}<extra></extra>",
           "hovertext": [
            "Belgium"
           ],
           "legendgroup": "BEL",
           "marker": {
            "color": "#EF553B",
            "size": [
             62446
            ],
            "sizemode": "area",
            "sizeref": 197.2357,
            "symbol": "circle"
           },
           "mode": "markers",
           "name": "BEL",
           "orientation": "v",
           "showlegend": true,
           "type": "scatter",
           "x": [
            68.72
           ],
           "xaxis": "x",
           "y": [
            62446
           ],
           "yaxis": "y"
          },
          {
           "hovertemplate": "<b>%{hovertext}</b><br><br>ISO3=CAN<br>year=2007<br>Healthy life expectancy at birth=%{x}<br>money=%{marker.size}<extra></extra>",
           "hovertext": [
            "Canada"
           ],
           "legendgroup": "CAN",
           "marker": {
            "color": "#00cc96",
            "size": [
             51127
            ],
            "sizemode": "area",
            "sizeref": 197.2357,
            "symbol": "circle"
           },
           "mode": "markers",
           "name": "CAN",
           "orientation": "v",
           "showlegend": true,
           "type": "scatter",
           "x": [
            70.62
           ],
           "xaxis": "x",
           "y": [
            51127
           ],
           "yaxis": "y"
          },
          {
           "hovertemplate": "<b>%{hovertext}</b><br><br>ISO3=CZE<br>year=2007<br>Healthy life expectancy at birth=%{x}<br>money=%{marker.size}<extra></extra>",
           "hovertext": [
            "Czech Republic"
           ],
           "legendgroup": "CZE",
           "marker": {
            "color": "#ab63fa",
            "size": [
             27757
            ],
            "sizemode": "area",
            "sizeref": 197.2357,
            "symbol": "circle"
           },
           "mode": "markers",
           "name": "CZE",
           "orientation": "v",
           "showlegend": true,
           "type": "scatter",
           "x": [
            67.34
           ],
           "xaxis": "x",
           "y": [
            27757
           ],
           "yaxis": "y"
          },
          {
           "hovertemplate": "<b>%{hovertext}</b><br><br>ISO3=DNK<br>year=2007<br>Healthy life expectancy at birth=%{x}<br>money=%{marker.size}<extra></extra>",
           "hovertext": [
            "Denmark"
           ],
           "legendgroup": "DNK",
           "marker": {
            "color": "#FFA15A",
            "size": [
             58638
            ],
            "sizemode": "area",
            "sizeref": 197.2357,
            "symbol": "circle"
           },
           "mode": "markers",
           "name": "DNK",
           "orientation": "v",
           "showlegend": true,
           "type": "scatter",
           "x": [
            68.74
           ],
           "xaxis": "x",
           "y": [
            58638
           ],
           "yaxis": "y"
          },
          {
           "hovertemplate": "<b>%{hovertext}</b><br><br>ISO3=DEU<br>year=2007<br>Healthy life expectancy at birth=%{x}<br>money=%{marker.size}<extra></extra>",
           "hovertext": [
            "Germany"
           ],
           "legendgroup": "DEU",
           "marker": {
            "color": "#FF6692",
            "size": [
             52208
            ],
            "sizemode": "area",
            "sizeref": 197.2357,
            "symbol": "circle"
           },
           "mode": "markers",
           "name": "DEU",
           "orientation": "v",
           "showlegend": true,
           "type": "scatter",
           "x": [
            69.94
           ],
           "xaxis": "x",
           "y": [
            52208
           ],
           "yaxis": "y"
          },
          {
           "hovertemplate": "<b>%{hovertext}</b><br><br>ISO3=GRC<br>year=2007<br>Healthy life expectancy at birth=%{x}<br>money=%{marker.size}<extra></extra>",
           "hovertext": [
            "Greece"
           ],
           "legendgroup": "GRC",
           "marker": {
            "color": "#B6E880",
            "size": [
             36033.46
            ],
            "sizemode": "area",
            "sizeref": 197.2357,
            "symbol": "circle"
           },
           "mode": "markers",
           "name": "GRC",
           "orientation": "v",
           "showlegend": true,
           "type": "scatter",
           "x": [
            69.76
           ],
           "xaxis": "x",
           "y": [
            36033.46
           ],
           "yaxis": "y"
          },
          {
           "hovertemplate": "<b>%{hovertext}</b><br><br>ISO3=HUN<br>year=2007<br>Healthy life expectancy at birth=%{x}<br>money=%{marker.size}<extra></extra>",
           "hovertext": [
            "Hungary"
           ],
           "legendgroup": "HUN",
           "marker": {
            "color": "#FF97FF",
            "size": [
             24783
            ],
            "sizemode": "area",
            "sizeref": 197.2357,
            "symbol": "circle"
           },
           "mode": "markers",
           "name": "HUN",
           "orientation": "v",
           "showlegend": true,
           "type": "scatter",
           "x": [
            65.32
           ],
           "xaxis": "x",
           "y": [
            24783
           ],
           "yaxis": "y"
          },
          {
           "hovertemplate": "<b>%{hovertext}</b><br><br>ISO3=ITA<br>year=2007<br>Healthy life expectancy at birth=%{x}<br>money=%{marker.size}<extra></extra>",
           "hovertext": [
            "Italy"
           ],
           "legendgroup": "ITA",
           "marker": {
            "color": "#FECB52",
            "size": [
             46928
            ],
            "sizemode": "area",
            "sizeref": 197.2357,
            "symbol": "circle"
           },
           "mode": "markers",
           "name": "ITA",
           "orientation": "v",
           "showlegend": true,
           "type": "scatter",
           "x": [
            70.8
           ],
           "xaxis": "x",
           "y": [
            46928
           ],
           "yaxis": "y"
          },
          {
           "hovertemplate": "<b>%{hovertext}</b><br><br>ISO3=JPN<br>year=2007<br>Healthy life expectancy at birth=%{x}<br>money=%{marker.size}<extra></extra>",
           "hovertext": [
            "Japan"
           ],
           "legendgroup": "JPN",
           "marker": {
            "color": "#636efa",
            "size": [
             41799
            ],
            "sizemode": "area",
            "sizeref": 197.2357,
            "symbol": "circle"
           },
           "mode": "markers",
           "name": "JPN",
           "orientation": "v",
           "showlegend": true,
           "type": "scatter",
           "x": [
            72.64
           ],
           "xaxis": "x",
           "y": [
            41799
           ],
           "yaxis": "y"
          },
          {
           "hovertemplate": "<b>%{hovertext}</b><br><br>ISO3=MEX<br>year=2007<br>Healthy life expectancy at birth=%{x}<br>money=%{marker.size}<extra></extra>",
           "hovertext": [
            "Mexico"
           ],
           "legendgroup": "MEX",
           "marker": {
            "color": "#EF553B",
            "size": [
             18818
            ],
            "sizemode": "area",
            "sizeref": 197.2357,
            "symbol": "circle"
           },
           "mode": "markers",
           "name": "MEX",
           "orientation": "v",
           "showlegend": true,
           "type": "scatter",
           "x": [
            64.68
           ],
           "xaxis": "x",
           "y": [
            18818
           ],
           "yaxis": "y"
          },
          {
           "hovertemplate": "<b>%{hovertext}</b><br><br>ISO3=NLD<br>year=2007<br>Healthy life expectancy at birth=%{x}<br>money=%{marker.size}<extra></extra>",
           "hovertext": [
            "Netherlands"
           ],
           "legendgroup": "NLD",
           "marker": {
            "color": "#00cc96",
            "size": [
             63276
            ],
            "sizemode": "area",
            "sizeref": 197.2357,
            "symbol": "circle"
           },
           "mode": "markers",
           "name": "NLD",
           "orientation": "v",
           "showlegend": true,
           "type": "scatter",
           "x": [
            70.78
           ],
           "xaxis": "x",
           "y": [
            63276
           ],
           "yaxis": "y"
          },
          {
           "hovertemplate": "<b>%{hovertext}</b><br><br>ISO3=POL<br>year=2007<br>Healthy life expectancy at birth=%{x}<br>money=%{marker.size}<extra></extra>",
           "hovertext": [
            "Poland"
           ],
           "legendgroup": "POL",
           "marker": {
            "color": "#ab63fa",
            "size": [
             25663.7
            ],
            "sizemode": "area",
            "sizeref": 197.2357,
            "symbol": "circle"
           },
           "mode": "markers",
           "name": "POL",
           "orientation": "v",
           "showlegend": true,
           "type": "scatter",
           "x": [
            66.56
           ],
           "xaxis": "x",
           "y": [
            25663.7
           ],
           "yaxis": "y"
          },
          {
           "hovertemplate": "<b>%{hovertext}</b><br><br>ISO3=ESP<br>year=2007<br>Healthy life expectancy at birth=%{x}<br>money=%{marker.size}<extra></extra>",
           "hovertext": [
            "Spain"
           ],
           "legendgroup": "ESP",
           "marker": {
            "color": "#FFA15A",
            "size": [
             42692
            ],
            "sizemode": "area",
            "sizeref": 197.2357,
            "symbol": "circle"
           },
           "mode": "markers",
           "name": "ESP",
           "orientation": "v",
           "showlegend": true,
           "type": "scatter",
           "x": [
            70.64
           ],
           "xaxis": "x",
           "y": [
            42692
           ],
           "yaxis": "y"
          },
          {
           "hovertemplate": "<b>%{hovertext}</b><br><br>ISO3=SWE<br>year=2007<br>Healthy life expectancy at birth=%{x}<br>money=%{marker.size}<extra></extra>",
           "hovertext": [
            "Sweden"
           ],
           "legendgroup": "SWE",
           "marker": {
            "color": "#19d3f3",
            "size": [
             43779
            ],
            "sizemode": "area",
            "sizeref": 197.2357,
            "symbol": "circle"
           },
           "mode": "markers",
           "name": "SWE",
           "orientation": "v",
           "showlegend": true,
           "type": "scatter",
           "x": [
            71.08
           ],
           "xaxis": "x",
           "y": [
            43779
           ],
           "yaxis": "y"
          },
          {
           "hovertemplate": "<b>%{hovertext}</b><br><br>ISO3=GBR<br>year=2007<br>Healthy life expectancy at birth=%{x}<br>money=%{marker.size}<extra></extra>",
           "hovertext": [
            "United Kingdom"
           ],
           "legendgroup": "GBR",
           "marker": {
            "color": "#FF6692",
            "size": [
             53926
            ],
            "sizemode": "area",
            "sizeref": 197.2357,
            "symbol": "circle"
           },
           "mode": "markers",
           "name": "GBR",
           "orientation": "v",
           "showlegend": true,
           "type": "scatter",
           "x": [
            69.22
           ],
           "xaxis": "x",
           "y": [
            53926
           ],
           "yaxis": "y"
          },
          {
           "hovertemplate": "<b>%{hovertext}</b><br><br>ISO3=CHL<br>year=2007<br>Healthy life expectancy at birth=%{x}<br>money=%{marker.size}<extra></extra>",
           "hovertext": [
            "Chile"
           ],
           "legendgroup": "CHL",
           "marker": {
            "color": "#FF97FF",
            "size": [
             22100.34
            ],
            "sizemode": "area",
            "sizeref": 197.2357,
            "symbol": "circle"
           },
           "mode": "markers",
           "name": "CHL",
           "orientation": "v",
           "showlegend": true,
           "type": "scatter",
           "x": [
            67.96
           ],
           "xaxis": "x",
           "y": [
            22100.34
           ],
           "yaxis": "y"
          },
          {
           "hovertemplate": "<b>%{hovertext}</b><br><br>ISO3=CRI<br>year=2007<br>Healthy life expectancy at birth=%{x}<br>money=%{marker.size}<extra></extra>",
           "hovertext": [
            "Costa Rica"
           ],
           "legendgroup": "CRI",
           "marker": {
            "color": "#FECB52",
            "size": [
             12378.14
            ],
            "sizemode": "area",
            "sizeref": 197.2357,
            "symbol": "circle"
           },
           "mode": "markers",
           "name": "CRI",
           "orientation": "v",
           "showlegend": true,
           "type": "scatter",
           "x": [
            68.72
           ],
           "xaxis": "x",
           "y": [
            12378.14
           ],
           "yaxis": "y"
          },
          {
           "hovertemplate": "<b>%{hovertext}</b><br><br>ISO3=EST<br>year=2007<br>Healthy life expectancy at birth=%{x}<br>money=%{marker.size}<extra></extra>",
           "hovertext": [
            "Estonia"
           ],
           "legendgroup": "EST",
           "marker": {
            "color": "#636efa",
            "size": [
             25012
            ],
            "sizemode": "area",
            "sizeref": 197.2357,
            "symbol": "circle"
           },
           "mode": "markers",
           "name": "EST",
           "orientation": "v",
           "showlegend": true,
           "type": "scatter",
           "x": [
            66.06
           ],
           "xaxis": "x",
           "y": [
            25012
           ],
           "yaxis": "y"
          },
          {
           "hovertemplate": "<b>%{hovertext}</b><br><br>ISO3=ISR<br>year=2007<br>Healthy life expectancy at birth=%{x}<br>money=%{marker.size}<extra></extra>",
           "hovertext": [
            "Israel"
           ],
           "legendgroup": "ISR",
           "marker": {
            "color": "#ab63fa",
            "size": [
             36502
            ],
            "sizemode": "area",
            "sizeref": 197.2357,
            "symbol": "circle"
           },
           "mode": "markers",
           "name": "ISR",
           "orientation": "v",
           "showlegend": true,
           "type": "scatter",
           "x": [
            71.16
           ],
           "xaxis": "x",
           "y": [
            36502
           ],
           "yaxis": "y"
          },
          {
           "hovertemplate": "<b>%{hovertext}</b><br><br>ISO3=LVA<br>year=2007<br>Healthy life expectancy at birth=%{x}<br>money=%{marker.size}<extra></extra>",
           "hovertext": [
            "Latvia"
           ],
           "legendgroup": "LVA",
           "marker": {
            "color": "#FFA15A",
            "size": [
             24721
            ],
            "sizemode": "area",
            "sizeref": 197.2357,
            "symbol": "circle"
           },
           "mode": "markers",
           "name": "LVA",
           "orientation": "v",
           "showlegend": true,
           "type": "scatter",
           "x": [
            63.4
           ],
           "xaxis": "x",
           "y": [
            24721
           ],
           "yaxis": "y"
          },
          {
           "hovertemplate": "<b>%{hovertext}</b><br><br>ISO3=LTU<br>year=2007<br>Healthy life expectancy at birth=%{x}<br>money=%{marker.size}<extra></extra>",
           "hovertext": [
            "Lithuania"
           ],
           "legendgroup": "LTU",
           "marker": {
            "color": "#19d3f3",
            "size": [
             31928.6
            ],
            "sizemode": "area",
            "sizeref": 197.2357,
            "symbol": "circle"
           },
           "mode": "markers",
           "name": "LTU",
           "orientation": "v",
           "showlegend": true,
           "type": "scatter",
           "x": [
            63.7
           ],
           "xaxis": "x",
           "y": [
            31928.6
           ],
           "yaxis": "y"
          },
          {
           "hovertemplate": "<b>%{hovertext}</b><br><br>ISO3=NZL<br>year=2007<br>Healthy life expectancy at birth=%{x}<br>money=%{marker.size}<extra></extra>",
           "hovertext": [
            "New Zealand"
           ],
           "legendgroup": "NZL",
           "marker": {
            "color": "#FF6692",
            "size": [
             43973
            ],
            "sizemode": "area",
            "sizeref": 197.2357,
            "symbol": "circle"
           },
           "mode": "markers",
           "name": "NZL",
           "orientation": "v",
           "showlegend": true,
           "type": "scatter",
           "x": [
            69.74
           ],
           "xaxis": "x",
           "y": [
            43973
           ],
           "yaxis": "y"
          },
          {
           "hovertemplate": "<b>%{hovertext}</b><br><br>ISO3=USA<br>year=2007<br>Healthy life expectancy at birth=%{x}<br>money=%{marker.size}<extra></extra>",
           "hovertext": [
            "United States"
           ],
           "legendgroup": "USA",
           "marker": {
            "color": "#00cc96",
            "size": [
             66174
            ],
            "sizemode": "area",
            "sizeref": 197.2357,
            "symbol": "circle"
           },
           "mode": "markers",
           "name": "USA",
           "orientation": "v",
           "showlegend": true,
           "type": "scatter",
           "x": [
            66.76
           ],
           "xaxis": "x",
           "y": [
            66174
           ],
           "yaxis": "y"
          },
          {
           "hovertemplate": "<b>%{hovertext}</b><br><br>ISO3=TUR<br>year=2007<br>Healthy life expectancy at birth=%{x}<br>money=%{marker.size}<extra></extra>",
           "hovertext": [
            "Turkey"
           ],
           "legendgroup": "TUR",
           "marker": {
            "color": "#ab63fa",
            "size": [
             22169.65
            ],
            "sizemode": "area",
            "sizeref": 197.2357,
            "symbol": "circle"
           },
           "mode": "markers",
           "name": "TUR",
           "orientation": "v",
           "showlegend": true,
           "type": "scatter",
           "x": [
            66.42
           ],
           "xaxis": "x",
           "y": [
            22169.65
           ],
           "yaxis": "y"
          }
         ],
         "name": "2007"
        },
        {
         "data": [
          {
           "hovertemplate": "<b>%{hovertext}</b><br><br>ISO3=AUS<br>year=2008<br>Healthy life expectancy at birth=%{x}<br>money=%{marker.size}<extra></extra>",
           "hovertext": [
            "Australia"
           ],
           "legendgroup": "AUS",
           "marker": {
            "color": "#636efa",
            "size": [
             54149
            ],
            "sizemode": "area",
            "sizeref": 197.2357,
            "symbol": "circle"
           },
           "mode": "markers",
           "name": "AUS",
           "orientation": "v",
           "showlegend": true,
           "type": "scatter",
           "x": [
            70.04
           ],
           "xaxis": "x",
           "y": [
            54149
           ],
           "yaxis": "y"
          },
          {
           "hovertemplate": "<b>%{hovertext}</b><br><br>ISO3=BEL<br>year=2008<br>Healthy life expectancy at birth=%{x}<br>money=%{marker.size}<extra></extra>",
           "hovertext": [
            "Belgium"
           ],
           "legendgroup": "BEL",
           "marker": {
            "color": "#EF553B",
            "size": [
             62715
            ],
            "sizemode": "area",
            "sizeref": 197.2357,
            "symbol": "circle"
           },
           "mode": "markers",
           "name": "BEL",
           "orientation": "v",
           "showlegend": true,
           "type": "scatter",
           "x": [
            68.88
           ],
           "xaxis": "x",
           "y": [
            62715
           ],
           "yaxis": "y"
          },
          {
           "hovertemplate": "<b>%{hovertext}</b><br><br>ISO3=CAN<br>year=2008<br>Healthy life expectancy at birth=%{x}<br>money=%{marker.size}<extra></extra>",
           "hovertext": [
            "Canada"
           ],
           "legendgroup": "CAN",
           "marker": {
            "color": "#00cc96",
            "size": [
             52025
            ],
            "sizemode": "area",
            "sizeref": 197.2357,
            "symbol": "circle"
           },
           "mode": "markers",
           "name": "CAN",
           "orientation": "v",
           "showlegend": true,
           "type": "scatter",
           "x": [
            70.68
           ],
           "xaxis": "x",
           "y": [
            52025
           ],
           "yaxis": "y"
          },
          {
           "hovertemplate": "<b>%{hovertext}</b><br><br>ISO3=DNK<br>year=2008<br>Healthy life expectancy at birth=%{x}<br>money=%{marker.size}<extra></extra>",
           "hovertext": [
            "Denmark"
           ],
           "legendgroup": "DNK",
           "marker": {
            "color": "#FFA15A",
            "size": [
             59414
            ],
            "sizemode": "area",
            "sizeref": 197.2357,
            "symbol": "circle"
           },
           "mode": "markers",
           "name": "DNK",
           "orientation": "v",
           "showlegend": true,
           "type": "scatter",
           "x": [
            68.96
           ],
           "xaxis": "x",
           "y": [
            59414
           ],
           "yaxis": "y"
          },
          {
           "hovertemplate": "<b>%{hovertext}</b><br><br>ISO3=FRA<br>year=2008<br>Healthy life expectancy at birth=%{x}<br>money=%{marker.size}<extra></extra>",
           "hovertext": [
            "France"
           ],
           "legendgroup": "FRA",
           "marker": {
            "color": "#19d3f3",
            "size": [
             47429
            ],
            "sizemode": "area",
            "sizeref": 197.2357,
            "symbol": "circle"
           },
           "mode": "markers",
           "name": "FRA",
           "orientation": "v",
           "showlegend": true,
           "type": "scatter",
           "x": [
            71
           ],
           "xaxis": "x",
           "y": [
            47429
           ],
           "yaxis": "y"
          },
          {
           "hovertemplate": "<b>%{hovertext}</b><br><br>ISO3=DEU<br>year=2008<br>Healthy life expectancy at birth=%{x}<br>money=%{marker.size}<extra></extra>",
           "hovertext": [
            "Germany"
           ],
           "legendgroup": "DEU",
           "marker": {
            "color": "#FF6692",
            "size": [
             52442
            ],
            "sizemode": "area",
            "sizeref": 197.2357,
            "symbol": "circle"
           },
           "mode": "markers",
           "name": "DEU",
           "orientation": "v",
           "showlegend": true,
           "type": "scatter",
           "x": [
            69.96
           ],
           "xaxis": "x",
           "y": [
            52442
           ],
           "yaxis": "y"
          },
          {
           "hovertemplate": "<b>%{hovertext}</b><br><br>ISO3=ITA<br>year=2008<br>Healthy life expectancy at birth=%{x}<br>money=%{marker.size}<extra></extra>",
           "hovertext": [
            "Italy"
           ],
           "legendgroup": "ITA",
           "marker": {
            "color": "#FECB52",
            "size": [
             46864.48
            ],
            "sizemode": "area",
            "sizeref": 197.2357,
            "symbol": "circle"
           },
           "mode": "markers",
           "name": "ITA",
           "orientation": "v",
           "showlegend": true,
           "type": "scatter",
           "x": [
            70.9
           ],
           "xaxis": "x",
           "y": [
            46864.48
           ],
           "yaxis": "y"
          },
          {
           "hovertemplate": "<b>%{hovertext}</b><br><br>ISO3=JPN<br>year=2008<br>Healthy life expectancy at birth=%{x}<br>money=%{marker.size}<extra></extra>",
           "hovertext": [
            "Japan"
           ],
           "legendgroup": "JPN",
           "marker": {
            "color": "#636efa",
            "size": [
             41463
            ],
            "sizemode": "area",
            "sizeref": 197.2357,
            "symbol": "circle"
           },
           "mode": "markers",
           "name": "JPN",
           "orientation": "v",
           "showlegend": true,
           "type": "scatter",
           "x": [
            72.76
           ],
           "xaxis": "x",
           "y": [
            41463
           ],
           "yaxis": "y"
          },
          {
           "hovertemplate": "<b>%{hovertext}</b><br><br>ISO3=MEX<br>year=2008<br>Healthy life expectancy at birth=%{x}<br>money=%{marker.size}<extra></extra>",
           "hovertext": [
            "Mexico"
           ],
           "legendgroup": "MEX",
           "marker": {
            "color": "#EF553B",
            "size": [
             18656
            ],
            "sizemode": "area",
            "sizeref": 197.2357,
            "symbol": "circle"
           },
           "mode": "markers",
           "name": "MEX",
           "orientation": "v",
           "showlegend": true,
           "type": "scatter",
           "x": [
            64.82
           ],
           "xaxis": "x",
           "y": [
            18656
           ],
           "yaxis": "y"
          },
          {
           "hovertemplate": "<b>%{hovertext}</b><br><br>ISO3=NLD<br>year=2008<br>Healthy life expectancy at birth=%{x}<br>money=%{marker.size}<extra></extra>",
           "hovertext": [
            "Netherlands"
           ],
           "legendgroup": "NLD",
           "marker": {
            "color": "#00cc96",
            "size": [
             63660
            ],
            "sizemode": "area",
            "sizeref": 197.2357,
            "symbol": "circle"
           },
           "mode": "markers",
           "name": "NLD",
           "orientation": "v",
           "showlegend": true,
           "type": "scatter",
           "x": [
            70.82
           ],
           "xaxis": "x",
           "y": [
            63660
           ],
           "yaxis": "y"
          },
          {
           "hovertemplate": "<b>%{hovertext}</b><br><br>ISO3=ESP<br>year=2008<br>Healthy life expectancy at birth=%{x}<br>money=%{marker.size}<extra></extra>",
           "hovertext": [
            "Spain"
           ],
           "legendgroup": "ESP",
           "marker": {
            "color": "#FFA15A",
            "size": [
             44201
            ],
            "sizemode": "area",
            "sizeref": 197.2357,
            "symbol": "circle"
           },
           "mode": "markers",
           "name": "ESP",
           "orientation": "v",
           "showlegend": true,
           "type": "scatter",
           "x": [
            70.76
           ],
           "xaxis": "x",
           "y": [
            44201
           ],
           "yaxis": "y"
          },
          {
           "hovertemplate": "<b>%{hovertext}</b><br><br>ISO3=SWE<br>year=2008<br>Healthy life expectancy at birth=%{x}<br>money=%{marker.size}<extra></extra>",
           "hovertext": [
            "Sweden"
           ],
           "legendgroup": "SWE",
           "marker": {
            "color": "#19d3f3",
            "size": [
             44635
            ],
            "sizemode": "area",
            "sizeref": 197.2357,
            "symbol": "circle"
           },
           "mode": "markers",
           "name": "SWE",
           "orientation": "v",
           "showlegend": true,
           "type": "scatter",
           "x": [
            71.12
           ],
           "xaxis": "x",
           "y": [
            44635
           ],
           "yaxis": "y"
          },
          {
           "hovertemplate": "<b>%{hovertext}</b><br><br>ISO3=GBR<br>year=2008<br>Healthy life expectancy at birth=%{x}<br>money=%{marker.size}<extra></extra>",
           "hovertext": [
            "United Kingdom"
           ],
           "legendgroup": "GBR",
           "marker": {
            "color": "#FF6692",
            "size": [
             52475
            ],
            "sizemode": "area",
            "sizeref": 197.2357,
            "symbol": "circle"
           },
           "mode": "markers",
           "name": "GBR",
           "orientation": "v",
           "showlegend": true,
           "type": "scatter",
           "x": [
            69.28
           ],
           "xaxis": "x",
           "y": [
            52475
           ],
           "yaxis": "y"
          },
          {
           "hovertemplate": "<b>%{hovertext}</b><br><br>ISO3=AUT<br>year=2008<br>Healthy life expectancy at birth=%{x}<br>money=%{marker.size}<extra></extra>",
           "hovertext": [
            "Austria"
           ],
           "legendgroup": "AUT",
           "marker": {
            "color": "#B6E880",
            "size": [
             62081
            ],
            "sizemode": "area",
            "sizeref": 197.2357,
            "symbol": "circle"
           },
           "mode": "markers",
           "name": "AUT",
           "orientation": "v",
           "showlegend": true,
           "type": "scatter",
           "x": [
            69.7
           ],
           "xaxis": "x",
           "y": [
            62081
           ],
           "yaxis": "y"
          },
          {
           "hovertemplate": "<b>%{hovertext}</b><br><br>ISO3=CHL<br>year=2008<br>Healthy life expectancy at birth=%{x}<br>money=%{marker.size}<extra></extra>",
           "hovertext": [
            "Chile"
           ],
           "legendgroup": "CHL",
           "marker": {
            "color": "#FF97FF",
            "size": [
             22504.53
            ],
            "sizemode": "area",
            "sizeref": 197.2357,
            "symbol": "circle"
           },
           "mode": "markers",
           "name": "CHL",
           "orientation": "v",
           "showlegend": true,
           "type": "scatter",
           "x": [
            68.14
           ],
           "xaxis": "x",
           "y": [
            22504.53
           ],
           "yaxis": "y"
          },
          {
           "hovertemplate": "<b>%{hovertext}</b><br><br>ISO3=CRI<br>year=2008<br>Healthy life expectancy at birth=%{x}<br>money=%{marker.size}<extra></extra>",
           "hovertext": [
            "Costa Rica"
           ],
           "legendgroup": "CRI",
           "marker": {
            "color": "#FECB52",
            "size": [
             14052.17
            ],
            "sizemode": "area",
            "sizeref": 197.2357,
            "symbol": "circle"
           },
           "mode": "markers",
           "name": "CRI",
           "orientation": "v",
           "showlegend": true,
           "type": "scatter",
           "x": [
            68.88
           ],
           "xaxis": "x",
           "y": [
            14052.17
           ],
           "yaxis": "y"
          },
          {
           "hovertemplate": "<b>%{hovertext}</b><br><br>ISO3=EST<br>year=2008<br>Healthy life expectancy at birth=%{x}<br>money=%{marker.size}<extra></extra>",
           "hovertext": [
            "Estonia"
           ],
           "legendgroup": "EST",
           "marker": {
            "color": "#636efa",
            "size": [
             25382.4
            ],
            "sizemode": "area",
            "sizeref": 197.2357,
            "symbol": "circle"
           },
           "mode": "markers",
           "name": "EST",
           "orientation": "v",
           "showlegend": true,
           "type": "scatter",
           "x": [
            66.34
           ],
           "xaxis": "x",
           "y": [
            25382.4
           ],
           "yaxis": "y"
          },
          {
           "hovertemplate": "<b>%{hovertext}</b><br><br>ISO3=FIN<br>year=2008<br>Healthy life expectancy at birth=%{x}<br>money=%{marker.size}<extra></extra>",
           "hovertext": [
            "Finland"
           ],
           "legendgroup": "FIN",
           "marker": {
            "color": "#EF553B",
            "size": [
             48809
            ],
            "sizemode": "area",
            "sizeref": 197.2357,
            "symbol": "circle"
           },
           "mode": "markers",
           "name": "FIN",
           "orientation": "v",
           "showlegend": true,
           "type": "scatter",
           "x": [
            69.16
           ],
           "xaxis": "x",
           "y": [
            48809
           ],
           "yaxis": "y"
          },
          {
           "hovertemplate": "<b>%{hovertext}</b><br><br>ISO3=IRL<br>year=2008<br>Healthy life expectancy at birth=%{x}<br>money=%{marker.size}<extra></extra>",
           "hovertext": [
            "Ireland"
           ],
           "legendgroup": "IRL",
           "marker": {
            "color": "#00cc96",
            "size": [
             48089.5
            ],
            "sizemode": "area",
            "sizeref": 197.2357,
            "symbol": "circle"
           },
           "mode": "markers",
           "name": "IRL",
           "orientation": "v",
           "showlegend": true,
           "type": "scatter",
           "x": [
            69.86
           ],
           "xaxis": "x",
           "y": [
            48089.5
           ],
           "yaxis": "y"
          },
          {
           "hovertemplate": "<b>%{hovertext}</b><br><br>ISO3=ISR<br>year=2008<br>Healthy life expectancy at birth=%{x}<br>money=%{marker.size}<extra></extra>",
           "hovertext": [
            "Israel"
           ],
           "legendgroup": "ISR",
           "marker": {
            "color": "#ab63fa",
            "size": [
             35979
            ],
            "sizemode": "area",
            "sizeref": 197.2357,
            "symbol": "circle"
           },
           "mode": "markers",
           "name": "ISR",
           "orientation": "v",
           "showlegend": true,
           "type": "scatter",
           "x": [
            71.24
           ],
           "xaxis": "x",
           "y": [
            35979
           ],
           "yaxis": "y"
          },
          {
           "hovertemplate": "<b>%{hovertext}</b><br><br>ISO3=LVA<br>year=2008<br>Healthy life expectancy at birth=%{x}<br>money=%{marker.size}<extra></extra>",
           "hovertext": [
            "Latvia"
           ],
           "legendgroup": "LVA",
           "marker": {
            "color": "#FFA15A",
            "size": [
             25508.26
            ],
            "sizemode": "area",
            "sizeref": 197.2357,
            "symbol": "circle"
           },
           "mode": "markers",
           "name": "LVA",
           "orientation": "v",
           "showlegend": true,
           "type": "scatter",
           "x": [
            63.7
           ],
           "xaxis": "x",
           "y": [
            25508.26
           ],
           "yaxis": "y"
          },
          {
           "hovertemplate": "<b>%{hovertext}</b><br><br>ISO3=LTU<br>year=2008<br>Healthy life expectancy at birth=%{x}<br>money=%{marker.size}<extra></extra>",
           "hovertext": [
            "Lithuania"
           ],
           "legendgroup": "LTU",
           "marker": {
            "color": "#19d3f3",
            "size": [
             32512
            ],
            "sizemode": "area",
            "sizeref": 197.2357,
            "symbol": "circle"
           },
           "mode": "markers",
           "name": "LTU",
           "orientation": "v",
           "showlegend": true,
           "type": "scatter",
           "x": [
            63.9
           ],
           "xaxis": "x",
           "y": [
            32512
           ],
           "yaxis": "y"
          },
          {
           "hovertemplate": "<b>%{hovertext}</b><br><br>ISO3=NZL<br>year=2008<br>Healthy life expectancy at birth=%{x}<br>money=%{marker.size}<extra></extra>",
           "hovertext": [
            "New Zealand"
           ],
           "legendgroup": "NZL",
           "marker": {
            "color": "#FF6692",
            "size": [
             43463
            ],
            "sizemode": "area",
            "sizeref": 197.2357,
            "symbol": "circle"
           },
           "mode": "markers",
           "name": "NZL",
           "orientation": "v",
           "showlegend": true,
           "type": "scatter",
           "x": [
            69.76
           ],
           "xaxis": "x",
           "y": [
            43463
           ],
           "yaxis": "y"
          },
          {
           "hovertemplate": "<b>%{hovertext}</b><br><br>ISO3=NOR<br>year=2008<br>Healthy life expectancy at birth=%{x}<br>money=%{marker.size}<extra></extra>",
           "hovertext": [
            "Norway"
           ],
           "legendgroup": "NOR",
           "marker": {
            "color": "#B6E880",
            "size": [
             46429
            ],
            "sizemode": "area",
            "sizeref": 197.2357,
            "symbol": "circle"
           },
           "mode": "markers",
           "name": "NOR",
           "orientation": "v",
           "showlegend": true,
           "type": "scatter",
           "x": [
            69.8
           ],
           "xaxis": "x",
           "y": [
            46429
           ],
           "yaxis": "y"
          },
          {
           "hovertemplate": "<b>%{hovertext}</b><br><br>ISO3=PRT<br>year=2008<br>Healthy life expectancy at birth=%{x}<br>money=%{marker.size}<extra></extra>",
           "hovertext": [
            "Portugal"
           ],
           "legendgroup": "PRT",
           "marker": {
            "color": "#FF97FF",
            "size": [
             30315.49
            ],
            "sizemode": "area",
            "sizeref": 197.2357,
            "symbol": "circle"
           },
           "mode": "markers",
           "name": "PRT",
           "orientation": "v",
           "showlegend": true,
           "type": "scatter",
           "x": [
            68.82
           ],
           "xaxis": "x",
           "y": [
            30315.49
           ],
           "yaxis": "y"
          },
          {
           "hovertemplate": "<b>%{hovertext}</b><br><br>ISO3=USA<br>year=2008<br>Healthy life expectancy at birth=%{x}<br>money=%{marker.size}<extra></extra>",
           "hovertext": [
            "United States"
           ],
           "legendgroup": "USA",
           "marker": {
            "color": "#00cc96",
            "size": [
             66011
            ],
            "sizemode": "area",
            "sizeref": 197.2357,
            "symbol": "circle"
           },
           "mode": "markers",
           "name": "USA",
           "orientation": "v",
           "showlegend": true,
           "type": "scatter",
           "x": [
            66.74
           ],
           "xaxis": "x",
           "y": [
            66011
           ],
           "yaxis": "y"
          },
          {
           "hovertemplate": "<b>%{hovertext}</b><br><br>ISO3=TUR<br>year=2008<br>Healthy life expectancy at birth=%{x}<br>money=%{marker.size}<extra></extra>",
           "hovertext": [
            "Turkey"
           ],
           "legendgroup": "TUR",
           "marker": {
            "color": "#ab63fa",
            "size": [
             22042
            ],
            "sizemode": "area",
            "sizeref": 197.2357,
            "symbol": "circle"
           },
           "mode": "markers",
           "name": "TUR",
           "orientation": "v",
           "showlegend": true,
           "type": "scatter",
           "x": [
            66.58
           ],
           "xaxis": "x",
           "y": [
            22042
           ],
           "yaxis": "y"
          },
          {
           "hovertemplate": "<b>%{hovertext}</b><br><br>ISO3=ISL<br>year=2008<br>Healthy life expectancy at birth=%{x}<br>money=%{marker.size}<extra></extra>",
           "hovertext": [
            "Iceland"
           ],
           "legendgroup": "ISL",
           "marker": {
            "color": "#FFA15A",
            "size": [
             62292
            ],
            "sizemode": "area",
            "sizeref": 197.2357,
            "symbol": "circle"
           },
           "mode": "markers",
           "name": "ISL",
           "orientation": "v",
           "showlegend": true,
           "type": "scatter",
           "x": [
            71.2
           ],
           "xaxis": "x",
           "y": [
            62292
           ],
           "yaxis": "y"
          },
          {
           "hovertemplate": "<b>%{hovertext}</b><br><br>ISO3=KOR<br>year=2008<br>Healthy life expectancy at birth=%{x}<br>money=%{marker.size}<extra></extra>",
           "hovertext": [
            "Korea, Republic of",
            "South Korea"
           ],
           "legendgroup": "KOR",
           "marker": {
            "color": "#19d3f3",
            "size": [
             38914.39,
             38914.39
            ],
            "sizemode": "area",
            "sizeref": 197.2357,
            "symbol": "circle"
           },
           "mode": "markers",
           "name": "KOR",
           "orientation": "v",
           "showlegend": true,
           "type": "scatter",
           "x": [
            70.46,
            70.46
           ],
           "xaxis": "x",
           "y": [
            38914.39,
            38914.39
           ],
           "yaxis": "y"
          }
         ],
         "name": "2008"
        },
        {
         "data": [
          {
           "hovertemplate": "<b>%{hovertext}</b><br><br>ISO3=CAN<br>year=2009<br>Healthy life expectancy at birth=%{x}<br>money=%{marker.size}<extra></extra>",
           "hovertext": [
            "Canada"
           ],
           "legendgroup": "CAN",
           "marker": {
            "color": "#00cc96",
            "size": [
             52363
            ],
            "sizemode": "area",
            "sizeref": 197.2357,
            "symbol": "circle"
           },
           "mode": "markers",
           "name": "CAN",
           "orientation": "v",
           "showlegend": true,
           "type": "scatter",
           "x": [
            70.74
           ],
           "xaxis": "x",
           "y": [
            52363
           ],
           "yaxis": "y"
          },
          {
           "hovertemplate": "<b>%{hovertext}</b><br><br>ISO3=DNK<br>year=2009<br>Healthy life expectancy at birth=%{x}<br>money=%{marker.size}<extra></extra>",
           "hovertext": [
            "Denmark"
           ],
           "legendgroup": "DNK",
           "marker": {
            "color": "#FFA15A",
            "size": [
             60853
            ],
            "sizemode": "area",
            "sizeref": 197.2357,
            "symbol": "circle"
           },
           "mode": "markers",
           "name": "DNK",
           "orientation": "v",
           "showlegend": true,
           "type": "scatter",
           "x": [
            69.18
           ],
           "xaxis": "x",
           "y": [
            60853
           ],
           "yaxis": "y"
          },
          {
           "hovertemplate": "<b>%{hovertext}</b><br><br>ISO3=FRA<br>year=2009<br>Healthy life expectancy at birth=%{x}<br>money=%{marker.size}<extra></extra>",
           "hovertext": [
            "France"
           ],
           "legendgroup": "FRA",
           "marker": {
            "color": "#19d3f3",
            "size": [
             48938
            ],
            "sizemode": "area",
            "sizeref": 197.2357,
            "symbol": "circle"
           },
           "mode": "markers",
           "name": "FRA",
           "orientation": "v",
           "showlegend": true,
           "type": "scatter",
           "x": [
            71.1
           ],
           "xaxis": "x",
           "y": [
            48938
           ],
           "yaxis": "y"
          },
          {
           "hovertemplate": "<b>%{hovertext}</b><br><br>ISO3=DEU<br>year=2009<br>Healthy life expectancy at birth=%{x}<br>money=%{marker.size}<extra></extra>",
           "hovertext": [
            "Germany"
           ],
           "legendgroup": "DEU",
           "marker": {
            "color": "#FF6692",
            "size": [
             52453
            ],
            "sizemode": "area",
            "sizeref": 197.2357,
            "symbol": "circle"
           },
           "mode": "markers",
           "name": "DEU",
           "orientation": "v",
           "showlegend": true,
           "type": "scatter",
           "x": [
            69.98
           ],
           "xaxis": "x",
           "y": [
            52453
           ],
           "yaxis": "y"
          },
          {
           "hovertemplate": "<b>%{hovertext}</b><br><br>ISO3=GRC<br>year=2009<br>Healthy life expectancy at birth=%{x}<br>money=%{marker.size}<extra></extra>",
           "hovertext": [
            "Greece"
           ],
           "legendgroup": "GRC",
           "marker": {
            "color": "#B6E880",
            "size": [
             37151
            ],
            "sizemode": "area",
            "sizeref": 197.2357,
            "symbol": "circle"
           },
           "mode": "markers",
           "name": "GRC",
           "orientation": "v",
           "showlegend": true,
           "type": "scatter",
           "x": [
            69.92
           ],
           "xaxis": "x",
           "y": [
            37151
           ],
           "yaxis": "y"
          },
          {
           "hovertemplate": "<b>%{hovertext}</b><br><br>ISO3=HUN<br>year=2009<br>Healthy life expectancy at birth=%{x}<br>money=%{marker.size}<extra></extra>",
           "hovertext": [
            "Hungary"
           ],
           "legendgroup": "HUN",
           "marker": {
            "color": "#FF97FF",
            "size": [
             23692
            ],
            "sizemode": "area",
            "sizeref": 197.2357,
            "symbol": "circle"
           },
           "mode": "markers",
           "name": "HUN",
           "orientation": "v",
           "showlegend": true,
           "type": "scatter",
           "x": [
            65.64
           ],
           "xaxis": "x",
           "y": [
            23692
           ],
           "yaxis": "y"
          },
          {
           "hovertemplate": "<b>%{hovertext}</b><br><br>ISO3=ITA<br>year=2009<br>Healthy life expectancy at birth=%{x}<br>money=%{marker.size}<extra></extra>",
           "hovertext": [
            "Italy"
           ],
           "legendgroup": "ITA",
           "marker": {
            "color": "#FECB52",
            "size": [
             47224
            ],
            "sizemode": "area",
            "sizeref": 197.2357,
            "symbol": "circle"
           },
           "mode": "markers",
           "name": "ITA",
           "orientation": "v",
           "showlegend": true,
           "type": "scatter",
           "x": [
            71
           ],
           "xaxis": "x",
           "y": [
            47224
           ],
           "yaxis": "y"
          },
          {
           "hovertemplate": "<b>%{hovertext}</b><br><br>ISO3=JPN<br>year=2009<br>Healthy life expectancy at birth=%{x}<br>money=%{marker.size}<extra></extra>",
           "hovertext": [
            "Japan"
           ],
           "legendgroup": "JPN",
           "marker": {
            "color": "#636efa",
            "size": [
             40869
            ],
            "sizemode": "area",
            "sizeref": 197.2357,
            "symbol": "circle"
           },
           "mode": "markers",
           "name": "JPN",
           "orientation": "v",
           "showlegend": true,
           "type": "scatter",
           "x": [
            72.88
           ],
           "xaxis": "x",
           "y": [
            40869
           ],
           "yaxis": "y"
          },
          {
           "hovertemplate": "<b>%{hovertext}</b><br><br>ISO3=MEX<br>year=2009<br>Healthy life expectancy at birth=%{x}<br>money=%{marker.size}<extra></extra>",
           "hovertext": [
            "Mexico"
           ],
           "legendgroup": "MEX",
           "marker": {
            "color": "#EF553B",
            "size": [
             18806.33
            ],
            "sizemode": "area",
            "sizeref": 197.2357,
            "symbol": "circle"
           },
           "mode": "markers",
           "name": "MEX",
           "orientation": "v",
           "showlegend": true,
           "type": "scatter",
           "x": [
            64.96
           ],
           "xaxis": "x",
           "y": [
            18806.33
           ],
           "yaxis": "y"
          },
          {
           "hovertemplate": "<b>%{hovertext}</b><br><br>ISO3=POL<br>year=2009<br>Healthy life expectancy at birth=%{x}<br>money=%{marker.size}<extra></extra>",
           "hovertext": [
            "Poland"
           ],
           "legendgroup": "POL",
           "marker": {
            "color": "#ab63fa",
            "size": [
             26996.51
            ],
            "sizemode": "area",
            "sizeref": 197.2357,
            "symbol": "circle"
           },
           "mode": "markers",
           "name": "POL",
           "orientation": "v",
           "showlegend": true,
           "type": "scatter",
           "x": [
            66.92
           ],
           "xaxis": "x",
           "y": [
            26996.51
           ],
           "yaxis": "y"
          },
          {
           "hovertemplate": "<b>%{hovertext}</b><br><br>ISO3=ESP<br>year=2009<br>Healthy life expectancy at birth=%{x}<br>money=%{marker.size}<extra></extra>",
           "hovertext": [
            "Spain"
           ],
           "legendgroup": "ESP",
           "marker": {
            "color": "#FFA15A",
            "size": [
             46983
            ],
            "sizemode": "area",
            "sizeref": 197.2357,
            "symbol": "circle"
           },
           "mode": "markers",
           "name": "ESP",
           "orientation": "v",
           "showlegend": true,
           "type": "scatter",
           "x": [
            70.88
           ],
           "xaxis": "x",
           "y": [
            46983
           ],
           "yaxis": "y"
          },
          {
           "hovertemplate": "<b>%{hovertext}</b><br><br>ISO3=SWE<br>year=2009<br>Healthy life expectancy at birth=%{x}<br>money=%{marker.size}<extra></extra>",
           "hovertext": [
            "Sweden"
           ],
           "legendgroup": "SWE",
           "marker": {
            "color": "#19d3f3",
            "size": [
             44790
            ],
            "sizemode": "area",
            "sizeref": 197.2357,
            "symbol": "circle"
           },
           "mode": "markers",
           "name": "SWE",
           "orientation": "v",
           "showlegend": true,
           "type": "scatter",
           "x": [
            71.16
           ],
           "xaxis": "x",
           "y": [
            44790
           ],
           "yaxis": "y"
          },
          {
           "hovertemplate": "<b>%{hovertext}</b><br><br>ISO3=GBR<br>year=2009<br>Healthy life expectancy at birth=%{x}<br>money=%{marker.size}<extra></extra>",
           "hovertext": [
            "United Kingdom"
           ],
           "legendgroup": "GBR",
           "marker": {
            "color": "#FF6692",
            "size": [
             52346
            ],
            "sizemode": "area",
            "sizeref": 197.2357,
            "symbol": "circle"
           },
           "mode": "markers",
           "name": "GBR",
           "orientation": "v",
           "showlegend": true,
           "type": "scatter",
           "x": [
            69.34
           ],
           "xaxis": "x",
           "y": [
            52346
           ],
           "yaxis": "y"
          },
          {
           "hovertemplate": "<b>%{hovertext}</b><br><br>ISO3=CHL<br>year=2009<br>Healthy life expectancy at birth=%{x}<br>money=%{marker.size}<extra></extra>",
           "hovertext": [
            "Chile"
           ],
           "legendgroup": "CHL",
           "marker": {
            "color": "#FF97FF",
            "size": [
             24588.31
            ],
            "sizemode": "area",
            "sizeref": 197.2357,
            "symbol": "circle"
           },
           "mode": "markers",
           "name": "CHL",
           "orientation": "v",
           "showlegend": true,
           "type": "scatter",
           "x": [
            68.32
           ],
           "xaxis": "x",
           "y": [
            24588.31
           ],
           "yaxis": "y"
          },
          {
           "hovertemplate": "<b>%{hovertext}</b><br><br>ISO3=CRI<br>year=2009<br>Healthy life expectancy at birth=%{x}<br>money=%{marker.size}<extra></extra>",
           "hovertext": [
            "Costa Rica"
           ],
           "legendgroup": "CRI",
           "marker": {
            "color": "#FECB52",
            "size": [
             16404.81
            ],
            "sizemode": "area",
            "sizeref": 197.2357,
            "symbol": "circle"
           },
           "mode": "markers",
           "name": "CRI",
           "orientation": "v",
           "showlegend": true,
           "type": "scatter",
           "x": [
            69.04
           ],
           "xaxis": "x",
           "y": [
            16404.81
           ],
           "yaxis": "y"
          },
          {
           "hovertemplate": "<b>%{hovertext}</b><br><br>ISO3=EST<br>year=2009<br>Healthy life expectancy at birth=%{x}<br>money=%{marker.size}<extra></extra>",
           "hovertext": [
            "Estonia"
           ],
           "legendgroup": "EST",
           "marker": {
            "color": "#636efa",
            "size": [
             24704.34
            ],
            "sizemode": "area",
            "sizeref": 197.2357,
            "symbol": "circle"
           },
           "mode": "markers",
           "name": "EST",
           "orientation": "v",
           "showlegend": true,
           "type": "scatter",
           "x": [
            66.62
           ],
           "xaxis": "x",
           "y": [
            24704.34
           ],
           "yaxis": "y"
          },
          {
           "hovertemplate": "<b>%{hovertext}</b><br><br>ISO3=IRL<br>year=2009<br>Healthy life expectancy at birth=%{x}<br>money=%{marker.size}<extra></extra>",
           "hovertext": [
            "Ireland"
           ],
           "legendgroup": "IRL",
           "marker": {
            "color": "#00cc96",
            "size": [
             52639
            ],
            "sizemode": "area",
            "sizeref": 197.2357,
            "symbol": "circle"
           },
           "mode": "markers",
           "name": "IRL",
           "orientation": "v",
           "showlegend": true,
           "type": "scatter",
           "x": [
            69.98
           ],
           "xaxis": "x",
           "y": [
            52639
           ],
           "yaxis": "y"
          },
          {
           "hovertemplate": "<b>%{hovertext}</b><br><br>ISO3=ISR<br>year=2009<br>Healthy life expectancy at birth=%{x}<br>money=%{marker.size}<extra></extra>",
           "hovertext": [
            "Israel"
           ],
           "legendgroup": "ISR",
           "marker": {
            "color": "#ab63fa",
            "size": [
             34890
            ],
            "sizemode": "area",
            "sizeref": 197.2357,
            "symbol": "circle"
           },
           "mode": "markers",
           "name": "ISR",
           "orientation": "v",
           "showlegend": true,
           "type": "scatter",
           "x": [
            71.32
           ],
           "xaxis": "x",
           "y": [
            34890
           ],
           "yaxis": "y"
          },
          {
           "hovertemplate": "<b>%{hovertext}</b><br><br>ISO3=LVA<br>year=2009<br>Healthy life expectancy at birth=%{x}<br>money=%{marker.size}<extra></extra>",
           "hovertext": [
            "Latvia"
           ],
           "legendgroup": "LVA",
           "marker": {
            "color": "#FFA15A",
            "size": [
             23031.26
            ],
            "sizemode": "area",
            "sizeref": 197.2357,
            "symbol": "circle"
           },
           "mode": "markers",
           "name": "LVA",
           "orientation": "v",
           "showlegend": true,
           "type": "scatter",
           "x": [
            64
           ],
           "xaxis": "x",
           "y": [
            23031.26
           ],
           "yaxis": "y"
          },
          {
           "hovertemplate": "<b>%{hovertext}</b><br><br>ISO3=LTU<br>year=2009<br>Healthy life expectancy at birth=%{x}<br>money=%{marker.size}<extra></extra>",
           "hovertext": [
            "Lithuania"
           ],
           "legendgroup": "LTU",
           "marker": {
            "color": "#19d3f3",
            "size": [
             28233
            ],
            "sizemode": "area",
            "sizeref": 197.2357,
            "symbol": "circle"
           },
           "mode": "markers",
           "name": "LTU",
           "orientation": "v",
           "showlegend": true,
           "type": "scatter",
           "x": [
            64.1
           ],
           "xaxis": "x",
           "y": [
            28233
           ],
           "yaxis": "y"
          },
          {
           "hovertemplate": "<b>%{hovertext}</b><br><br>ISO3=SVN<br>year=2009<br>Healthy life expectancy at birth=%{x}<br>money=%{marker.size}<extra></extra>",
           "hovertext": [
            "Slovenia"
           ],
           "legendgroup": "SVN",
           "marker": {
            "color": "#636efa",
            "size": [
             41676
            ],
            "sizemode": "area",
            "sizeref": 197.2357,
            "symbol": "circle"
           },
           "mode": "markers",
           "name": "SVN",
           "orientation": "v",
           "showlegend": true,
           "type": "scatter",
           "x": [
            69.04
           ],
           "xaxis": "x",
           "y": [
            41676
           ],
           "yaxis": "y"
          },
          {
           "hovertemplate": "<b>%{hovertext}</b><br><br>ISO3=CHE<br>year=2009<br>Healthy life expectancy at birth=%{x}<br>money=%{marker.size}<extra></extra>",
           "hovertext": [
            "Switzerland"
           ],
           "legendgroup": "CHE",
           "marker": {
            "color": "#EF553B",
            "size": [
             68319
            ],
            "sizemode": "area",
            "sizeref": 197.2357,
            "symbol": "circle"
           },
           "mode": "markers",
           "name": "CHE",
           "orientation": "v",
           "showlegend": true,
           "type": "scatter",
           "x": [
            71.34
           ],
           "xaxis": "x",
           "y": [
            68319
           ],
           "yaxis": "y"
          },
          {
           "hovertemplate": "<b>%{hovertext}</b><br><br>ISO3=USA<br>year=2009<br>Healthy life expectancy at birth=%{x}<br>money=%{marker.size}<extra></extra>",
           "hovertext": [
            "United States"
           ],
           "legendgroup": "USA",
           "marker": {
            "color": "#00cc96",
            "size": [
             66673
            ],
            "sizemode": "area",
            "sizeref": 197.2357,
            "symbol": "circle"
           },
           "mode": "markers",
           "name": "USA",
           "orientation": "v",
           "showlegend": true,
           "type": "scatter",
           "x": [
            66.72
           ],
           "xaxis": "x",
           "y": [
            66673
           ],
           "yaxis": "y"
          },
          {
           "hovertemplate": "<b>%{hovertext}</b><br><br>ISO3=TUR<br>year=2009<br>Healthy life expectancy at birth=%{x}<br>money=%{marker.size}<extra></extra>",
           "hovertext": [
            "Turkey"
           ],
           "legendgroup": "TUR",
           "marker": {
            "color": "#ab63fa",
            "size": [
             22292
            ],
            "sizemode": "area",
            "sizeref": 197.2357,
            "symbol": "circle"
           },
           "mode": "markers",
           "name": "TUR",
           "orientation": "v",
           "showlegend": true,
           "type": "scatter",
           "x": [
            66.74
           ],
           "xaxis": "x",
           "y": [
            22292
           ],
           "yaxis": "y"
          },
          {
           "hovertemplate": "<b>%{hovertext}</b><br><br>ISO3=KOR<br>year=2009<br>Healthy life expectancy at birth=%{x}<br>money=%{marker.size}<extra></extra>",
           "hovertext": [
            "Korea, Republic of",
            "South Korea"
           ],
           "legendgroup": "KOR",
           "marker": {
            "color": "#19d3f3",
            "size": [
             39116,
             39116
            ],
            "sizemode": "area",
            "sizeref": 197.2357,
            "symbol": "circle"
           },
           "mode": "markers",
           "name": "KOR",
           "orientation": "v",
           "showlegend": true,
           "type": "scatter",
           "x": [
            70.68,
            70.68
           ],
           "xaxis": "x",
           "y": [
            39116,
            39116
           ],
           "yaxis": "y"
          },
          {
           "hovertemplate": "<b>%{hovertext}</b><br><br>ISO3=LUX<br>year=2009<br>Healthy life expectancy at birth=%{x}<br>money=%{marker.size}<extra></extra>",
           "hovertext": [
            "Luxembourg"
           ],
           "legendgroup": "LUX",
           "marker": {
            "color": "#FF6692",
            "size": [
             71070
            ],
            "sizemode": "area",
            "sizeref": 197.2357,
            "symbol": "circle"
           },
           "mode": "markers",
           "name": "LUX",
           "orientation": "v",
           "showlegend": true,
           "type": "scatter",
           "x": [
            70.3
           ],
           "xaxis": "x",
           "y": [
            71070
           ],
           "yaxis": "y"
          }
         ],
         "name": "2009"
        },
        {
         "data": [
          {
           "hovertemplate": "<b>%{hovertext}</b><br><br>ISO3=AUS<br>year=2010<br>Healthy life expectancy at birth=%{x}<br>money=%{marker.size}<extra></extra>",
           "hovertext": [
            "Australia"
           ],
           "legendgroup": "AUS",
           "marker": {
            "color": "#636efa",
            "size": [
             55536
            ],
            "sizemode": "area",
            "sizeref": 197.2357,
            "symbol": "circle"
           },
           "mode": "markers",
           "name": "AUS",
           "orientation": "v",
           "showlegend": true,
           "type": "scatter",
           "x": [
            70.2
           ],
           "xaxis": "x",
           "y": [
            55536
           ],
           "yaxis": "y"
          },
          {
           "hovertemplate": "<b>%{hovertext}</b><br><br>ISO3=BEL<br>year=2010<br>Healthy life expectancy at birth=%{x}<br>money=%{marker.size}<extra></extra>",
           "hovertext": [
            "Belgium"
           ],
           "legendgroup": "BEL",
           "marker": {
            "color": "#EF553B",
            "size": [
             63295
            ],
            "sizemode": "area",
            "sizeref": 197.2357,
            "symbol": "circle"
           },
           "mode": "markers",
           "name": "BEL",
           "orientation": "v",
           "showlegend": true,
           "type": "scatter",
           "x": [
            69.2
           ],
           "xaxis": "x",
           "y": [
            63295
           ],
           "yaxis": "y"
          },
          {
           "hovertemplate": "<b>%{hovertext}</b><br><br>ISO3=CAN<br>year=2010<br>Healthy life expectancy at birth=%{x}<br>money=%{marker.size}<extra></extra>",
           "hovertext": [
            "Canada"
           ],
           "legendgroup": "CAN",
           "marker": {
            "color": "#00cc96",
            "size": [
             52457
            ],
            "sizemode": "area",
            "sizeref": 197.2357,
            "symbol": "circle"
           },
           "mode": "markers",
           "name": "CAN",
           "orientation": "v",
           "showlegend": true,
           "type": "scatter",
           "x": [
            70.8
           ],
           "xaxis": "x",
           "y": [
            52457
           ],
           "yaxis": "y"
          },
          {
           "hovertemplate": "<b>%{hovertext}</b><br><br>ISO3=CZE<br>year=2010<br>Healthy life expectancy at birth=%{x}<br>money=%{marker.size}<extra></extra>",
           "hovertext": [
            "Czech Republic"
           ],
           "legendgroup": "CZE",
           "marker": {
            "color": "#ab63fa",
            "size": [
             28648
            ],
            "sizemode": "area",
            "sizeref": 197.2357,
            "symbol": "circle"
           },
           "mode": "markers",
           "name": "CZE",
           "orientation": "v",
           "showlegend": true,
           "type": "scatter",
           "x": [
            67.7
           ],
           "xaxis": "x",
           "y": [
            28648
           ],
           "yaxis": "y"
          },
          {
           "hovertemplate": "<b>%{hovertext}</b><br><br>ISO3=DNK<br>year=2010<br>Healthy life expectancy at birth=%{x}<br>money=%{marker.size}<extra></extra>",
           "hovertext": [
            "Denmark"
           ],
           "legendgroup": "DNK",
           "marker": {
            "color": "#FFA15A",
            "size": [
             61537
            ],
            "sizemode": "area",
            "sizeref": 197.2357,
            "symbol": "circle"
           },
           "mode": "markers",
           "name": "DNK",
           "orientation": "v",
           "showlegend": true,
           "type": "scatter",
           "x": [
            69.4
           ],
           "xaxis": "x",
           "y": [
            61537
           ],
           "yaxis": "y"
          },
          {
           "hovertemplate": "<b>%{hovertext}</b><br><br>ISO3=FRA<br>year=2010<br>Healthy life expectancy at birth=%{x}<br>money=%{marker.size}<extra></extra>",
           "hovertext": [
            "France"
           ],
           "legendgroup": "FRA",
           "marker": {
            "color": "#19d3f3",
            "size": [
             49926
            ],
            "sizemode": "area",
            "sizeref": 197.2357,
            "symbol": "circle"
           },
           "mode": "markers",
           "name": "FRA",
           "orientation": "v",
           "showlegend": true,
           "type": "scatter",
           "x": [
            71.2
           ],
           "xaxis": "x",
           "y": [
            49926
           ],
           "yaxis": "y"
          },
          {
           "hovertemplate": "<b>%{hovertext}</b><br><br>ISO3=DEU<br>year=2010<br>Healthy life expectancy at birth=%{x}<br>money=%{marker.size}<extra></extra>",
           "hovertext": [
            "Germany"
           ],
           "legendgroup": "DEU",
           "marker": {
            "color": "#FF6692",
            "size": [
             52912
            ],
            "sizemode": "area",
            "sizeref": 197.2357,
            "symbol": "circle"
           },
           "mode": "markers",
           "name": "DEU",
           "orientation": "v",
           "showlegend": true,
           "type": "scatter",
           "x": [
            70
           ],
           "xaxis": "x",
           "y": [
            52912
           ],
           "yaxis": "y"
          },
          {
           "hovertemplate": "<b>%{hovertext}</b><br><br>ISO3=GRC<br>year=2010<br>Healthy life expectancy at birth=%{x}<br>money=%{marker.size}<extra></extra>",
           "hovertext": [
            "Greece"
           ],
           "legendgroup": "GRC",
           "marker": {
            "color": "#B6E880",
            "size": [
             35454
            ],
            "sizemode": "area",
            "sizeref": 197.2357,
            "symbol": "circle"
           },
           "mode": "markers",
           "name": "GRC",
           "orientation": "v",
           "showlegend": true,
           "type": "scatter",
           "x": [
            70
           ],
           "xaxis": "x",
           "y": [
            35454
           ],
           "yaxis": "y"
          },
          {
           "hovertemplate": "<b>%{hovertext}</b><br><br>ISO3=HUN<br>year=2010<br>Healthy life expectancy at birth=%{x}<br>money=%{marker.size}<extra></extra>",
           "hovertext": [
            "Hungary"
           ],
           "legendgroup": "HUN",
           "marker": {
            "color": "#FF97FF",
            "size": [
             24005
            ],
            "sizemode": "area",
            "sizeref": 197.2357,
            "symbol": "circle"
           },
           "mode": "markers",
           "name": "HUN",
           "orientation": "v",
           "showlegend": true,
           "type": "scatter",
           "x": [
            65.8
           ],
           "xaxis": "x",
           "y": [
            24005
           ],
           "yaxis": "y"
          },
          {
           "hovertemplate": "<b>%{hovertext}</b><br><br>ISO3=ITA<br>year=2010<br>Healthy life expectancy at birth=%{x}<br>money=%{marker.size}<extra></extra>",
           "hovertext": [
            "Italy"
           ],
           "legendgroup": "ITA",
           "marker": {
            "color": "#FECB52",
            "size": [
             47629
            ],
            "sizemode": "area",
            "sizeref": 197.2357,
            "symbol": "circle"
           },
           "mode": "markers",
           "name": "ITA",
           "orientation": "v",
           "showlegend": true,
           "type": "scatter",
           "x": [
            71.1
           ],
           "xaxis": "x",
           "y": [
            47629
           ],
           "yaxis": "y"
          },
          {
           "hovertemplate": "<b>%{hovertext}</b><br><br>ISO3=JPN<br>year=2010<br>Healthy life expectancy at birth=%{x}<br>money=%{marker.size}<extra></extra>",
           "hovertext": [
            "Japan"
           ],
           "legendgroup": "JPN",
           "marker": {
            "color": "#636efa",
            "size": [
             40999
            ],
            "sizemode": "area",
            "sizeref": 197.2357,
            "symbol": "circle"
           },
           "mode": "markers",
           "name": "JPN",
           "orientation": "v",
           "showlegend": true,
           "type": "scatter",
           "x": [
            73
           ],
           "xaxis": "x",
           "y": [
            40999
           ],
           "yaxis": "y"
          },
          {
           "hovertemplate": "<b>%{hovertext}</b><br><br>ISO3=MEX<br>year=2010<br>Healthy life expectancy at birth=%{x}<br>money=%{marker.size}<extra></extra>",
           "hovertext": [
            "Mexico"
           ],
           "legendgroup": "MEX",
           "marker": {
            "color": "#EF553B",
            "size": [
             17618.36
            ],
            "sizemode": "area",
            "sizeref": 197.2357,
            "symbol": "circle"
           },
           "mode": "markers",
           "name": "MEX",
           "orientation": "v",
           "showlegend": true,
           "type": "scatter",
           "x": [
            65.1
           ],
           "xaxis": "x",
           "y": [
            17618.36
           ],
           "yaxis": "y"
          },
          {
           "hovertemplate": "<b>%{hovertext}</b><br><br>ISO3=NLD<br>year=2010<br>Healthy life expectancy at birth=%{x}<br>money=%{marker.size}<extra></extra>",
           "hovertext": [
            "Netherlands"
           ],
           "legendgroup": "NLD",
           "marker": {
            "color": "#00cc96",
            "size": [
             66270
            ],
            "sizemode": "area",
            "sizeref": 197.2357,
            "symbol": "circle"
           },
           "mode": "markers",
           "name": "NLD",
           "orientation": "v",
           "showlegend": true,
           "type": "scatter",
           "x": [
            70.9
           ],
           "xaxis": "x",
           "y": [
            66270
           ],
           "yaxis": "y"
          },
          {
           "hovertemplate": "<b>%{hovertext}</b><br><br>ISO3=POL<br>year=2010<br>Healthy life expectancy at birth=%{x}<br>money=%{marker.size}<extra></extra>",
           "hovertext": [
            "Poland"
           ],
           "legendgroup": "POL",
           "marker": {
            "color": "#ab63fa",
            "size": [
             28090.56
            ],
            "sizemode": "area",
            "sizeref": 197.2357,
            "symbol": "circle"
           },
           "mode": "markers",
           "name": "POL",
           "orientation": "v",
           "showlegend": true,
           "type": "scatter",
           "x": [
            67.1
           ],
           "xaxis": "x",
           "y": [
            28090.56
           ],
           "yaxis": "y"
          },
          {
           "hovertemplate": "<b>%{hovertext}</b><br><br>ISO3=ESP<br>year=2010<br>Healthy life expectancy at birth=%{x}<br>money=%{marker.size}<extra></extra>",
           "hovertext": [
            "Spain"
           ],
           "legendgroup": "ESP",
           "marker": {
            "color": "#FFA15A",
            "size": [
             46538
            ],
            "sizemode": "area",
            "sizeref": 197.2357,
            "symbol": "circle"
           },
           "mode": "markers",
           "name": "ESP",
           "orientation": "v",
           "showlegend": true,
           "type": "scatter",
           "x": [
            71
           ],
           "xaxis": "x",
           "y": [
            46538
           ],
           "yaxis": "y"
          },
          {
           "hovertemplate": "<b>%{hovertext}</b><br><br>ISO3=SWE<br>year=2010<br>Healthy life expectancy at birth=%{x}<br>money=%{marker.size}<extra></extra>",
           "hovertext": [
            "Sweden"
           ],
           "legendgroup": "SWE",
           "marker": {
            "color": "#19d3f3",
            "size": [
             45337.48
            ],
            "sizemode": "area",
            "sizeref": 197.2357,
            "symbol": "circle"
           },
           "mode": "markers",
           "name": "SWE",
           "orientation": "v",
           "showlegend": true,
           "type": "scatter",
           "x": [
            71.2
           ],
           "xaxis": "x",
           "y": [
            45337.48
           ],
           "yaxis": "y"
          },
          {
           "hovertemplate": "<b>%{hovertext}</b><br><br>ISO3=GBR<br>year=2010<br>Healthy life expectancy at birth=%{x}<br>money=%{marker.size}<extra></extra>",
           "hovertext": [
            "United Kingdom"
           ],
           "legendgroup": "GBR",
           "marker": {
            "color": "#FF6692",
            "size": [
             52455
            ],
            "sizemode": "area",
            "sizeref": 197.2357,
            "symbol": "circle"
           },
           "mode": "markers",
           "name": "GBR",
           "orientation": "v",
           "showlegend": true,
           "type": "scatter",
           "x": [
            69.4
           ],
           "xaxis": "x",
           "y": [
            52455
           ],
           "yaxis": "y"
          },
          {
           "hovertemplate": "<b>%{hovertext}</b><br><br>ISO3=AUT<br>year=2010<br>Healthy life expectancy at birth=%{x}<br>money=%{marker.size}<extra></extra>",
           "hovertext": [
            "Austria"
           ],
           "legendgroup": "AUT",
           "marker": {
            "color": "#B6E880",
            "size": [
             62831
            ],
            "sizemode": "area",
            "sizeref": 197.2357,
            "symbol": "circle"
           },
           "mode": "markers",
           "name": "AUT",
           "orientation": "v",
           "showlegend": true,
           "type": "scatter",
           "x": [
            69.9
           ],
           "xaxis": "x",
           "y": [
            62831
           ],
           "yaxis": "y"
          },
          {
           "hovertemplate": "<b>%{hovertext}</b><br><br>ISO3=CHL<br>year=2010<br>Healthy life expectancy at birth=%{x}<br>money=%{marker.size}<extra></extra>",
           "hovertext": [
            "Chile"
           ],
           "legendgroup": "CHL",
           "marker": {
            "color": "#FF97FF",
            "size": [
             27871
            ],
            "sizemode": "area",
            "sizeref": 197.2357,
            "symbol": "circle"
           },
           "mode": "markers",
           "name": "CHL",
           "orientation": "v",
           "showlegend": true,
           "type": "scatter",
           "x": [
            68.5
           ],
           "xaxis": "x",
           "y": [
            27871
           ],
           "yaxis": "y"
          },
          {
           "hovertemplate": "<b>%{hovertext}</b><br><br>ISO3=CRI<br>year=2010<br>Healthy life expectancy at birth=%{x}<br>money=%{marker.size}<extra></extra>",
           "hovertext": [
            "Costa Rica"
           ],
           "legendgroup": "CRI",
           "marker": {
            "color": "#FECB52",
            "size": [
             17665.79
            ],
            "sizemode": "area",
            "sizeref": 197.2357,
            "symbol": "circle"
           },
           "mode": "markers",
           "name": "CRI",
           "orientation": "v",
           "showlegend": true,
           "type": "scatter",
           "x": [
            69.2
           ],
           "xaxis": "x",
           "y": [
            17665.79
           ],
           "yaxis": "y"
          },
          {
           "hovertemplate": "<b>%{hovertext}</b><br><br>ISO3=FIN<br>year=2010<br>Healthy life expectancy at birth=%{x}<br>money=%{marker.size}<extra></extra>",
           "hovertext": [
            "Finland"
           ],
           "legendgroup": "FIN",
           "marker": {
            "color": "#EF553B",
            "size": [
             49911
            ],
            "sizemode": "area",
            "sizeref": 197.2357,
            "symbol": "circle"
           },
           "mode": "markers",
           "name": "FIN",
           "orientation": "v",
           "showlegend": true,
           "type": "scatter",
           "x": [
            69.6
           ],
           "xaxis": "x",
           "y": [
            49911
           ],
           "yaxis": "y"
          },
          {
           "hovertemplate": "<b>%{hovertext}</b><br><br>ISO3=IRL<br>year=2010<br>Healthy life expectancy at birth=%{x}<br>money=%{marker.size}<extra></extra>",
           "hovertext": [
            "Ireland"
           ],
           "legendgroup": "IRL",
           "marker": {
            "color": "#00cc96",
            "size": [
             52793
            ],
            "sizemode": "area",
            "sizeref": 197.2357,
            "symbol": "circle"
           },
           "mode": "markers",
           "name": "IRL",
           "orientation": "v",
           "showlegend": true,
           "type": "scatter",
           "x": [
            70.1
           ],
           "xaxis": "x",
           "y": [
            52793
           ],
           "yaxis": "y"
          },
          {
           "hovertemplate": "<b>%{hovertext}</b><br><br>ISO3=ISR<br>year=2010<br>Healthy life expectancy at birth=%{x}<br>money=%{marker.size}<extra></extra>",
           "hovertext": [
            "Israel"
           ],
           "legendgroup": "ISR",
           "marker": {
            "color": "#ab63fa",
            "size": [
             34993
            ],
            "sizemode": "area",
            "sizeref": 197.2357,
            "symbol": "circle"
           },
           "mode": "markers",
           "name": "ISR",
           "orientation": "v",
           "showlegend": true,
           "type": "scatter",
           "x": [
            71.4
           ],
           "xaxis": "x",
           "y": [
            34993
           ],
           "yaxis": "y"
          },
          {
           "hovertemplate": "<b>%{hovertext}</b><br><br>ISO3=LTU<br>year=2010<br>Healthy life expectancy at birth=%{x}<br>money=%{marker.size}<extra></extra>",
           "hovertext": [
            "Lithuania"
           ],
           "legendgroup": "LTU",
           "marker": {
            "color": "#19d3f3",
            "size": [
             28340
            ],
            "sizemode": "area",
            "sizeref": 197.2357,
            "symbol": "circle"
           },
           "mode": "markers",
           "name": "LTU",
           "orientation": "v",
           "showlegend": true,
           "type": "scatter",
           "x": [
            64.3
           ],
           "xaxis": "x",
           "y": [
            28340
           ],
           "yaxis": "y"
          },
          {
           "hovertemplate": "<b>%{hovertext}</b><br><br>ISO3=NZL<br>year=2010<br>Healthy life expectancy at birth=%{x}<br>money=%{marker.size}<extra></extra>",
           "hovertext": [
            "New Zealand"
           ],
           "legendgroup": "NZL",
           "marker": {
            "color": "#FF6692",
            "size": [
             44475.53
            ],
            "sizemode": "area",
            "sizeref": 197.2357,
            "symbol": "circle"
           },
           "mode": "markers",
           "name": "NZL",
           "orientation": "v",
           "showlegend": true,
           "type": "scatter",
           "x": [
            69.8
           ],
           "xaxis": "x",
           "y": [
            44475.53
           ],
           "yaxis": "y"
          },
          {
           "hovertemplate": "<b>%{hovertext}</b><br><br>ISO3=PRT<br>year=2010<br>Healthy life expectancy at birth=%{x}<br>money=%{marker.size}<extra></extra>",
           "hovertext": [
            "Portugal"
           ],
           "legendgroup": "PRT",
           "marker": {
            "color": "#FF97FF",
            "size": [
             31589
            ],
            "sizemode": "area",
            "sizeref": 197.2357,
            "symbol": "circle"
           },
           "mode": "markers",
           "name": "PRT",
           "orientation": "v",
           "showlegend": true,
           "type": "scatter",
           "x": [
            69.3
           ],
           "xaxis": "x",
           "y": [
            31589
           ],
           "yaxis": "y"
          },
          {
           "hovertemplate": "<b>%{hovertext}</b><br><br>ISO3=SVK<br>year=2010<br>Healthy life expectancy at birth=%{x}<br>money=%{marker.size}<extra></extra>",
           "hovertext": [
            "Slovakia"
           ],
           "legendgroup": "SVK",
           "marker": {
            "color": "#FECB52",
            "size": [
             22641.75
            ],
            "sizemode": "area",
            "sizeref": 197.2357,
            "symbol": "circle"
           },
           "mode": "markers",
           "name": "SVK",
           "orientation": "v",
           "showlegend": true,
           "type": "scatter",
           "x": [
            66.5
           ],
           "xaxis": "x",
           "y": [
            22641.75
           ],
           "yaxis": "y"
          },
          {
           "hovertemplate": "<b>%{hovertext}</b><br><br>ISO3=SVN<br>year=2010<br>Healthy life expectancy at birth=%{x}<br>money=%{marker.size}<extra></extra>",
           "hovertext": [
            "Slovenia"
           ],
           "legendgroup": "SVN",
           "marker": {
            "color": "#636efa",
            "size": [
             42846
            ],
            "sizemode": "area",
            "sizeref": 197.2357,
            "symbol": "circle"
           },
           "mode": "markers",
           "name": "SVN",
           "orientation": "v",
           "showlegend": true,
           "type": "scatter",
           "x": [
            69.2
           ],
           "xaxis": "x",
           "y": [
            42846
           ],
           "yaxis": "y"
          },
          {
           "hovertemplate": "<b>%{hovertext}</b><br><br>ISO3=USA<br>year=2010<br>Healthy life expectancy at birth=%{x}<br>money=%{marker.size}<extra></extra>",
           "hovertext": [
            "United States"
           ],
           "legendgroup": "USA",
           "marker": {
            "color": "#00cc96",
            "size": [
             67263
            ],
            "sizemode": "area",
            "sizeref": 197.2357,
            "symbol": "circle"
           },
           "mode": "markers",
           "name": "USA",
           "orientation": "v",
           "showlegend": true,
           "type": "scatter",
           "x": [
            66.7
           ],
           "xaxis": "x",
           "y": [
            67263
           ],
           "yaxis": "y"
          },
          {
           "hovertemplate": "<b>%{hovertext}</b><br><br>ISO3=TUR<br>year=2010<br>Healthy life expectancy at birth=%{x}<br>money=%{marker.size}<extra></extra>",
           "hovertext": [
            "Turkey"
           ],
           "legendgroup": "TUR",
           "marker": {
            "color": "#ab63fa",
            "size": [
             22847
            ],
            "sizemode": "area",
            "sizeref": 197.2357,
            "symbol": "circle"
           },
           "mode": "markers",
           "name": "TUR",
           "orientation": "v",
           "showlegend": true,
           "type": "scatter",
           "x": [
            66.9
           ],
           "xaxis": "x",
           "y": [
            22847
           ],
           "yaxis": "y"
          },
          {
           "hovertemplate": "<b>%{hovertext}</b><br><br>ISO3=KOR<br>year=2010<br>Healthy life expectancy at birth=%{x}<br>money=%{marker.size}<extra></extra>",
           "hovertext": [
            "Korea, Republic of",
            "South Korea"
           ],
           "legendgroup": "KOR",
           "marker": {
            "color": "#19d3f3",
            "size": [
             39730.45,
             39730.45
            ],
            "sizemode": "area",
            "sizeref": 197.2357,
            "symbol": "circle"
           },
           "mode": "markers",
           "name": "KOR",
           "orientation": "v",
           "showlegend": true,
           "type": "scatter",
           "x": [
            70.9,
            70.9
           ],
           "xaxis": "x",
           "y": [
            39730.45,
            39730.45
           ],
           "yaxis": "y"
          },
          {
           "hovertemplate": "<b>%{hovertext}</b><br><br>ISO3=LUX<br>year=2010<br>Healthy life expectancy at birth=%{x}<br>money=%{marker.size}<extra></extra>",
           "hovertext": [
            "Luxembourg"
           ],
           "legendgroup": "LUX",
           "marker": {
            "color": "#FF6692",
            "size": [
             71085
            ],
            "sizemode": "area",
            "sizeref": 197.2357,
            "symbol": "circle"
           },
           "mode": "markers",
           "name": "LUX",
           "orientation": "v",
           "showlegend": true,
           "type": "scatter",
           "x": [
            70.5
           ],
           "xaxis": "x",
           "y": [
            71085
           ],
           "yaxis": "y"
          }
         ],
         "name": "2010"
        },
        {
         "data": [
          {
           "hovertemplate": "<b>%{hovertext}</b><br><br>ISO3=AUS<br>year=2011<br>Healthy life expectancy at birth=%{x}<br>money=%{marker.size}<extra></extra>",
           "hovertext": [
            "Australia"
           ],
           "legendgroup": "AUS",
           "marker": {
            "color": "#636efa",
            "size": [
             57361
            ],
            "sizemode": "area",
            "sizeref": 197.2357,
            "symbol": "circle"
           },
           "mode": "markers",
           "name": "AUS",
           "orientation": "v",
           "showlegend": true,
           "type": "scatter",
           "x": [
            70.28
           ],
           "xaxis": "x",
           "y": [
            57361
           ],
           "yaxis": "y"
          },
          {
           "hovertemplate": "<b>%{hovertext}</b><br><br>ISO3=BEL<br>year=2011<br>Healthy life expectancy at birth=%{x}<br>money=%{marker.size}<extra></extra>",
           "hovertext": [
            "Belgium"
           ],
           "legendgroup": "BEL",
           "marker": {
            "color": "#EF553B",
            "size": [
             63944
            ],
            "sizemode": "area",
            "sizeref": 197.2357,
            "symbol": "circle"
           },
           "mode": "markers",
           "name": "BEL",
           "orientation": "v",
           "showlegend": true,
           "type": "scatter",
           "x": [
            69.36
           ],
           "xaxis": "x",
           "y": [
            63944
           ],
           "yaxis": "y"
          },
          {
           "hovertemplate": "<b>%{hovertext}</b><br><br>ISO3=CAN<br>year=2011<br>Healthy life expectancy at birth=%{x}<br>money=%{marker.size}<extra></extra>",
           "hovertext": [
            "Canada"
           ],
           "legendgroup": "CAN",
           "marker": {
            "color": "#00cc96",
            "size": [
             53088
            ],
            "sizemode": "area",
            "sizeref": 197.2357,
            "symbol": "circle"
           },
           "mode": "markers",
           "name": "CAN",
           "orientation": "v",
           "showlegend": true,
           "type": "scatter",
           "x": [
            70.86
           ],
           "xaxis": "x",
           "y": [
            53088
           ],
           "yaxis": "y"
          },
          {
           "hovertemplate": "<b>%{hovertext}</b><br><br>ISO3=CZE<br>year=2011<br>Healthy life expectancy at birth=%{x}<br>money=%{marker.size}<extra></extra>",
           "hovertext": [
            "Czech Republic"
           ],
           "legendgroup": "CZE",
           "marker": {
            "color": "#ab63fa",
            "size": [
             28881.64
            ],
            "sizemode": "area",
            "sizeref": 197.2357,
            "symbol": "circle"
           },
           "mode": "markers",
           "name": "CZE",
           "orientation": "v",
           "showlegend": true,
           "type": "scatter",
           "x": [
            67.82
           ],
           "xaxis": "x",
           "y": [
            28881.64
           ],
           "yaxis": "y"
          },
          {
           "hovertemplate": "<b>%{hovertext}</b><br><br>ISO3=DNK<br>year=2011<br>Healthy life expectancy at birth=%{x}<br>money=%{marker.size}<extra></extra>",
           "hovertext": [
            "Denmark"
           ],
           "legendgroup": "DNK",
           "marker": {
            "color": "#FFA15A",
            "size": [
             61213
            ],
            "sizemode": "area",
            "sizeref": 197.2357,
            "symbol": "circle"
           },
           "mode": "markers",
           "name": "DNK",
           "orientation": "v",
           "showlegend": true,
           "type": "scatter",
           "x": [
            69.62
           ],
           "xaxis": "x",
           "y": [
            61213
           ],
           "yaxis": "y"
          },
          {
           "hovertemplate": "<b>%{hovertext}</b><br><br>ISO3=FRA<br>year=2011<br>Healthy life expectancy at birth=%{x}<br>money=%{marker.size}<extra></extra>",
           "hovertext": [
            "France"
           ],
           "legendgroup": "FRA",
           "marker": {
            "color": "#19d3f3",
            "size": [
             49836
            ],
            "sizemode": "area",
            "sizeref": 197.2357,
            "symbol": "circle"
           },
           "mode": "markers",
           "name": "FRA",
           "orientation": "v",
           "showlegend": true,
           "type": "scatter",
           "x": [
            71.3
           ],
           "xaxis": "x",
           "y": [
            49836
           ],
           "yaxis": "y"
          },
          {
           "hovertemplate": "<b>%{hovertext}</b><br><br>ISO3=DEU<br>year=2011<br>Healthy life expectancy at birth=%{x}<br>money=%{marker.size}<extra></extra>",
           "hovertext": [
            "Germany"
           ],
           "legendgroup": "DEU",
           "marker": {
            "color": "#FF6692",
            "size": [
             53980
            ],
            "sizemode": "area",
            "sizeref": 197.2357,
            "symbol": "circle"
           },
           "mode": "markers",
           "name": "DEU",
           "orientation": "v",
           "showlegend": true,
           "type": "scatter",
           "x": [
            70.02
           ],
           "xaxis": "x",
           "y": [
            53980
           ],
           "yaxis": "y"
          },
          {
           "hovertemplate": "<b>%{hovertext}</b><br><br>ISO3=GRC<br>year=2011<br>Healthy life expectancy at birth=%{x}<br>money=%{marker.size}<extra></extra>",
           "hovertext": [
            "Greece"
           ],
           "legendgroup": "GRC",
           "marker": {
            "color": "#B6E880",
            "size": [
             33205
            ],
            "sizemode": "area",
            "sizeref": 197.2357,
            "symbol": "circle"
           },
           "mode": "markers",
           "name": "GRC",
           "orientation": "v",
           "showlegend": true,
           "type": "scatter",
           "x": [
            70.08
           ],
           "xaxis": "x",
           "y": [
            33205
           ],
           "yaxis": "y"
          },
          {
           "hovertemplate": "<b>%{hovertext}</b><br><br>ISO3=HUN<br>year=2011<br>Healthy life expectancy at birth=%{x}<br>money=%{marker.size}<extra></extra>",
           "hovertext": [
            "Hungary"
           ],
           "legendgroup": "HUN",
           "marker": {
            "color": "#FF97FF",
            "size": [
             24316
            ],
            "sizemode": "area",
            "sizeref": 197.2357,
            "symbol": "circle"
           },
           "mode": "markers",
           "name": "HUN",
           "orientation": "v",
           "showlegend": true,
           "type": "scatter",
           "x": [
            65.96
           ],
           "xaxis": "x",
           "y": [
            24316
           ],
           "yaxis": "y"
          },
          {
           "hovertemplate": "<b>%{hovertext}</b><br><br>ISO3=ITA<br>year=2011<br>Healthy life expectancy at birth=%{x}<br>money=%{marker.size}<extra></extra>",
           "hovertext": [
            "Italy"
           ],
           "legendgroup": "ITA",
           "marker": {
            "color": "#FECB52",
            "size": [
             46866
            ],
            "sizemode": "area",
            "sizeref": 197.2357,
            "symbol": "circle"
           },
           "mode": "markers",
           "name": "ITA",
           "orientation": "v",
           "showlegend": true,
           "type": "scatter",
           "x": [
            71.2
           ],
           "xaxis": "x",
           "y": [
            46866
           ],
           "yaxis": "y"
          },
          {
           "hovertemplate": "<b>%{hovertext}</b><br><br>ISO3=JPN<br>year=2011<br>Healthy life expectancy at birth=%{x}<br>money=%{marker.size}<extra></extra>",
           "hovertext": [
            "Japan"
           ],
           "legendgroup": "JPN",
           "marker": {
            "color": "#636efa",
            "size": [
             41656
            ],
            "sizemode": "area",
            "sizeref": 197.2357,
            "symbol": "circle"
           },
           "mode": "markers",
           "name": "JPN",
           "orientation": "v",
           "showlegend": true,
           "type": "scatter",
           "x": [
            73.12
           ],
           "xaxis": "x",
           "y": [
            41656
           ],
           "yaxis": "y"
          },
          {
           "hovertemplate": "<b>%{hovertext}</b><br><br>ISO3=MEX<br>year=2011<br>Healthy life expectancy at birth=%{x}<br>money=%{marker.size}<extra></extra>",
           "hovertext": [
            "Mexico"
           ],
           "legendgroup": "MEX",
           "marker": {
            "color": "#EF553B",
            "size": [
             17776.57
            ],
            "sizemode": "area",
            "sizeref": 197.2357,
            "symbol": "circle"
           },
           "mode": "markers",
           "name": "MEX",
           "orientation": "v",
           "showlegend": true,
           "type": "scatter",
           "x": [
            65.24
           ],
           "xaxis": "x",
           "y": [
            17776.57
           ],
           "yaxis": "y"
          },
          {
           "hovertemplate": "<b>%{hovertext}</b><br><br>ISO3=NLD<br>year=2011<br>Healthy life expectancy at birth=%{x}<br>money=%{marker.size}<extra></extra>",
           "hovertext": [
            "Netherlands"
           ],
           "legendgroup": "NLD",
           "marker": {
            "color": "#00cc96",
            "size": [
             65977
            ],
            "sizemode": "area",
            "sizeref": 197.2357,
            "symbol": "circle"
           },
           "mode": "markers",
           "name": "NLD",
           "orientation": "v",
           "showlegend": true,
           "type": "scatter",
           "x": [
            70.94
           ],
           "xaxis": "x",
           "y": [
            65977
           ],
           "yaxis": "y"
          },
          {
           "hovertemplate": "<b>%{hovertext}</b><br><br>ISO3=POL<br>year=2011<br>Healthy life expectancy at birth=%{x}<br>money=%{marker.size}<extra></extra>",
           "hovertext": [
            "Poland"
           ],
           "legendgroup": "POL",
           "marker": {
            "color": "#ab63fa",
            "size": [
             28247
            ],
            "sizemode": "area",
            "sizeref": 197.2357,
            "symbol": "circle"
           },
           "mode": "markers",
           "name": "POL",
           "orientation": "v",
           "showlegend": true,
           "type": "scatter",
           "x": [
            67.28
           ],
           "xaxis": "x",
           "y": [
            28247
           ],
           "yaxis": "y"
          },
          {
           "hovertemplate": "<b>%{hovertext}</b><br><br>ISO3=ESP<br>year=2011<br>Healthy life expectancy at birth=%{x}<br>money=%{marker.size}<extra></extra>",
           "hovertext": [
            "Spain"
           ],
           "legendgroup": "ESP",
           "marker": {
            "color": "#FFA15A",
            "size": [
             45707
            ],
            "sizemode": "area",
            "sizeref": 197.2357,
            "symbol": "circle"
           },
           "mode": "markers",
           "name": "ESP",
           "orientation": "v",
           "showlegend": true,
           "type": "scatter",
           "x": [
            71.12
           ],
           "xaxis": "x",
           "y": [
            45707
           ],
           "yaxis": "y"
          },
          {
           "hovertemplate": "<b>%{hovertext}</b><br><br>ISO3=SWE<br>year=2011<br>Healthy life expectancy at birth=%{x}<br>money=%{marker.size}<extra></extra>",
           "hovertext": [
            "Sweden"
           ],
           "legendgroup": "SWE",
           "marker": {
            "color": "#19d3f3",
            "size": [
             46020
            ],
            "sizemode": "area",
            "sizeref": 197.2357,
            "symbol": "circle"
           },
           "mode": "markers",
           "name": "SWE",
           "orientation": "v",
           "showlegend": true,
           "type": "scatter",
           "x": [
            71.24
           ],
           "xaxis": "x",
           "y": [
            46020
           ],
           "yaxis": "y"
          },
          {
           "hovertemplate": "<b>%{hovertext}</b><br><br>ISO3=GBR<br>year=2011<br>Healthy life expectancy at birth=%{x}<br>money=%{marker.size}<extra></extra>",
           "hovertext": [
            "United Kingdom"
           ],
           "legendgroup": "GBR",
           "marker": {
            "color": "#FF6692",
            "size": [
             51497
            ],
            "sizemode": "area",
            "sizeref": 197.2357,
            "symbol": "circle"
           },
           "mode": "markers",
           "name": "GBR",
           "orientation": "v",
           "showlegend": true,
           "type": "scatter",
           "x": [
            69.46
           ],
           "xaxis": "x",
           "y": [
            51497
           ],
           "yaxis": "y"
          },
          {
           "hovertemplate": "<b>%{hovertext}</b><br><br>ISO3=AUT<br>year=2011<br>Healthy life expectancy at birth=%{x}<br>money=%{marker.size}<extra></extra>",
           "hovertext": [
            "Austria"
           ],
           "legendgroup": "AUT",
           "marker": {
            "color": "#B6E880",
            "size": [
             62159
            ],
            "sizemode": "area",
            "sizeref": 197.2357,
            "symbol": "circle"
           },
           "mode": "markers",
           "name": "AUT",
           "orientation": "v",
           "showlegend": true,
           "type": "scatter",
           "x": [
            70
           ],
           "xaxis": "x",
           "y": [
            62159
           ],
           "yaxis": "y"
          },
          {
           "hovertemplate": "<b>%{hovertext}</b><br><br>ISO3=CHL<br>year=2011<br>Healthy life expectancy at birth=%{x}<br>money=%{marker.size}<extra></extra>",
           "hovertext": [
            "Chile"
           ],
           "legendgroup": "CHL",
           "marker": {
            "color": "#FF97FF",
            "size": [
             28639
            ],
            "sizemode": "area",
            "sizeref": 197.2357,
            "symbol": "circle"
           },
           "mode": "markers",
           "name": "CHL",
           "orientation": "v",
           "showlegend": true,
           "type": "scatter",
           "x": [
            68.68
           ],
           "xaxis": "x",
           "y": [
            28639
           ],
           "yaxis": "y"
          },
          {
           "hovertemplate": "<b>%{hovertext}</b><br><br>ISO3=CRI<br>year=2011<br>Healthy life expectancy at birth=%{x}<br>money=%{marker.size}<extra></extra>",
           "hovertext": [
            "Costa Rica"
           ],
           "legendgroup": "CRI",
           "marker": {
            "color": "#FECB52",
            "size": [
             18955.02
            ],
            "sizemode": "area",
            "sizeref": 197.2357,
            "symbol": "circle"
           },
           "mode": "markers",
           "name": "CRI",
           "orientation": "v",
           "showlegend": true,
           "type": "scatter",
           "x": [
            69.36
           ],
           "xaxis": "x",
           "y": [
            18955.02
           ],
           "yaxis": "y"
          },
          {
           "hovertemplate": "<b>%{hovertext}</b><br><br>ISO3=EST<br>year=2011<br>Healthy life expectancy at birth=%{x}<br>money=%{marker.size}<extra></extra>",
           "hovertext": [
            "Estonia"
           ],
           "legendgroup": "EST",
           "marker": {
            "color": "#636efa",
            "size": [
             23907.26
            ],
            "sizemode": "area",
            "sizeref": 197.2357,
            "symbol": "circle"
           },
           "mode": "markers",
           "name": "EST",
           "orientation": "v",
           "showlegend": true,
           "type": "scatter",
           "x": [
            67.18
           ],
           "xaxis": "x",
           "y": [
            23907.26
           ],
           "yaxis": "y"
          },
          {
           "hovertemplate": "<b>%{hovertext}</b><br><br>ISO3=FIN<br>year=2011<br>Healthy life expectancy at birth=%{x}<br>money=%{marker.size}<extra></extra>",
           "hovertext": [
            "Finland"
           ],
           "legendgroup": "FIN",
           "marker": {
            "color": "#EF553B",
            "size": [
             49925
            ],
            "sizemode": "area",
            "sizeref": 197.2357,
            "symbol": "circle"
           },
           "mode": "markers",
           "name": "FIN",
           "orientation": "v",
           "showlegend": true,
           "type": "scatter",
           "x": [
            69.82
           ],
           "xaxis": "x",
           "y": [
            49925
           ],
           "yaxis": "y"
          },
          {
           "hovertemplate": "<b>%{hovertext}</b><br><br>ISO3=IRL<br>year=2011<br>Healthy life expectancy at birth=%{x}<br>money=%{marker.size}<extra></extra>",
           "hovertext": [
            "Ireland"
           ],
           "legendgroup": "IRL",
           "marker": {
            "color": "#00cc96",
            "size": [
             52035
            ],
            "sizemode": "area",
            "sizeref": 197.2357,
            "symbol": "circle"
           },
           "mode": "markers",
           "name": "IRL",
           "orientation": "v",
           "showlegend": true,
           "type": "scatter",
           "x": [
            70.22
           ],
           "xaxis": "x",
           "y": [
            52035
           ],
           "yaxis": "y"
          },
          {
           "hovertemplate": "<b>%{hovertext}</b><br><br>ISO3=ISR<br>year=2011<br>Healthy life expectancy at birth=%{x}<br>money=%{marker.size}<extra></extra>",
           "hovertext": [
            "Israel"
           ],
           "legendgroup": "ISR",
           "marker": {
            "color": "#ab63fa",
            "size": [
             35189.5
            ],
            "sizemode": "area",
            "sizeref": 197.2357,
            "symbol": "circle"
           },
           "mode": "markers",
           "name": "ISR",
           "orientation": "v",
           "showlegend": true,
           "type": "scatter",
           "x": [
            71.48
           ],
           "xaxis": "x",
           "y": [
            35189.5
           ],
           "yaxis": "y"
          },
          {
           "hovertemplate": "<b>%{hovertext}</b><br><br>ISO3=LVA<br>year=2011<br>Healthy life expectancy at birth=%{x}<br>money=%{marker.size}<extra></extra>",
           "hovertext": [
            "Latvia"
           ],
           "legendgroup": "LVA",
           "marker": {
            "color": "#FFA15A",
            "size": [
             21373
            ],
            "sizemode": "area",
            "sizeref": 197.2357,
            "symbol": "circle"
           },
           "mode": "markers",
           "name": "LVA",
           "orientation": "v",
           "showlegend": true,
           "type": "scatter",
           "x": [
            64.6
           ],
           "xaxis": "x",
           "y": [
            21373
           ],
           "yaxis": "y"
          },
          {
           "hovertemplate": "<b>%{hovertext}</b><br><br>ISO3=LTU<br>year=2011<br>Healthy life expectancy at birth=%{x}<br>money=%{marker.size}<extra></extra>",
           "hovertext": [
            "Lithuania"
           ],
           "legendgroup": "LTU",
           "marker": {
            "color": "#19d3f3",
            "size": [
             28918
            ],
            "sizemode": "area",
            "sizeref": 197.2357,
            "symbol": "circle"
           },
           "mode": "markers",
           "name": "LTU",
           "orientation": "v",
           "showlegend": true,
           "type": "scatter",
           "x": [
            64.5
           ],
           "xaxis": "x",
           "y": [
            28918
           ],
           "yaxis": "y"
          },
          {
           "hovertemplate": "<b>%{hovertext}</b><br><br>ISO3=NZL<br>year=2011<br>Healthy life expectancy at birth=%{x}<br>money=%{marker.size}<extra></extra>",
           "hovertext": [
            "New Zealand"
           ],
           "legendgroup": "NZL",
           "marker": {
            "color": "#FF6692",
            "size": [
             44442
            ],
            "sizemode": "area",
            "sizeref": 197.2357,
            "symbol": "circle"
           },
           "mode": "markers",
           "name": "NZL",
           "orientation": "v",
           "showlegend": true,
           "type": "scatter",
           "x": [
            69.82
           ],
           "xaxis": "x",
           "y": [
            44442
           ],
           "yaxis": "y"
          },
          {
           "hovertemplate": "<b>%{hovertext}</b><br><br>ISO3=PRT<br>year=2011<br>Healthy life expectancy at birth=%{x}<br>money=%{marker.size}<extra></extra>",
           "hovertext": [
            "Portugal"
           ],
           "legendgroup": "PRT",
           "marker": {
            "color": "#FF97FF",
            "size": [
             30820
            ],
            "sizemode": "area",
            "sizeref": 197.2357,
            "symbol": "circle"
           },
           "mode": "markers",
           "name": "PRT",
           "orientation": "v",
           "showlegend": true,
           "type": "scatter",
           "x": [
            69.54
           ],
           "xaxis": "x",
           "y": [
            30820
           ],
           "yaxis": "y"
          },
          {
           "hovertemplate": "<b>%{hovertext}</b><br><br>ISO3=SVK<br>year=2011<br>Healthy life expectancy at birth=%{x}<br>money=%{marker.size}<extra></extra>",
           "hovertext": [
            "Slovakia"
           ],
           "legendgroup": "SVK",
           "marker": {
            "color": "#FECB52",
            "size": [
             22442.51
            ],
            "sizemode": "area",
            "sizeref": 197.2357,
            "symbol": "circle"
           },
           "mode": "markers",
           "name": "SVK",
           "orientation": "v",
           "showlegend": true,
           "type": "scatter",
           "x": [
            66.72
           ],
           "xaxis": "x",
           "y": [
            22442.51
           ],
           "yaxis": "y"
          },
          {
           "hovertemplate": "<b>%{hovertext}</b><br><br>ISO3=SVN<br>year=2011<br>Healthy life expectancy at birth=%{x}<br>money=%{marker.size}<extra></extra>",
           "hovertext": [
            "Slovenia"
           ],
           "legendgroup": "SVN",
           "marker": {
            "color": "#636efa",
            "size": [
             42724.51
            ],
            "sizemode": "area",
            "sizeref": 197.2357,
            "symbol": "circle"
           },
           "mode": "markers",
           "name": "SVN",
           "orientation": "v",
           "showlegend": true,
           "type": "scatter",
           "x": [
            69.36
           ],
           "xaxis": "x",
           "y": [
            42724.51
           ],
           "yaxis": "y"
          },
          {
           "hovertemplate": "<b>%{hovertext}</b><br><br>ISO3=USA<br>year=2011<br>Healthy life expectancy at birth=%{x}<br>money=%{marker.size}<extra></extra>",
           "hovertext": [
            "United States"
           ],
           "legendgroup": "USA",
           "marker": {
            "color": "#00cc96",
            "size": [
             67353
            ],
            "sizemode": "area",
            "sizeref": 197.2357,
            "symbol": "circle"
           },
           "mode": "markers",
           "name": "USA",
           "orientation": "v",
           "showlegend": true,
           "type": "scatter",
           "x": [
            66.68
           ],
           "xaxis": "x",
           "y": [
            67353
           ],
           "yaxis": "y"
          },
          {
           "hovertemplate": "<b>%{hovertext}</b><br><br>ISO3=TUR<br>year=2011<br>Healthy life expectancy at birth=%{x}<br>money=%{marker.size}<extra></extra>",
           "hovertext": [
            "Turkey"
           ],
           "legendgroup": "TUR",
           "marker": {
            "color": "#ab63fa",
            "size": [
             23216
            ],
            "sizemode": "area",
            "sizeref": 197.2357,
            "symbol": "circle"
           },
           "mode": "markers",
           "name": "TUR",
           "orientation": "v",
           "showlegend": true,
           "type": "scatter",
           "x": [
            67.06
           ],
           "xaxis": "x",
           "y": [
            23216
           ],
           "yaxis": "y"
          },
          {
           "hovertemplate": "<b>%{hovertext}</b><br><br>ISO3=KOR<br>year=2011<br>Healthy life expectancy at birth=%{x}<br>money=%{marker.size}<extra></extra>",
           "hovertext": [
            "Korea, Republic of",
            "South Korea"
           ],
           "legendgroup": "KOR",
           "marker": {
            "color": "#19d3f3",
            "size": [
             40251.55,
             40251.55
            ],
            "sizemode": "area",
            "sizeref": 197.2357,
            "symbol": "circle"
           },
           "mode": "markers",
           "name": "KOR",
           "orientation": "v",
           "showlegend": true,
           "type": "scatter",
           "x": [
            71.12,
            71.12
           ],
           "xaxis": "x",
           "y": [
            40251.55,
            40251.55
           ],
           "yaxis": "y"
          },
          {
           "hovertemplate": "<b>%{hovertext}</b><br><br>ISO3=LUX<br>year=2011<br>Healthy life expectancy at birth=%{x}<br>money=%{marker.size}<extra></extra>",
           "hovertext": [
            "Luxembourg"
           ],
           "legendgroup": "LUX",
           "marker": {
            "color": "#FF6692",
            "size": [
             71478
            ],
            "sizemode": "area",
            "sizeref": 197.2357,
            "symbol": "circle"
           },
           "mode": "markers",
           "name": "LUX",
           "orientation": "v",
           "showlegend": true,
           "type": "scatter",
           "x": [
            70.7
           ],
           "xaxis": "x",
           "y": [
            71478
           ],
           "yaxis": "y"
          }
         ],
         "name": "2011"
        },
        {
         "data": [
          {
           "hovertemplate": "<b>%{hovertext}</b><br><br>ISO3=AUS<br>year=2012<br>Healthy life expectancy at birth=%{x}<br>money=%{marker.size}<extra></extra>",
           "hovertext": [
            "Australia"
           ],
           "legendgroup": "AUS",
           "marker": {
            "color": "#636efa",
            "size": [
             57752
            ],
            "sizemode": "area",
            "sizeref": 197.2357,
            "symbol": "circle"
           },
           "mode": "markers",
           "name": "AUS",
           "orientation": "v",
           "showlegend": true,
           "type": "scatter",
           "x": [
            70.36
           ],
           "xaxis": "x",
           "y": [
            57752
           ],
           "yaxis": "y"
          },
          {
           "hovertemplate": "<b>%{hovertext}</b><br><br>ISO3=BEL<br>year=2012<br>Healthy life expectancy at birth=%{x}<br>money=%{marker.size}<extra></extra>",
           "hovertext": [
            "Belgium"
           ],
           "legendgroup": "BEL",
           "marker": {
            "color": "#EF553B",
            "size": [
             64461
            ],
            "sizemode": "area",
            "sizeref": 197.2357,
            "symbol": "circle"
           },
           "mode": "markers",
           "name": "BEL",
           "orientation": "v",
           "showlegend": true,
           "type": "scatter",
           "x": [
            69.52
           ],
           "xaxis": "x",
           "y": [
            64461
           ],
           "yaxis": "y"
          },
          {
           "hovertemplate": "<b>%{hovertext}</b><br><br>ISO3=CAN<br>year=2012<br>Healthy life expectancy at birth=%{x}<br>money=%{marker.size}<extra></extra>",
           "hovertext": [
            "Canada"
           ],
           "legendgroup": "CAN",
           "marker": {
            "color": "#00cc96",
            "size": [
             53717
            ],
            "sizemode": "area",
            "sizeref": 197.2357,
            "symbol": "circle"
           },
           "mode": "markers",
           "name": "CAN",
           "orientation": "v",
           "showlegend": true,
           "type": "scatter",
           "x": [
            70.92
           ],
           "xaxis": "x",
           "y": [
            53717
           ],
           "yaxis": "y"
          },
          {
           "hovertemplate": "<b>%{hovertext}</b><br><br>ISO3=CZE<br>year=2012<br>Healthy life expectancy at birth=%{x}<br>money=%{marker.size}<extra></extra>",
           "hovertext": [
            "Czech Republic"
           ],
           "legendgroup": "CZE",
           "marker": {
            "color": "#ab63fa",
            "size": [
             28934.46
            ],
            "sizemode": "area",
            "sizeref": 197.2357,
            "symbol": "circle"
           },
           "mode": "markers",
           "name": "CZE",
           "orientation": "v",
           "showlegend": true,
           "type": "scatter",
           "x": [
            67.94
           ],
           "xaxis": "x",
           "y": [
            28934.46
           ],
           "yaxis": "y"
          },
          {
           "hovertemplate": "<b>%{hovertext}</b><br><br>ISO3=DNK<br>year=2012<br>Healthy life expectancy at birth=%{x}<br>money=%{marker.size}<extra></extra>",
           "hovertext": [
            "Denmark"
           ],
           "legendgroup": "DNK",
           "marker": {
            "color": "#FFA15A",
            "size": [
             61121
            ],
            "sizemode": "area",
            "sizeref": 197.2357,
            "symbol": "circle"
           },
           "mode": "markers",
           "name": "DNK",
           "orientation": "v",
           "showlegend": true,
           "type": "scatter",
           "x": [
            69.84
           ],
           "xaxis": "x",
           "y": [
            61121
           ],
           "yaxis": "y"
          },
          {
           "hovertemplate": "<b>%{hovertext}</b><br><br>ISO3=FRA<br>year=2012<br>Healthy life expectancy at birth=%{x}<br>money=%{marker.size}<extra></extra>",
           "hovertext": [
            "France"
           ],
           "legendgroup": "FRA",
           "marker": {
            "color": "#19d3f3",
            "size": [
             50159
            ],
            "sizemode": "area",
            "sizeref": 197.2357,
            "symbol": "circle"
           },
           "mode": "markers",
           "name": "FRA",
           "orientation": "v",
           "showlegend": true,
           "type": "scatter",
           "x": [
            71.4
           ],
           "xaxis": "x",
           "y": [
            50159
           ],
           "yaxis": "y"
          },
          {
           "hovertemplate": "<b>%{hovertext}</b><br><br>ISO3=DEU<br>year=2012<br>Healthy life expectancy at birth=%{x}<br>money=%{marker.size}<extra></extra>",
           "hovertext": [
            "Germany"
           ],
           "legendgroup": "DEU",
           "marker": {
            "color": "#FF6692",
            "size": [
             54699
            ],
            "sizemode": "area",
            "sizeref": 197.2357,
            "symbol": "circle"
           },
           "mode": "markers",
           "name": "DEU",
           "orientation": "v",
           "showlegend": true,
           "type": "scatter",
           "x": [
            70.04
           ],
           "xaxis": "x",
           "y": [
            54699
           ],
           "yaxis": "y"
          },
          {
           "hovertemplate": "<b>%{hovertext}</b><br><br>ISO3=GRC<br>year=2012<br>Healthy life expectancy at birth=%{x}<br>money=%{marker.size}<extra></extra>",
           "hovertext": [
            "Greece"
           ],
           "legendgroup": "GRC",
           "marker": {
            "color": "#B6E880",
            "size": [
             31272.46
            ],
            "sizemode": "area",
            "sizeref": 197.2357,
            "symbol": "circle"
           },
           "mode": "markers",
           "name": "GRC",
           "orientation": "v",
           "showlegend": true,
           "type": "scatter",
           "x": [
            70.16
           ],
           "xaxis": "x",
           "y": [
            31272.46
           ],
           "yaxis": "y"
          },
          {
           "hovertemplate": "<b>%{hovertext}</b><br><br>ISO3=HUN<br>year=2012<br>Healthy life expectancy at birth=%{x}<br>money=%{marker.size}<extra></extra>",
           "hovertext": [
            "Hungary"
           ],
           "legendgroup": "HUN",
           "marker": {
            "color": "#FF97FF",
            "size": [
             23506
            ],
            "sizemode": "area",
            "sizeref": 197.2357,
            "symbol": "circle"
           },
           "mode": "markers",
           "name": "HUN",
           "orientation": "v",
           "showlegend": true,
           "type": "scatter",
           "x": [
            66.12
           ],
           "xaxis": "x",
           "y": [
            23506
           ],
           "yaxis": "y"
          },
          {
           "hovertemplate": "<b>%{hovertext}</b><br><br>ISO3=ITA<br>year=2012<br>Healthy life expectancy at birth=%{x}<br>money=%{marker.size}<extra></extra>",
           "hovertext": [
            "Italy"
           ],
           "legendgroup": "ITA",
           "marker": {
            "color": "#FECB52",
            "size": [
             45379
            ],
            "sizemode": "area",
            "sizeref": 197.2357,
            "symbol": "circle"
           },
           "mode": "markers",
           "name": "ITA",
           "orientation": "v",
           "showlegend": true,
           "type": "scatter",
           "x": [
            71.3
           ],
           "xaxis": "x",
           "y": [
            45379
           ],
           "yaxis": "y"
          },
          {
           "hovertemplate": "<b>%{hovertext}</b><br><br>ISO3=JPN<br>year=2012<br>Healthy life expectancy at birth=%{x}<br>money=%{marker.size}<extra></extra>",
           "hovertext": [
            "Japan"
           ],
           "legendgroup": "JPN",
           "marker": {
            "color": "#636efa",
            "size": [
             40963
            ],
            "sizemode": "area",
            "sizeref": 197.2357,
            "symbol": "circle"
           },
           "mode": "markers",
           "name": "JPN",
           "orientation": "v",
           "showlegend": true,
           "type": "scatter",
           "x": [
            73.24
           ],
           "xaxis": "x",
           "y": [
            40963
           ],
           "yaxis": "y"
          },
          {
           "hovertemplate": "<b>%{hovertext}</b><br><br>ISO3=MEX<br>year=2012<br>Healthy life expectancy at birth=%{x}<br>money=%{marker.size}<extra></extra>",
           "hovertext": [
            "Mexico"
           ],
           "legendgroup": "MEX",
           "marker": {
            "color": "#EF553B",
            "size": [
             17457.21
            ],
            "sizemode": "area",
            "sizeref": 197.2357,
            "symbol": "circle"
           },
           "mode": "markers",
           "name": "MEX",
           "orientation": "v",
           "showlegend": true,
           "type": "scatter",
           "x": [
            65.38
           ],
           "xaxis": "x",
           "y": [
            17457.21
           ],
           "yaxis": "y"
          },
          {
           "hovertemplate": "<b>%{hovertext}</b><br><br>ISO3=NLD<br>year=2012<br>Healthy life expectancy at birth=%{x}<br>money=%{marker.size}<extra></extra>",
           "hovertext": [
            "Netherlands"
           ],
           "legendgroup": "NLD",
           "marker": {
            "color": "#00cc96",
            "size": [
             66198
            ],
            "sizemode": "area",
            "sizeref": 197.2357,
            "symbol": "circle"
           },
           "mode": "markers",
           "name": "NLD",
           "orientation": "v",
           "showlegend": true,
           "type": "scatter",
           "x": [
            70.98
           ],
           "xaxis": "x",
           "y": [
            66198
           ],
           "yaxis": "y"
          },
          {
           "hovertemplate": "<b>%{hovertext}</b><br><br>ISO3=POL<br>year=2012<br>Healthy life expectancy at birth=%{x}<br>money=%{marker.size}<extra></extra>",
           "hovertext": [
            "Poland"
           ],
           "legendgroup": "POL",
           "marker": {
            "color": "#ab63fa",
            "size": [
             27972
            ],
            "sizemode": "area",
            "sizeref": 197.2357,
            "symbol": "circle"
           },
           "mode": "markers",
           "name": "POL",
           "orientation": "v",
           "showlegend": true,
           "type": "scatter",
           "x": [
            67.46
           ],
           "xaxis": "x",
           "y": [
            27972
           ],
           "yaxis": "y"
          },
          {
           "hovertemplate": "<b>%{hovertext}</b><br><br>ISO3=ESP<br>year=2012<br>Healthy life expectancy at birth=%{x}<br>money=%{marker.size}<extra></extra>",
           "hovertext": [
            "Spain"
           ],
           "legendgroup": "ESP",
           "marker": {
            "color": "#FFA15A",
            "size": [
             44427
            ],
            "sizemode": "area",
            "sizeref": 197.2357,
            "symbol": "circle"
           },
           "mode": "markers",
           "name": "ESP",
           "orientation": "v",
           "showlegend": true,
           "type": "scatter",
           "x": [
            71.24
           ],
           "xaxis": "x",
           "y": [
            44427
           ],
           "yaxis": "y"
          },
          {
           "hovertemplate": "<b>%{hovertext}</b><br><br>ISO3=SWE<br>year=2012<br>Healthy life expectancy at birth=%{x}<br>money=%{marker.size}<extra></extra>",
           "hovertext": [
            "Sweden"
           ],
           "legendgroup": "SWE",
           "marker": {
            "color": "#19d3f3",
            "size": [
             46993
            ],
            "sizemode": "area",
            "sizeref": 197.2357,
            "symbol": "circle"
           },
           "mode": "markers",
           "name": "SWE",
           "orientation": "v",
           "showlegend": true,
           "type": "scatter",
           "x": [
            71.28
           ],
           "xaxis": "x",
           "y": [
            46993
           ],
           "yaxis": "y"
          },
          {
           "hovertemplate": "<b>%{hovertext}</b><br><br>ISO3=GBR<br>year=2012<br>Healthy life expectancy at birth=%{x}<br>money=%{marker.size}<extra></extra>",
           "hovertext": [
            "United Kingdom"
           ],
           "legendgroup": "GBR",
           "marker": {
            "color": "#FF6692",
            "size": [
             51070
            ],
            "sizemode": "area",
            "sizeref": 197.2357,
            "symbol": "circle"
           },
           "mode": "markers",
           "name": "GBR",
           "orientation": "v",
           "showlegend": true,
           "type": "scatter",
           "x": [
            69.52
           ],
           "xaxis": "x",
           "y": [
            51070
           ],
           "yaxis": "y"
          },
          {
           "hovertemplate": "<b>%{hovertext}</b><br><br>ISO3=AUT<br>year=2012<br>Healthy life expectancy at birth=%{x}<br>money=%{marker.size}<extra></extra>",
           "hovertext": [
            "Austria"
           ],
           "legendgroup": "AUT",
           "marker": {
            "color": "#B6E880",
            "size": [
             62515
            ],
            "sizemode": "area",
            "sizeref": 197.2357,
            "symbol": "circle"
           },
           "mode": "markers",
           "name": "AUT",
           "orientation": "v",
           "showlegend": true,
           "type": "scatter",
           "x": [
            70.1
           ],
           "xaxis": "x",
           "y": [
            62515
           ],
           "yaxis": "y"
          },
          {
           "hovertemplate": "<b>%{hovertext}</b><br><br>ISO3=CHL<br>year=2012<br>Healthy life expectancy at birth=%{x}<br>money=%{marker.size}<extra></extra>",
           "hovertext": [
            "Chile"
           ],
           "legendgroup": "CHL",
           "marker": {
            "color": "#FF97FF",
            "size": [
             29661
            ],
            "sizemode": "area",
            "sizeref": 197.2357,
            "symbol": "circle"
           },
           "mode": "markers",
           "name": "CHL",
           "orientation": "v",
           "showlegend": true,
           "type": "scatter",
           "x": [
            68.86
           ],
           "xaxis": "x",
           "y": [
            29661
           ],
           "yaxis": "y"
          },
          {
           "hovertemplate": "<b>%{hovertext}</b><br><br>ISO3=CRI<br>year=2012<br>Healthy life expectancy at birth=%{x}<br>money=%{marker.size}<extra></extra>",
           "hovertext": [
            "Costa Rica"
           ],
           "legendgroup": "CRI",
           "marker": {
            "color": "#FECB52",
            "size": [
             19540.81
            ],
            "sizemode": "area",
            "sizeref": 197.2357,
            "symbol": "circle"
           },
           "mode": "markers",
           "name": "CRI",
           "orientation": "v",
           "showlegend": true,
           "type": "scatter",
           "x": [
            69.52
           ],
           "xaxis": "x",
           "y": [
            19540.81
           ],
           "yaxis": "y"
          },
          {
           "hovertemplate": "<b>%{hovertext}</b><br><br>ISO3=EST<br>year=2012<br>Healthy life expectancy at birth=%{x}<br>money=%{marker.size}<extra></extra>",
           "hovertext": [
            "Estonia"
           ],
           "legendgroup": "EST",
           "marker": {
            "color": "#636efa",
            "size": [
             24256
            ],
            "sizemode": "area",
            "sizeref": 197.2357,
            "symbol": "circle"
           },
           "mode": "markers",
           "name": "EST",
           "orientation": "v",
           "showlegend": true,
           "type": "scatter",
           "x": [
            67.46
           ],
           "xaxis": "x",
           "y": [
            24256
           ],
           "yaxis": "y"
          },
          {
           "hovertemplate": "<b>%{hovertext}</b><br><br>ISO3=FIN<br>year=2012<br>Healthy life expectancy at birth=%{x}<br>money=%{marker.size}<extra></extra>",
           "hovertext": [
            "Finland"
           ],
           "legendgroup": "FIN",
           "marker": {
            "color": "#EF553B",
            "size": [
             49965
            ],
            "sizemode": "area",
            "sizeref": 197.2357,
            "symbol": "circle"
           },
           "mode": "markers",
           "name": "FIN",
           "orientation": "v",
           "showlegend": true,
           "type": "scatter",
           "x": [
            70.04
           ],
           "xaxis": "x",
           "y": [
            49965
           ],
           "yaxis": "y"
          },
          {
           "hovertemplate": "<b>%{hovertext}</b><br><br>ISO3=IRL<br>year=2012<br>Healthy life expectancy at birth=%{x}<br>money=%{marker.size}<extra></extra>",
           "hovertext": [
            "Ireland"
           ],
           "legendgroup": "IRL",
           "marker": {
            "color": "#00cc96",
            "size": [
             51578
            ],
            "sizemode": "area",
            "sizeref": 197.2357,
            "symbol": "circle"
           },
           "mode": "markers",
           "name": "IRL",
           "orientation": "v",
           "showlegend": true,
           "type": "scatter",
           "x": [
            70.34
           ],
           "xaxis": "x",
           "y": [
            51578
           ],
           "yaxis": "y"
          },
          {
           "hovertemplate": "<b>%{hovertext}</b><br><br>ISO3=ISR<br>year=2012<br>Healthy life expectancy at birth=%{x}<br>money=%{marker.size}<extra></extra>",
           "hovertext": [
            "Israel"
           ],
           "legendgroup": "ISR",
           "marker": {
            "color": "#ab63fa",
            "size": [
             35792
            ],
            "sizemode": "area",
            "sizeref": 197.2357,
            "symbol": "circle"
           },
           "mode": "markers",
           "name": "ISR",
           "orientation": "v",
           "showlegend": true,
           "type": "scatter",
           "x": [
            71.56
           ],
           "xaxis": "x",
           "y": [
            35792
           ],
           "yaxis": "y"
          },
          {
           "hovertemplate": "<b>%{hovertext}</b><br><br>ISO3=LVA<br>year=2012<br>Healthy life expectancy at birth=%{x}<br>money=%{marker.size}<extra></extra>",
           "hovertext": [
            "Latvia"
           ],
           "legendgroup": "LVA",
           "marker": {
            "color": "#FFA15A",
            "size": [
             22240
            ],
            "sizemode": "area",
            "sizeref": 197.2357,
            "symbol": "circle"
           },
           "mode": "markers",
           "name": "LVA",
           "orientation": "v",
           "showlegend": true,
           "type": "scatter",
           "x": [
            64.9
           ],
           "xaxis": "x",
           "y": [
            22240
           ],
           "yaxis": "y"
          },
          {
           "hovertemplate": "<b>%{hovertext}</b><br><br>ISO3=LTU<br>year=2012<br>Healthy life expectancy at birth=%{x}<br>money=%{marker.size}<extra></extra>",
           "hovertext": [
            "Lithuania"
           ],
           "legendgroup": "LTU",
           "marker": {
            "color": "#19d3f3",
            "size": [
             29401
            ],
            "sizemode": "area",
            "sizeref": 197.2357,
            "symbol": "circle"
           },
           "mode": "markers",
           "name": "LTU",
           "orientation": "v",
           "showlegend": true,
           "type": "scatter",
           "x": [
            64.7
           ],
           "xaxis": "x",
           "y": [
            29401
           ],
           "yaxis": "y"
          },
          {
           "hovertemplate": "<b>%{hovertext}</b><br><br>ISO3=NZL<br>year=2012<br>Healthy life expectancy at birth=%{x}<br>money=%{marker.size}<extra></extra>",
           "hovertext": [
            "New Zealand"
           ],
           "legendgroup": "NZL",
           "marker": {
            "color": "#FF6692",
            "size": [
             45402
            ],
            "sizemode": "area",
            "sizeref": 197.2357,
            "symbol": "circle"
           },
           "mode": "markers",
           "name": "NZL",
           "orientation": "v",
           "showlegend": true,
           "type": "scatter",
           "x": [
            69.84
           ],
           "xaxis": "x",
           "y": [
            45402
           ],
           "yaxis": "y"
          },
          {
           "hovertemplate": "<b>%{hovertext}</b><br><br>ISO3=NOR<br>year=2012<br>Healthy life expectancy at birth=%{x}<br>money=%{marker.size}<extra></extra>",
           "hovertext": [
            "Norway"
           ],
           "legendgroup": "NOR",
           "marker": {
            "color": "#B6E880",
            "size": [
             50542
            ],
            "sizemode": "area",
            "sizeref": 197.2357,
            "symbol": "circle"
           },
           "mode": "markers",
           "name": "NOR",
           "orientation": "v",
           "showlegend": true,
           "type": "scatter",
           "x": [
            70.6
           ],
           "xaxis": "x",
           "y": [
            50542
           ],
           "yaxis": "y"
          },
          {
           "hovertemplate": "<b>%{hovertext}</b><br><br>ISO3=PRT<br>year=2012<br>Healthy life expectancy at birth=%{x}<br>money=%{marker.size}<extra></extra>",
           "hovertext": [
            "Portugal"
           ],
           "legendgroup": "PRT",
           "marker": {
            "color": "#FF97FF",
            "size": [
             29495.54
            ],
            "sizemode": "area",
            "sizeref": 197.2357,
            "symbol": "circle"
           },
           "mode": "markers",
           "name": "PRT",
           "orientation": "v",
           "showlegend": true,
           "type": "scatter",
           "x": [
            69.78
           ],
           "xaxis": "x",
           "y": [
            29495.54
           ],
           "yaxis": "y"
          },
          {
           "hovertemplate": "<b>%{hovertext}</b><br><br>ISO3=SVK<br>year=2012<br>Healthy life expectancy at birth=%{x}<br>money=%{marker.size}<extra></extra>",
           "hovertext": [
            "Slovakia"
           ],
           "legendgroup": "SVK",
           "marker": {
            "color": "#FECB52",
            "size": [
             22161
            ],
            "sizemode": "area",
            "sizeref": 197.2357,
            "symbol": "circle"
           },
           "mode": "markers",
           "name": "SVK",
           "orientation": "v",
           "showlegend": true,
           "type": "scatter",
           "x": [
            66.94
           ],
           "xaxis": "x",
           "y": [
            22161
           ],
           "yaxis": "y"
          },
          {
           "hovertemplate": "<b>%{hovertext}</b><br><br>ISO3=SVN<br>year=2012<br>Healthy life expectancy at birth=%{x}<br>money=%{marker.size}<extra></extra>",
           "hovertext": [
            "Slovenia"
           ],
           "legendgroup": "SVN",
           "marker": {
            "color": "#636efa",
            "size": [
             41437.46
            ],
            "sizemode": "area",
            "sizeref": 197.2357,
            "symbol": "circle"
           },
           "mode": "markers",
           "name": "SVN",
           "orientation": "v",
           "showlegend": true,
           "type": "scatter",
           "x": [
            69.52
           ],
           "xaxis": "x",
           "y": [
            41437.46
           ],
           "yaxis": "y"
          },
          {
           "hovertemplate": "<b>%{hovertext}</b><br><br>ISO3=CHE<br>year=2012<br>Healthy life expectancy at birth=%{x}<br>money=%{marker.size}<extra></extra>",
           "hovertext": [
            "Switzerland"
           ],
           "legendgroup": "CHE",
           "marker": {
            "color": "#EF553B",
            "size": [
             69383
            ],
            "sizemode": "area",
            "sizeref": 197.2357,
            "symbol": "circle"
           },
           "mode": "markers",
           "name": "CHE",
           "orientation": "v",
           "showlegend": true,
           "type": "scatter",
           "x": [
            71.52
           ],
           "xaxis": "x",
           "y": [
            69383
           ],
           "yaxis": "y"
          },
          {
           "hovertemplate": "<b>%{hovertext}</b><br><br>ISO3=USA<br>year=2012<br>Healthy life expectancy at birth=%{x}<br>money=%{marker.size}<extra></extra>",
           "hovertext": [
            "United States"
           ],
           "legendgroup": "USA",
           "marker": {
            "color": "#00cc96",
            "size": [
             67928
            ],
            "sizemode": "area",
            "sizeref": 197.2357,
            "symbol": "circle"
           },
           "mode": "markers",
           "name": "USA",
           "orientation": "v",
           "showlegend": true,
           "type": "scatter",
           "x": [
            66.66
           ],
           "xaxis": "x",
           "y": [
            67928
           ],
           "yaxis": "y"
          },
          {
           "hovertemplate": "<b>%{hovertext}</b><br><br>ISO3=TUR<br>year=2012<br>Healthy life expectancy at birth=%{x}<br>money=%{marker.size}<extra></extra>",
           "hovertext": [
            "Turkey"
           ],
           "legendgroup": "TUR",
           "marker": {
            "color": "#ab63fa",
            "size": [
             24153
            ],
            "sizemode": "area",
            "sizeref": 197.2357,
            "symbol": "circle"
           },
           "mode": "markers",
           "name": "TUR",
           "orientation": "v",
           "showlegend": true,
           "type": "scatter",
           "x": [
            67.22
           ],
           "xaxis": "x",
           "y": [
            24153
           ],
           "yaxis": "y"
          },
          {
           "hovertemplate": "<b>%{hovertext}</b><br><br>ISO3=ISL<br>year=2012<br>Healthy life expectancy at birth=%{x}<br>money=%{marker.size}<extra></extra>",
           "hovertext": [
            "Iceland"
           ],
           "legendgroup": "ISL",
           "marker": {
            "color": "#FFA15A",
            "size": [
             56277
            ],
            "sizemode": "area",
            "sizeref": 197.2357,
            "symbol": "circle"
           },
           "mode": "markers",
           "name": "ISL",
           "orientation": "v",
           "showlegend": true,
           "type": "scatter",
           "x": [
            71.6
           ],
           "xaxis": "x",
           "y": [
            56277
           ],
           "yaxis": "y"
          },
          {
           "hovertemplate": "<b>%{hovertext}</b><br><br>ISO3=KOR<br>year=2012<br>Healthy life expectancy at birth=%{x}<br>money=%{marker.size}<extra></extra>",
           "hovertext": [
            "Korea, Republic of",
            "South Korea"
           ],
           "legendgroup": "KOR",
           "marker": {
            "color": "#19d3f3",
            "size": [
             39660,
             39660
            ],
            "sizemode": "area",
            "sizeref": 197.2357,
            "symbol": "circle"
           },
           "mode": "markers",
           "name": "KOR",
           "orientation": "v",
           "showlegend": true,
           "type": "scatter",
           "x": [
            71.34,
            71.34
           ],
           "xaxis": "x",
           "y": [
            39660,
            39660
           ],
           "yaxis": "y"
          },
          {
           "hovertemplate": "<b>%{hovertext}</b><br><br>ISO3=LUX<br>year=2012<br>Healthy life expectancy at birth=%{x}<br>money=%{marker.size}<extra></extra>",
           "hovertext": [
            "Luxembourg"
           ],
           "legendgroup": "LUX",
           "marker": {
            "color": "#FF6692",
            "size": [
             70741
            ],
            "sizemode": "area",
            "sizeref": 197.2357,
            "symbol": "circle"
           },
           "mode": "markers",
           "name": "LUX",
           "orientation": "v",
           "showlegend": true,
           "type": "scatter",
           "x": [
            70.9
           ],
           "xaxis": "x",
           "y": [
            70741
           ],
           "yaxis": "y"
          }
         ],
         "name": "2012"
        },
        {
         "data": [
          {
           "hovertemplate": "<b>%{hovertext}</b><br><br>ISO3=AUS<br>year=2013<br>Healthy life expectancy at birth=%{x}<br>money=%{marker.size}<extra></extra>",
           "hovertext": [
            "Australia"
           ],
           "legendgroup": "AUS",
           "marker": {
            "color": "#636efa",
            "size": [
             57579
            ],
            "sizemode": "area",
            "sizeref": 197.2357,
            "symbol": "circle"
           },
           "mode": "markers",
           "name": "AUS",
           "orientation": "v",
           "showlegend": true,
           "type": "scatter",
           "x": [
            70.44
           ],
           "xaxis": "x",
           "y": [
            57579
           ],
           "yaxis": "y"
          },
          {
           "hovertemplate": "<b>%{hovertext}</b><br><br>ISO3=BEL<br>year=2013<br>Healthy life expectancy at birth=%{x}<br>money=%{marker.size}<extra></extra>",
           "hovertext": [
            "Belgium"
           ],
           "legendgroup": "BEL",
           "marker": {
            "color": "#EF553B",
            "size": [
             65099
            ],
            "sizemode": "area",
            "sizeref": 197.2357,
            "symbol": "circle"
           },
           "mode": "markers",
           "name": "BEL",
           "orientation": "v",
           "showlegend": true,
           "type": "scatter",
           "x": [
            69.68
           ],
           "xaxis": "x",
           "y": [
            65099
           ],
           "yaxis": "y"
          },
          {
           "hovertemplate": "<b>%{hovertext}</b><br><br>ISO3=CAN<br>year=2013<br>Healthy life expectancy at birth=%{x}<br>money=%{marker.size}<extra></extra>",
           "hovertext": [
            "Canada"
           ],
           "legendgroup": "CAN",
           "marker": {
            "color": "#00cc96",
            "size": [
             54286
            ],
            "sizemode": "area",
            "sizeref": 197.2357,
            "symbol": "circle"
           },
           "mode": "markers",
           "name": "CAN",
           "orientation": "v",
           "showlegend": true,
           "type": "scatter",
           "x": [
            70.98
           ],
           "xaxis": "x",
           "y": [
            54286
           ],
           "yaxis": "y"
          },
          {
           "hovertemplate": "<b>%{hovertext}</b><br><br>ISO3=CZE<br>year=2013<br>Healthy life expectancy at birth=%{x}<br>money=%{marker.size}<extra></extra>",
           "hovertext": [
            "Czech Republic"
           ],
           "legendgroup": "CZE",
           "marker": {
            "color": "#ab63fa",
            "size": [
             28754
            ],
            "sizemode": "area",
            "sizeref": 197.2357,
            "symbol": "circle"
           },
           "mode": "markers",
           "name": "CZE",
           "orientation": "v",
           "showlegend": true,
           "type": "scatter",
           "x": [
            68.06
           ],
           "xaxis": "x",
           "y": [
            28754
           ],
           "yaxis": "y"
          },
          {
           "hovertemplate": "<b>%{hovertext}</b><br><br>ISO3=DNK<br>year=2013<br>Healthy life expectancy at birth=%{x}<br>money=%{marker.size}<extra></extra>",
           "hovertext": [
            "Denmark"
           ],
           "legendgroup": "DNK",
           "marker": {
            "color": "#FFA15A",
            "size": [
             61548
            ],
            "sizemode": "area",
            "sizeref": 197.2357,
            "symbol": "circle"
           },
           "mode": "markers",
           "name": "DNK",
           "orientation": "v",
           "showlegend": true,
           "type": "scatter",
           "x": [
            70.06
           ],
           "xaxis": "x",
           "y": [
            61548
           ],
           "yaxis": "y"
          },
          {
           "hovertemplate": "<b>%{hovertext}</b><br><br>ISO3=FRA<br>year=2013<br>Healthy life expectancy at birth=%{x}<br>money=%{marker.size}<extra></extra>",
           "hovertext": [
            "France"
           ],
           "legendgroup": "FRA",
           "marker": {
            "color": "#19d3f3",
            "size": [
             50581
            ],
            "sizemode": "area",
            "sizeref": 197.2357,
            "symbol": "circle"
           },
           "mode": "markers",
           "name": "FRA",
           "orientation": "v",
           "showlegend": true,
           "type": "scatter",
           "x": [
            71.5
           ],
           "xaxis": "x",
           "y": [
            50581
           ],
           "yaxis": "y"
          },
          {
           "hovertemplate": "<b>%{hovertext}</b><br><br>ISO3=DEU<br>year=2013<br>Healthy life expectancy at birth=%{x}<br>money=%{marker.size}<extra></extra>",
           "hovertext": [
            "Germany"
           ],
           "legendgroup": "DEU",
           "marker": {
            "color": "#FF6692",
            "size": [
             55215
            ],
            "sizemode": "area",
            "sizeref": 197.2357,
            "symbol": "circle"
           },
           "mode": "markers",
           "name": "DEU",
           "orientation": "v",
           "showlegend": true,
           "type": "scatter",
           "x": [
            70.06
           ],
           "xaxis": "x",
           "y": [
            55215
           ],
           "yaxis": "y"
          },
          {
           "hovertemplate": "<b>%{hovertext}</b><br><br>ISO3=GRC<br>year=2013<br>Healthy life expectancy at birth=%{x}<br>money=%{marker.size}<extra></extra>",
           "hovertext": [
            "Greece"
           ],
           "legendgroup": "GRC",
           "marker": {
            "color": "#B6E880",
            "size": [
             29229
            ],
            "sizemode": "area",
            "sizeref": 197.2357,
            "symbol": "circle"
           },
           "mode": "markers",
           "name": "GRC",
           "orientation": "v",
           "showlegend": true,
           "type": "scatter",
           "x": [
            70.24
           ],
           "xaxis": "x",
           "y": [
            29229
           ],
           "yaxis": "y"
          },
          {
           "hovertemplate": "<b>%{hovertext}</b><br><br>ISO3=HUN<br>year=2013<br>Healthy life expectancy at birth=%{x}<br>money=%{marker.size}<extra></extra>",
           "hovertext": [
            "Hungary"
           ],
           "legendgroup": "HUN",
           "marker": {
            "color": "#FF97FF",
            "size": [
             23266.38
            ],
            "sizemode": "area",
            "sizeref": 197.2357,
            "symbol": "circle"
           },
           "mode": "markers",
           "name": "HUN",
           "orientation": "v",
           "showlegend": true,
           "type": "scatter",
           "x": [
            66.28
           ],
           "xaxis": "x",
           "y": [
            23266.38
           ],
           "yaxis": "y"
          },
          {
           "hovertemplate": "<b>%{hovertext}</b><br><br>ISO3=ITA<br>year=2013<br>Healthy life expectancy at birth=%{x}<br>money=%{marker.size}<extra></extra>",
           "hovertext": [
            "Italy"
           ],
           "legendgroup": "ITA",
           "marker": {
            "color": "#FECB52",
            "size": [
             45527
            ],
            "sizemode": "area",
            "sizeref": 197.2357,
            "symbol": "circle"
           },
           "mode": "markers",
           "name": "ITA",
           "orientation": "v",
           "showlegend": true,
           "type": "scatter",
           "x": [
            71.4
           ],
           "xaxis": "x",
           "y": [
            45527
           ],
           "yaxis": "y"
          },
          {
           "hovertemplate": "<b>%{hovertext}</b><br><br>ISO3=JPN<br>year=2013<br>Healthy life expectancy at birth=%{x}<br>money=%{marker.size}<extra></extra>",
           "hovertext": [
            "Japan"
           ],
           "legendgroup": "JPN",
           "marker": {
            "color": "#636efa",
            "size": [
             40995
            ],
            "sizemode": "area",
            "sizeref": 197.2357,
            "symbol": "circle"
           },
           "mode": "markers",
           "name": "JPN",
           "orientation": "v",
           "showlegend": true,
           "type": "scatter",
           "x": [
            73.36
           ],
           "xaxis": "x",
           "y": [
            40995
           ],
           "yaxis": "y"
          },
          {
           "hovertemplate": "<b>%{hovertext}</b><br><br>ISO3=MEX<br>year=2013<br>Healthy life expectancy at birth=%{x}<br>money=%{marker.size}<extra></extra>",
           "hovertext": [
            "Mexico"
           ],
           "legendgroup": "MEX",
           "marker": {
            "color": "#EF553B",
            "size": [
             17469.69
            ],
            "sizemode": "area",
            "sizeref": 197.2357,
            "symbol": "circle"
           },
           "mode": "markers",
           "name": "MEX",
           "orientation": "v",
           "showlegend": true,
           "type": "scatter",
           "x": [
            65.52
           ],
           "xaxis": "x",
           "y": [
            17469.69
           ],
           "yaxis": "y"
          },
          {
           "hovertemplate": "<b>%{hovertext}</b><br><br>ISO3=NLD<br>year=2013<br>Healthy life expectancy at birth=%{x}<br>money=%{marker.size}<extra></extra>",
           "hovertext": [
            "Netherlands"
           ],
           "legendgroup": "NLD",
           "marker": {
            "color": "#00cc96",
            "size": [
             66395
            ],
            "sizemode": "area",
            "sizeref": 197.2357,
            "symbol": "circle"
           },
           "mode": "markers",
           "name": "NLD",
           "orientation": "v",
           "showlegend": true,
           "type": "scatter",
           "x": [
            71.02
           ],
           "xaxis": "x",
           "y": [
            66395
           ],
           "yaxis": "y"
          },
          {
           "hovertemplate": "<b>%{hovertext}</b><br><br>ISO3=POL<br>year=2013<br>Healthy life expectancy at birth=%{x}<br>money=%{marker.size}<extra></extra>",
           "hovertext": [
            "Poland"
           ],
           "legendgroup": "POL",
           "marker": {
            "color": "#ab63fa",
            "size": [
             28273.57
            ],
            "sizemode": "area",
            "sizeref": 197.2357,
            "symbol": "circle"
           },
           "mode": "markers",
           "name": "POL",
           "orientation": "v",
           "showlegend": true,
           "type": "scatter",
           "x": [
            67.64
           ],
           "xaxis": "x",
           "y": [
            28273.57
           ],
           "yaxis": "y"
          },
          {
           "hovertemplate": "<b>%{hovertext}</b><br><br>ISO3=ESP<br>year=2013<br>Healthy life expectancy at birth=%{x}<br>money=%{marker.size}<extra></extra>",
           "hovertext": [
            "Spain"
           ],
           "legendgroup": "ESP",
           "marker": {
            "color": "#FFA15A",
            "size": [
             44431
            ],
            "sizemode": "area",
            "sizeref": 197.2357,
            "symbol": "circle"
           },
           "mode": "markers",
           "name": "ESP",
           "orientation": "v",
           "showlegend": true,
           "type": "scatter",
           "x": [
            71.36
           ],
           "xaxis": "x",
           "y": [
            44431
           ],
           "yaxis": "y"
          },
          {
           "hovertemplate": "<b>%{hovertext}</b><br><br>ISO3=SWE<br>year=2013<br>Healthy life expectancy at birth=%{x}<br>money=%{marker.size}<extra></extra>",
           "hovertext": [
            "Sweden"
           ],
           "legendgroup": "SWE",
           "marker": {
            "color": "#19d3f3",
            "size": [
             47506
            ],
            "sizemode": "area",
            "sizeref": 197.2357,
            "symbol": "circle"
           },
           "mode": "markers",
           "name": "SWE",
           "orientation": "v",
           "showlegend": true,
           "type": "scatter",
           "x": [
            71.32
           ],
           "xaxis": "x",
           "y": [
            47506
           ],
           "yaxis": "y"
          },
          {
           "hovertemplate": "<b>%{hovertext}</b><br><br>ISO3=GBR<br>year=2013<br>Healthy life expectancy at birth=%{x}<br>money=%{marker.size}<extra></extra>",
           "hovertext": [
            "United Kingdom"
           ],
           "legendgroup": "GBR",
           "marker": {
            "color": "#FF6692",
            "size": [
             51594
            ],
            "sizemode": "area",
            "sizeref": 197.2357,
            "symbol": "circle"
           },
           "mode": "markers",
           "name": "GBR",
           "orientation": "v",
           "showlegend": true,
           "type": "scatter",
           "x": [
            69.58
           ],
           "xaxis": "x",
           "y": [
            51594
           ],
           "yaxis": "y"
          },
          {
           "hovertemplate": "<b>%{hovertext}</b><br><br>ISO3=AUT<br>year=2013<br>Healthy life expectancy at birth=%{x}<br>money=%{marker.size}<extra></extra>",
           "hovertext": [
            "Austria"
           ],
           "legendgroup": "AUT",
           "marker": {
            "color": "#B6E880",
            "size": [
             62568
            ],
            "sizemode": "area",
            "sizeref": 197.2357,
            "symbol": "circle"
           },
           "mode": "markers",
           "name": "AUT",
           "orientation": "v",
           "showlegend": true,
           "type": "scatter",
           "x": [
            70.2
           ],
           "xaxis": "x",
           "y": [
            62568
           ],
           "yaxis": "y"
          },
          {
           "hovertemplate": "<b>%{hovertext}</b><br><br>ISO3=CHL<br>year=2013<br>Healthy life expectancy at birth=%{x}<br>money=%{marker.size}<extra></extra>",
           "hovertext": [
            "Chile"
           ],
           "legendgroup": "CHL",
           "marker": {
            "color": "#FF97FF",
            "size": [
             30530
            ],
            "sizemode": "area",
            "sizeref": 197.2357,
            "symbol": "circle"
           },
           "mode": "markers",
           "name": "CHL",
           "orientation": "v",
           "showlegend": true,
           "type": "scatter",
           "x": [
            69.04
           ],
           "xaxis": "x",
           "y": [
            30530
           ],
           "yaxis": "y"
          },
          {
           "hovertemplate": "<b>%{hovertext}</b><br><br>ISO3=CRI<br>year=2013<br>Healthy life expectancy at birth=%{x}<br>money=%{marker.size}<extra></extra>",
           "hovertext": [
            "Costa Rica"
           ],
           "legendgroup": "CRI",
           "marker": {
            "color": "#FECB52",
            "size": [
             21696.29
            ],
            "sizemode": "area",
            "sizeref": 197.2357,
            "symbol": "circle"
           },
           "mode": "markers",
           "name": "CRI",
           "orientation": "v",
           "showlegend": true,
           "type": "scatter",
           "x": [
            69.68
           ],
           "xaxis": "x",
           "y": [
            21696.29
           ],
           "yaxis": "y"
          },
          {
           "hovertemplate": "<b>%{hovertext}</b><br><br>ISO3=EST<br>year=2013<br>Healthy life expectancy at birth=%{x}<br>money=%{marker.size}<extra></extra>",
           "hovertext": [
            "Estonia"
           ],
           "legendgroup": "EST",
           "marker": {
            "color": "#636efa",
            "size": [
             24858.68
            ],
            "sizemode": "area",
            "sizeref": 197.2357,
            "symbol": "circle"
           },
           "mode": "markers",
           "name": "EST",
           "orientation": "v",
           "showlegend": true,
           "type": "scatter",
           "x": [
            67.74
           ],
           "xaxis": "x",
           "y": [
            24858.68
           ],
           "yaxis": "y"
          },
          {
           "hovertemplate": "<b>%{hovertext}</b><br><br>ISO3=FIN<br>year=2013<br>Healthy life expectancy at birth=%{x}<br>money=%{marker.size}<extra></extra>",
           "hovertext": [
            "Finland"
           ],
           "legendgroup": "FIN",
           "marker": {
            "color": "#EF553B",
            "size": [
             49465
            ],
            "sizemode": "area",
            "sizeref": 197.2357,
            "symbol": "circle"
           },
           "mode": "markers",
           "name": "FIN",
           "orientation": "v",
           "showlegend": true,
           "type": "scatter",
           "x": [
            70.26
           ],
           "xaxis": "x",
           "y": [
            49465
           ],
           "yaxis": "y"
          },
          {
           "hovertemplate": "<b>%{hovertext}</b><br><br>ISO3=IRL<br>year=2013<br>Healthy life expectancy at birth=%{x}<br>money=%{marker.size}<extra></extra>",
           "hovertext": [
            "Ireland"
           ],
           "legendgroup": "IRL",
           "marker": {
            "color": "#00cc96",
            "size": [
             50323
            ],
            "sizemode": "area",
            "sizeref": 197.2357,
            "symbol": "circle"
           },
           "mode": "markers",
           "name": "IRL",
           "orientation": "v",
           "showlegend": true,
           "type": "scatter",
           "x": [
            70.46
           ],
           "xaxis": "x",
           "y": [
            50323
           ],
           "yaxis": "y"
          },
          {
           "hovertemplate": "<b>%{hovertext}</b><br><br>ISO3=ISR<br>year=2013<br>Healthy life expectancy at birth=%{x}<br>money=%{marker.size}<extra></extra>",
           "hovertext": [
            "Israel"
           ],
           "legendgroup": "ISR",
           "marker": {
            "color": "#ab63fa",
            "size": [
             35900
            ],
            "sizemode": "area",
            "sizeref": 197.2357,
            "symbol": "circle"
           },
           "mode": "markers",
           "name": "ISR",
           "orientation": "v",
           "showlegend": true,
           "type": "scatter",
           "x": [
            71.64
           ],
           "xaxis": "x",
           "y": [
            35900
           ],
           "yaxis": "y"
          },
          {
           "hovertemplate": "<b>%{hovertext}</b><br><br>ISO3=LVA<br>year=2013<br>Healthy life expectancy at birth=%{x}<br>money=%{marker.size}<extra></extra>",
           "hovertext": [
            "Latvia"
           ],
           "legendgroup": "LVA",
           "marker": {
            "color": "#FFA15A",
            "size": [
             23301.45
            ],
            "sizemode": "area",
            "sizeref": 197.2357,
            "symbol": "circle"
           },
           "mode": "markers",
           "name": "LVA",
           "orientation": "v",
           "showlegend": true,
           "type": "scatter",
           "x": [
            65.2
           ],
           "xaxis": "x",
           "y": [
            23301.45
           ],
           "yaxis": "y"
          },
          {
           "hovertemplate": "<b>%{hovertext}</b><br><br>ISO3=LTU<br>year=2013<br>Healthy life expectancy at birth=%{x}<br>money=%{marker.size}<extra></extra>",
           "hovertext": [
            "Lithuania"
           ],
           "legendgroup": "LTU",
           "marker": {
            "color": "#19d3f3",
            "size": [
             30514.65
            ],
            "sizemode": "area",
            "sizeref": 197.2357,
            "symbol": "circle"
           },
           "mode": "markers",
           "name": "LTU",
           "orientation": "v",
           "showlegend": true,
           "type": "scatter",
           "x": [
            64.9
           ],
           "xaxis": "x",
           "y": [
            30514.65
           ],
           "yaxis": "y"
          },
          {
           "hovertemplate": "<b>%{hovertext}</b><br><br>ISO3=NZL<br>year=2013<br>Healthy life expectancy at birth=%{x}<br>money=%{marker.size}<extra></extra>",
           "hovertext": [
            "New Zealand"
           ],
           "legendgroup": "NZL",
           "marker": {
            "color": "#FF6692",
            "size": [
             44794
            ],
            "sizemode": "area",
            "sizeref": 197.2357,
            "symbol": "circle"
           },
           "mode": "markers",
           "name": "NZL",
           "orientation": "v",
           "showlegend": true,
           "type": "scatter",
           "x": [
            69.86
           ],
           "xaxis": "x",
           "y": [
            44794
           ],
           "yaxis": "y"
          },
          {
           "hovertemplate": "<b>%{hovertext}</b><br><br>ISO3=PRT<br>year=2013<br>Healthy life expectancy at birth=%{x}<br>money=%{marker.size}<extra></extra>",
           "hovertext": [
            "Portugal"
           ],
           "legendgroup": "PRT",
           "marker": {
            "color": "#FF97FF",
            "size": [
             30055.6
            ],
            "sizemode": "area",
            "sizeref": 197.2357,
            "symbol": "circle"
           },
           "mode": "markers",
           "name": "PRT",
           "orientation": "v",
           "showlegend": true,
           "type": "scatter",
           "x": [
            70.02
           ],
           "xaxis": "x",
           "y": [
            30055.6
           ],
           "yaxis": "y"
          },
          {
           "hovertemplate": "<b>%{hovertext}</b><br><br>ISO3=SVK<br>year=2013<br>Healthy life expectancy at birth=%{x}<br>money=%{marker.size}<extra></extra>",
           "hovertext": [
            "Slovakia"
           ],
           "legendgroup": "SVK",
           "marker": {
            "color": "#FECB52",
            "size": [
             22333
            ],
            "sizemode": "area",
            "sizeref": 197.2357,
            "symbol": "circle"
           },
           "mode": "markers",
           "name": "SVK",
           "orientation": "v",
           "showlegend": true,
           "type": "scatter",
           "x": [
            67.16
           ],
           "xaxis": "x",
           "y": [
            22333
           ],
           "yaxis": "y"
          },
          {
           "hovertemplate": "<b>%{hovertext}</b><br><br>ISO3=SVN<br>year=2013<br>Healthy life expectancy at birth=%{x}<br>money=%{marker.size}<extra></extra>",
           "hovertext": [
            "Slovenia"
           ],
           "legendgroup": "SVN",
           "marker": {
            "color": "#636efa",
            "size": [
             40760
            ],
            "sizemode": "area",
            "sizeref": 197.2357,
            "symbol": "circle"
           },
           "mode": "markers",
           "name": "SVN",
           "orientation": "v",
           "showlegend": true,
           "type": "scatter",
           "x": [
            69.68
           ],
           "xaxis": "x",
           "y": [
            40760
           ],
           "yaxis": "y"
          },
          {
           "hovertemplate": "<b>%{hovertext}</b><br><br>ISO3=USA<br>year=2013<br>Healthy life expectancy at birth=%{x}<br>money=%{marker.size}<extra></extra>",
           "hovertext": [
            "United States"
           ],
           "legendgroup": "USA",
           "marker": {
            "color": "#00cc96",
            "size": [
             67604
            ],
            "sizemode": "area",
            "sizeref": 197.2357,
            "symbol": "circle"
           },
           "mode": "markers",
           "name": "USA",
           "orientation": "v",
           "showlegend": true,
           "type": "scatter",
           "x": [
            66.64
           ],
           "xaxis": "x",
           "y": [
            67604
           ],
           "yaxis": "y"
          },
          {
           "hovertemplate": "<b>%{hovertext}</b><br><br>ISO3=TUR<br>year=2013<br>Healthy life expectancy at birth=%{x}<br>money=%{marker.size}<extra></extra>",
           "hovertext": [
            "Turkey"
           ],
           "legendgroup": "TUR",
           "marker": {
            "color": "#ab63fa",
            "size": [
             25265
            ],
            "sizemode": "area",
            "sizeref": 197.2357,
            "symbol": "circle"
           },
           "mode": "markers",
           "name": "TUR",
           "orientation": "v",
           "showlegend": true,
           "type": "scatter",
           "x": [
            67.38
           ],
           "xaxis": "x",
           "y": [
            25265
           ],
           "yaxis": "y"
          },
          {
           "hovertemplate": "<b>%{hovertext}</b><br><br>ISO3=ISL<br>year=2013<br>Healthy life expectancy at birth=%{x}<br>money=%{marker.size}<extra></extra>",
           "hovertext": [
            "Iceland"
           ],
           "legendgroup": "ISL",
           "marker": {
            "color": "#FFA15A",
            "size": [
             57135
            ],
            "sizemode": "area",
            "sizeref": 197.2357,
            "symbol": "circle"
           },
           "mode": "markers",
           "name": "ISL",
           "orientation": "v",
           "showlegend": true,
           "type": "scatter",
           "x": [
            71.7
           ],
           "xaxis": "x",
           "y": [
            57135
           ],
           "yaxis": "y"
          },
          {
           "hovertemplate": "<b>%{hovertext}</b><br><br>ISO3=KOR<br>year=2013<br>Healthy life expectancy at birth=%{x}<br>money=%{marker.size}<extra></extra>",
           "hovertext": [
            "Korea, Republic of",
            "South Korea"
           ],
           "legendgroup": "KOR",
           "marker": {
            "color": "#19d3f3",
            "size": [
             40661,
             40661
            ],
            "sizemode": "area",
            "sizeref": 197.2357,
            "symbol": "circle"
           },
           "mode": "markers",
           "name": "KOR",
           "orientation": "v",
           "showlegend": true,
           "type": "scatter",
           "x": [
            71.56,
            71.56
           ],
           "xaxis": "x",
           "y": [
            40661,
            40661
           ],
           "yaxis": "y"
          },
          {
           "hovertemplate": "<b>%{hovertext}</b><br><br>ISO3=LUX<br>year=2013<br>Healthy life expectancy at birth=%{x}<br>money=%{marker.size}<extra></extra>",
           "hovertext": [
            "Luxembourg"
           ],
           "legendgroup": "LUX",
           "marker": {
            "color": "#FF6692",
            "size": [
             71601
            ],
            "sizemode": "area",
            "sizeref": 197.2357,
            "symbol": "circle"
           },
           "mode": "markers",
           "name": "LUX",
           "orientation": "v",
           "showlegend": true,
           "type": "scatter",
           "x": [
            71.1
           ],
           "xaxis": "x",
           "y": [
            71601
           ],
           "yaxis": "y"
          }
         ],
         "name": "2013"
        },
        {
         "data": [
          {
           "hovertemplate": "<b>%{hovertext}</b><br><br>ISO3=AUS<br>year=2014<br>Healthy life expectancy at birth=%{x}<br>money=%{marker.size}<extra></extra>",
           "hovertext": [
            "Australia"
           ],
           "legendgroup": "AUS",
           "marker": {
            "color": "#636efa",
            "size": [
             58102
            ],
            "sizemode": "area",
            "sizeref": 197.2357,
            "symbol": "circle"
           },
           "mode": "markers",
           "name": "AUS",
           "orientation": "v",
           "showlegend": true,
           "type": "scatter",
           "x": [
            70.52
           ],
           "xaxis": "x",
           "y": [
            58102
           ],
           "yaxis": "y"
          },
          {
           "hovertemplate": "<b>%{hovertext}</b><br><br>ISO3=BEL<br>year=2014<br>Healthy life expectancy at birth=%{x}<br>money=%{marker.size}<extra></extra>",
           "hovertext": [
            "Belgium"
           ],
           "legendgroup": "BEL",
           "marker": {
            "color": "#EF553B",
            "size": [
             65461
            ],
            "sizemode": "area",
            "sizeref": 197.2357,
            "symbol": "circle"
           },
           "mode": "markers",
           "name": "BEL",
           "orientation": "v",
           "showlegend": true,
           "type": "scatter",
           "x": [
            69.84
           ],
           "xaxis": "x",
           "y": [
            65461
           ],
           "yaxis": "y"
          },
          {
           "hovertemplate": "<b>%{hovertext}</b><br><br>ISO3=CAN<br>year=2014<br>Healthy life expectancy at birth=%{x}<br>money=%{marker.size}<extra></extra>",
           "hovertext": [
            "Canada"
           ],
           "legendgroup": "CAN",
           "marker": {
            "color": "#00cc96",
            "size": [
             54995
            ],
            "sizemode": "area",
            "sizeref": 197.2357,
            "symbol": "circle"
           },
           "mode": "markers",
           "name": "CAN",
           "orientation": "v",
           "showlegend": true,
           "type": "scatter",
           "x": [
            71.04
           ],
           "xaxis": "x",
           "y": [
            54995
           ],
           "yaxis": "y"
          },
          {
           "hovertemplate": "<b>%{hovertext}</b><br><br>ISO3=CZE<br>year=2014<br>Healthy life expectancy at birth=%{x}<br>money=%{marker.size}<extra></extra>",
           "hovertext": [
            "Czech Republic"
           ],
           "legendgroup": "CZE",
           "marker": {
            "color": "#ab63fa",
            "size": [
             29360.49
            ],
            "sizemode": "area",
            "sizeref": 197.2357,
            "symbol": "circle"
           },
           "mode": "markers",
           "name": "CZE",
           "orientation": "v",
           "showlegend": true,
           "type": "scatter",
           "x": [
            68.18
           ],
           "xaxis": "x",
           "y": [
            29360.49
           ],
           "yaxis": "y"
          },
          {
           "hovertemplate": "<b>%{hovertext}</b><br><br>ISO3=DNK<br>year=2014<br>Healthy life expectancy at birth=%{x}<br>money=%{marker.size}<extra></extra>",
           "hovertext": [
            "Denmark"
           ],
           "legendgroup": "DNK",
           "marker": {
            "color": "#FFA15A",
            "size": [
             62723
            ],
            "sizemode": "area",
            "sizeref": 197.2357,
            "symbol": "circle"
           },
           "mode": "markers",
           "name": "DNK",
           "orientation": "v",
           "showlegend": true,
           "type": "scatter",
           "x": [
            70.28
           ],
           "xaxis": "x",
           "y": [
            62723
           ],
           "yaxis": "y"
          },
          {
           "hovertemplate": "<b>%{hovertext}</b><br><br>ISO3=FRA<br>year=2014<br>Healthy life expectancy at birth=%{x}<br>money=%{marker.size}<extra></extra>",
           "hovertext": [
            "France"
           ],
           "legendgroup": "FRA",
           "marker": {
            "color": "#19d3f3",
            "size": [
             50929
            ],
            "sizemode": "area",
            "sizeref": 197.2357,
            "symbol": "circle"
           },
           "mode": "markers",
           "name": "FRA",
           "orientation": "v",
           "showlegend": true,
           "type": "scatter",
           "x": [
            71.6
           ],
           "xaxis": "x",
           "y": [
            50929
           ],
           "yaxis": "y"
          },
          {
           "hovertemplate": "<b>%{hovertext}</b><br><br>ISO3=DEU<br>year=2014<br>Healthy life expectancy at birth=%{x}<br>money=%{marker.size}<extra></extra>",
           "hovertext": [
            "Germany"
           ],
           "legendgroup": "DEU",
           "marker": {
            "color": "#FF6692",
            "size": [
             56141
            ],
            "sizemode": "area",
            "sizeref": 197.2357,
            "symbol": "circle"
           },
           "mode": "markers",
           "name": "DEU",
           "orientation": "v",
           "showlegend": true,
           "type": "scatter",
           "x": [
            70.08
           ],
           "xaxis": "x",
           "y": [
            56141
           ],
           "yaxis": "y"
          },
          {
           "hovertemplate": "<b>%{hovertext}</b><br><br>ISO3=GRC<br>year=2014<br>Healthy life expectancy at birth=%{x}<br>money=%{marker.size}<extra></extra>",
           "hovertext": [
            "Greece"
           ],
           "legendgroup": "GRC",
           "marker": {
            "color": "#B6E880",
            "size": [
             29108.47
            ],
            "sizemode": "area",
            "sizeref": 197.2357,
            "symbol": "circle"
           },
           "mode": "markers",
           "name": "GRC",
           "orientation": "v",
           "showlegend": true,
           "type": "scatter",
           "x": [
            70.32
           ],
           "xaxis": "x",
           "y": [
            29108.47
           ],
           "yaxis": "y"
          },
          {
           "hovertemplate": "<b>%{hovertext}</b><br><br>ISO3=HUN<br>year=2014<br>Healthy life expectancy at birth=%{x}<br>money=%{marker.size}<extra></extra>",
           "hovertext": [
            "Hungary"
           ],
           "legendgroup": "HUN",
           "marker": {
            "color": "#FF97FF",
            "size": [
             22961.47
            ],
            "sizemode": "area",
            "sizeref": 197.2357,
            "symbol": "circle"
           },
           "mode": "markers",
           "name": "HUN",
           "orientation": "v",
           "showlegend": true,
           "type": "scatter",
           "x": [
            66.44
           ],
           "xaxis": "x",
           "y": [
            22961.47
           ],
           "yaxis": "y"
          },
          {
           "hovertemplate": "<b>%{hovertext}</b><br><br>ISO3=ITA<br>year=2014<br>Healthy life expectancy at birth=%{x}<br>money=%{marker.size}<extra></extra>",
           "hovertext": [
            "Italy"
           ],
           "legendgroup": "ITA",
           "marker": {
            "color": "#FECB52",
            "size": [
             45703.51
            ],
            "sizemode": "area",
            "sizeref": 197.2357,
            "symbol": "circle"
           },
           "mode": "markers",
           "name": "ITA",
           "orientation": "v",
           "showlegend": true,
           "type": "scatter",
           "x": [
            71.5
           ],
           "xaxis": "x",
           "y": [
            45703.51
           ],
           "yaxis": "y"
          },
          {
           "hovertemplate": "<b>%{hovertext}</b><br><br>ISO3=JPN<br>year=2014<br>Healthy life expectancy at birth=%{x}<br>money=%{marker.size}<extra></extra>",
           "hovertext": [
            "Japan"
           ],
           "legendgroup": "JPN",
           "marker": {
            "color": "#636efa",
            "size": [
             40257
            ],
            "sizemode": "area",
            "sizeref": 197.2357,
            "symbol": "circle"
           },
           "mode": "markers",
           "name": "JPN",
           "orientation": "v",
           "showlegend": true,
           "type": "scatter",
           "x": [
            73.48
           ],
           "xaxis": "x",
           "y": [
            40257
           ],
           "yaxis": "y"
          },
          {
           "hovertemplate": "<b>%{hovertext}</b><br><br>ISO3=MEX<br>year=2014<br>Healthy life expectancy at birth=%{x}<br>money=%{marker.size}<extra></extra>",
           "hovertext": [
            "Mexico"
           ],
           "legendgroup": "MEX",
           "marker": {
            "color": "#EF553B",
            "size": [
             17503
            ],
            "sizemode": "area",
            "sizeref": 197.2357,
            "symbol": "circle"
           },
           "mode": "markers",
           "name": "MEX",
           "orientation": "v",
           "showlegend": true,
           "type": "scatter",
           "x": [
            65.66
           ],
           "xaxis": "x",
           "y": [
            17503
           ],
           "yaxis": "y"
          },
          {
           "hovertemplate": "<b>%{hovertext}</b><br><br>ISO3=NLD<br>year=2014<br>Healthy life expectancy at birth=%{x}<br>money=%{marker.size}<extra></extra>",
           "hovertext": [
            "Netherlands"
           ],
           "legendgroup": "NLD",
           "marker": {
            "color": "#00cc96",
            "size": [
             66039
            ],
            "sizemode": "area",
            "sizeref": 197.2357,
            "symbol": "circle"
           },
           "mode": "markers",
           "name": "NLD",
           "orientation": "v",
           "showlegend": true,
           "type": "scatter",
           "x": [
            71.06
           ],
           "xaxis": "x",
           "y": [
            66039
           ],
           "yaxis": "y"
          },
          {
           "hovertemplate": "<b>%{hovertext}</b><br><br>ISO3=POL<br>year=2014<br>Healthy life expectancy at birth=%{x}<br>money=%{marker.size}<extra></extra>",
           "hovertext": [
            "Poland"
           ],
           "legendgroup": "POL",
           "marker": {
            "color": "#ab63fa",
            "size": [
             28919
            ],
            "sizemode": "area",
            "sizeref": 197.2357,
            "symbol": "circle"
           },
           "mode": "markers",
           "name": "POL",
           "orientation": "v",
           "showlegend": true,
           "type": "scatter",
           "x": [
            67.82
           ],
           "xaxis": "x",
           "y": [
            28919
           ],
           "yaxis": "y"
          },
          {
           "hovertemplate": "<b>%{hovertext}</b><br><br>ISO3=ESP<br>year=2014<br>Healthy life expectancy at birth=%{x}<br>money=%{marker.size}<extra></extra>",
           "hovertext": [
            "Spain"
           ],
           "legendgroup": "ESP",
           "marker": {
            "color": "#FFA15A",
            "size": [
             44294
            ],
            "sizemode": "area",
            "sizeref": 197.2357,
            "symbol": "circle"
           },
           "mode": "markers",
           "name": "ESP",
           "orientation": "v",
           "showlegend": true,
           "type": "scatter",
           "x": [
            71.48
           ],
           "xaxis": "x",
           "y": [
            44294
           ],
           "yaxis": "y"
          },
          {
           "hovertemplate": "<b>%{hovertext}</b><br><br>ISO3=SWE<br>year=2014<br>Healthy life expectancy at birth=%{x}<br>money=%{marker.size}<extra></extra>",
           "hovertext": [
            "Sweden"
           ],
           "legendgroup": "SWE",
           "marker": {
            "color": "#19d3f3",
            "size": [
             48043
            ],
            "sizemode": "area",
            "sizeref": 197.2357,
            "symbol": "circle"
           },
           "mode": "markers",
           "name": "SWE",
           "orientation": "v",
           "showlegend": true,
           "type": "scatter",
           "x": [
            71.36
           ],
           "xaxis": "x",
           "y": [
            48043
           ],
           "yaxis": "y"
          },
          {
           "hovertemplate": "<b>%{hovertext}</b><br><br>ISO3=GBR<br>year=2014<br>Healthy life expectancy at birth=%{x}<br>money=%{marker.size}<extra></extra>",
           "hovertext": [
            "United Kingdom"
           ],
           "legendgroup": "GBR",
           "marker": {
            "color": "#FF6692",
            "size": [
             51816
            ],
            "sizemode": "area",
            "sizeref": 197.2357,
            "symbol": "circle"
           },
           "mode": "markers",
           "name": "GBR",
           "orientation": "v",
           "showlegend": true,
           "type": "scatter",
           "x": [
            69.64
           ],
           "xaxis": "x",
           "y": [
            51816
           ],
           "yaxis": "y"
          },
          {
           "hovertemplate": "<b>%{hovertext}</b><br><br>ISO3=AUT<br>year=2014<br>Healthy life expectancy at birth=%{x}<br>money=%{marker.size}<extra></extra>",
           "hovertext": [
            "Austria"
           ],
           "legendgroup": "AUT",
           "marker": {
            "color": "#B6E880",
            "size": [
             62801
            ],
            "sizemode": "area",
            "sizeref": 197.2357,
            "symbol": "circle"
           },
           "mode": "markers",
           "name": "AUT",
           "orientation": "v",
           "showlegend": true,
           "type": "scatter",
           "x": [
            70.3
           ],
           "xaxis": "x",
           "y": [
            62801
           ],
           "yaxis": "y"
          },
          {
           "hovertemplate": "<b>%{hovertext}</b><br><br>ISO3=CHL<br>year=2014<br>Healthy life expectancy at birth=%{x}<br>money=%{marker.size}<extra></extra>",
           "hovertext": [
            "Chile"
           ],
           "legendgroup": "CHL",
           "marker": {
            "color": "#FF97FF",
            "size": [
             30657
            ],
            "sizemode": "area",
            "sizeref": 197.2357,
            "symbol": "circle"
           },
           "mode": "markers",
           "name": "CHL",
           "orientation": "v",
           "showlegend": true,
           "type": "scatter",
           "x": [
            69.22
           ],
           "xaxis": "x",
           "y": [
            30657
           ],
           "yaxis": "y"
          },
          {
           "hovertemplate": "<b>%{hovertext}</b><br><br>ISO3=CRI<br>year=2014<br>Healthy life expectancy at birth=%{x}<br>money=%{marker.size}<extra></extra>",
           "hovertext": [
            "Costa Rica"
           ],
           "legendgroup": "CRI",
           "marker": {
            "color": "#FECB52",
            "size": [
             22743.08
            ],
            "sizemode": "area",
            "sizeref": 197.2357,
            "symbol": "circle"
           },
           "mode": "markers",
           "name": "CRI",
           "orientation": "v",
           "showlegend": true,
           "type": "scatter",
           "x": [
            69.84
           ],
           "xaxis": "x",
           "y": [
            22743.08
           ],
           "yaxis": "y"
          },
          {
           "hovertemplate": "<b>%{hovertext}</b><br><br>ISO3=EST<br>year=2014<br>Healthy life expectancy at birth=%{x}<br>money=%{marker.size}<extra></extra>",
           "hovertext": [
            "Estonia"
           ],
           "legendgroup": "EST",
           "marker": {
            "color": "#636efa",
            "size": [
             26232.47
            ],
            "sizemode": "area",
            "sizeref": 197.2357,
            "symbol": "circle"
           },
           "mode": "markers",
           "name": "EST",
           "orientation": "v",
           "showlegend": true,
           "type": "scatter",
           "x": [
            68.02
           ],
           "xaxis": "x",
           "y": [
            26232.47
           ],
           "yaxis": "y"
          },
          {
           "hovertemplate": "<b>%{hovertext}</b><br><br>ISO3=FIN<br>year=2014<br>Healthy life expectancy at birth=%{x}<br>money=%{marker.size}<extra></extra>",
           "hovertext": [
            "Finland"
           ],
           "legendgroup": "FIN",
           "marker": {
            "color": "#EF553B",
            "size": [
             49449
            ],
            "sizemode": "area",
            "sizeref": 197.2357,
            "symbol": "circle"
           },
           "mode": "markers",
           "name": "FIN",
           "orientation": "v",
           "showlegend": true,
           "type": "scatter",
           "x": [
            70.48
           ],
           "xaxis": "x",
           "y": [
            49449
           ],
           "yaxis": "y"
          },
          {
           "hovertemplate": "<b>%{hovertext}</b><br><br>ISO3=IRL<br>year=2014<br>Healthy life expectancy at birth=%{x}<br>money=%{marker.size}<extra></extra>",
           "hovertext": [
            "Ireland"
           ],
           "legendgroup": "IRL",
           "marker": {
            "color": "#00cc96",
            "size": [
             50080
            ],
            "sizemode": "area",
            "sizeref": 197.2357,
            "symbol": "circle"
           },
           "mode": "markers",
           "name": "IRL",
           "orientation": "v",
           "showlegend": true,
           "type": "scatter",
           "x": [
            70.58
           ],
           "xaxis": "x",
           "y": [
            50080
           ],
           "yaxis": "y"
          },
          {
           "hovertemplate": "<b>%{hovertext}</b><br><br>ISO3=ISR<br>year=2014<br>Healthy life expectancy at birth=%{x}<br>money=%{marker.size}<extra></extra>",
           "hovertext": [
            "Israel"
           ],
           "legendgroup": "ISR",
           "marker": {
            "color": "#ab63fa",
            "size": [
             36112.43
            ],
            "sizemode": "area",
            "sizeref": 197.2357,
            "symbol": "circle"
           },
           "mode": "markers",
           "name": "ISR",
           "orientation": "v",
           "showlegend": true,
           "type": "scatter",
           "x": [
            71.72
           ],
           "xaxis": "x",
           "y": [
            36112.43
           ],
           "yaxis": "y"
          },
          {
           "hovertemplate": "<b>%{hovertext}</b><br><br>ISO3=LVA<br>year=2014<br>Healthy life expectancy at birth=%{x}<br>money=%{marker.size}<extra></extra>",
           "hovertext": [
            "Latvia"
           ],
           "legendgroup": "LVA",
           "marker": {
            "color": "#FFA15A",
            "size": [
             24864
            ],
            "sizemode": "area",
            "sizeref": 197.2357,
            "symbol": "circle"
           },
           "mode": "markers",
           "name": "LVA",
           "orientation": "v",
           "showlegend": true,
           "type": "scatter",
           "x": [
            65.5
           ],
           "xaxis": "x",
           "y": [
            24864
           ],
           "yaxis": "y"
          },
          {
           "hovertemplate": "<b>%{hovertext}</b><br><br>ISO3=LTU<br>year=2014<br>Healthy life expectancy at birth=%{x}<br>money=%{marker.size}<extra></extra>",
           "hovertext": [
            "Lithuania"
           ],
           "legendgroup": "LTU",
           "marker": {
            "color": "#19d3f3",
            "size": [
             31902.39
            ],
            "sizemode": "area",
            "sizeref": 197.2357,
            "symbol": "circle"
           },
           "mode": "markers",
           "name": "LTU",
           "orientation": "v",
           "showlegend": true,
           "type": "scatter",
           "x": [
            65.1
           ],
           "xaxis": "x",
           "y": [
            31902.39
           ],
           "yaxis": "y"
          },
          {
           "hovertemplate": "<b>%{hovertext}</b><br><br>ISO3=NZL<br>year=2014<br>Healthy life expectancy at birth=%{x}<br>money=%{marker.size}<extra></extra>",
           "hovertext": [
            "New Zealand"
           ],
           "legendgroup": "NZL",
           "marker": {
            "color": "#FF6692",
            "size": [
             44969
            ],
            "sizemode": "area",
            "sizeref": 197.2357,
            "symbol": "circle"
           },
           "mode": "markers",
           "name": "NZL",
           "orientation": "v",
           "showlegend": true,
           "type": "scatter",
           "x": [
            69.88
           ],
           "xaxis": "x",
           "y": [
            44969
           ],
           "yaxis": "y"
          },
          {
           "hovertemplate": "<b>%{hovertext}</b><br><br>ISO3=NOR<br>year=2014<br>Healthy life expectancy at birth=%{x}<br>money=%{marker.size}<extra></extra>",
           "hovertext": [
            "Norway"
           ],
           "legendgroup": "NOR",
           "marker": {
            "color": "#B6E880",
            "size": [
             51809
            ],
            "sizemode": "area",
            "sizeref": 197.2357,
            "symbol": "circle"
           },
           "mode": "markers",
           "name": "NOR",
           "orientation": "v",
           "showlegend": true,
           "type": "scatter",
           "x": [
            71
           ],
           "xaxis": "x",
           "y": [
            51809
           ],
           "yaxis": "y"
          },
          {
           "hovertemplate": "<b>%{hovertext}</b><br><br>ISO3=PRT<br>year=2014<br>Healthy life expectancy at birth=%{x}<br>money=%{marker.size}<extra></extra>",
           "hovertext": [
            "Portugal"
           ],
           "legendgroup": "PRT",
           "marker": {
            "color": "#FF97FF",
            "size": [
             29538
            ],
            "sizemode": "area",
            "sizeref": 197.2357,
            "symbol": "circle"
           },
           "mode": "markers",
           "name": "PRT",
           "orientation": "v",
           "showlegend": true,
           "type": "scatter",
           "x": [
            70.26
           ],
           "xaxis": "x",
           "y": [
            29538
           ],
           "yaxis": "y"
          },
          {
           "hovertemplate": "<b>%{hovertext}</b><br><br>ISO3=SVK<br>year=2014<br>Healthy life expectancy at birth=%{x}<br>money=%{marker.size}<extra></extra>",
           "hovertext": [
            "Slovakia"
           ],
           "legendgroup": "SVK",
           "marker": {
            "color": "#FECB52",
            "size": [
             22780.73
            ],
            "sizemode": "area",
            "sizeref": 197.2357,
            "symbol": "circle"
           },
           "mode": "markers",
           "name": "SVK",
           "orientation": "v",
           "showlegend": true,
           "type": "scatter",
           "x": [
            67.38
           ],
           "xaxis": "x",
           "y": [
            22780.73
           ],
           "yaxis": "y"
          },
          {
           "hovertemplate": "<b>%{hovertext}</b><br><br>ISO3=SVN<br>year=2014<br>Healthy life expectancy at birth=%{x}<br>money=%{marker.size}<extra></extra>",
           "hovertext": [
            "Slovenia"
           ],
           "legendgroup": "SVN",
           "marker": {
            "color": "#636efa",
            "size": [
             41576
            ],
            "sizemode": "area",
            "sizeref": 197.2357,
            "symbol": "circle"
           },
           "mode": "markers",
           "name": "SVN",
           "orientation": "v",
           "showlegend": true,
           "type": "scatter",
           "x": [
            69.84
           ],
           "xaxis": "x",
           "y": [
            41576
           ],
           "yaxis": "y"
          },
          {
           "hovertemplate": "<b>%{hovertext}</b><br><br>ISO3=CHE<br>year=2014<br>Healthy life expectancy at birth=%{x}<br>money=%{marker.size}<extra></extra>",
           "hovertext": [
            "Switzerland"
           ],
           "legendgroup": "CHE",
           "marker": {
            "color": "#EF553B",
            "size": [
             70412
            ],
            "sizemode": "area",
            "sizeref": 197.2357,
            "symbol": "circle"
           },
           "mode": "markers",
           "name": "CHE",
           "orientation": "v",
           "showlegend": true,
           "type": "scatter",
           "x": [
            71.64
           ],
           "xaxis": "x",
           "y": [
            70412
           ],
           "yaxis": "y"
          },
          {
           "hovertemplate": "<b>%{hovertext}</b><br><br>ISO3=USA<br>year=2014<br>Healthy life expectancy at birth=%{x}<br>money=%{marker.size}<extra></extra>",
           "hovertext": [
            "United States"
           ],
           "legendgroup": "USA",
           "marker": {
            "color": "#00cc96",
            "size": [
             68591
            ],
            "sizemode": "area",
            "sizeref": 197.2357,
            "symbol": "circle"
           },
           "mode": "markers",
           "name": "USA",
           "orientation": "v",
           "showlegend": true,
           "type": "scatter",
           "x": [
            66.62
           ],
           "xaxis": "x",
           "y": [
            68591
           ],
           "yaxis": "y"
          },
          {
           "hovertemplate": "<b>%{hovertext}</b><br><br>ISO3=TUR<br>year=2014<br>Healthy life expectancy at birth=%{x}<br>money=%{marker.size}<extra></extra>",
           "hovertext": [
            "Turkey"
           ],
           "legendgroup": "TUR",
           "marker": {
            "color": "#ab63fa",
            "size": [
             26126.55
            ],
            "sizemode": "area",
            "sizeref": 197.2357,
            "symbol": "circle"
           },
           "mode": "markers",
           "name": "TUR",
           "orientation": "v",
           "showlegend": true,
           "type": "scatter",
           "x": [
            67.54
           ],
           "xaxis": "x",
           "y": [
            26126.55
           ],
           "yaxis": "y"
          },
          {
           "hovertemplate": "<b>%{hovertext}</b><br><br>ISO3=KOR<br>year=2014<br>Healthy life expectancy at birth=%{x}<br>money=%{marker.size}<extra></extra>",
           "hovertext": [
            "Korea, Republic of",
            "South Korea"
           ],
           "legendgroup": "KOR",
           "marker": {
            "color": "#19d3f3",
            "size": [
             40746,
             40746
            ],
            "sizemode": "area",
            "sizeref": 197.2357,
            "symbol": "circle"
           },
           "mode": "markers",
           "name": "KOR",
           "orientation": "v",
           "showlegend": true,
           "type": "scatter",
           "x": [
            71.78,
            71.78
           ],
           "xaxis": "x",
           "y": [
            40746,
            40746
           ],
           "yaxis": "y"
          },
          {
           "hovertemplate": "<b>%{hovertext}</b><br><br>ISO3=LUX<br>year=2014<br>Healthy life expectancy at birth=%{x}<br>money=%{marker.size}<extra></extra>",
           "hovertext": [
            "Luxembourg"
           ],
           "legendgroup": "LUX",
           "marker": {
            "color": "#FF6692",
            "size": [
             72846
            ],
            "sizemode": "area",
            "sizeref": 197.2357,
            "symbol": "circle"
           },
           "mode": "markers",
           "name": "LUX",
           "orientation": "v",
           "showlegend": true,
           "type": "scatter",
           "x": [
            71.3
           ],
           "xaxis": "x",
           "y": [
            72846
           ],
           "yaxis": "y"
          }
         ],
         "name": "2014"
        },
        {
         "data": [
          {
           "hovertemplate": "<b>%{hovertext}</b><br><br>ISO3=AUS<br>year=2015<br>Healthy life expectancy at birth=%{x}<br>money=%{marker.size}<extra></extra>",
           "hovertext": [
            "Australia"
           ],
           "legendgroup": "AUS",
           "marker": {
            "color": "#636efa",
            "size": [
             57744
            ],
            "sizemode": "area",
            "sizeref": 197.2357,
            "symbol": "circle"
           },
           "mode": "markers",
           "name": "AUS",
           "orientation": "v",
           "showlegend": true,
           "type": "scatter",
           "x": [
            70.6
           ],
           "xaxis": "x",
           "y": [
            57744
           ],
           "yaxis": "y"
          },
          {
           "hovertemplate": "<b>%{hovertext}</b><br><br>ISO3=BEL<br>year=2015<br>Healthy life expectancy at birth=%{x}<br>money=%{marker.size}<extra></extra>",
           "hovertext": [
            "Belgium"
           ],
           "legendgroup": "BEL",
           "marker": {
            "color": "#EF553B",
            "size": [
             65017
            ],
            "sizemode": "area",
            "sizeref": 197.2357,
            "symbol": "circle"
           },
           "mode": "markers",
           "name": "BEL",
           "orientation": "v",
           "showlegend": true,
           "type": "scatter",
           "x": [
            70
           ],
           "xaxis": "x",
           "y": [
            65017
           ],
           "yaxis": "y"
          },
          {
           "hovertemplate": "<b>%{hovertext}</b><br><br>ISO3=CAN<br>year=2015<br>Healthy life expectancy at birth=%{x}<br>money=%{marker.size}<extra></extra>",
           "hovertext": [
            "Canada"
           ],
           "legendgroup": "CAN",
           "marker": {
            "color": "#00cc96",
            "size": [
             55400
            ],
            "sizemode": "area",
            "sizeref": 197.2357,
            "symbol": "circle"
           },
           "mode": "markers",
           "name": "CAN",
           "orientation": "v",
           "showlegend": true,
           "type": "scatter",
           "x": [
            71.1
           ],
           "xaxis": "x",
           "y": [
            55400
           ],
           "yaxis": "y"
          },
          {
           "hovertemplate": "<b>%{hovertext}</b><br><br>ISO3=CZE<br>year=2015<br>Healthy life expectancy at birth=%{x}<br>money=%{marker.size}<extra></extra>",
           "hovertext": [
            "Czech Republic"
           ],
           "legendgroup": "CZE",
           "marker": {
            "color": "#ab63fa",
            "size": [
             30224
            ],
            "sizemode": "area",
            "sizeref": 197.2357,
            "symbol": "circle"
           },
           "mode": "markers",
           "name": "CZE",
           "orientation": "v",
           "showlegend": true,
           "type": "scatter",
           "x": [
            68.3
           ],
           "xaxis": "x",
           "y": [
            30224
           ],
           "yaxis": "y"
          },
          {
           "hovertemplate": "<b>%{hovertext}</b><br><br>ISO3=DNK<br>year=2015<br>Healthy life expectancy at birth=%{x}<br>money=%{marker.size}<extra></extra>",
           "hovertext": [
            "Denmark"
           ],
           "legendgroup": "DNK",
           "marker": {
            "color": "#FFA15A",
            "size": [
             63828
            ],
            "sizemode": "area",
            "sizeref": 197.2357,
            "symbol": "circle"
           },
           "mode": "markers",
           "name": "DNK",
           "orientation": "v",
           "showlegend": true,
           "type": "scatter",
           "x": [
            70.5
           ],
           "xaxis": "x",
           "y": [
            63828
           ],
           "yaxis": "y"
          },
          {
           "hovertemplate": "<b>%{hovertext}</b><br><br>ISO3=FRA<br>year=2015<br>Healthy life expectancy at birth=%{x}<br>money=%{marker.size}<extra></extra>",
           "hovertext": [
            "France"
           ],
           "legendgroup": "FRA",
           "marker": {
            "color": "#19d3f3",
            "size": [
             51415
            ],
            "sizemode": "area",
            "sizeref": 197.2357,
            "symbol": "circle"
           },
           "mode": "markers",
           "name": "FRA",
           "orientation": "v",
           "showlegend": true,
           "type": "scatter",
           "x": [
            71.7
           ],
           "xaxis": "x",
           "y": [
            51415
           ],
           "yaxis": "y"
          },
          {
           "hovertemplate": "<b>%{hovertext}</b><br><br>ISO3=DEU<br>year=2015<br>Healthy life expectancy at birth=%{x}<br>money=%{marker.size}<extra></extra>",
           "hovertext": [
            "Germany"
           ],
           "legendgroup": "DEU",
           "marker": {
            "color": "#FF6692",
            "size": [
             57431
            ],
            "sizemode": "area",
            "sizeref": 197.2357,
            "symbol": "circle"
           },
           "mode": "markers",
           "name": "DEU",
           "orientation": "v",
           "showlegend": true,
           "type": "scatter",
           "x": [
            70.1
           ],
           "xaxis": "x",
           "y": [
            57431
           ],
           "yaxis": "y"
          },
          {
           "hovertemplate": "<b>%{hovertext}</b><br><br>ISO3=GRC<br>year=2015<br>Healthy life expectancy at birth=%{x}<br>money=%{marker.size}<extra></extra>",
           "hovertext": [
            "Greece"
           ],
           "legendgroup": "GRC",
           "marker": {
            "color": "#B6E880",
            "size": [
             29394.43
            ],
            "sizemode": "area",
            "sizeref": 197.2357,
            "symbol": "circle"
           },
           "mode": "markers",
           "name": "GRC",
           "orientation": "v",
           "showlegend": true,
           "type": "scatter",
           "x": [
            70.4
           ],
           "xaxis": "x",
           "y": [
            29394.43
           ],
           "yaxis": "y"
          },
          {
           "hovertemplate": "<b>%{hovertext}</b><br><br>ISO3=HUN<br>year=2015<br>Healthy life expectancy at birth=%{x}<br>money=%{marker.size}<extra></extra>",
           "hovertext": [
            "Hungary"
           ],
           "legendgroup": "HUN",
           "marker": {
            "color": "#FF97FF",
            "size": [
             23139.58
            ],
            "sizemode": "area",
            "sizeref": 197.2357,
            "symbol": "circle"
           },
           "mode": "markers",
           "name": "HUN",
           "orientation": "v",
           "showlegend": true,
           "type": "scatter",
           "x": [
            66.6
           ],
           "xaxis": "x",
           "y": [
            23139.58
           ],
           "yaxis": "y"
          },
          {
           "hovertemplate": "<b>%{hovertext}</b><br><br>ISO3=ITA<br>year=2015<br>Healthy life expectancy at birth=%{x}<br>money=%{marker.size}<extra></extra>",
           "hovertext": [
            "Italy"
           ],
           "legendgroup": "ITA",
           "marker": {
            "color": "#FECB52",
            "size": [
             46103
            ],
            "sizemode": "area",
            "sizeref": 197.2357,
            "symbol": "circle"
           },
           "mode": "markers",
           "name": "ITA",
           "orientation": "v",
           "showlegend": true,
           "type": "scatter",
           "x": [
            71.6
           ],
           "xaxis": "x",
           "y": [
            46103
           ],
           "yaxis": "y"
          },
          {
           "hovertemplate": "<b>%{hovertext}</b><br><br>ISO3=JPN<br>year=2015<br>Healthy life expectancy at birth=%{x}<br>money=%{marker.size}<extra></extra>",
           "hovertext": [
            "Japan"
           ],
           "legendgroup": "JPN",
           "marker": {
            "color": "#636efa",
            "size": [
             40062
            ],
            "sizemode": "area",
            "sizeref": 197.2357,
            "symbol": "circle"
           },
           "mode": "markers",
           "name": "JPN",
           "orientation": "v",
           "showlegend": true,
           "type": "scatter",
           "x": [
            73.6
           ],
           "xaxis": "x",
           "y": [
            40062
           ],
           "yaxis": "y"
          },
          {
           "hovertemplate": "<b>%{hovertext}</b><br><br>ISO3=MEX<br>year=2015<br>Healthy life expectancy at birth=%{x}<br>money=%{marker.size}<extra></extra>",
           "hovertext": [
            "Mexico"
           ],
           "legendgroup": "MEX",
           "marker": {
            "color": "#EF553B",
            "size": [
             17730.33
            ],
            "sizemode": "area",
            "sizeref": 197.2357,
            "symbol": "circle"
           },
           "mode": "markers",
           "name": "MEX",
           "orientation": "v",
           "showlegend": true,
           "type": "scatter",
           "x": [
            65.8
           ],
           "xaxis": "x",
           "y": [
            17730.33
           ],
           "yaxis": "y"
          },
          {
           "hovertemplate": "<b>%{hovertext}</b><br><br>ISO3=NLD<br>year=2015<br>Healthy life expectancy at birth=%{x}<br>money=%{marker.size}<extra></extra>",
           "hovertext": [
            "Netherlands"
           ],
           "legendgroup": "NLD",
           "marker": {
            "color": "#00cc96",
            "size": [
             66841
            ],
            "sizemode": "area",
            "sizeref": 197.2357,
            "symbol": "circle"
           },
           "mode": "markers",
           "name": "NLD",
           "orientation": "v",
           "showlegend": true,
           "type": "scatter",
           "x": [
            71.1
           ],
           "xaxis": "x",
           "y": [
            66841
           ],
           "yaxis": "y"
          },
          {
           "hovertemplate": "<b>%{hovertext}</b><br><br>ISO3=POL<br>year=2015<br>Healthy life expectancy at birth=%{x}<br>money=%{marker.size}<extra></extra>",
           "hovertext": [
            "Poland"
           ],
           "legendgroup": "POL",
           "marker": {
            "color": "#ab63fa",
            "size": [
             29635.47
            ],
            "sizemode": "area",
            "sizeref": 197.2357,
            "symbol": "circle"
           },
           "mode": "markers",
           "name": "POL",
           "orientation": "v",
           "showlegend": true,
           "type": "scatter",
           "x": [
            68
           ],
           "xaxis": "x",
           "y": [
            29635.47
           ],
           "yaxis": "y"
          },
          {
           "hovertemplate": "<b>%{hovertext}</b><br><br>ISO3=ESP<br>year=2015<br>Healthy life expectancy at birth=%{x}<br>money=%{marker.size}<extra></extra>",
           "hovertext": [
            "Spain"
           ],
           "legendgroup": "ESP",
           "marker": {
            "color": "#FFA15A",
            "size": [
             44957
            ],
            "sizemode": "area",
            "sizeref": 197.2357,
            "symbol": "circle"
           },
           "mode": "markers",
           "name": "ESP",
           "orientation": "v",
           "showlegend": true,
           "type": "scatter",
           "x": [
            71.6
           ],
           "xaxis": "x",
           "y": [
            44957
           ],
           "yaxis": "y"
          },
          {
           "hovertemplate": "<b>%{hovertext}</b><br><br>ISO3=SWE<br>year=2015<br>Healthy life expectancy at birth=%{x}<br>money=%{marker.size}<extra></extra>",
           "hovertext": [
            "Sweden"
           ],
           "legendgroup": "SWE",
           "marker": {
            "color": "#19d3f3",
            "size": [
             48770.49
            ],
            "sizemode": "area",
            "sizeref": 197.2357,
            "symbol": "circle"
           },
           "mode": "markers",
           "name": "SWE",
           "orientation": "v",
           "showlegend": true,
           "type": "scatter",
           "x": [
            71.4
           ],
           "xaxis": "x",
           "y": [
            48770.49
           ],
           "yaxis": "y"
          },
          {
           "hovertemplate": "<b>%{hovertext}</b><br><br>ISO3=GBR<br>year=2015<br>Healthy life expectancy at birth=%{x}<br>money=%{marker.size}<extra></extra>",
           "hovertext": [
            "United Kingdom"
           ],
           "legendgroup": "GBR",
           "marker": {
            "color": "#FF6692",
            "size": [
             52549
            ],
            "sizemode": "area",
            "sizeref": 197.2357,
            "symbol": "circle"
           },
           "mode": "markers",
           "name": "GBR",
           "orientation": "v",
           "showlegend": true,
           "type": "scatter",
           "x": [
            69.7
           ],
           "xaxis": "x",
           "y": [
            52549
           ],
           "yaxis": "y"
          },
          {
           "hovertemplate": "<b>%{hovertext}</b><br><br>ISO3=AUT<br>year=2015<br>Healthy life expectancy at birth=%{x}<br>money=%{marker.size}<extra></extra>",
           "hovertext": [
            "Austria"
           ],
           "legendgroup": "AUT",
           "marker": {
            "color": "#B6E880",
            "size": [
             63231
            ],
            "sizemode": "area",
            "sizeref": 197.2357,
            "symbol": "circle"
           },
           "mode": "markers",
           "name": "AUT",
           "orientation": "v",
           "showlegend": true,
           "type": "scatter",
           "x": [
            70.4
           ],
           "xaxis": "x",
           "y": [
            63231
           ],
           "yaxis": "y"
          },
          {
           "hovertemplate": "<b>%{hovertext}</b><br><br>ISO3=CHL<br>year=2015<br>Healthy life expectancy at birth=%{x}<br>money=%{marker.size}<extra></extra>",
           "hovertext": [
            "Chile"
           ],
           "legendgroup": "CHL",
           "marker": {
            "color": "#FF97FF",
            "size": [
             30614.54
            ],
            "sizemode": "area",
            "sizeref": 197.2357,
            "symbol": "circle"
           },
           "mode": "markers",
           "name": "CHL",
           "orientation": "v",
           "showlegend": true,
           "type": "scatter",
           "x": [
            69.4
           ],
           "xaxis": "x",
           "y": [
            30614.54
           ],
           "yaxis": "y"
          },
          {
           "hovertemplate": "<b>%{hovertext}</b><br><br>ISO3=CRI<br>year=2015<br>Healthy life expectancy at birth=%{x}<br>money=%{marker.size}<extra></extra>",
           "hovertext": [
            "Costa Rica"
           ],
           "legendgroup": "CRI",
           "marker": {
            "color": "#FECB52",
            "size": [
             24448.59
            ],
            "sizemode": "area",
            "sizeref": 197.2357,
            "symbol": "circle"
           },
           "mode": "markers",
           "name": "CRI",
           "orientation": "v",
           "showlegend": true,
           "type": "scatter",
           "x": [
            70
           ],
           "xaxis": "x",
           "y": [
            24448.59
           ],
           "yaxis": "y"
          },
          {
           "hovertemplate": "<b>%{hovertext}</b><br><br>ISO3=EST<br>year=2015<br>Healthy life expectancy at birth=%{x}<br>money=%{marker.size}<extra></extra>",
           "hovertext": [
            "Estonia"
           ],
           "legendgroup": "EST",
           "marker": {
            "color": "#636efa",
            "size": [
             27434
            ],
            "sizemode": "area",
            "sizeref": 197.2357,
            "symbol": "circle"
           },
           "mode": "markers",
           "name": "EST",
           "orientation": "v",
           "showlegend": true,
           "type": "scatter",
           "x": [
            68.3
           ],
           "xaxis": "x",
           "y": [
            27434
           ],
           "yaxis": "y"
          },
          {
           "hovertemplate": "<b>%{hovertext}</b><br><br>ISO3=FIN<br>year=2015<br>Healthy life expectancy at birth=%{x}<br>money=%{marker.size}<extra></extra>",
           "hovertext": [
            "Finland"
           ],
           "legendgroup": "FIN",
           "marker": {
            "color": "#EF553B",
            "size": [
             49836
            ],
            "sizemode": "area",
            "sizeref": 197.2357,
            "symbol": "circle"
           },
           "mode": "markers",
           "name": "FIN",
           "orientation": "v",
           "showlegend": true,
           "type": "scatter",
           "x": [
            70.7
           ],
           "xaxis": "x",
           "y": [
            49836
           ],
           "yaxis": "y"
          },
          {
           "hovertemplate": "<b>%{hovertext}</b><br><br>ISO3=IRL<br>year=2015<br>Healthy life expectancy at birth=%{x}<br>money=%{marker.size}<extra></extra>",
           "hovertext": [
            "Ireland"
           ],
           "legendgroup": "IRL",
           "marker": {
            "color": "#00cc96",
            "size": [
             50079
            ],
            "sizemode": "area",
            "sizeref": 197.2357,
            "symbol": "circle"
           },
           "mode": "markers",
           "name": "IRL",
           "orientation": "v",
           "showlegend": true,
           "type": "scatter",
           "x": [
            70.7
           ],
           "xaxis": "x",
           "y": [
            50079
           ],
           "yaxis": "y"
          },
          {
           "hovertemplate": "<b>%{hovertext}</b><br><br>ISO3=ISR<br>year=2015<br>Healthy life expectancy at birth=%{x}<br>money=%{marker.size}<extra></extra>",
           "hovertext": [
            "Israel"
           ],
           "legendgroup": "ISR",
           "marker": {
            "color": "#ab63fa",
            "size": [
             37213
            ],
            "sizemode": "area",
            "sizeref": 197.2357,
            "symbol": "circle"
           },
           "mode": "markers",
           "name": "ISR",
           "orientation": "v",
           "showlegend": true,
           "type": "scatter",
           "x": [
            71.8
           ],
           "xaxis": "x",
           "y": [
            37213
           ],
           "yaxis": "y"
          },
          {
           "hovertemplate": "<b>%{hovertext}</b><br><br>ISO3=LVA<br>year=2015<br>Healthy life expectancy at birth=%{x}<br>money=%{marker.size}<extra></extra>",
           "hovertext": [
            "Latvia"
           ],
           "legendgroup": "LVA",
           "marker": {
            "color": "#FFA15A",
            "size": [
             26944
            ],
            "sizemode": "area",
            "sizeref": 197.2357,
            "symbol": "circle"
           },
           "mode": "markers",
           "name": "LVA",
           "orientation": "v",
           "showlegend": true,
           "type": "scatter",
           "x": [
            65.8
           ],
           "xaxis": "x",
           "y": [
            26944
           ],
           "yaxis": "y"
          },
          {
           "hovertemplate": "<b>%{hovertext}</b><br><br>ISO3=LTU<br>year=2015<br>Healthy life expectancy at birth=%{x}<br>money=%{marker.size}<extra></extra>",
           "hovertext": [
            "Lithuania"
           ],
           "legendgroup": "LTU",
           "marker": {
            "color": "#19d3f3",
            "size": [
             33988.65
            ],
            "sizemode": "area",
            "sizeref": 197.2357,
            "symbol": "circle"
           },
           "mode": "markers",
           "name": "LTU",
           "orientation": "v",
           "showlegend": true,
           "type": "scatter",
           "x": [
            65.3
           ],
           "xaxis": "x",
           "y": [
            33988.65
           ],
           "yaxis": "y"
          },
          {
           "hovertemplate": "<b>%{hovertext}</b><br><br>ISO3=NZL<br>year=2015<br>Healthy life expectancy at birth=%{x}<br>money=%{marker.size}<extra></extra>",
           "hovertext": [
            "New Zealand"
           ],
           "legendgroup": "NZL",
           "marker": {
            "color": "#FF6692",
            "size": [
             45779
            ],
            "sizemode": "area",
            "sizeref": 197.2357,
            "symbol": "circle"
           },
           "mode": "markers",
           "name": "NZL",
           "orientation": "v",
           "showlegend": true,
           "type": "scatter",
           "x": [
            69.9
           ],
           "xaxis": "x",
           "y": [
            45779
           ],
           "yaxis": "y"
          },
          {
           "hovertemplate": "<b>%{hovertext}</b><br><br>ISO3=NOR<br>year=2015<br>Healthy life expectancy at birth=%{x}<br>money=%{marker.size}<extra></extra>",
           "hovertext": [
            "Norway"
           ],
           "legendgroup": "NOR",
           "marker": {
            "color": "#B6E880",
            "size": [
             52068
            ],
            "sizemode": "area",
            "sizeref": 197.2357,
            "symbol": "circle"
           },
           "mode": "markers",
           "name": "NOR",
           "orientation": "v",
           "showlegend": true,
           "type": "scatter",
           "x": [
            71.2
           ],
           "xaxis": "x",
           "y": [
            52068
           ],
           "yaxis": "y"
          },
          {
           "hovertemplate": "<b>%{hovertext}</b><br><br>ISO3=PRT<br>year=2015<br>Healthy life expectancy at birth=%{x}<br>money=%{marker.size}<extra></extra>",
           "hovertext": [
            "Portugal"
           ],
           "legendgroup": "PRT",
           "marker": {
            "color": "#FF97FF",
            "size": [
             29448.48
            ],
            "sizemode": "area",
            "sizeref": 197.2357,
            "symbol": "circle"
           },
           "mode": "markers",
           "name": "PRT",
           "orientation": "v",
           "showlegend": true,
           "type": "scatter",
           "x": [
            70.5
           ],
           "xaxis": "x",
           "y": [
            29448.48
           ],
           "yaxis": "y"
          },
          {
           "hovertemplate": "<b>%{hovertext}</b><br><br>ISO3=SVK<br>year=2015<br>Healthy life expectancy at birth=%{x}<br>money=%{marker.size}<extra></extra>",
           "hovertext": [
            "Slovakia"
           ],
           "legendgroup": "SVK",
           "marker": {
            "color": "#FECB52",
            "size": [
             23676
            ],
            "sizemode": "area",
            "sizeref": 197.2357,
            "symbol": "circle"
           },
           "mode": "markers",
           "name": "SVK",
           "orientation": "v",
           "showlegend": true,
           "type": "scatter",
           "x": [
            67.6
           ],
           "xaxis": "x",
           "y": [
            23676
           ],
           "yaxis": "y"
          },
          {
           "hovertemplate": "<b>%{hovertext}</b><br><br>ISO3=SVN<br>year=2015<br>Healthy life expectancy at birth=%{x}<br>money=%{marker.size}<extra></extra>",
           "hovertext": [
            "Slovenia"
           ],
           "legendgroup": "SVN",
           "marker": {
            "color": "#636efa",
            "size": [
             42482
            ],
            "sizemode": "area",
            "sizeref": 197.2357,
            "symbol": "circle"
           },
           "mode": "markers",
           "name": "SVN",
           "orientation": "v",
           "showlegend": true,
           "type": "scatter",
           "x": [
            70
           ],
           "xaxis": "x",
           "y": [
            42482
           ],
           "yaxis": "y"
          },
          {
           "hovertemplate": "<b>%{hovertext}</b><br><br>ISO3=CHE<br>year=2015<br>Healthy life expectancy at birth=%{x}<br>money=%{marker.size}<extra></extra>",
           "hovertext": [
            "Switzerland"
           ],
           "legendgroup": "CHE",
           "marker": {
            "color": "#EF553B",
            "size": [
             70797
            ],
            "sizemode": "area",
            "sizeref": 197.2357,
            "symbol": "circle"
           },
           "mode": "markers",
           "name": "CHE",
           "orientation": "v",
           "showlegend": true,
           "type": "scatter",
           "x": [
            71.7
           ],
           "xaxis": "x",
           "y": [
            70797
           ],
           "yaxis": "y"
          },
          {
           "hovertemplate": "<b>%{hovertext}</b><br><br>ISO3=USA<br>year=2015<br>Healthy life expectancy at birth=%{x}<br>money=%{marker.size}<extra></extra>",
           "hovertext": [
            "United States"
           ],
           "legendgroup": "USA",
           "marker": {
            "color": "#00cc96",
            "size": [
             70320
            ],
            "sizemode": "area",
            "sizeref": 197.2357,
            "symbol": "circle"
           },
           "mode": "markers",
           "name": "USA",
           "orientation": "v",
           "showlegend": true,
           "type": "scatter",
           "x": [
            66.6
           ],
           "xaxis": "x",
           "y": [
            70320
           ],
           "yaxis": "y"
          },
          {
           "hovertemplate": "<b>%{hovertext}</b><br><br>ISO3=TUR<br>year=2015<br>Healthy life expectancy at birth=%{x}<br>money=%{marker.size}<extra></extra>",
           "hovertext": [
            "Turkey"
           ],
           "legendgroup": "TUR",
           "marker": {
            "color": "#ab63fa",
            "size": [
             26785.68
            ],
            "sizemode": "area",
            "sizeref": 197.2357,
            "symbol": "circle"
           },
           "mode": "markers",
           "name": "TUR",
           "orientation": "v",
           "showlegend": true,
           "type": "scatter",
           "x": [
            67.7
           ],
           "xaxis": "x",
           "y": [
            26785.68
           ],
           "yaxis": "y"
          },
          {
           "hovertemplate": "<b>%{hovertext}</b><br><br>ISO3=ISL<br>year=2015<br>Healthy life expectancy at birth=%{x}<br>money=%{marker.size}<extra></extra>",
           "hovertext": [
            "Iceland"
           ],
           "legendgroup": "ISL",
           "marker": {
            "color": "#FFA15A",
            "size": [
             61777
            ],
            "sizemode": "area",
            "sizeref": 197.2357,
            "symbol": "circle"
           },
           "mode": "markers",
           "name": "ISL",
           "orientation": "v",
           "showlegend": true,
           "type": "scatter",
           "x": [
            71.9
           ],
           "xaxis": "x",
           "y": [
            61777
           ],
           "yaxis": "y"
          },
          {
           "hovertemplate": "<b>%{hovertext}</b><br><br>ISO3=KOR<br>year=2015<br>Healthy life expectancy at birth=%{x}<br>money=%{marker.size}<extra></extra>",
           "hovertext": [
            "Korea, Republic of",
            "South Korea"
           ],
           "legendgroup": "KOR",
           "marker": {
            "color": "#19d3f3",
            "size": [
             41878,
             41878
            ],
            "sizemode": "area",
            "sizeref": 197.2357,
            "symbol": "circle"
           },
           "mode": "markers",
           "name": "KOR",
           "orientation": "v",
           "showlegend": true,
           "type": "scatter",
           "x": [
            72,
            72
           ],
           "xaxis": "x",
           "y": [
            41878,
            41878
           ],
           "yaxis": "y"
          },
          {
           "hovertemplate": "<b>%{hovertext}</b><br><br>ISO3=LUX<br>year=2015<br>Healthy life expectancy at birth=%{x}<br>money=%{marker.size}<extra></extra>",
           "hovertext": [
            "Luxembourg"
           ],
           "legendgroup": "LUX",
           "marker": {
            "color": "#FF6692",
            "size": [
             73225
            ],
            "sizemode": "area",
            "sizeref": 197.2357,
            "symbol": "circle"
           },
           "mode": "markers",
           "name": "LUX",
           "orientation": "v",
           "showlegend": true,
           "type": "scatter",
           "x": [
            71.5
           ],
           "xaxis": "x",
           "y": [
            73225
           ],
           "yaxis": "y"
          },
          {
           "hovertemplate": "<b>%{hovertext}</b><br><br>ISO3=COL<br>year=2015<br>Healthy life expectancy at birth=%{x}<br>money=%{marker.size}<extra></extra>",
           "hovertext": [
            "Colombia"
           ],
           "legendgroup": "COL",
           "marker": {
            "color": "#B6E880",
            "size": [
             17879.31
            ],
            "sizemode": "area",
            "sizeref": 197.2357,
            "symbol": "circle"
           },
           "mode": "markers",
           "name": "COL",
           "orientation": "v",
           "showlegend": true,
           "type": "scatter",
           "x": [
            68.3
           ],
           "xaxis": "x",
           "y": [
            17879.31
           ],
           "yaxis": "y"
          }
         ],
         "name": "2015"
        },
        {
         "data": [
          {
           "hovertemplate": "<b>%{hovertext}</b><br><br>ISO3=AUS<br>year=2016<br>Healthy life expectancy at birth=%{x}<br>money=%{marker.size}<extra></extra>",
           "hovertext": [
            "Australia"
           ],
           "legendgroup": "AUS",
           "marker": {
            "color": "#636efa",
            "size": [
             57885
            ],
            "sizemode": "area",
            "sizeref": 197.2357,
            "symbol": "circle"
           },
           "mode": "markers",
           "name": "AUS",
           "orientation": "v",
           "showlegend": true,
           "type": "scatter",
           "x": [
            70.675
           ],
           "xaxis": "x",
           "y": [
            57885
           ],
           "yaxis": "y"
          },
          {
           "hovertemplate": "<b>%{hovertext}</b><br><br>ISO3=BEL<br>year=2016<br>Healthy life expectancy at birth=%{x}<br>money=%{marker.size}<extra></extra>",
           "hovertext": [
            "Belgium"
           ],
           "legendgroup": "BEL",
           "marker": {
            "color": "#EF553B",
            "size": [
             65157
            ],
            "sizemode": "area",
            "sizeref": 197.2357,
            "symbol": "circle"
           },
           "mode": "markers",
           "name": "BEL",
           "orientation": "v",
           "showlegend": true,
           "type": "scatter",
           "x": [
            70.15
           ],
           "xaxis": "x",
           "y": [
            65157
           ],
           "yaxis": "y"
          },
          {
           "hovertemplate": "<b>%{hovertext}</b><br><br>ISO3=CAN<br>year=2016<br>Healthy life expectancy at birth=%{x}<br>money=%{marker.size}<extra></extra>",
           "hovertext": [
            "Canada"
           ],
           "legendgroup": "CAN",
           "marker": {
            "color": "#00cc96",
            "size": [
             54350
            ],
            "sizemode": "area",
            "sizeref": 197.2357,
            "symbol": "circle"
           },
           "mode": "markers",
           "name": "CAN",
           "orientation": "v",
           "showlegend": true,
           "type": "scatter",
           "x": [
            71.15
           ],
           "xaxis": "x",
           "y": [
            54350
           ],
           "yaxis": "y"
          },
          {
           "hovertemplate": "<b>%{hovertext}</b><br><br>ISO3=CZE<br>year=2016<br>Healthy life expectancy at birth=%{x}<br>money=%{marker.size}<extra></extra>",
           "hovertext": [
            "Czech Republic"
           ],
           "legendgroup": "CZE",
           "marker": {
            "color": "#ab63fa",
            "size": [
             31291.43
            ],
            "sizemode": "area",
            "sizeref": 197.2357,
            "symbol": "circle"
           },
           "mode": "markers",
           "name": "CZE",
           "orientation": "v",
           "showlegend": true,
           "type": "scatter",
           "x": [
            68.425
           ],
           "xaxis": "x",
           "y": [
            31291.43
           ],
           "yaxis": "y"
          },
          {
           "hovertemplate": "<b>%{hovertext}</b><br><br>ISO3=DNK<br>year=2016<br>Healthy life expectancy at birth=%{x}<br>money=%{marker.size}<extra></extra>",
           "hovertext": [
            "Denmark"
           ],
           "legendgroup": "DNK",
           "marker": {
            "color": "#FFA15A",
            "size": [
             63894
            ],
            "sizemode": "area",
            "sizeref": 197.2357,
            "symbol": "circle"
           },
           "mode": "markers",
           "name": "DNK",
           "orientation": "v",
           "showlegend": true,
           "type": "scatter",
           "x": [
            70.625
           ],
           "xaxis": "x",
           "y": [
            63894
           ],
           "yaxis": "y"
          },
          {
           "hovertemplate": "<b>%{hovertext}</b><br><br>ISO3=FRA<br>year=2016<br>Healthy life expectancy at birth=%{x}<br>money=%{marker.size}<extra></extra>",
           "hovertext": [
            "France"
           ],
           "legendgroup": "FRA",
           "marker": {
            "color": "#19d3f3",
            "size": [
             52010
            ],
            "sizemode": "area",
            "sizeref": 197.2357,
            "symbol": "circle"
           },
           "mode": "markers",
           "name": "FRA",
           "orientation": "v",
           "showlegend": true,
           "type": "scatter",
           "x": [
            71.8
           ],
           "xaxis": "x",
           "y": [
            52010
           ],
           "yaxis": "y"
          },
          {
           "hovertemplate": "<b>%{hovertext}</b><br><br>ISO3=DEU<br>year=2016<br>Healthy life expectancy at birth=%{x}<br>money=%{marker.size}<extra></extra>",
           "hovertext": [
            "Germany"
           ],
           "legendgroup": "DEU",
           "marker": {
            "color": "#FF6692",
            "size": [
             58311
            ],
            "sizemode": "area",
            "sizeref": 197.2357,
            "symbol": "circle"
           },
           "mode": "markers",
           "name": "DEU",
           "orientation": "v",
           "showlegend": true,
           "type": "scatter",
           "x": [
            70.3
           ],
           "xaxis": "x",
           "y": [
            58311
           ],
           "yaxis": "y"
          },
          {
           "hovertemplate": "<b>%{hovertext}</b><br><br>ISO3=GRC<br>year=2016<br>Healthy life expectancy at birth=%{x}<br>money=%{marker.size}<extra></extra>",
           "hovertext": [
            "Greece"
           ],
           "legendgroup": "GRC",
           "marker": {
            "color": "#B6E880",
            "size": [
             28720
            ],
            "sizemode": "area",
            "sizeref": 197.2357,
            "symbol": "circle"
           },
           "mode": "markers",
           "name": "GRC",
           "orientation": "v",
           "showlegend": true,
           "type": "scatter",
           "x": [
            70.525
           ],
           "xaxis": "x",
           "y": [
            28720
           ],
           "yaxis": "y"
          },
          {
           "hovertemplate": "<b>%{hovertext}</b><br><br>ISO3=HUN<br>year=2016<br>Healthy life expectancy at birth=%{x}<br>money=%{marker.size}<extra></extra>",
           "hovertext": [
            "Hungary"
           ],
           "legendgroup": "HUN",
           "marker": {
            "color": "#FF97FF",
            "size": [
             23349.37
            ],
            "sizemode": "area",
            "sizeref": 197.2357,
            "symbol": "circle"
           },
           "mode": "markers",
           "name": "HUN",
           "orientation": "v",
           "showlegend": true,
           "type": "scatter",
           "x": [
            66.75
           ],
           "xaxis": "x",
           "y": [
            23349.37
           ],
           "yaxis": "y"
          },
          {
           "hovertemplate": "<b>%{hovertext}</b><br><br>ISO3=ITA<br>year=2016<br>Healthy life expectancy at birth=%{x}<br>money=%{marker.size}<extra></extra>",
           "hovertext": [
            "Italy"
           ],
           "legendgroup": "ITA",
           "marker": {
            "color": "#FECB52",
            "size": [
             46468.52
            ],
            "sizemode": "area",
            "sizeref": 197.2357,
            "symbol": "circle"
           },
           "mode": "markers",
           "name": "ITA",
           "orientation": "v",
           "showlegend": true,
           "type": "scatter",
           "x": [
            71.675
           ],
           "xaxis": "x",
           "y": [
            46468.52
           ],
           "yaxis": "y"
          },
          {
           "hovertemplate": "<b>%{hovertext}</b><br><br>ISO3=JPN<br>year=2016<br>Healthy life expectancy at birth=%{x}<br>money=%{marker.size}<extra></extra>",
           "hovertext": [
            "Japan"
           ],
           "legendgroup": "JPN",
           "marker": {
            "color": "#636efa",
            "size": [
             40609
            ],
            "sizemode": "area",
            "sizeref": 197.2357,
            "symbol": "circle"
           },
           "mode": "markers",
           "name": "JPN",
           "orientation": "v",
           "showlegend": true,
           "type": "scatter",
           "x": [
            73.725
           ],
           "xaxis": "x",
           "y": [
            40609
           ],
           "yaxis": "y"
          },
          {
           "hovertemplate": "<b>%{hovertext}</b><br><br>ISO3=MEX<br>year=2016<br>Healthy life expectancy at birth=%{x}<br>money=%{marker.size}<extra></extra>",
           "hovertext": [
            "Mexico"
           ],
           "legendgroup": "MEX",
           "marker": {
            "color": "#EF553B",
            "size": [
             17521.66
            ],
            "sizemode": "area",
            "sizeref": 197.2357,
            "symbol": "circle"
           },
           "mode": "markers",
           "name": "MEX",
           "orientation": "v",
           "showlegend": true,
           "type": "scatter",
           "x": [
            65.8
           ],
           "xaxis": "x",
           "y": [
            17521.66
           ],
           "yaxis": "y"
          },
          {
           "hovertemplate": "<b>%{hovertext}</b><br><br>ISO3=NLD<br>year=2016<br>Healthy life expectancy at birth=%{x}<br>money=%{marker.size}<extra></extra>",
           "hovertext": [
            "Netherlands"
           ],
           "legendgroup": "NLD",
           "marker": {
            "color": "#00cc96",
            "size": [
             67112
            ],
            "sizemode": "area",
            "sizeref": 197.2357,
            "symbol": "circle"
           },
           "mode": "markers",
           "name": "NLD",
           "orientation": "v",
           "showlegend": true,
           "type": "scatter",
           "x": [
            71.175
           ],
           "xaxis": "x",
           "y": [
            67112
           ],
           "yaxis": "y"
          },
          {
           "hovertemplate": "<b>%{hovertext}</b><br><br>ISO3=POL<br>year=2016<br>Healthy life expectancy at birth=%{x}<br>money=%{marker.size}<extra></extra>",
           "hovertext": [
            "Poland"
           ],
           "legendgroup": "POL",
           "marker": {
            "color": "#ab63fa",
            "size": [
             31199
            ],
            "sizemode": "area",
            "sizeref": 197.2357,
            "symbol": "circle"
           },
           "mode": "markers",
           "name": "POL",
           "orientation": "v",
           "showlegend": true,
           "type": "scatter",
           "x": [
            68.175
           ],
           "xaxis": "x",
           "y": [
            31199
           ],
           "yaxis": "y"
          },
          {
           "hovertemplate": "<b>%{hovertext}</b><br><br>ISO3=ESP<br>year=2016<br>Healthy life expectancy at birth=%{x}<br>money=%{marker.size}<extra></extra>",
           "hovertext": [
            "Spain"
           ],
           "legendgroup": "ESP",
           "marker": {
            "color": "#FFA15A",
            "size": [
             44704
            ],
            "sizemode": "area",
            "sizeref": 197.2357,
            "symbol": "circle"
           },
           "mode": "markers",
           "name": "ESP",
           "orientation": "v",
           "showlegend": true,
           "type": "scatter",
           "x": [
            71.725
           ],
           "xaxis": "x",
           "y": [
            44704
           ],
           "yaxis": "y"
          },
          {
           "hovertemplate": "<b>%{hovertext}</b><br><br>ISO3=SWE<br>year=2016<br>Healthy life expectancy at birth=%{x}<br>money=%{marker.size}<extra></extra>",
           "hovertext": [
            "Sweden"
           ],
           "legendgroup": "SWE",
           "marker": {
            "color": "#19d3f3",
            "size": [
             49535
            ],
            "sizemode": "area",
            "sizeref": 197.2357,
            "symbol": "circle"
           },
           "mode": "markers",
           "name": "SWE",
           "orientation": "v",
           "showlegend": true,
           "type": "scatter",
           "x": [
            71.525
           ],
           "xaxis": "x",
           "y": [
            49535
           ],
           "yaxis": "y"
          },
          {
           "hovertemplate": "<b>%{hovertext}</b><br><br>ISO3=GBR<br>year=2016<br>Healthy life expectancy at birth=%{x}<br>money=%{marker.size}<extra></extra>",
           "hovertext": [
            "United Kingdom"
           ],
           "legendgroup": "GBR",
           "marker": {
            "color": "#FF6692",
            "size": [
             53156
            ],
            "sizemode": "area",
            "sizeref": 197.2357,
            "symbol": "circle"
           },
           "mode": "markers",
           "name": "GBR",
           "orientation": "v",
           "showlegend": true,
           "type": "scatter",
           "x": [
            69.8
           ],
           "xaxis": "x",
           "y": [
            53156
           ],
           "yaxis": "y"
          },
          {
           "hovertemplate": "<b>%{hovertext}</b><br><br>ISO3=AUT<br>year=2016<br>Healthy life expectancy at birth=%{x}<br>money=%{marker.size}<extra></extra>",
           "hovertext": [
            "Austria"
           ],
           "legendgroup": "AUT",
           "marker": {
            "color": "#B6E880",
            "size": [
             63860
            ],
            "sizemode": "area",
            "sizeref": 197.2357,
            "symbol": "circle"
           },
           "mode": "markers",
           "name": "AUT",
           "orientation": "v",
           "showlegend": true,
           "type": "scatter",
           "x": [
            70.525
           ],
           "xaxis": "x",
           "y": [
            63860
           ],
           "yaxis": "y"
          },
          {
           "hovertemplate": "<b>%{hovertext}</b><br><br>ISO3=CHL<br>year=2016<br>Healthy life expectancy at birth=%{x}<br>money=%{marker.size}<extra></extra>",
           "hovertext": [
            "Chile"
           ],
           "legendgroup": "CHL",
           "marker": {
            "color": "#FF97FF",
            "size": [
             31834
            ],
            "sizemode": "area",
            "sizeref": 197.2357,
            "symbol": "circle"
           },
           "mode": "markers",
           "name": "CHL",
           "orientation": "v",
           "showlegend": true,
           "type": "scatter",
           "x": [
            69.55
           ],
           "xaxis": "x",
           "y": [
            31834
           ],
           "yaxis": "y"
          },
          {
           "hovertemplate": "<b>%{hovertext}</b><br><br>ISO3=CRI<br>year=2016<br>Healthy life expectancy at birth=%{x}<br>money=%{marker.size}<extra></extra>",
           "hovertext": [
            "Costa Rica"
           ],
           "legendgroup": "CRI",
           "marker": {
            "color": "#FECB52",
            "size": [
             25689.46
            ],
            "sizemode": "area",
            "sizeref": 197.2357,
            "symbol": "circle"
           },
           "mode": "markers",
           "name": "CRI",
           "orientation": "v",
           "showlegend": true,
           "type": "scatter",
           "x": [
            70
           ],
           "xaxis": "x",
           "y": [
            25689.46
           ],
           "yaxis": "y"
          },
          {
           "hovertemplate": "<b>%{hovertext}</b><br><br>ISO3=EST<br>year=2016<br>Healthy life expectancy at birth=%{x}<br>money=%{marker.size}<extra></extra>",
           "hovertext": [
            "Estonia"
           ],
           "legendgroup": "EST",
           "marker": {
            "color": "#636efa",
            "size": [
             28837
            ],
            "sizemode": "area",
            "sizeref": 197.2357,
            "symbol": "circle"
           },
           "mode": "markers",
           "name": "EST",
           "orientation": "v",
           "showlegend": true,
           "type": "scatter",
           "x": [
            68.525
           ],
           "xaxis": "x",
           "y": [
            28837
           ],
           "yaxis": "y"
          },
          {
           "hovertemplate": "<b>%{hovertext}</b><br><br>ISO3=FIN<br>year=2016<br>Healthy life expectancy at birth=%{x}<br>money=%{marker.size}<extra></extra>",
           "hovertext": [
            "Finland"
           ],
           "legendgroup": "FIN",
           "marker": {
            "color": "#EF553B",
            "size": [
             50274
            ],
            "sizemode": "area",
            "sizeref": 197.2357,
            "symbol": "circle"
           },
           "mode": "markers",
           "name": "FIN",
           "orientation": "v",
           "showlegend": true,
           "type": "scatter",
           "x": [
            70.775
           ],
           "xaxis": "x",
           "y": [
            50274
           ],
           "yaxis": "y"
          },
          {
           "hovertemplate": "<b>%{hovertext}</b><br><br>ISO3=IRL<br>year=2016<br>Healthy life expectancy at birth=%{x}<br>money=%{marker.size}<extra></extra>",
           "hovertext": [
            "Ireland"
           ],
           "legendgroup": "IRL",
           "marker": {
            "color": "#00cc96",
            "size": [
             50593
            ],
            "sizemode": "area",
            "sizeref": 197.2357,
            "symbol": "circle"
           },
           "mode": "markers",
           "name": "IRL",
           "orientation": "v",
           "showlegend": true,
           "type": "scatter",
           "x": [
            70.8
           ],
           "xaxis": "x",
           "y": [
            50593
           ],
           "yaxis": "y"
          },
          {
           "hovertemplate": "<b>%{hovertext}</b><br><br>ISO3=ISR<br>year=2016<br>Healthy life expectancy at birth=%{x}<br>money=%{marker.size}<extra></extra>",
           "hovertext": [
            "Israel"
           ],
           "legendgroup": "ISR",
           "marker": {
            "color": "#ab63fa",
            "size": [
             38697.55
            ],
            "sizemode": "area",
            "sizeref": 197.2357,
            "symbol": "circle"
           },
           "mode": "markers",
           "name": "ISR",
           "orientation": "v",
           "showlegend": true,
           "type": "scatter",
           "x": [
            71.95
           ],
           "xaxis": "x",
           "y": [
            38697.55
           ],
           "yaxis": "y"
          },
          {
           "hovertemplate": "<b>%{hovertext}</b><br><br>ISO3=LVA<br>year=2016<br>Healthy life expectancy at birth=%{x}<br>money=%{marker.size}<extra></extra>",
           "hovertext": [
            "Latvia"
           ],
           "legendgroup": "LVA",
           "marker": {
            "color": "#FFA15A",
            "size": [
             28522.6
            ],
            "sizemode": "area",
            "sizeref": 197.2357,
            "symbol": "circle"
           },
           "mode": "markers",
           "name": "LVA",
           "orientation": "v",
           "showlegend": true,
           "type": "scatter",
           "x": [
            65.9
           ],
           "xaxis": "x",
           "y": [
            28522.6
           ],
           "yaxis": "y"
          },
          {
           "hovertemplate": "<b>%{hovertext}</b><br><br>ISO3=LTU<br>year=2016<br>Healthy life expectancy at birth=%{x}<br>money=%{marker.size}<extra></extra>",
           "hovertext": [
            "Lithuania"
           ],
           "legendgroup": "LTU",
           "marker": {
            "color": "#19d3f3",
            "size": [
             35752
            ],
            "sizemode": "area",
            "sizeref": 197.2357,
            "symbol": "circle"
           },
           "mode": "markers",
           "name": "LTU",
           "orientation": "v",
           "showlegend": true,
           "type": "scatter",
           "x": [
            65.65
           ],
           "xaxis": "x",
           "y": [
            35752
           ],
           "yaxis": "y"
          },
          {
           "hovertemplate": "<b>%{hovertext}</b><br><br>ISO3=NZL<br>year=2016<br>Healthy life expectancy at birth=%{x}<br>money=%{marker.size}<extra></extra>",
           "hovertext": [
            "New Zealand"
           ],
           "legendgroup": "NZL",
           "marker": {
            "color": "#FF6692",
            "size": [
             47269
            ],
            "sizemode": "area",
            "sizeref": 197.2357,
            "symbol": "circle"
           },
           "mode": "markers",
           "name": "NZL",
           "orientation": "v",
           "showlegend": true,
           "type": "scatter",
           "x": [
            69.975
           ],
           "xaxis": "x",
           "y": [
            47269
           ],
           "yaxis": "y"
          },
          {
           "hovertemplate": "<b>%{hovertext}</b><br><br>ISO3=NOR<br>year=2016<br>Healthy life expectancy at birth=%{x}<br>money=%{marker.size}<extra></extra>",
           "hovertext": [
            "Norway"
           ],
           "legendgroup": "NOR",
           "marker": {
            "color": "#B6E880",
            "size": [
             51226
            ],
            "sizemode": "area",
            "sizeref": 197.2357,
            "symbol": "circle"
           },
           "mode": "markers",
           "name": "NOR",
           "orientation": "v",
           "showlegend": true,
           "type": "scatter",
           "x": [
            71.25
           ],
           "xaxis": "x",
           "y": [
            51226
           ],
           "yaxis": "y"
          },
          {
           "hovertemplate": "<b>%{hovertext}</b><br><br>ISO3=PRT<br>year=2016<br>Healthy life expectancy at birth=%{x}<br>money=%{marker.size}<extra></extra>",
           "hovertext": [
            "Portugal"
           ],
           "legendgroup": "PRT",
           "marker": {
            "color": "#FF97FF",
            "size": [
             29320
            ],
            "sizemode": "area",
            "sizeref": 197.2357,
            "symbol": "circle"
           },
           "mode": "markers",
           "name": "PRT",
           "orientation": "v",
           "showlegend": true,
           "type": "scatter",
           "x": [
            70.625
           ],
           "xaxis": "x",
           "y": [
            29320
           ],
           "yaxis": "y"
          },
          {
           "hovertemplate": "<b>%{hovertext}</b><br><br>ISO3=SVK<br>year=2016<br>Healthy life expectancy at birth=%{x}<br>money=%{marker.size}<extra></extra>",
           "hovertext": [
            "Slovakia"
           ],
           "legendgroup": "SVK",
           "marker": {
            "color": "#FECB52",
            "size": [
             24426
            ],
            "sizemode": "area",
            "sizeref": 197.2357,
            "symbol": "circle"
           },
           "mode": "markers",
           "name": "SVK",
           "orientation": "v",
           "showlegend": true,
           "type": "scatter",
           "x": [
            67.825
           ],
           "xaxis": "x",
           "y": [
            24426
           ],
           "yaxis": "y"
          },
          {
           "hovertemplate": "<b>%{hovertext}</b><br><br>ISO3=SVN<br>year=2016<br>Healthy life expectancy at birth=%{x}<br>money=%{marker.size}<extra></extra>",
           "hovertext": [
            "Slovenia"
           ],
           "legendgroup": "SVN",
           "marker": {
            "color": "#636efa",
            "size": [
             44095
            ],
            "sizemode": "area",
            "sizeref": 197.2357,
            "symbol": "circle"
           },
           "mode": "markers",
           "name": "SVN",
           "orientation": "v",
           "showlegend": true,
           "type": "scatter",
           "x": [
            70.175
           ],
           "xaxis": "x",
           "y": [
            44095
           ],
           "yaxis": "y"
          },
          {
           "hovertemplate": "<b>%{hovertext}</b><br><br>ISO3=CHE<br>year=2016<br>Healthy life expectancy at birth=%{x}<br>money=%{marker.size}<extra></extra>",
           "hovertext": [
            "Switzerland"
           ],
           "legendgroup": "CHE",
           "marker": {
            "color": "#EF553B",
            "size": [
             70468
            ],
            "sizemode": "area",
            "sizeref": 197.2357,
            "symbol": "circle"
           },
           "mode": "markers",
           "name": "CHE",
           "orientation": "v",
           "showlegend": true,
           "type": "scatter",
           "x": [
            71.9
           ],
           "xaxis": "x",
           "y": [
            70468
           ],
           "yaxis": "y"
          },
          {
           "hovertemplate": "<b>%{hovertext}</b><br><br>ISO3=USA<br>year=2016<br>Healthy life expectancy at birth=%{x}<br>money=%{marker.size}<extra></extra>",
           "hovertext": [
            "United States"
           ],
           "legendgroup": "USA",
           "marker": {
            "color": "#00cc96",
            "size": [
             70446
            ],
            "sizemode": "area",
            "sizeref": 197.2357,
            "symbol": "circle"
           },
           "mode": "markers",
           "name": "USA",
           "orientation": "v",
           "showlegend": true,
           "type": "scatter",
           "x": [
            66.475
           ],
           "xaxis": "x",
           "y": [
            70446
           ],
           "yaxis": "y"
          },
          {
           "hovertemplate": "<b>%{hovertext}</b><br><br>ISO3=TUR<br>year=2016<br>Healthy life expectancy at birth=%{x}<br>money=%{marker.size}<extra></extra>",
           "hovertext": [
            "Turkey"
           ],
           "legendgroup": "TUR",
           "marker": {
            "color": "#ab63fa",
            "size": [
             30081.3
            ],
            "sizemode": "area",
            "sizeref": 197.2357,
            "symbol": "circle"
           },
           "mode": "markers",
           "name": "TUR",
           "orientation": "v",
           "showlegend": true,
           "type": "scatter",
           "x": [
            67.875
           ],
           "xaxis": "x",
           "y": [
            30081.3
           ],
           "yaxis": "y"
          },
          {
           "hovertemplate": "<b>%{hovertext}</b><br><br>ISO3=ISL<br>year=2016<br>Healthy life expectancy at birth=%{x}<br>money=%{marker.size}<extra></extra>",
           "hovertext": [
            "Iceland"
           ],
           "legendgroup": "ISL",
           "marker": {
            "color": "#FFA15A",
            "size": [
             68732
            ],
            "sizemode": "area",
            "sizeref": 197.2357,
            "symbol": "circle"
           },
           "mode": "markers",
           "name": "ISL",
           "orientation": "v",
           "showlegend": true,
           "type": "scatter",
           "x": [
            71.925
           ],
           "xaxis": "x",
           "y": [
            68732
           ],
           "yaxis": "y"
          },
          {
           "hovertemplate": "<b>%{hovertext}</b><br><br>ISO3=KOR<br>year=2016<br>Healthy life expectancy at birth=%{x}<br>money=%{marker.size}<extra></extra>",
           "hovertext": [
            "Korea, Republic of",
            "South Korea"
           ],
           "legendgroup": "KOR",
           "marker": {
            "color": "#19d3f3",
            "size": [
             43106,
             43106
            ],
            "sizemode": "area",
            "sizeref": 197.2357,
            "symbol": "circle"
           },
           "mode": "markers",
           "name": "KOR",
           "orientation": "v",
           "showlegend": true,
           "type": "scatter",
           "x": [
            72.275,
            72.275
           ],
           "xaxis": "x",
           "y": [
            43106,
            43106
           ],
           "yaxis": "y"
          },
          {
           "hovertemplate": "<b>%{hovertext}</b><br><br>ISO3=LUX<br>year=2016<br>Healthy life expectancy at birth=%{x}<br>money=%{marker.size}<extra></extra>",
           "hovertext": [
            "Luxembourg"
           ],
           "legendgroup": "LUX",
           "marker": {
            "color": "#FF6692",
            "size": [
             72999
            ],
            "sizemode": "area",
            "sizeref": 197.2357,
            "symbol": "circle"
           },
           "mode": "markers",
           "name": "LUX",
           "orientation": "v",
           "showlegend": true,
           "type": "scatter",
           "x": [
            71.525
           ],
           "xaxis": "x",
           "y": [
            72999
           ],
           "yaxis": "y"
          },
          {
           "hovertemplate": "<b>%{hovertext}</b><br><br>ISO3=COL<br>year=2016<br>Healthy life expectancy at birth=%{x}<br>money=%{marker.size}<extra></extra>",
           "hovertext": [
            "Colombia"
           ],
           "legendgroup": "COL",
           "marker": {
            "color": "#B6E880",
            "size": [
             18653.26
            ],
            "sizemode": "area",
            "sizeref": 197.2357,
            "symbol": "circle"
           },
           "mode": "markers",
           "name": "COL",
           "orientation": "v",
           "showlegend": true,
           "type": "scatter",
           "x": [
            68.475
           ],
           "xaxis": "x",
           "y": [
            18653.26
           ],
           "yaxis": "y"
          }
         ],
         "name": "2016"
        },
        {
         "data": [
          {
           "hovertemplate": "<b>%{hovertext}</b><br><br>ISO3=AUS<br>year=2017<br>Healthy life expectancy at birth=%{x}<br>money=%{marker.size}<extra></extra>",
           "hovertext": [
            "Australia"
           ],
           "legendgroup": "AUS",
           "marker": {
            "color": "#636efa",
            "size": [
             57619
            ],
            "sizemode": "area",
            "sizeref": 197.2357,
            "symbol": "circle"
           },
           "mode": "markers",
           "name": "AUS",
           "orientation": "v",
           "showlegend": true,
           "type": "scatter",
           "x": [
            70.75
           ],
           "xaxis": "x",
           "y": [
            57619
           ],
           "yaxis": "y"
          },
          {
           "hovertemplate": "<b>%{hovertext}</b><br><br>ISO3=BEL<br>year=2017<br>Healthy life expectancy at birth=%{x}<br>money=%{marker.size}<extra></extra>",
           "hovertext": [
            "Belgium"
           ],
           "legendgroup": "BEL",
           "marker": {
            "color": "#EF553B",
            "size": [
             64700
            ],
            "sizemode": "area",
            "sizeref": 197.2357,
            "symbol": "circle"
           },
           "mode": "markers",
           "name": "BEL",
           "orientation": "v",
           "showlegend": true,
           "type": "scatter",
           "x": [
            70.3
           ],
           "xaxis": "x",
           "y": [
            64700
           ],
           "yaxis": "y"
          },
          {
           "hovertemplate": "<b>%{hovertext}</b><br><br>ISO3=CAN<br>year=2017<br>Healthy life expectancy at birth=%{x}<br>money=%{marker.size}<extra></extra>",
           "hovertext": [
            "Canada"
           ],
           "legendgroup": "CAN",
           "marker": {
            "color": "#00cc96",
            "size": [
             55122
            ],
            "sizemode": "area",
            "sizeref": 197.2357,
            "symbol": "circle"
           },
           "mode": "markers",
           "name": "CAN",
           "orientation": "v",
           "showlegend": true,
           "type": "scatter",
           "x": [
            71.2
           ],
           "xaxis": "x",
           "y": [
            55122
           ],
           "yaxis": "y"
          },
          {
           "hovertemplate": "<b>%{hovertext}</b><br><br>ISO3=CZE<br>year=2017<br>Healthy life expectancy at birth=%{x}<br>money=%{marker.size}<extra></extra>",
           "hovertext": [
            "Czech Republic"
           ],
           "legendgroup": "CZE",
           "marker": {
            "color": "#ab63fa",
            "size": [
             32890.57
            ],
            "sizemode": "area",
            "sizeref": 197.2357,
            "symbol": "circle"
           },
           "mode": "markers",
           "name": "CZE",
           "orientation": "v",
           "showlegend": true,
           "type": "scatter",
           "x": [
            68.55
           ],
           "xaxis": "x",
           "y": [
            32890.57
           ],
           "yaxis": "y"
          },
          {
           "hovertemplate": "<b>%{hovertext}</b><br><br>ISO3=DNK<br>year=2017<br>Healthy life expectancy at birth=%{x}<br>money=%{marker.size}<extra></extra>",
           "hovertext": [
            "Denmark"
           ],
           "legendgroup": "DNK",
           "marker": {
            "color": "#FFA15A",
            "size": [
             64281
            ],
            "sizemode": "area",
            "sizeref": 197.2357,
            "symbol": "circle"
           },
           "mode": "markers",
           "name": "DNK",
           "orientation": "v",
           "showlegend": true,
           "type": "scatter",
           "x": [
            70.75
           ],
           "xaxis": "x",
           "y": [
            64281
           ],
           "yaxis": "y"
          },
          {
           "hovertemplate": "<b>%{hovertext}</b><br><br>ISO3=FRA<br>year=2017<br>Healthy life expectancy at birth=%{x}<br>money=%{marker.size}<extra></extra>",
           "hovertext": [
            "France"
           ],
           "legendgroup": "FRA",
           "marker": {
            "color": "#19d3f3",
            "size": [
             52732
            ],
            "sizemode": "area",
            "sizeref": 197.2357,
            "symbol": "circle"
           },
           "mode": "markers",
           "name": "FRA",
           "orientation": "v",
           "showlegend": true,
           "type": "scatter",
           "x": [
            71.9
           ],
           "xaxis": "x",
           "y": [
            52732
           ],
           "yaxis": "y"
          },
          {
           "hovertemplate": "<b>%{hovertext}</b><br><br>ISO3=DEU<br>year=2017<br>Healthy life expectancy at birth=%{x}<br>money=%{marker.size}<extra></extra>",
           "hovertext": [
            "Germany"
           ],
           "legendgroup": "DEU",
           "marker": {
            "color": "#FF6692",
            "size": [
             58924
            ],
            "sizemode": "area",
            "sizeref": 197.2357,
            "symbol": "circle"
           },
           "mode": "markers",
           "name": "DEU",
           "orientation": "v",
           "showlegend": true,
           "type": "scatter",
           "x": [
            70.5
           ],
           "xaxis": "x",
           "y": [
            58924
           ],
           "yaxis": "y"
          },
          {
           "hovertemplate": "<b>%{hovertext}</b><br><br>ISO3=GRC<br>year=2017<br>Healthy life expectancy at birth=%{x}<br>money=%{marker.size}<extra></extra>",
           "hovertext": [
            "Greece"
           ],
           "legendgroup": "GRC",
           "marker": {
            "color": "#B6E880",
            "size": [
             28903
            ],
            "sizemode": "area",
            "sizeref": 197.2357,
            "symbol": "circle"
           },
           "mode": "markers",
           "name": "GRC",
           "orientation": "v",
           "showlegend": true,
           "type": "scatter",
           "x": [
            70.65
           ],
           "xaxis": "x",
           "y": [
            28903
           ],
           "yaxis": "y"
          },
          {
           "hovertemplate": "<b>%{hovertext}</b><br><br>ISO3=HUN<br>year=2017<br>Healthy life expectancy at birth=%{x}<br>money=%{marker.size}<extra></extra>",
           "hovertext": [
            "Hungary"
           ],
           "legendgroup": "HUN",
           "marker": {
            "color": "#FF97FF",
            "size": [
             25038
            ],
            "sizemode": "area",
            "sizeref": 197.2357,
            "symbol": "circle"
           },
           "mode": "markers",
           "name": "HUN",
           "orientation": "v",
           "showlegend": true,
           "type": "scatter",
           "x": [
            66.9
           ],
           "xaxis": "x",
           "y": [
            25038
           ],
           "yaxis": "y"
          },
          {
           "hovertemplate": "<b>%{hovertext}</b><br><br>ISO3=ITA<br>year=2017<br>Healthy life expectancy at birth=%{x}<br>money=%{marker.size}<extra></extra>",
           "hovertext": [
            "Italy"
           ],
           "legendgroup": "ITA",
           "marker": {
            "color": "#FECB52",
            "size": [
             46169
            ],
            "sizemode": "area",
            "sizeref": 197.2357,
            "symbol": "circle"
           },
           "mode": "markers",
           "name": "ITA",
           "orientation": "v",
           "showlegend": true,
           "type": "scatter",
           "x": [
            71.75
           ],
           "xaxis": "x",
           "y": [
            46169
           ],
           "yaxis": "y"
          },
          {
           "hovertemplate": "<b>%{hovertext}</b><br><br>ISO3=JPN<br>year=2017<br>Healthy life expectancy at birth=%{x}<br>money=%{marker.size}<extra></extra>",
           "hovertext": [
            "Japan"
           ],
           "legendgroup": "JPN",
           "marker": {
            "color": "#636efa",
            "size": [
             40710
            ],
            "sizemode": "area",
            "sizeref": 197.2357,
            "symbol": "circle"
           },
           "mode": "markers",
           "name": "JPN",
           "orientation": "v",
           "showlegend": true,
           "type": "scatter",
           "x": [
            73.85
           ],
           "xaxis": "x",
           "y": [
            40710
           ],
           "yaxis": "y"
          },
          {
           "hovertemplate": "<b>%{hovertext}</b><br><br>ISO3=MEX<br>year=2017<br>Healthy life expectancy at birth=%{x}<br>money=%{marker.size}<extra></extra>",
           "hovertext": [
            "Mexico"
           ],
           "legendgroup": "MEX",
           "marker": {
            "color": "#EF553B",
            "size": [
             17475.39
            ],
            "sizemode": "area",
            "sizeref": 197.2357,
            "symbol": "circle"
           },
           "mode": "markers",
           "name": "MEX",
           "orientation": "v",
           "showlegend": true,
           "type": "scatter",
           "x": [
            65.8
           ],
           "xaxis": "x",
           "y": [
            17475.39
           ],
           "yaxis": "y"
          },
          {
           "hovertemplate": "<b>%{hovertext}</b><br><br>ISO3=NLD<br>year=2017<br>Healthy life expectancy at birth=%{x}<br>money=%{marker.size}<extra></extra>",
           "hovertext": [
            "Netherlands"
           ],
           "legendgroup": "NLD",
           "marker": {
            "color": "#00cc96",
            "size": [
             66634
            ],
            "sizemode": "area",
            "sizeref": 197.2357,
            "symbol": "circle"
           },
           "mode": "markers",
           "name": "NLD",
           "orientation": "v",
           "showlegend": true,
           "type": "scatter",
           "x": [
            71.25
           ],
           "xaxis": "x",
           "y": [
            66634
           ],
           "yaxis": "y"
          },
          {
           "hovertemplate": "<b>%{hovertext}</b><br><br>ISO3=POL<br>year=2017<br>Healthy life expectancy at birth=%{x}<br>money=%{marker.size}<extra></extra>",
           "hovertext": [
            "Poland"
           ],
           "legendgroup": "POL",
           "marker": {
            "color": "#ab63fa",
            "size": [
             32474.61
            ],
            "sizemode": "area",
            "sizeref": 197.2357,
            "symbol": "circle"
           },
           "mode": "markers",
           "name": "POL",
           "orientation": "v",
           "showlegend": true,
           "type": "scatter",
           "x": [
            68.35
           ],
           "xaxis": "x",
           "y": [
            32474.61
           ],
           "yaxis": "y"
          },
          {
           "hovertemplate": "<b>%{hovertext}</b><br><br>ISO3=ESP<br>year=2017<br>Healthy life expectancy at birth=%{x}<br>money=%{marker.size}<extra></extra>",
           "hovertext": [
            "Spain"
           ],
           "legendgroup": "ESP",
           "marker": {
            "color": "#FFA15A",
            "size": [
             44123
            ],
            "sizemode": "area",
            "sizeref": 197.2357,
            "symbol": "circle"
           },
           "mode": "markers",
           "name": "ESP",
           "orientation": "v",
           "showlegend": true,
           "type": "scatter",
           "x": [
            71.85
           ],
           "xaxis": "x",
           "y": [
            44123
           ],
           "yaxis": "y"
          },
          {
           "hovertemplate": "<b>%{hovertext}</b><br><br>ISO3=SWE<br>year=2017<br>Healthy life expectancy at birth=%{x}<br>money=%{marker.size}<extra></extra>",
           "hovertext": [
            "Sweden"
           ],
           "legendgroup": "SWE",
           "marker": {
            "color": "#19d3f3",
            "size": [
             49797
            ],
            "sizemode": "area",
            "sizeref": 197.2357,
            "symbol": "circle"
           },
           "mode": "markers",
           "name": "SWE",
           "orientation": "v",
           "showlegend": true,
           "type": "scatter",
           "x": [
            71.65
           ],
           "xaxis": "x",
           "y": [
            49797
           ],
           "yaxis": "y"
          },
          {
           "hovertemplate": "<b>%{hovertext}</b><br><br>ISO3=GBR<br>year=2017<br>Healthy life expectancy at birth=%{x}<br>money=%{marker.size}<extra></extra>",
           "hovertext": [
            "United Kingdom"
           ],
           "legendgroup": "GBR",
           "marker": {
            "color": "#FF6692",
            "size": [
             53471
            ],
            "sizemode": "area",
            "sizeref": 197.2357,
            "symbol": "circle"
           },
           "mode": "markers",
           "name": "GBR",
           "orientation": "v",
           "showlegend": true,
           "type": "scatter",
           "x": [
            69.9
           ],
           "xaxis": "x",
           "y": [
            53471
           ],
           "yaxis": "y"
          },
          {
           "hovertemplate": "<b>%{hovertext}</b><br><br>ISO3=AUT<br>year=2017<br>Healthy life expectancy at birth=%{x}<br>money=%{marker.size}<extra></extra>",
           "hovertext": [
            "Austria"
           ],
           "legendgroup": "AUT",
           "marker": {
            "color": "#B6E880",
            "size": [
             63856
            ],
            "sizemode": "area",
            "sizeref": 197.2357,
            "symbol": "circle"
           },
           "mode": "markers",
           "name": "AUT",
           "orientation": "v",
           "showlegend": true,
           "type": "scatter",
           "x": [
            70.65
           ],
           "xaxis": "x",
           "y": [
            63856
           ],
           "yaxis": "y"
          },
          {
           "hovertemplate": "<b>%{hovertext}</b><br><br>ISO3=CHL<br>year=2017<br>Healthy life expectancy at birth=%{x}<br>money=%{marker.size}<extra></extra>",
           "hovertext": [
            "Chile"
           ],
           "legendgroup": "CHL",
           "marker": {
            "color": "#FF97FF",
            "size": [
             30847
            ],
            "sizemode": "area",
            "sizeref": 197.2357,
            "symbol": "circle"
           },
           "mode": "markers",
           "name": "CHL",
           "orientation": "v",
           "showlegend": true,
           "type": "scatter",
           "x": [
            69.7
           ],
           "xaxis": "x",
           "y": [
            30847
           ],
           "yaxis": "y"
          },
          {
           "hovertemplate": "<b>%{hovertext}</b><br><br>ISO3=CRI<br>year=2017<br>Healthy life expectancy at birth=%{x}<br>money=%{marker.size}<extra></extra>",
           "hovertext": [
            "Costa Rica"
           ],
           "legendgroup": "CRI",
           "marker": {
            "color": "#FECB52",
            "size": [
             25839.5
            ],
            "sizemode": "area",
            "sizeref": 197.2357,
            "symbol": "circle"
           },
           "mode": "markers",
           "name": "CRI",
           "orientation": "v",
           "showlegend": true,
           "type": "scatter",
           "x": [
            70
           ],
           "xaxis": "x",
           "y": [
            25839.5
           ],
           "yaxis": "y"
          },
          {
           "hovertemplate": "<b>%{hovertext}</b><br><br>ISO3=EST<br>year=2017<br>Healthy life expectancy at birth=%{x}<br>money=%{marker.size}<extra></extra>",
           "hovertext": [
            "Estonia"
           ],
           "legendgroup": "EST",
           "marker": {
            "color": "#636efa",
            "size": [
             29499.52
            ],
            "sizemode": "area",
            "sizeref": 197.2357,
            "symbol": "circle"
           },
           "mode": "markers",
           "name": "EST",
           "orientation": "v",
           "showlegend": true,
           "type": "scatter",
           "x": [
            68.75
           ],
           "xaxis": "x",
           "y": [
            29499.52
           ],
           "yaxis": "y"
          },
          {
           "hovertemplate": "<b>%{hovertext}</b><br><br>ISO3=FIN<br>year=2017<br>Healthy life expectancy at birth=%{x}<br>money=%{marker.size}<extra></extra>",
           "hovertext": [
            "Finland"
           ],
           "legendgroup": "FIN",
           "marker": {
            "color": "#EF553B",
            "size": [
             49985
            ],
            "sizemode": "area",
            "sizeref": 197.2357,
            "symbol": "circle"
           },
           "mode": "markers",
           "name": "FIN",
           "orientation": "v",
           "showlegend": true,
           "type": "scatter",
           "x": [
            70.85
           ],
           "xaxis": "x",
           "y": [
            49985
           ],
           "yaxis": "y"
          },
          {
           "hovertemplate": "<b>%{hovertext}</b><br><br>ISO3=IRL<br>year=2017<br>Healthy life expectancy at birth=%{x}<br>money=%{marker.size}<extra></extra>",
           "hovertext": [
            "Ireland"
           ],
           "legendgroup": "IRL",
           "marker": {
            "color": "#00cc96",
            "size": [
             51180
            ],
            "sizemode": "area",
            "sizeref": 197.2357,
            "symbol": "circle"
           },
           "mode": "markers",
           "name": "IRL",
           "orientation": "v",
           "showlegend": true,
           "type": "scatter",
           "x": [
            70.9
           ],
           "xaxis": "x",
           "y": [
            51180
           ],
           "yaxis": "y"
          },
          {
           "hovertemplate": "<b>%{hovertext}</b><br><br>ISO3=ISR<br>year=2017<br>Healthy life expectancy at birth=%{x}<br>money=%{marker.size}<extra></extra>",
           "hovertext": [
            "Israel"
           ],
           "legendgroup": "ISR",
           "marker": {
            "color": "#ab63fa",
            "size": [
             39898
            ],
            "sizemode": "area",
            "sizeref": 197.2357,
            "symbol": "circle"
           },
           "mode": "markers",
           "name": "ISR",
           "orientation": "v",
           "showlegend": true,
           "type": "scatter",
           "x": [
            72.1
           ],
           "xaxis": "x",
           "y": [
            39898
           ],
           "yaxis": "y"
          },
          {
           "hovertemplate": "<b>%{hovertext}</b><br><br>ISO3=LVA<br>year=2017<br>Healthy life expectancy at birth=%{x}<br>money=%{marker.size}<extra></extra>",
           "hovertext": [
            "Latvia"
           ],
           "legendgroup": "LVA",
           "marker": {
            "color": "#FFA15A",
            "size": [
             29546
            ],
            "sizemode": "area",
            "sizeref": 197.2357,
            "symbol": "circle"
           },
           "mode": "markers",
           "name": "LVA",
           "orientation": "v",
           "showlegend": true,
           "type": "scatter",
           "x": [
            66
           ],
           "xaxis": "x",
           "y": [
            29546
           ],
           "yaxis": "y"
          },
          {
           "hovertemplate": "<b>%{hovertext}</b><br><br>ISO3=LTU<br>year=2017<br>Healthy life expectancy at birth=%{x}<br>money=%{marker.size}<extra></extra>",
           "hovertext": [
            "Lithuania"
           ],
           "legendgroup": "LTU",
           "marker": {
            "color": "#19d3f3",
            "size": [
             37766
            ],
            "sizemode": "area",
            "sizeref": 197.2357,
            "symbol": "circle"
           },
           "mode": "markers",
           "name": "LTU",
           "orientation": "v",
           "showlegend": true,
           "type": "scatter",
           "x": [
            66
           ],
           "xaxis": "x",
           "y": [
            37766
           ],
           "yaxis": "y"
          },
          {
           "hovertemplate": "<b>%{hovertext}</b><br><br>ISO3=NZL<br>year=2017<br>Healthy life expectancy at birth=%{x}<br>money=%{marker.size}<extra></extra>",
           "hovertext": [
            "New Zealand"
           ],
           "legendgroup": "NZL",
           "marker": {
            "color": "#FF6692",
            "size": [
             47594
            ],
            "sizemode": "area",
            "sizeref": 197.2357,
            "symbol": "circle"
           },
           "mode": "markers",
           "name": "NZL",
           "orientation": "v",
           "showlegend": true,
           "type": "scatter",
           "x": [
            70.05
           ],
           "xaxis": "x",
           "y": [
            47594
           ],
           "yaxis": "y"
          },
          {
           "hovertemplate": "<b>%{hovertext}</b><br><br>ISO3=NOR<br>year=2017<br>Healthy life expectancy at birth=%{x}<br>money=%{marker.size}<extra></extra>",
           "hovertext": [
            "Norway"
           ],
           "legendgroup": "NOR",
           "marker": {
            "color": "#B6E880",
            "size": [
             51096
            ],
            "sizemode": "area",
            "sizeref": 197.2357,
            "symbol": "circle"
           },
           "mode": "markers",
           "name": "NOR",
           "orientation": "v",
           "showlegend": true,
           "type": "scatter",
           "x": [
            71.3
           ],
           "xaxis": "x",
           "y": [
            51096
           ],
           "yaxis": "y"
          },
          {
           "hovertemplate": "<b>%{hovertext}</b><br><br>ISO3=PRT<br>year=2017<br>Healthy life expectancy at birth=%{x}<br>money=%{marker.size}<extra></extra>",
           "hovertext": [
            "Portugal"
           ],
           "legendgroup": "PRT",
           "marker": {
            "color": "#FF97FF",
            "size": [
             29433.32
            ],
            "sizemode": "area",
            "sizeref": 197.2357,
            "symbol": "circle"
           },
           "mode": "markers",
           "name": "PRT",
           "orientation": "v",
           "showlegend": true,
           "type": "scatter",
           "x": [
            70.75
           ],
           "xaxis": "x",
           "y": [
            29433.32
           ],
           "yaxis": "y"
          },
          {
           "hovertemplate": "<b>%{hovertext}</b><br><br>ISO3=SVK<br>year=2017<br>Healthy life expectancy at birth=%{x}<br>money=%{marker.size}<extra></extra>",
           "hovertext": [
            "Slovakia"
           ],
           "legendgroup": "SVK",
           "marker": {
            "color": "#FECB52",
            "size": [
             25151.45
            ],
            "sizemode": "area",
            "sizeref": 197.2357,
            "symbol": "circle"
           },
           "mode": "markers",
           "name": "SVK",
           "orientation": "v",
           "showlegend": true,
           "type": "scatter",
           "x": [
            68.05
           ],
           "xaxis": "x",
           "y": [
            25151.45
           ],
           "yaxis": "y"
          },
          {
           "hovertemplate": "<b>%{hovertext}</b><br><br>ISO3=SVN<br>year=2017<br>Healthy life expectancy at birth=%{x}<br>money=%{marker.size}<extra></extra>",
           "hovertext": [
            "Slovenia"
           ],
           "legendgroup": "SVN",
           "marker": {
            "color": "#636efa",
            "size": [
             44894
            ],
            "sizemode": "area",
            "sizeref": 197.2357,
            "symbol": "circle"
           },
           "mode": "markers",
           "name": "SVN",
           "orientation": "v",
           "showlegend": true,
           "type": "scatter",
           "x": [
            70.35
           ],
           "xaxis": "x",
           "y": [
            44894
           ],
           "yaxis": "y"
          },
          {
           "hovertemplate": "<b>%{hovertext}</b><br><br>ISO3=CHE<br>year=2017<br>Healthy life expectancy at birth=%{x}<br>money=%{marker.size}<extra></extra>",
           "hovertext": [
            "Switzerland"
           ],
           "legendgroup": "CHE",
           "marker": {
            "color": "#EF553B",
            "size": [
             70087
            ],
            "sizemode": "area",
            "sizeref": 197.2357,
            "symbol": "circle"
           },
           "mode": "markers",
           "name": "CHE",
           "orientation": "v",
           "showlegend": true,
           "type": "scatter",
           "x": [
            72.1
           ],
           "xaxis": "x",
           "y": [
            70087
           ],
           "yaxis": "y"
          },
          {
           "hovertemplate": "<b>%{hovertext}</b><br><br>ISO3=USA<br>year=2017<br>Healthy life expectancy at birth=%{x}<br>money=%{marker.size}<extra></extra>",
           "hovertext": [
            "United States"
           ],
           "legendgroup": "USA",
           "marker": {
            "color": "#00cc96",
            "size": [
             71157
            ],
            "sizemode": "area",
            "sizeref": 197.2357,
            "symbol": "circle"
           },
           "mode": "markers",
           "name": "USA",
           "orientation": "v",
           "showlegend": true,
           "type": "scatter",
           "x": [
            66.35
           ],
           "xaxis": "x",
           "y": [
            71157
           ],
           "yaxis": "y"
          },
          {
           "hovertemplate": "<b>%{hovertext}</b><br><br>ISO3=TUR<br>year=2017<br>Healthy life expectancy at birth=%{x}<br>money=%{marker.size}<extra></extra>",
           "hovertext": [
            "Turkey"
           ],
           "legendgroup": "TUR",
           "marker": {
            "color": "#ab63fa",
            "size": [
             29515.32
            ],
            "sizemode": "area",
            "sizeref": 197.2357,
            "symbol": "circle"
           },
           "mode": "markers",
           "name": "TUR",
           "orientation": "v",
           "showlegend": true,
           "type": "scatter",
           "x": [
            68.05
           ],
           "xaxis": "x",
           "y": [
            29515.32
           ],
           "yaxis": "y"
          },
          {
           "hovertemplate": "<b>%{hovertext}</b><br><br>ISO3=ISL<br>year=2017<br>Healthy life expectancy at birth=%{x}<br>money=%{marker.size}<extra></extra>",
           "hovertext": [
            "Iceland"
           ],
           "legendgroup": "ISL",
           "marker": {
            "color": "#FFA15A",
            "size": [
             75287
            ],
            "sizemode": "area",
            "sizeref": 197.2357,
            "symbol": "circle"
           },
           "mode": "markers",
           "name": "ISL",
           "orientation": "v",
           "showlegend": true,
           "type": "scatter",
           "x": [
            71.95
           ],
           "xaxis": "x",
           "y": [
            75287
           ],
           "yaxis": "y"
          },
          {
           "hovertemplate": "<b>%{hovertext}</b><br><br>ISO3=KOR<br>year=2017<br>Healthy life expectancy at birth=%{x}<br>money=%{marker.size}<extra></extra>",
           "hovertext": [
            "Korea, Republic of",
            "South Korea"
           ],
           "legendgroup": "KOR",
           "marker": {
            "color": "#19d3f3",
            "size": [
             44119,
             44119
            ],
            "sizemode": "area",
            "sizeref": 197.2357,
            "symbol": "circle"
           },
           "mode": "markers",
           "name": "KOR",
           "orientation": "v",
           "showlegend": true,
           "type": "scatter",
           "x": [
            72.55,
            72.55
           ],
           "xaxis": "x",
           "y": [
            44119,
            44119
           ],
           "yaxis": "y"
          },
          {
           "hovertemplate": "<b>%{hovertext}</b><br><br>ISO3=LUX<br>year=2017<br>Healthy life expectancy at birth=%{x}<br>money=%{marker.size}<extra></extra>",
           "hovertext": [
            "Luxembourg"
           ],
           "legendgroup": "LUX",
           "marker": {
            "color": "#FF6692",
            "size": [
             73918
            ],
            "sizemode": "area",
            "sizeref": 197.2357,
            "symbol": "circle"
           },
           "mode": "markers",
           "name": "LUX",
           "orientation": "v",
           "showlegend": true,
           "type": "scatter",
           "x": [
            71.55
           ],
           "xaxis": "x",
           "y": [
            73918
           ],
           "yaxis": "y"
          },
          {
           "hovertemplate": "<b>%{hovertext}</b><br><br>ISO3=COL<br>year=2017<br>Healthy life expectancy at birth=%{x}<br>money=%{marker.size}<extra></extra>",
           "hovertext": [
            "Colombia"
           ],
           "legendgroup": "COL",
           "marker": {
            "color": "#B6E880",
            "size": [
             19424.86
            ],
            "sizemode": "area",
            "sizeref": 197.2357,
            "symbol": "circle"
           },
           "mode": "markers",
           "name": "COL",
           "orientation": "v",
           "showlegend": true,
           "type": "scatter",
           "x": [
            68.65
           ],
           "xaxis": "x",
           "y": [
            19424.86
           ],
           "yaxis": "y"
          }
         ],
         "name": "2017"
        },
        {
         "data": [
          {
           "hovertemplate": "<b>%{hovertext}</b><br><br>ISO3=AUS<br>year=2018<br>Healthy life expectancy at birth=%{x}<br>money=%{marker.size}<extra></extra>",
           "hovertext": [
            "Australia"
           ],
           "legendgroup": "AUS",
           "marker": {
            "color": "#636efa",
            "size": [
             57843
            ],
            "sizemode": "area",
            "sizeref": 197.2357,
            "symbol": "circle"
           },
           "mode": "markers",
           "name": "AUS",
           "orientation": "v",
           "showlegend": true,
           "type": "scatter",
           "x": [
            70.825
           ],
           "xaxis": "x",
           "y": [
            57843
           ],
           "yaxis": "y"
          },
          {
           "hovertemplate": "<b>%{hovertext}</b><br><br>ISO3=BEL<br>year=2018<br>Healthy life expectancy at birth=%{x}<br>money=%{marker.size}<extra></extra>",
           "hovertext": [
            "Belgium"
           ],
           "legendgroup": "BEL",
           "marker": {
            "color": "#EF553B",
            "size": [
             65083
            ],
            "sizemode": "area",
            "sizeref": 197.2357,
            "symbol": "circle"
           },
           "mode": "markers",
           "name": "BEL",
           "orientation": "v",
           "showlegend": true,
           "type": "scatter",
           "x": [
            70.45
           ],
           "xaxis": "x",
           "y": [
            65083
           ],
           "yaxis": "y"
          },
          {
           "hovertemplate": "<b>%{hovertext}</b><br><br>ISO3=CAN<br>year=2018<br>Healthy life expectancy at birth=%{x}<br>money=%{marker.size}<extra></extra>",
           "hovertext": [
            "Canada"
           ],
           "legendgroup": "CAN",
           "marker": {
            "color": "#00cc96",
            "size": [
             56083
            ],
            "sizemode": "area",
            "sizeref": 197.2357,
            "symbol": "circle"
           },
           "mode": "markers",
           "name": "CAN",
           "orientation": "v",
           "showlegend": true,
           "type": "scatter",
           "x": [
            71.25
           ],
           "xaxis": "x",
           "y": [
            56083
           ],
           "yaxis": "y"
          },
          {
           "hovertemplate": "<b>%{hovertext}</b><br><br>ISO3=CZE<br>year=2018<br>Healthy life expectancy at birth=%{x}<br>money=%{marker.size}<extra></extra>",
           "hovertext": [
            "Czech Republic"
           ],
           "legendgroup": "CZE",
           "marker": {
            "color": "#ab63fa",
            "size": [
             34632.6
            ],
            "sizemode": "area",
            "sizeref": 197.2357,
            "symbol": "circle"
           },
           "mode": "markers",
           "name": "CZE",
           "orientation": "v",
           "showlegend": true,
           "type": "scatter",
           "x": [
            68.675
           ],
           "xaxis": "x",
           "y": [
            34632.6
           ],
           "yaxis": "y"
          },
          {
           "hovertemplate": "<b>%{hovertext}</b><br><br>ISO3=DNK<br>year=2018<br>Healthy life expectancy at birth=%{x}<br>money=%{marker.size}<extra></extra>",
           "hovertext": [
            "Denmark"
           ],
           "legendgroup": "DNK",
           "marker": {
            "color": "#FFA15A",
            "size": [
             64765
            ],
            "sizemode": "area",
            "sizeref": 197.2357,
            "symbol": "circle"
           },
           "mode": "markers",
           "name": "DNK",
           "orientation": "v",
           "showlegend": true,
           "type": "scatter",
           "x": [
            70.875
           ],
           "xaxis": "x",
           "y": [
            64765
           ],
           "yaxis": "y"
          },
          {
           "hovertemplate": "<b>%{hovertext}</b><br><br>ISO3=FRA<br>year=2018<br>Healthy life expectancy at birth=%{x}<br>money=%{marker.size}<extra></extra>",
           "hovertext": [
            "France"
           ],
           "legendgroup": "FRA",
           "marker": {
            "color": "#19d3f3",
            "size": [
             52664
            ],
            "sizemode": "area",
            "sizeref": 197.2357,
            "symbol": "circle"
           },
           "mode": "markers",
           "name": "FRA",
           "orientation": "v",
           "showlegend": true,
           "type": "scatter",
           "x": [
            72
           ],
           "xaxis": "x",
           "y": [
            52664
           ],
           "yaxis": "y"
          },
          {
           "hovertemplate": "<b>%{hovertext}</b><br><br>ISO3=DEU<br>year=2018<br>Healthy life expectancy at birth=%{x}<br>money=%{marker.size}<extra></extra>",
           "hovertext": [
            "Germany"
           ],
           "legendgroup": "DEU",
           "marker": {
            "color": "#FF6692",
            "size": [
             59750
            ],
            "sizemode": "area",
            "sizeref": 197.2357,
            "symbol": "circle"
           },
           "mode": "markers",
           "name": "DEU",
           "orientation": "v",
           "showlegend": true,
           "type": "scatter",
           "x": [
            70.7
           ],
           "xaxis": "x",
           "y": [
            59750
           ],
           "yaxis": "y"
          },
          {
           "hovertemplate": "<b>%{hovertext}</b><br><br>ISO3=GRC<br>year=2018<br>Healthy life expectancy at birth=%{x}<br>money=%{marker.size}<extra></extra>",
           "hovertext": [
            "Greece"
           ],
           "legendgroup": "GRC",
           "marker": {
            "color": "#B6E880",
            "size": [
             27569
            ],
            "sizemode": "area",
            "sizeref": 197.2357,
            "symbol": "circle"
           },
           "mode": "markers",
           "name": "GRC",
           "orientation": "v",
           "showlegend": true,
           "type": "scatter",
           "x": [
            70.775
           ],
           "xaxis": "x",
           "y": [
            27569
           ],
           "yaxis": "y"
          },
          {
           "hovertemplate": "<b>%{hovertext}</b><br><br>ISO3=HUN<br>year=2018<br>Healthy life expectancy at birth=%{x}<br>money=%{marker.size}<extra></extra>",
           "hovertext": [
            "Hungary"
           ],
           "legendgroup": "HUN",
           "marker": {
            "color": "#FF97FF",
            "size": [
             26264.72
            ],
            "sizemode": "area",
            "sizeref": 197.2357,
            "symbol": "circle"
           },
           "mode": "markers",
           "name": "HUN",
           "orientation": "v",
           "showlegend": true,
           "type": "scatter",
           "x": [
            67.05
           ],
           "xaxis": "x",
           "y": [
            26264.72
           ],
           "yaxis": "y"
          },
          {
           "hovertemplate": "<b>%{hovertext}</b><br><br>ISO3=ITA<br>year=2018<br>Healthy life expectancy at birth=%{x}<br>money=%{marker.size}<extra></extra>",
           "hovertext": [
            "Italy"
           ],
           "legendgroup": "ITA",
           "marker": {
            "color": "#FECB52",
            "size": [
             46230
            ],
            "sizemode": "area",
            "sizeref": 197.2357,
            "symbol": "circle"
           },
           "mode": "markers",
           "name": "ITA",
           "orientation": "v",
           "showlegend": true,
           "type": "scatter",
           "x": [
            71.825
           ],
           "xaxis": "x",
           "y": [
            46230
           ],
           "yaxis": "y"
          },
          {
           "hovertemplate": "<b>%{hovertext}</b><br><br>ISO3=JPN<br>year=2018<br>Healthy life expectancy at birth=%{x}<br>money=%{marker.size}<extra></extra>",
           "hovertext": [
            "Japan"
           ],
           "legendgroup": "JPN",
           "marker": {
            "color": "#636efa",
            "size": [
             41172
            ],
            "sizemode": "area",
            "sizeref": 197.2357,
            "symbol": "circle"
           },
           "mode": "markers",
           "name": "JPN",
           "orientation": "v",
           "showlegend": true,
           "type": "scatter",
           "x": [
            73.975
           ],
           "xaxis": "x",
           "y": [
            41172
           ],
           "yaxis": "y"
          },
          {
           "hovertemplate": "<b>%{hovertext}</b><br><br>ISO3=MEX<br>year=2018<br>Healthy life expectancy at birth=%{x}<br>money=%{marker.size}<extra></extra>",
           "hovertext": [
            "Mexico"
           ],
           "legendgroup": "MEX",
           "marker": {
            "color": "#EF553B",
            "size": [
             17865.23
            ],
            "sizemode": "area",
            "sizeref": 197.2357,
            "symbol": "circle"
           },
           "mode": "markers",
           "name": "MEX",
           "orientation": "v",
           "showlegend": true,
           "type": "scatter",
           "x": [
            65.8
           ],
           "xaxis": "x",
           "y": [
            17865.23
           ],
           "yaxis": "y"
          },
          {
           "hovertemplate": "<b>%{hovertext}</b><br><br>ISO3=NLD<br>year=2018<br>Healthy life expectancy at birth=%{x}<br>money=%{marker.size}<extra></extra>",
           "hovertext": [
            "Netherlands"
           ],
           "legendgroup": "NLD",
           "marker": {
            "color": "#00cc96",
            "size": [
             65910
            ],
            "sizemode": "area",
            "sizeref": 197.2357,
            "symbol": "circle"
           },
           "mode": "markers",
           "name": "NLD",
           "orientation": "v",
           "showlegend": true,
           "type": "scatter",
           "x": [
            71.325
           ],
           "xaxis": "x",
           "y": [
            65910
           ],
           "yaxis": "y"
          },
          {
           "hovertemplate": "<b>%{hovertext}</b><br><br>ISO3=POL<br>year=2018<br>Healthy life expectancy at birth=%{x}<br>money=%{marker.size}<extra></extra>",
           "hovertext": [
            "Poland"
           ],
           "legendgroup": "POL",
           "marker": {
            "color": "#ab63fa",
            "size": [
             34546
            ],
            "sizemode": "area",
            "sizeref": 197.2357,
            "symbol": "circle"
           },
           "mode": "markers",
           "name": "POL",
           "orientation": "v",
           "showlegend": true,
           "type": "scatter",
           "x": [
            68.525
           ],
           "xaxis": "x",
           "y": [
            34546
           ],
           "yaxis": "y"
          },
          {
           "hovertemplate": "<b>%{hovertext}</b><br><br>ISO3=ESP<br>year=2018<br>Healthy life expectancy at birth=%{x}<br>money=%{marker.size}<extra></extra>",
           "hovertext": [
            "Spain"
           ],
           "legendgroup": "ESP",
           "marker": {
            "color": "#FFA15A",
            "size": [
             43975
            ],
            "sizemode": "area",
            "sizeref": 197.2357,
            "symbol": "circle"
           },
           "mode": "markers",
           "name": "ESP",
           "orientation": "v",
           "showlegend": true,
           "type": "scatter",
           "x": [
            71.975
           ],
           "xaxis": "x",
           "y": [
            43975
           ],
           "yaxis": "y"
          },
          {
           "hovertemplate": "<b>%{hovertext}</b><br><br>ISO3=SWE<br>year=2018<br>Healthy life expectancy at birth=%{x}<br>money=%{marker.size}<extra></extra>",
           "hovertext": [
            "Sweden"
           ],
           "legendgroup": "SWE",
           "marker": {
            "color": "#19d3f3",
            "size": [
             50041
            ],
            "sizemode": "area",
            "sizeref": 197.2357,
            "symbol": "circle"
           },
           "mode": "markers",
           "name": "SWE",
           "orientation": "v",
           "showlegend": true,
           "type": "scatter",
           "x": [
            71.775
           ],
           "xaxis": "x",
           "y": [
            50041
           ],
           "yaxis": "y"
          },
          {
           "hovertemplate": "<b>%{hovertext}</b><br><br>ISO3=GBR<br>year=2018<br>Healthy life expectancy at birth=%{x}<br>money=%{marker.size}<extra></extra>",
           "hovertext": [
            "United Kingdom"
           ],
           "legendgroup": "GBR",
           "marker": {
            "color": "#FF6692",
            "size": [
             53950
            ],
            "sizemode": "area",
            "sizeref": 197.2357,
            "symbol": "circle"
           },
           "mode": "markers",
           "name": "GBR",
           "orientation": "v",
           "showlegend": true,
           "type": "scatter",
           "x": [
            70
           ],
           "xaxis": "x",
           "y": [
            53950
           ],
           "yaxis": "y"
          },
          {
           "hovertemplate": "<b>%{hovertext}</b><br><br>ISO3=AUT<br>year=2018<br>Healthy life expectancy at birth=%{x}<br>money=%{marker.size}<extra></extra>",
           "hovertext": [
            "Austria"
           ],
           "legendgroup": "AUT",
           "marker": {
            "color": "#B6E880",
            "size": [
             64101
            ],
            "sizemode": "area",
            "sizeref": 197.2357,
            "symbol": "circle"
           },
           "mode": "markers",
           "name": "AUT",
           "orientation": "v",
           "showlegend": true,
           "type": "scatter",
           "x": [
            70.775
           ],
           "xaxis": "x",
           "y": [
            64101
           ],
           "yaxis": "y"
          },
          {
           "hovertemplate": "<b>%{hovertext}</b><br><br>ISO3=CHL<br>year=2018<br>Healthy life expectancy at birth=%{x}<br>money=%{marker.size}<extra></extra>",
           "hovertext": [
            "Chile"
           ],
           "legendgroup": "CHL",
           "marker": {
            "color": "#FF97FF",
            "size": [
             32348
            ],
            "sizemode": "area",
            "sizeref": 197.2357,
            "symbol": "circle"
           },
           "mode": "markers",
           "name": "CHL",
           "orientation": "v",
           "showlegend": true,
           "type": "scatter",
           "x": [
            69.85
           ],
           "xaxis": "x",
           "y": [
            32348
           ],
           "yaxis": "y"
          },
          {
           "hovertemplate": "<b>%{hovertext}</b><br><br>ISO3=CRI<br>year=2018<br>Healthy life expectancy at birth=%{x}<br>money=%{marker.size}<extra></extra>",
           "hovertext": [
            "Costa Rica"
           ],
           "legendgroup": "CRI",
           "marker": {
            "color": "#FECB52",
            "size": [
             26764.21
            ],
            "sizemode": "area",
            "sizeref": 197.2357,
            "symbol": "circle"
           },
           "mode": "markers",
           "name": "CRI",
           "orientation": "v",
           "showlegend": true,
           "type": "scatter",
           "x": [
            70
           ],
           "xaxis": "x",
           "y": [
            26764.21
           ],
           "yaxis": "y"
          },
          {
           "hovertemplate": "<b>%{hovertext}</b><br><br>ISO3=EST<br>year=2018<br>Healthy life expectancy at birth=%{x}<br>money=%{marker.size}<extra></extra>",
           "hovertext": [
            "Estonia"
           ],
           "legendgroup": "EST",
           "marker": {
            "color": "#636efa",
            "size": [
             31391
            ],
            "sizemode": "area",
            "sizeref": 197.2357,
            "symbol": "circle"
           },
           "mode": "markers",
           "name": "EST",
           "orientation": "v",
           "showlegend": true,
           "type": "scatter",
           "x": [
            68.975
           ],
           "xaxis": "x",
           "y": [
            31391
           ],
           "yaxis": "y"
          },
          {
           "hovertemplate": "<b>%{hovertext}</b><br><br>ISO3=FIN<br>year=2018<br>Healthy life expectancy at birth=%{x}<br>money=%{marker.size}<extra></extra>",
           "hovertext": [
            "Finland"
           ],
           "legendgroup": "FIN",
           "marker": {
            "color": "#EF553B",
            "size": [
             50354
            ],
            "sizemode": "area",
            "sizeref": 197.2357,
            "symbol": "circle"
           },
           "mode": "markers",
           "name": "FIN",
           "orientation": "v",
           "showlegend": true,
           "type": "scatter",
           "x": [
            70.925
           ],
           "xaxis": "x",
           "y": [
            50354
           ],
           "yaxis": "y"
          },
          {
           "hovertemplate": "<b>%{hovertext}</b><br><br>ISO3=IRL<br>year=2018<br>Healthy life expectancy at birth=%{x}<br>money=%{marker.size}<extra></extra>",
           "hovertext": [
            "Ireland"
           ],
           "legendgroup": "IRL",
           "marker": {
            "color": "#00cc96",
            "size": [
             51852
            ],
            "sizemode": "area",
            "sizeref": 197.2357,
            "symbol": "circle"
           },
           "mode": "markers",
           "name": "IRL",
           "orientation": "v",
           "showlegend": true,
           "type": "scatter",
           "x": [
            71
           ],
           "xaxis": "x",
           "y": [
            51852
           ],
           "yaxis": "y"
          },
          {
           "hovertemplate": "<b>%{hovertext}</b><br><br>ISO3=ISR<br>year=2018<br>Healthy life expectancy at birth=%{x}<br>money=%{marker.size}<extra></extra>",
           "hovertext": [
            "Israel"
           ],
           "legendgroup": "ISR",
           "marker": {
            "color": "#ab63fa",
            "size": [
             41059
            ],
            "sizemode": "area",
            "sizeref": 197.2357,
            "symbol": "circle"
           },
           "mode": "markers",
           "name": "ISR",
           "orientation": "v",
           "showlegend": true,
           "type": "scatter",
           "x": [
            72.25
           ],
           "xaxis": "x",
           "y": [
            41059
           ],
           "yaxis": "y"
          },
          {
           "hovertemplate": "<b>%{hovertext}</b><br><br>ISO3=LVA<br>year=2018<br>Healthy life expectancy at birth=%{x}<br>money=%{marker.size}<extra></extra>",
           "hovertext": [
            "Latvia"
           ],
           "legendgroup": "LVA",
           "marker": {
            "color": "#FFA15A",
            "size": [
             30640
            ],
            "sizemode": "area",
            "sizeref": 197.2357,
            "symbol": "circle"
           },
           "mode": "markers",
           "name": "LVA",
           "orientation": "v",
           "showlegend": true,
           "type": "scatter",
           "x": [
            66.1
           ],
           "xaxis": "x",
           "y": [
            30640
           ],
           "yaxis": "y"
          },
          {
           "hovertemplate": "<b>%{hovertext}</b><br><br>ISO3=LTU<br>year=2018<br>Healthy life expectancy at birth=%{x}<br>money=%{marker.size}<extra></extra>",
           "hovertext": [
            "Lithuania"
           ],
           "legendgroup": "LTU",
           "marker": {
            "color": "#19d3f3",
            "size": [
             39524
            ],
            "sizemode": "area",
            "sizeref": 197.2357,
            "symbol": "circle"
           },
           "mode": "markers",
           "name": "LTU",
           "orientation": "v",
           "showlegend": true,
           "type": "scatter",
           "x": [
            66.35
           ],
           "xaxis": "x",
           "y": [
            39524
           ],
           "yaxis": "y"
          },
          {
           "hovertemplate": "<b>%{hovertext}</b><br><br>ISO3=NZL<br>year=2018<br>Healthy life expectancy at birth=%{x}<br>money=%{marker.size}<extra></extra>",
           "hovertext": [
            "New Zealand"
           ],
           "legendgroup": "NZL",
           "marker": {
            "color": "#FF6692",
            "size": [
             48784
            ],
            "sizemode": "area",
            "sizeref": 197.2357,
            "symbol": "circle"
           },
           "mode": "markers",
           "name": "NZL",
           "orientation": "v",
           "showlegend": true,
           "type": "scatter",
           "x": [
            70.125
           ],
           "xaxis": "x",
           "y": [
            48784
           ],
           "yaxis": "y"
          },
          {
           "hovertemplate": "<b>%{hovertext}</b><br><br>ISO3=NOR<br>year=2018<br>Healthy life expectancy at birth=%{x}<br>money=%{marker.size}<extra></extra>",
           "hovertext": [
            "Norway"
           ],
           "legendgroup": "NOR",
           "marker": {
            "color": "#B6E880",
            "size": [
             51340
            ],
            "sizemode": "area",
            "sizeref": 197.2357,
            "symbol": "circle"
           },
           "mode": "markers",
           "name": "NOR",
           "orientation": "v",
           "showlegend": true,
           "type": "scatter",
           "x": [
            71.35
           ],
           "xaxis": "x",
           "y": [
            51340
           ],
           "yaxis": "y"
          },
          {
           "hovertemplate": "<b>%{hovertext}</b><br><br>ISO3=PRT<br>year=2018<br>Healthy life expectancy at birth=%{x}<br>money=%{marker.size}<extra></extra>",
           "hovertext": [
            "Portugal"
           ],
           "legendgroup": "PRT",
           "marker": {
            "color": "#FF97FF",
            "size": [
             29919.33
            ],
            "sizemode": "area",
            "sizeref": 197.2357,
            "symbol": "circle"
           },
           "mode": "markers",
           "name": "PRT",
           "orientation": "v",
           "showlegend": true,
           "type": "scatter",
           "x": [
            70.875
           ],
           "xaxis": "x",
           "y": [
            29919.33
           ],
           "yaxis": "y"
          },
          {
           "hovertemplate": "<b>%{hovertext}</b><br><br>ISO3=SVK<br>year=2018<br>Healthy life expectancy at birth=%{x}<br>money=%{marker.size}<extra></extra>",
           "hovertext": [
            "Slovakia"
           ],
           "legendgroup": "SVK",
           "marker": {
            "color": "#FECB52",
            "size": [
             25862
            ],
            "sizemode": "area",
            "sizeref": 197.2357,
            "symbol": "circle"
           },
           "mode": "markers",
           "name": "SVK",
           "orientation": "v",
           "showlegend": true,
           "type": "scatter",
           "x": [
            68.275
           ],
           "xaxis": "x",
           "y": [
            25862
           ],
           "yaxis": "y"
          },
          {
           "hovertemplate": "<b>%{hovertext}</b><br><br>ISO3=SVN<br>year=2018<br>Healthy life expectancy at birth=%{x}<br>money=%{marker.size}<extra></extra>",
           "hovertext": [
            "Slovenia"
           ],
           "legendgroup": "SVN",
           "marker": {
            "color": "#636efa",
            "size": [
             45702
            ],
            "sizemode": "area",
            "sizeref": 197.2357,
            "symbol": "circle"
           },
           "mode": "markers",
           "name": "SVN",
           "orientation": "v",
           "showlegend": true,
           "type": "scatter",
           "x": [
            70.525
           ],
           "xaxis": "x",
           "y": [
            45702
           ],
           "yaxis": "y"
          },
          {
           "hovertemplate": "<b>%{hovertext}</b><br><br>ISO3=CHE<br>year=2018<br>Healthy life expectancy at birth=%{x}<br>money=%{marker.size}<extra></extra>",
           "hovertext": [
            "Switzerland"
           ],
           "legendgroup": "CHE",
           "marker": {
            "color": "#EF553B",
            "size": [
             69892
            ],
            "sizemode": "area",
            "sizeref": 197.2357,
            "symbol": "circle"
           },
           "mode": "markers",
           "name": "CHE",
           "orientation": "v",
           "showlegend": true,
           "type": "scatter",
           "x": [
            72.3
           ],
           "xaxis": "x",
           "y": [
            69892
           ],
           "yaxis": "y"
          },
          {
           "hovertemplate": "<b>%{hovertext}</b><br><br>ISO3=USA<br>year=2018<br>Healthy life expectancy at birth=%{x}<br>money=%{marker.size}<extra></extra>",
           "hovertext": [
            "United States"
           ],
           "legendgroup": "USA",
           "marker": {
            "color": "#00cc96",
            "size": [
             71937
            ],
            "sizemode": "area",
            "sizeref": 197.2357,
            "symbol": "circle"
           },
           "mode": "markers",
           "name": "USA",
           "orientation": "v",
           "showlegend": true,
           "type": "scatter",
           "x": [
            66.225
           ],
           "xaxis": "x",
           "y": [
            71937
           ],
           "yaxis": "y"
          },
          {
           "hovertemplate": "<b>%{hovertext}</b><br><br>ISO3=TUR<br>year=2018<br>Healthy life expectancy at birth=%{x}<br>money=%{marker.size}<extra></extra>",
           "hovertext": [
            "Turkey"
           ],
           "legendgroup": "TUR",
           "marker": {
            "color": "#ab63fa",
            "size": [
             30040.53
            ],
            "sizemode": "area",
            "sizeref": 197.2357,
            "symbol": "circle"
           },
           "mode": "markers",
           "name": "TUR",
           "orientation": "v",
           "showlegend": true,
           "type": "scatter",
           "x": [
            68.225
           ],
           "xaxis": "x",
           "y": [
            30040.53
           ],
           "yaxis": "y"
          },
          {
           "hovertemplate": "<b>%{hovertext}</b><br><br>ISO3=KOR<br>year=2018<br>Healthy life expectancy at birth=%{x}<br>money=%{marker.size}<extra></extra>",
           "hovertext": [
            "Korea, Republic of",
            "South Korea"
           ],
           "legendgroup": "KOR",
           "marker": {
            "color": "#19d3f3",
            "size": [
             45640,
             45640
            ],
            "sizemode": "area",
            "sizeref": 197.2357,
            "symbol": "circle"
           },
           "mode": "markers",
           "name": "KOR",
           "orientation": "v",
           "showlegend": true,
           "type": "scatter",
           "x": [
            72.825,
            72.825
           ],
           "xaxis": "x",
           "y": [
            45640,
            45640
           ],
           "yaxis": "y"
          },
          {
           "hovertemplate": "<b>%{hovertext}</b><br><br>ISO3=LUX<br>year=2018<br>Healthy life expectancy at birth=%{x}<br>money=%{marker.size}<extra></extra>",
           "hovertext": [
            "Luxembourg"
           ],
           "legendgroup": "LUX",
           "marker": {
            "color": "#FF6692",
            "size": [
             74261
            ],
            "sizemode": "area",
            "sizeref": 197.2357,
            "symbol": "circle"
           },
           "mode": "markers",
           "name": "LUX",
           "orientation": "v",
           "showlegend": true,
           "type": "scatter",
           "x": [
            71.575
           ],
           "xaxis": "x",
           "y": [
            74261
           ],
           "yaxis": "y"
          },
          {
           "hovertemplate": "<b>%{hovertext}</b><br><br>ISO3=COL<br>year=2018<br>Healthy life expectancy at birth=%{x}<br>money=%{marker.size}<extra></extra>",
           "hovertext": [
            "Colombia"
           ],
           "legendgroup": "COL",
           "marker": {
            "color": "#B6E880",
            "size": [
             20370.7
            ],
            "sizemode": "area",
            "sizeref": 197.2357,
            "symbol": "circle"
           },
           "mode": "markers",
           "name": "COL",
           "orientation": "v",
           "showlegend": true,
           "type": "scatter",
           "x": [
            68.825
           ],
           "xaxis": "x",
           "y": [
            20370.7
           ],
           "yaxis": "y"
          }
         ],
         "name": "2018"
        },
        {
         "data": [
          {
           "hovertemplate": "<b>%{hovertext}</b><br><br>ISO3=AUS<br>year=2019<br>Healthy life expectancy at birth=%{x}<br>money=%{marker.size}<extra></extra>",
           "hovertext": [
            "Australia"
           ],
           "legendgroup": "AUS",
           "marker": {
            "color": "#636efa",
            "size": [
             58620
            ],
            "sizemode": "area",
            "sizeref": 197.2357,
            "symbol": "circle"
           },
           "mode": "markers",
           "name": "AUS",
           "orientation": "v",
           "showlegend": true,
           "type": "scatter",
           "x": [
            70.9
           ],
           "xaxis": "x",
           "y": [
            58620
           ],
           "yaxis": "y"
          },
          {
           "hovertemplate": "<b>%{hovertext}</b><br><br>ISO3=BEL<br>year=2019<br>Healthy life expectancy at birth=%{x}<br>money=%{marker.size}<extra></extra>",
           "hovertext": [
            "Belgium"
           ],
           "legendgroup": "BEL",
           "marker": {
            "color": "#EF553B",
            "size": [
             65700
            ],
            "sizemode": "area",
            "sizeref": 197.2357,
            "symbol": "circle"
           },
           "mode": "markers",
           "name": "BEL",
           "orientation": "v",
           "showlegend": true,
           "type": "scatter",
           "x": [
            70.6
           ],
           "xaxis": "x",
           "y": [
            65700
           ],
           "yaxis": "y"
          },
          {
           "hovertemplate": "<b>%{hovertext}</b><br><br>ISO3=CAN<br>year=2019<br>Healthy life expectancy at birth=%{x}<br>money=%{marker.size}<extra></extra>",
           "hovertext": [
            "Canada"
           ],
           "legendgroup": "CAN",
           "marker": {
            "color": "#00cc96",
            "size": [
             56370
            ],
            "sizemode": "area",
            "sizeref": 197.2357,
            "symbol": "circle"
           },
           "mode": "markers",
           "name": "CAN",
           "orientation": "v",
           "showlegend": true,
           "type": "scatter",
           "x": [
            71.3
           ],
           "xaxis": "x",
           "y": [
            56370
           ],
           "yaxis": "y"
          },
          {
           "hovertemplate": "<b>%{hovertext}</b><br><br>ISO3=DNK<br>year=2019<br>Healthy life expectancy at birth=%{x}<br>money=%{marker.size}<extra></extra>",
           "hovertext": [
            "Denmark"
           ],
           "legendgroup": "DNK",
           "marker": {
            "color": "#FFA15A",
            "size": [
             65222
            ],
            "sizemode": "area",
            "sizeref": 197.2357,
            "symbol": "circle"
           },
           "mode": "markers",
           "name": "DNK",
           "orientation": "v",
           "showlegend": true,
           "type": "scatter",
           "x": [
            71
           ],
           "xaxis": "x",
           "y": [
            65222
           ],
           "yaxis": "y"
          },
          {
           "hovertemplate": "<b>%{hovertext}</b><br><br>ISO3=FRA<br>year=2019<br>Healthy life expectancy at birth=%{x}<br>money=%{marker.size}<extra></extra>",
           "hovertext": [
            "France"
           ],
           "legendgroup": "FRA",
           "marker": {
            "color": "#19d3f3",
            "size": [
             53172
            ],
            "sizemode": "area",
            "sizeref": 197.2357,
            "symbol": "circle"
           },
           "mode": "markers",
           "name": "FRA",
           "orientation": "v",
           "showlegend": true,
           "type": "scatter",
           "x": [
            72.1
           ],
           "xaxis": "x",
           "y": [
            53172
           ],
           "yaxis": "y"
          },
          {
           "hovertemplate": "<b>%{hovertext}</b><br><br>ISO3=DEU<br>year=2019<br>Healthy life expectancy at birth=%{x}<br>money=%{marker.size}<extra></extra>",
           "hovertext": [
            "Germany"
           ],
           "legendgroup": "DEU",
           "marker": {
            "color": "#FF6692",
            "size": [
             60732
            ],
            "sizemode": "area",
            "sizeref": 197.2357,
            "symbol": "circle"
           },
           "mode": "markers",
           "name": "DEU",
           "orientation": "v",
           "showlegend": true,
           "type": "scatter",
           "x": [
            70.9
           ],
           "xaxis": "x",
           "y": [
            60732
           ],
           "yaxis": "y"
          },
          {
           "hovertemplate": "<b>%{hovertext}</b><br><br>ISO3=GRC<br>year=2019<br>Healthy life expectancy at birth=%{x}<br>money=%{marker.size}<extra></extra>",
           "hovertext": [
            "Greece"
           ],
           "legendgroup": "GRC",
           "marker": {
            "color": "#B6E880",
            "size": [
             27615.33
            ],
            "sizemode": "area",
            "sizeref": 197.2357,
            "symbol": "circle"
           },
           "mode": "markers",
           "name": "GRC",
           "orientation": "v",
           "showlegend": true,
           "type": "scatter",
           "x": [
            70.9
           ],
           "xaxis": "x",
           "y": [
            27615.33
           ],
           "yaxis": "y"
          },
          {
           "hovertemplate": "<b>%{hovertext}</b><br><br>ISO3=HUN<br>year=2019<br>Healthy life expectancy at birth=%{x}<br>money=%{marker.size}<extra></extra>",
           "hovertext": [
            "Hungary"
           ],
           "legendgroup": "HUN",
           "marker": {
            "color": "#FF97FF",
            "size": [
             27140.4
            ],
            "sizemode": "area",
            "sizeref": 197.2357,
            "symbol": "circle"
           },
           "mode": "markers",
           "name": "HUN",
           "orientation": "v",
           "showlegend": true,
           "type": "scatter",
           "x": [
            67.2
           ],
           "xaxis": "x",
           "y": [
            27140.4
           ],
           "yaxis": "y"
          },
          {
           "hovertemplate": "<b>%{hovertext}</b><br><br>ISO3=ITA<br>year=2019<br>Healthy life expectancy at birth=%{x}<br>money=%{marker.size}<extra></extra>",
           "hovertext": [
            "Italy"
           ],
           "legendgroup": "ITA",
           "marker": {
            "color": "#FECB52",
            "size": [
             46460
            ],
            "sizemode": "area",
            "sizeref": 197.2357,
            "symbol": "circle"
           },
           "mode": "markers",
           "name": "ITA",
           "orientation": "v",
           "showlegend": true,
           "type": "scatter",
           "x": [
            71.9
           ],
           "xaxis": "x",
           "y": [
            46460
           ],
           "yaxis": "y"
          },
          {
           "hovertemplate": "<b>%{hovertext}</b><br><br>ISO3=JPN<br>year=2019<br>Healthy life expectancy at birth=%{x}<br>money=%{marker.size}<extra></extra>",
           "hovertext": [
            "Japan"
           ],
           "legendgroup": "JPN",
           "marker": {
            "color": "#636efa",
            "size": [
             41699
            ],
            "sizemode": "area",
            "sizeref": 197.2357,
            "symbol": "circle"
           },
           "mode": "markers",
           "name": "JPN",
           "orientation": "v",
           "showlegend": true,
           "type": "scatter",
           "x": [
            74.1
           ],
           "xaxis": "x",
           "y": [
            41699
           ],
           "yaxis": "y"
          },
          {
           "hovertemplate": "<b>%{hovertext}</b><br><br>ISO3=MEX<br>year=2019<br>Healthy life expectancy at birth=%{x}<br>money=%{marker.size}<extra></extra>",
           "hovertext": [
            "Mexico"
           ],
           "legendgroup": "MEX",
           "marker": {
            "color": "#EF553B",
            "size": [
             18031.44
            ],
            "sizemode": "area",
            "sizeref": 197.2357,
            "symbol": "circle"
           },
           "mode": "markers",
           "name": "MEX",
           "orientation": "v",
           "showlegend": true,
           "type": "scatter",
           "x": [
            65.8
           ],
           "xaxis": "x",
           "y": [
            18031.44
           ],
           "yaxis": "y"
          },
          {
           "hovertemplate": "<b>%{hovertext}</b><br><br>ISO3=NLD<br>year=2019<br>Healthy life expectancy at birth=%{x}<br>money=%{marker.size}<extra></extra>",
           "hovertext": [
            "Netherlands"
           ],
           "legendgroup": "NLD",
           "marker": {
            "color": "#00cc96",
            "size": [
             65449
            ],
            "sizemode": "area",
            "sizeref": 197.2357,
            "symbol": "circle"
           },
           "mode": "markers",
           "name": "NLD",
           "orientation": "v",
           "showlegend": true,
           "type": "scatter",
           "x": [
            71.4
           ],
           "xaxis": "x",
           "y": [
            65449
           ],
           "yaxis": "y"
          },
          {
           "hovertemplate": "<b>%{hovertext}</b><br><br>ISO3=POL<br>year=2019<br>Healthy life expectancy at birth=%{x}<br>money=%{marker.size}<extra></extra>",
           "hovertext": [
            "Poland"
           ],
           "legendgroup": "POL",
           "marker": {
            "color": "#ab63fa",
            "size": [
             36667
            ],
            "sizemode": "area",
            "sizeref": 197.2357,
            "symbol": "circle"
           },
           "mode": "markers",
           "name": "POL",
           "orientation": "v",
           "showlegend": true,
           "type": "scatter",
           "x": [
            68.7
           ],
           "xaxis": "x",
           "y": [
            36667
           ],
           "yaxis": "y"
          },
          {
           "hovertemplate": "<b>%{hovertext}</b><br><br>ISO3=ESP<br>year=2019<br>Healthy life expectancy at birth=%{x}<br>money=%{marker.size}<extra></extra>",
           "hovertext": [
            "Spain"
           ],
           "legendgroup": "ESP",
           "marker": {
            "color": "#FFA15A",
            "size": [
             44448
            ],
            "sizemode": "area",
            "sizeref": 197.2357,
            "symbol": "circle"
           },
           "mode": "markers",
           "name": "ESP",
           "orientation": "v",
           "showlegend": true,
           "type": "scatter",
           "x": [
            72.1
           ],
           "xaxis": "x",
           "y": [
            44448
           ],
           "yaxis": "y"
          },
          {
           "hovertemplate": "<b>%{hovertext}</b><br><br>ISO3=SWE<br>year=2019<br>Healthy life expectancy at birth=%{x}<br>money=%{marker.size}<extra></extra>",
           "hovertext": [
            "Sweden"
           ],
           "legendgroup": "SWE",
           "marker": {
            "color": "#19d3f3",
            "size": [
             50559
            ],
            "sizemode": "area",
            "sizeref": 197.2357,
            "symbol": "circle"
           },
           "mode": "markers",
           "name": "SWE",
           "orientation": "v",
           "showlegend": true,
           "type": "scatter",
           "x": [
            71.9
           ],
           "xaxis": "x",
           "y": [
            50559
           ],
           "yaxis": "y"
          },
          {
           "hovertemplate": "<b>%{hovertext}</b><br><br>ISO3=GBR<br>year=2019<br>Healthy life expectancy at birth=%{x}<br>money=%{marker.size}<extra></extra>",
           "hovertext": [
            "United Kingdom"
           ],
           "legendgroup": "GBR",
           "marker": {
            "color": "#FF6692",
            "size": [
             54703
            ],
            "sizemode": "area",
            "sizeref": 197.2357,
            "symbol": "circle"
           },
           "mode": "markers",
           "name": "GBR",
           "orientation": "v",
           "showlegend": true,
           "type": "scatter",
           "x": [
            70.1
           ],
           "xaxis": "x",
           "y": [
            54703
           ],
           "yaxis": "y"
          },
          {
           "hovertemplate": "<b>%{hovertext}</b><br><br>ISO3=AUT<br>year=2019<br>Healthy life expectancy at birth=%{x}<br>money=%{marker.size}<extra></extra>",
           "hovertext": [
            "Austria"
           ],
           "legendgroup": "AUT",
           "marker": {
            "color": "#B6E880",
            "size": [
             64623
            ],
            "sizemode": "area",
            "sizeref": 197.2357,
            "symbol": "circle"
           },
           "mode": "markers",
           "name": "AUT",
           "orientation": "v",
           "showlegend": true,
           "type": "scatter",
           "x": [
            70.9
           ],
           "xaxis": "x",
           "y": [
            64623
           ],
           "yaxis": "y"
          },
          {
           "hovertemplate": "<b>%{hovertext}</b><br><br>ISO3=CHL<br>year=2019<br>Healthy life expectancy at birth=%{x}<br>money=%{marker.size}<extra></extra>",
           "hovertext": [
            "Chile"
           ],
           "legendgroup": "CHL",
           "marker": {
            "color": "#FF97FF",
            "size": [
             33190.5
            ],
            "sizemode": "area",
            "sizeref": 197.2357,
            "symbol": "circle"
           },
           "mode": "markers",
           "name": "CHL",
           "orientation": "v",
           "showlegend": true,
           "type": "scatter",
           "x": [
            70
           ],
           "xaxis": "x",
           "y": [
            33190.5
           ],
           "yaxis": "y"
          },
          {
           "hovertemplate": "<b>%{hovertext}</b><br><br>ISO3=CRI<br>year=2019<br>Healthy life expectancy at birth=%{x}<br>money=%{marker.size}<extra></extra>",
           "hovertext": [
            "Costa Rica"
           ],
           "legendgroup": "CRI",
           "marker": {
            "color": "#FECB52",
            "size": [
             27875.2
            ],
            "sizemode": "area",
            "sizeref": 197.2357,
            "symbol": "circle"
           },
           "mode": "markers",
           "name": "CRI",
           "orientation": "v",
           "showlegend": true,
           "type": "scatter",
           "x": [
            70
           ],
           "xaxis": "x",
           "y": [
            27875.2
           ],
           "yaxis": "y"
          },
          {
           "hovertemplate": "<b>%{hovertext}</b><br><br>ISO3=EST<br>year=2019<br>Healthy life expectancy at birth=%{x}<br>money=%{marker.size}<extra></extra>",
           "hovertext": [
            "Estonia"
           ],
           "legendgroup": "EST",
           "marker": {
            "color": "#636efa",
            "size": [
             33006
            ],
            "sizemode": "area",
            "sizeref": 197.2357,
            "symbol": "circle"
           },
           "mode": "markers",
           "name": "EST",
           "orientation": "v",
           "showlegend": true,
           "type": "scatter",
           "x": [
            69.2
           ],
           "xaxis": "x",
           "y": [
            33006
           ],
           "yaxis": "y"
          },
          {
           "hovertemplate": "<b>%{hovertext}</b><br><br>ISO3=FIN<br>year=2019<br>Healthy life expectancy at birth=%{x}<br>money=%{marker.size}<extra></extra>",
           "hovertext": [
            "Finland"
           ],
           "legendgroup": "FIN",
           "marker": {
            "color": "#EF553B",
            "size": [
             50873
            ],
            "sizemode": "area",
            "sizeref": 197.2357,
            "symbol": "circle"
           },
           "mode": "markers",
           "name": "FIN",
           "orientation": "v",
           "showlegend": true,
           "type": "scatter",
           "x": [
            71
           ],
           "xaxis": "x",
           "y": [
            50873
           ],
           "yaxis": "y"
          },
          {
           "hovertemplate": "<b>%{hovertext}</b><br><br>ISO3=IRL<br>year=2019<br>Healthy life expectancy at birth=%{x}<br>money=%{marker.size}<extra></extra>",
           "hovertext": [
            "Ireland"
           ],
           "legendgroup": "IRL",
           "marker": {
            "color": "#00cc96",
            "size": [
             52648
            ],
            "sizemode": "area",
            "sizeref": 197.2357,
            "symbol": "circle"
           },
           "mode": "markers",
           "name": "IRL",
           "orientation": "v",
           "showlegend": true,
           "type": "scatter",
           "x": [
            71.1
           ],
           "xaxis": "x",
           "y": [
            52648
           ],
           "yaxis": "y"
          },
          {
           "hovertemplate": "<b>%{hovertext}</b><br><br>ISO3=ISR<br>year=2019<br>Healthy life expectancy at birth=%{x}<br>money=%{marker.size}<extra></extra>",
           "hovertext": [
            "Israel"
           ],
           "legendgroup": "ISR",
           "marker": {
            "color": "#ab63fa",
            "size": [
             41964.5
            ],
            "sizemode": "area",
            "sizeref": 197.2357,
            "symbol": "circle"
           },
           "mode": "markers",
           "name": "ISR",
           "orientation": "v",
           "showlegend": true,
           "type": "scatter",
           "x": [
            72.4
           ],
           "xaxis": "x",
           "y": [
            41964.5
           ],
           "yaxis": "y"
          },
          {
           "hovertemplate": "<b>%{hovertext}</b><br><br>ISO3=LVA<br>year=2019<br>Healthy life expectancy at birth=%{x}<br>money=%{marker.size}<extra></extra>",
           "hovertext": [
            "Latvia"
           ],
           "legendgroup": "LVA",
           "marker": {
            "color": "#FFA15A",
            "size": [
             31972
            ],
            "sizemode": "area",
            "sizeref": 197.2357,
            "symbol": "circle"
           },
           "mode": "markers",
           "name": "LVA",
           "orientation": "v",
           "showlegend": true,
           "type": "scatter",
           "x": [
            66.2
           ],
           "xaxis": "x",
           "y": [
            31972
           ],
           "yaxis": "y"
          },
          {
           "hovertemplate": "<b>%{hovertext}</b><br><br>ISO3=LTU<br>year=2019<br>Healthy life expectancy at birth=%{x}<br>money=%{marker.size}<extra></extra>",
           "hovertext": [
            "Lithuania"
           ],
           "legendgroup": "LTU",
           "marker": {
            "color": "#19d3f3",
            "size": [
             42041
            ],
            "sizemode": "area",
            "sizeref": 197.2357,
            "symbol": "circle"
           },
           "mode": "markers",
           "name": "LTU",
           "orientation": "v",
           "showlegend": true,
           "type": "scatter",
           "x": [
            66.7
           ],
           "xaxis": "x",
           "y": [
            42041
           ],
           "yaxis": "y"
          },
          {
           "hovertemplate": "<b>%{hovertext}</b><br><br>ISO3=NZL<br>year=2019<br>Healthy life expectancy at birth=%{x}<br>money=%{marker.size}<extra></extra>",
           "hovertext": [
            "New Zealand"
           ],
           "legendgroup": "NZL",
           "marker": {
            "color": "#FF6692",
            "size": [
             50211
            ],
            "sizemode": "area",
            "sizeref": 197.2357,
            "symbol": "circle"
           },
           "mode": "markers",
           "name": "NZL",
           "orientation": "v",
           "showlegend": true,
           "type": "scatter",
           "x": [
            70.2
           ],
           "xaxis": "x",
           "y": [
            50211
           ],
           "yaxis": "y"
          },
          {
           "hovertemplate": "<b>%{hovertext}</b><br><br>ISO3=NOR<br>year=2019<br>Healthy life expectancy at birth=%{x}<br>money=%{marker.size}<extra></extra>",
           "hovertext": [
            "Norway"
           ],
           "legendgroup": "NOR",
           "marker": {
            "color": "#B6E880",
            "size": [
             52273
            ],
            "sizemode": "area",
            "sizeref": 197.2357,
            "symbol": "circle"
           },
           "mode": "markers",
           "name": "NOR",
           "orientation": "v",
           "showlegend": true,
           "type": "scatter",
           "x": [
            71.4
           ],
           "xaxis": "x",
           "y": [
            52273
           ],
           "yaxis": "y"
          },
          {
           "hovertemplate": "<b>%{hovertext}</b><br><br>ISO3=PRT<br>year=2019<br>Healthy life expectancy at birth=%{x}<br>money=%{marker.size}<extra></extra>",
           "hovertext": [
            "Portugal"
           ],
           "legendgroup": "PRT",
           "marker": {
            "color": "#FF97FF",
            "size": [
             31081.37
            ],
            "sizemode": "area",
            "sizeref": 197.2357,
            "symbol": "circle"
           },
           "mode": "markers",
           "name": "PRT",
           "orientation": "v",
           "showlegend": true,
           "type": "scatter",
           "x": [
            71
           ],
           "xaxis": "x",
           "y": [
            31081.37
           ],
           "yaxis": "y"
          },
          {
           "hovertemplate": "<b>%{hovertext}</b><br><br>ISO3=SVK<br>year=2019<br>Healthy life expectancy at birth=%{x}<br>money=%{marker.size}<extra></extra>",
           "hovertext": [
            "Slovakia"
           ],
           "legendgroup": "SVK",
           "marker": {
            "color": "#FECB52",
            "size": [
             26706.52
            ],
            "sizemode": "area",
            "sizeref": 197.2357,
            "symbol": "circle"
           },
           "mode": "markers",
           "name": "SVK",
           "orientation": "v",
           "showlegend": true,
           "type": "scatter",
           "x": [
            68.5
           ],
           "xaxis": "x",
           "y": [
            26706.52
           ],
           "yaxis": "y"
          },
          {
           "hovertemplate": "<b>%{hovertext}</b><br><br>ISO3=SVN<br>year=2019<br>Healthy life expectancy at birth=%{x}<br>money=%{marker.size}<extra></extra>",
           "hovertext": [
            "Slovenia"
           ],
           "legendgroup": "SVN",
           "marker": {
            "color": "#636efa",
            "size": [
             47050
            ],
            "sizemode": "area",
            "sizeref": 197.2357,
            "symbol": "circle"
           },
           "mode": "markers",
           "name": "SVN",
           "orientation": "v",
           "showlegend": true,
           "type": "scatter",
           "x": [
            70.7
           ],
           "xaxis": "x",
           "y": [
            47050
           ],
           "yaxis": "y"
          },
          {
           "hovertemplate": "<b>%{hovertext}</b><br><br>ISO3=CHE<br>year=2019<br>Healthy life expectancy at birth=%{x}<br>money=%{marker.size}<extra></extra>",
           "hovertext": [
            "Switzerland"
           ],
           "legendgroup": "CHE",
           "marker": {
            "color": "#EF553B",
            "size": [
             71189
            ],
            "sizemode": "area",
            "sizeref": 197.2357,
            "symbol": "circle"
           },
           "mode": "markers",
           "name": "CHE",
           "orientation": "v",
           "showlegend": true,
           "type": "scatter",
           "x": [
            72.5
           ],
           "xaxis": "x",
           "y": [
            71189
           ],
           "yaxis": "y"
          },
          {
           "hovertemplate": "<b>%{hovertext}</b><br><br>ISO3=USA<br>year=2019<br>Healthy life expectancy at birth=%{x}<br>money=%{marker.size}<extra></extra>",
           "hovertext": [
            "United States"
           ],
           "legendgroup": "USA",
           "marker": {
            "color": "#00cc96",
            "size": [
             73194
            ],
            "sizemode": "area",
            "sizeref": 197.2357,
            "symbol": "circle"
           },
           "mode": "markers",
           "name": "USA",
           "orientation": "v",
           "showlegend": true,
           "type": "scatter",
           "x": [
            66.1
           ],
           "xaxis": "x",
           "y": [
            73194
           ],
           "yaxis": "y"
          },
          {
           "hovertemplate": "<b>%{hovertext}</b><br><br>ISO3=TUR<br>year=2019<br>Healthy life expectancy at birth=%{x}<br>money=%{marker.size}<extra></extra>",
           "hovertext": [
            "Turkey"
           ],
           "legendgroup": "TUR",
           "marker": {
            "color": "#ab63fa",
            "size": [
             31927
            ],
            "sizemode": "area",
            "sizeref": 197.2357,
            "symbol": "circle"
           },
           "mode": "markers",
           "name": "TUR",
           "orientation": "v",
           "showlegend": true,
           "type": "scatter",
           "x": [
            68.4
           ],
           "xaxis": "x",
           "y": [
            31927
           ],
           "yaxis": "y"
          },
          {
           "hovertemplate": "<b>%{hovertext}</b><br><br>ISO3=ISL<br>year=2019<br>Healthy life expectancy at birth=%{x}<br>money=%{marker.size}<extra></extra>",
           "hovertext": [
            "Iceland"
           ],
           "legendgroup": "ISL",
           "marker": {
            "color": "#FFA15A",
            "size": [
             76444
            ],
            "sizemode": "area",
            "sizeref": 197.2357,
            "symbol": "circle"
           },
           "mode": "markers",
           "name": "ISL",
           "orientation": "v",
           "showlegend": true,
           "type": "scatter",
           "x": [
            72
           ],
           "xaxis": "x",
           "y": [
            76444
           ],
           "yaxis": "y"
          },
          {
           "hovertemplate": "<b>%{hovertext}</b><br><br>ISO3=KOR<br>year=2019<br>Healthy life expectancy at birth=%{x}<br>money=%{marker.size}<extra></extra>",
           "hovertext": [
            "Korea, Republic of",
            "South Korea"
           ],
           "legendgroup": "KOR",
           "marker": {
            "color": "#19d3f3",
            "size": [
             47207,
             47207
            ],
            "sizemode": "area",
            "sizeref": 197.2357,
            "symbol": "circle"
           },
           "mode": "markers",
           "name": "KOR",
           "orientation": "v",
           "showlegend": true,
           "type": "scatter",
           "x": [
            73.1,
            73.1
           ],
           "xaxis": "x",
           "y": [
            47207,
            47207
           ],
           "yaxis": "y"
          },
          {
           "hovertemplate": "<b>%{hovertext}</b><br><br>ISO3=LUX<br>year=2019<br>Healthy life expectancy at birth=%{x}<br>money=%{marker.size}<extra></extra>",
           "hovertext": [
            "Luxembourg"
           ],
           "legendgroup": "LUX",
           "marker": {
            "color": "#FF6692",
            "size": [
             74399
            ],
            "sizemode": "area",
            "sizeref": 197.2357,
            "symbol": "circle"
           },
           "mode": "markers",
           "name": "LUX",
           "orientation": "v",
           "showlegend": true,
           "type": "scatter",
           "x": [
            71.6
           ],
           "xaxis": "x",
           "y": [
            74399
           ],
           "yaxis": "y"
          },
          {
           "hovertemplate": "<b>%{hovertext}</b><br><br>ISO3=COL<br>year=2019<br>Healthy life expectancy at birth=%{x}<br>money=%{marker.size}<extra></extra>",
           "hovertext": [
            "Colombia"
           ],
           "legendgroup": "COL",
           "marker": {
            "color": "#B6E880",
            "size": [
             20706.68
            ],
            "sizemode": "area",
            "sizeref": 197.2357,
            "symbol": "circle"
           },
           "mode": "markers",
           "name": "COL",
           "orientation": "v",
           "showlegend": true,
           "type": "scatter",
           "x": [
            69
           ],
           "xaxis": "x",
           "y": [
            20706.68
           ],
           "yaxis": "y"
          }
         ],
         "name": "2019"
        },
        {
         "data": [
          {
           "hovertemplate": "<b>%{hovertext}</b><br><br>ISO3=AUS<br>year=2020<br>Healthy life expectancy at birth=%{x}<br>money=%{marker.size}<extra></extra>",
           "hovertext": [
            "Australia"
           ],
           "legendgroup": "AUS",
           "marker": {
            "color": "#636efa",
            "size": [
             60377
            ],
            "sizemode": "area",
            "sizeref": 197.2357,
            "symbol": "circle"
           },
           "mode": "markers",
           "name": "AUS",
           "orientation": "v",
           "showlegend": true,
           "type": "scatter",
           "x": [
            70.975
           ],
           "xaxis": "x",
           "y": [
            60377
           ],
           "yaxis": "y"
          },
          {
           "hovertemplate": "<b>%{hovertext}</b><br><br>ISO3=BEL<br>year=2020<br>Healthy life expectancy at birth=%{x}<br>money=%{marker.size}<extra></extra>",
           "hovertext": [
            "Belgium"
           ],
           "legendgroup": "BEL",
           "marker": {
            "color": "#EF553B",
            "size": [
             63677
            ],
            "sizemode": "area",
            "sizeref": 197.2357,
            "symbol": "circle"
           },
           "mode": "markers",
           "name": "BEL",
           "orientation": "v",
           "showlegend": true,
           "type": "scatter",
           "x": [
            70.75
           ],
           "xaxis": "x",
           "y": [
            63677
           ],
           "yaxis": "y"
          },
          {
           "hovertemplate": "<b>%{hovertext}</b><br><br>ISO3=CAN<br>year=2020<br>Healthy life expectancy at birth=%{x}<br>money=%{marker.size}<extra></extra>",
           "hovertext": [
            "Canada"
           ],
           "legendgroup": "CAN",
           "marker": {
            "color": "#00cc96",
            "size": [
             59160
            ],
            "sizemode": "area",
            "sizeref": 197.2357,
            "symbol": "circle"
           },
           "mode": "markers",
           "name": "CAN",
           "orientation": "v",
           "showlegend": true,
           "type": "scatter",
           "x": [
            71.35
           ],
           "xaxis": "x",
           "y": [
            59160
           ],
           "yaxis": "y"
          },
          {
           "hovertemplate": "<b>%{hovertext}</b><br><br>ISO3=CZE<br>year=2020<br>Healthy life expectancy at birth=%{x}<br>money=%{marker.size}<extra></extra>",
           "hovertext": [
            "Czech Republic"
           ],
           "legendgroup": "CZE",
           "marker": {
            "color": "#ab63fa",
            "size": [
             35552
            ],
            "sizemode": "area",
            "sizeref": 197.2357,
            "symbol": "circle"
           },
           "mode": "markers",
           "name": "CZE",
           "orientation": "v",
           "showlegend": true,
           "type": "scatter",
           "x": [
            68.925
           ],
           "xaxis": "x",
           "y": [
            35552
           ],
           "yaxis": "y"
          },
          {
           "hovertemplate": "<b>%{hovertext}</b><br><br>ISO3=DNK<br>year=2020<br>Healthy life expectancy at birth=%{x}<br>money=%{marker.size}<extra></extra>",
           "hovertext": [
            "Denmark"
           ],
           "legendgroup": "DNK",
           "marker": {
            "color": "#FFA15A",
            "size": [
             66203
            ],
            "sizemode": "area",
            "sizeref": 197.2357,
            "symbol": "circle"
           },
           "mode": "markers",
           "name": "DNK",
           "orientation": "v",
           "showlegend": true,
           "type": "scatter",
           "x": [
            71.125
           ],
           "xaxis": "x",
           "y": [
            66203
           ],
           "yaxis": "y"
          },
          {
           "hovertemplate": "<b>%{hovertext}</b><br><br>ISO3=FRA<br>year=2020<br>Healthy life expectancy at birth=%{x}<br>money=%{marker.size}<extra></extra>",
           "hovertext": [
            "France"
           ],
           "legendgroup": "FRA",
           "marker": {
            "color": "#19d3f3",
            "size": [
             50550
            ],
            "sizemode": "area",
            "sizeref": 197.2357,
            "symbol": "circle"
           },
           "mode": "markers",
           "name": "FRA",
           "orientation": "v",
           "showlegend": true,
           "type": "scatter",
           "x": [
            72.2
           ],
           "xaxis": "x",
           "y": [
            50550
           ],
           "yaxis": "y"
          },
          {
           "hovertemplate": "<b>%{hovertext}</b><br><br>ISO3=DEU<br>year=2020<br>Healthy life expectancy at birth=%{x}<br>money=%{marker.size}<extra></extra>",
           "hovertext": [
            "Germany"
           ],
           "legendgroup": "DEU",
           "marker": {
            "color": "#FF6692",
            "size": [
             60309
            ],
            "sizemode": "area",
            "sizeref": 197.2357,
            "symbol": "circle"
           },
           "mode": "markers",
           "name": "DEU",
           "orientation": "v",
           "showlegend": true,
           "type": "scatter",
           "x": [
            71.1
           ],
           "xaxis": "x",
           "y": [
            60309
           ],
           "yaxis": "y"
          },
          {
           "hovertemplate": "<b>%{hovertext}</b><br><br>ISO3=GRC<br>year=2020<br>Healthy life expectancy at birth=%{x}<br>money=%{marker.size}<extra></extra>",
           "hovertext": [
            "Greece"
           ],
           "legendgroup": "GRC",
           "marker": {
            "color": "#B6E880",
            "size": [
             27747
            ],
            "sizemode": "area",
            "sizeref": 197.2357,
            "symbol": "circle"
           },
           "mode": "markers",
           "name": "GRC",
           "orientation": "v",
           "showlegend": true,
           "type": "scatter",
           "x": [
            71.025
           ],
           "xaxis": "x",
           "y": [
            27747
           ],
           "yaxis": "y"
          },
          {
           "hovertemplate": "<b>%{hovertext}</b><br><br>ISO3=HUN<br>year=2020<br>Healthy life expectancy at birth=%{x}<br>money=%{marker.size}<extra></extra>",
           "hovertext": [
            "Hungary"
           ],
           "legendgroup": "HUN",
           "marker": {
            "color": "#FF97FF",
            "size": [
             27588
            ],
            "sizemode": "area",
            "sizeref": 197.2357,
            "symbol": "circle"
           },
           "mode": "markers",
           "name": "HUN",
           "orientation": "v",
           "showlegend": true,
           "type": "scatter",
           "x": [
            67.35
           ],
           "xaxis": "x",
           "y": [
            27588
           ],
           "yaxis": "y"
          },
          {
           "hovertemplate": "<b>%{hovertext}</b><br><br>ISO3=ITA<br>year=2020<br>Healthy life expectancy at birth=%{x}<br>money=%{marker.size}<extra></extra>",
           "hovertext": [
            "Italy"
           ],
           "legendgroup": "ITA",
           "marker": {
            "color": "#FECB52",
            "size": [
             44246
            ],
            "sizemode": "area",
            "sizeref": 197.2357,
            "symbol": "circle"
           },
           "mode": "markers",
           "name": "ITA",
           "orientation": "v",
           "showlegend": true,
           "type": "scatter",
           "x": [
            71.975
           ],
           "xaxis": "x",
           "y": [
            44246
           ],
           "yaxis": "y"
          },
          {
           "hovertemplate": "<b>%{hovertext}</b><br><br>ISO3=JPN<br>year=2020<br>Healthy life expectancy at birth=%{x}<br>money=%{marker.size}<extra></extra>",
           "hovertext": [
            "Japan"
           ],
           "legendgroup": "JPN",
           "marker": {
            "color": "#636efa",
            "size": [
             41442
            ],
            "sizemode": "area",
            "sizeref": 197.2357,
            "symbol": "circle"
           },
           "mode": "markers",
           "name": "JPN",
           "orientation": "v",
           "showlegend": true,
           "type": "scatter",
           "x": [
            74.225
           ],
           "xaxis": "x",
           "y": [
            41442
           ],
           "yaxis": "y"
          },
          {
           "hovertemplate": "<b>%{hovertext}</b><br><br>ISO3=MEX<br>year=2020<br>Healthy life expectancy at birth=%{x}<br>money=%{marker.size}<extra></extra>",
           "hovertext": [
            "Mexico"
           ],
           "legendgroup": "MEX",
           "marker": {
            "color": "#EF553B",
            "size": [
             17467
            ],
            "sizemode": "area",
            "sizeref": 197.2357,
            "symbol": "circle"
           },
           "mode": "markers",
           "name": "MEX",
           "orientation": "v",
           "showlegend": true,
           "type": "scatter",
           "x": [
            65.8
           ],
           "xaxis": "x",
           "y": [
            17467
           ],
           "yaxis": "y"
          },
          {
           "hovertemplate": "<b>%{hovertext}</b><br><br>ISO3=NLD<br>year=2020<br>Healthy life expectancy at birth=%{x}<br>money=%{marker.size}<extra></extra>",
           "hovertext": [
            "Netherlands"
           ],
           "legendgroup": "NLD",
           "marker": {
            "color": "#00cc96",
            "size": [
             67163
            ],
            "sizemode": "area",
            "sizeref": 197.2357,
            "symbol": "circle"
           },
           "mode": "markers",
           "name": "NLD",
           "orientation": "v",
           "showlegend": true,
           "type": "scatter",
           "x": [
            71.475
           ],
           "xaxis": "x",
           "y": [
            67163
           ],
           "yaxis": "y"
          },
          {
           "hovertemplate": "<b>%{hovertext}</b><br><br>ISO3=POL<br>year=2020<br>Healthy life expectancy at birth=%{x}<br>money=%{marker.size}<extra></extra>",
           "hovertext": [
            "Poland"
           ],
           "legendgroup": "POL",
           "marker": {
            "color": "#ab63fa",
            "size": [
             37325
            ],
            "sizemode": "area",
            "sizeref": 197.2357,
            "symbol": "circle"
           },
           "mode": "markers",
           "name": "POL",
           "orientation": "v",
           "showlegend": true,
           "type": "scatter",
           "x": [
            68.875
           ],
           "xaxis": "x",
           "y": [
            37325
           ],
           "yaxis": "y"
          },
          {
           "hovertemplate": "<b>%{hovertext}</b><br><br>ISO3=ESP<br>year=2020<br>Healthy life expectancy at birth=%{x}<br>money=%{marker.size}<extra></extra>",
           "hovertext": [
            "Spain"
           ],
           "legendgroup": "ESP",
           "marker": {
            "color": "#FFA15A",
            "size": [
             43828
            ],
            "sizemode": "area",
            "sizeref": 197.2357,
            "symbol": "circle"
           },
           "mode": "markers",
           "name": "ESP",
           "orientation": "v",
           "showlegend": true,
           "type": "scatter",
           "x": [
            72.225
           ],
           "xaxis": "x",
           "y": [
            43828
           ],
           "yaxis": "y"
          },
          {
           "hovertemplate": "<b>%{hovertext}</b><br><br>ISO3=SWE<br>year=2020<br>Healthy life expectancy at birth=%{x}<br>money=%{marker.size}<extra></extra>",
           "hovertext": [
            "Sweden"
           ],
           "legendgroup": "SWE",
           "marker": {
            "color": "#19d3f3",
            "size": [
             51214
            ],
            "sizemode": "area",
            "sizeref": 197.2357,
            "symbol": "circle"
           },
           "mode": "markers",
           "name": "SWE",
           "orientation": "v",
           "showlegend": true,
           "type": "scatter",
           "x": [
            72.025
           ],
           "xaxis": "x",
           "y": [
            51214
           ],
           "yaxis": "y"
          },
          {
           "hovertemplate": "<b>%{hovertext}</b><br><br>ISO3=GBR<br>year=2020<br>Healthy life expectancy at birth=%{x}<br>money=%{marker.size}<extra></extra>",
           "hovertext": [
            "United Kingdom"
           ],
           "legendgroup": "GBR",
           "marker": {
            "color": "#FF6692",
            "size": [
             53612
            ],
            "sizemode": "area",
            "sizeref": 197.2357,
            "symbol": "circle"
           },
           "mode": "markers",
           "name": "GBR",
           "orientation": "v",
           "showlegend": true,
           "type": "scatter",
           "x": [
            70.2
           ],
           "xaxis": "x",
           "y": [
            53612
           ],
           "yaxis": "y"
          },
          {
           "hovertemplate": "<b>%{hovertext}</b><br><br>ISO3=AUT<br>year=2020<br>Healthy life expectancy at birth=%{x}<br>money=%{marker.size}<extra></extra>",
           "hovertext": [
            "Austria"
           ],
           "legendgroup": "AUT",
           "marker": {
            "color": "#B6E880",
            "size": [
             64648
            ],
            "sizemode": "area",
            "sizeref": 197.2357,
            "symbol": "circle"
           },
           "mode": "markers",
           "name": "AUT",
           "orientation": "v",
           "showlegend": true,
           "type": "scatter",
           "x": [
            71.025
           ],
           "xaxis": "x",
           "y": [
            64648
           ],
           "yaxis": "y"
          },
          {
           "hovertemplate": "<b>%{hovertext}</b><br><br>ISO3=CHL<br>year=2020<br>Healthy life expectancy at birth=%{x}<br>money=%{marker.size}<extra></extra>",
           "hovertext": [
            "Chile"
           ],
           "legendgroup": "CHL",
           "marker": {
            "color": "#FF97FF",
            "size": [
             31369
            ],
            "sizemode": "area",
            "sizeref": 197.2357,
            "symbol": "circle"
           },
           "mode": "markers",
           "name": "CHL",
           "orientation": "v",
           "showlegend": true,
           "type": "scatter",
           "x": [
            70.15
           ],
           "xaxis": "x",
           "y": [
            31369
           ],
           "yaxis": "y"
          },
          {
           "hovertemplate": "<b>%{hovertext}</b><br><br>ISO3=CRI<br>year=2020<br>Healthy life expectancy at birth=%{x}<br>money=%{marker.size}<extra></extra>",
           "hovertext": [
            "Costa Rica"
           ],
           "legendgroup": "CRI",
           "marker": {
            "color": "#FECB52",
            "size": [
             30658.3
            ],
            "sizemode": "area",
            "sizeref": 197.2357,
            "symbol": "circle"
           },
           "mode": "markers",
           "name": "CRI",
           "orientation": "v",
           "showlegend": true,
           "type": "scatter",
           "x": [
            70
           ],
           "xaxis": "x",
           "y": [
            30658.3
           ],
           "yaxis": "y"
          },
          {
           "hovertemplate": "<b>%{hovertext}</b><br><br>ISO3=EST<br>year=2020<br>Healthy life expectancy at birth=%{x}<br>money=%{marker.size}<extra></extra>",
           "hovertext": [
            "Estonia"
           ],
           "legendgroup": "EST",
           "marker": {
            "color": "#636efa",
            "size": [
             35128
            ],
            "sizemode": "area",
            "sizeref": 197.2357,
            "symbol": "circle"
           },
           "mode": "markers",
           "name": "EST",
           "orientation": "v",
           "showlegend": true,
           "type": "scatter",
           "x": [
            69.425
           ],
           "xaxis": "x",
           "y": [
            35128
           ],
           "yaxis": "y"
          },
          {
           "hovertemplate": "<b>%{hovertext}</b><br><br>ISO3=FIN<br>year=2020<br>Healthy life expectancy at birth=%{x}<br>money=%{marker.size}<extra></extra>",
           "hovertext": [
            "Finland"
           ],
           "legendgroup": "FIN",
           "marker": {
            "color": "#EF553B",
            "size": [
             51092
            ],
            "sizemode": "area",
            "sizeref": 197.2357,
            "symbol": "circle"
           },
           "mode": "markers",
           "name": "FIN",
           "orientation": "v",
           "showlegend": true,
           "type": "scatter",
           "x": [
            71.075
           ],
           "xaxis": "x",
           "y": [
            51092
           ],
           "yaxis": "y"
          },
          {
           "hovertemplate": "<b>%{hovertext}</b><br><br>ISO3=IRL<br>year=2020<br>Healthy life expectancy at birth=%{x}<br>money=%{marker.size}<extra></extra>",
           "hovertext": [
            "Ireland"
           ],
           "legendgroup": "IRL",
           "marker": {
            "color": "#00cc96",
            "size": [
             53651
            ],
            "sizemode": "area",
            "sizeref": 197.2357,
            "symbol": "circle"
           },
           "mode": "markers",
           "name": "IRL",
           "orientation": "v",
           "showlegend": true,
           "type": "scatter",
           "x": [
            71.2
           ],
           "xaxis": "x",
           "y": [
            53651
           ],
           "yaxis": "y"
          },
          {
           "hovertemplate": "<b>%{hovertext}</b><br><br>ISO3=ISR<br>year=2020<br>Healthy life expectancy at birth=%{x}<br>money=%{marker.size}<extra></extra>",
           "hovertext": [
            "Israel"
           ],
           "legendgroup": "ISR",
           "marker": {
            "color": "#ab63fa",
            "size": [
             42130
            ],
            "sizemode": "area",
            "sizeref": 197.2357,
            "symbol": "circle"
           },
           "mode": "markers",
           "name": "ISR",
           "orientation": "v",
           "showlegend": true,
           "type": "scatter",
           "x": [
            72.55
           ],
           "xaxis": "x",
           "y": [
            42130
           ],
           "yaxis": "y"
          },
          {
           "hovertemplate": "<b>%{hovertext}</b><br><br>ISO3=LVA<br>year=2020<br>Healthy life expectancy at birth=%{x}<br>money=%{marker.size}<extra></extra>",
           "hovertext": [
            "Latvia"
           ],
           "legendgroup": "LVA",
           "marker": {
            "color": "#FFA15A",
            "size": [
             33199
            ],
            "sizemode": "area",
            "sizeref": 197.2357,
            "symbol": "circle"
           },
           "mode": "markers",
           "name": "LVA",
           "orientation": "v",
           "showlegend": true,
           "type": "scatter",
           "x": [
            66.3
           ],
           "xaxis": "x",
           "y": [
            33199
           ],
           "yaxis": "y"
          },
          {
           "hovertemplate": "<b>%{hovertext}</b><br><br>ISO3=LTU<br>year=2020<br>Healthy life expectancy at birth=%{x}<br>money=%{marker.size}<extra></extra>",
           "hovertext": [
            "Lithuania"
           ],
           "legendgroup": "LTU",
           "marker": {
            "color": "#19d3f3",
            "size": [
             44228
            ],
            "sizemode": "area",
            "sizeref": 197.2357,
            "symbol": "circle"
           },
           "mode": "markers",
           "name": "LTU",
           "orientation": "v",
           "showlegend": true,
           "type": "scatter",
           "x": [
            67.05
           ],
           "xaxis": "x",
           "y": [
            44228
           ],
           "yaxis": "y"
          },
          {
           "hovertemplate": "<b>%{hovertext}</b><br><br>ISO3=NZL<br>year=2020<br>Healthy life expectancy at birth=%{x}<br>money=%{marker.size}<extra></extra>",
           "hovertext": [
            "New Zealand"
           ],
           "legendgroup": "NZL",
           "marker": {
            "color": "#FF6692",
            "size": [
             51417
            ],
            "sizemode": "area",
            "sizeref": 197.2357,
            "symbol": "circle"
           },
           "mode": "markers",
           "name": "NZL",
           "orientation": "v",
           "showlegend": true,
           "type": "scatter",
           "x": [
            70.275
           ],
           "xaxis": "x",
           "y": [
            51417
           ],
           "yaxis": "y"
          },
          {
           "hovertemplate": "<b>%{hovertext}</b><br><br>ISO3=NOR<br>year=2020<br>Healthy life expectancy at birth=%{x}<br>money=%{marker.size}<extra></extra>",
           "hovertext": [
            "Norway"
           ],
           "legendgroup": "NOR",
           "marker": {
            "color": "#B6E880",
            "size": [
             52415
            ],
            "sizemode": "area",
            "sizeref": 197.2357,
            "symbol": "circle"
           },
           "mode": "markers",
           "name": "NOR",
           "orientation": "v",
           "showlegend": true,
           "type": "scatter",
           "x": [
            71.45
           ],
           "xaxis": "x",
           "y": [
            52415
           ],
           "yaxis": "y"
          },
          {
           "hovertemplate": "<b>%{hovertext}</b><br><br>ISO3=PRT<br>year=2020<br>Healthy life expectancy at birth=%{x}<br>money=%{marker.size}<extra></extra>",
           "hovertext": [
            "Portugal"
           ],
           "legendgroup": "PRT",
           "marker": {
            "color": "#FF97FF",
            "size": [
             31300.37
            ],
            "sizemode": "area",
            "sizeref": 197.2357,
            "symbol": "circle"
           },
           "mode": "markers",
           "name": "PRT",
           "orientation": "v",
           "showlegend": true,
           "type": "scatter",
           "x": [
            71.125
           ],
           "xaxis": "x",
           "y": [
            31300.37
           ],
           "yaxis": "y"
          },
          {
           "hovertemplate": "<b>%{hovertext}</b><br><br>ISO3=SVK<br>year=2020<br>Healthy life expectancy at birth=%{x}<br>money=%{marker.size}<extra></extra>",
           "hovertext": [
            "Slovakia"
           ],
           "legendgroup": "SVK",
           "marker": {
            "color": "#FECB52",
            "size": [
             27052
            ],
            "sizemode": "area",
            "sizeref": 197.2357,
            "symbol": "circle"
           },
           "mode": "markers",
           "name": "SVK",
           "orientation": "v",
           "showlegend": true,
           "type": "scatter",
           "x": [
            68.725
           ],
           "xaxis": "x",
           "y": [
            27052
           ],
           "yaxis": "y"
          },
          {
           "hovertemplate": "<b>%{hovertext}</b><br><br>ISO3=SVN<br>year=2020<br>Healthy life expectancy at birth=%{x}<br>money=%{marker.size}<extra></extra>",
           "hovertext": [
            "Slovenia"
           ],
           "legendgroup": "SVN",
           "marker": {
            "color": "#636efa",
            "size": [
             48605
            ],
            "sizemode": "area",
            "sizeref": 197.2357,
            "symbol": "circle"
           },
           "mode": "markers",
           "name": "SVN",
           "orientation": "v",
           "showlegend": true,
           "type": "scatter",
           "x": [
            70.875
           ],
           "xaxis": "x",
           "y": [
            48605
           ],
           "yaxis": "y"
          },
          {
           "hovertemplate": "<b>%{hovertext}</b><br><br>ISO3=CHE<br>year=2020<br>Healthy life expectancy at birth=%{x}<br>money=%{marker.size}<extra></extra>",
           "hovertext": [
            "Switzerland"
           ],
           "legendgroup": "CHE",
           "marker": {
            "color": "#EF553B",
            "size": [
             69728
            ],
            "sizemode": "area",
            "sizeref": 197.2357,
            "symbol": "circle"
           },
           "mode": "markers",
           "name": "CHE",
           "orientation": "v",
           "showlegend": true,
           "type": "scatter",
           "x": [
            72.7
           ],
           "xaxis": "x",
           "y": [
            69728
           ],
           "yaxis": "y"
          },
          {
           "hovertemplate": "<b>%{hovertext}</b><br><br>ISO3=USA<br>year=2020<br>Healthy life expectancy at birth=%{x}<br>money=%{marker.size}<extra></extra>",
           "hovertext": [
            "United States"
           ],
           "legendgroup": "USA",
           "marker": {
            "color": "#00cc96",
            "size": [
             77567
            ],
            "sizemode": "area",
            "sizeref": 197.2357,
            "symbol": "circle"
           },
           "mode": "markers",
           "name": "USA",
           "orientation": "v",
           "showlegend": true,
           "type": "scatter",
           "x": [
            65.975
           ],
           "xaxis": "x",
           "y": [
            77567
           ],
           "yaxis": "y"
          },
          {
           "hovertemplate": "<b>%{hovertext}</b><br><br>ISO3=TUR<br>year=2020<br>Healthy life expectancy at birth=%{x}<br>money=%{marker.size}<extra></extra>",
           "hovertext": [
            "Turkey"
           ],
           "legendgroup": "TUR",
           "marker": {
            "color": "#ab63fa",
            "size": [
             31761.46
            ],
            "sizemode": "area",
            "sizeref": 197.2357,
            "symbol": "circle"
           },
           "mode": "markers",
           "name": "TUR",
           "orientation": "v",
           "showlegend": true,
           "type": "scatter",
           "x": [
            68.575
           ],
           "xaxis": "x",
           "y": [
            31761.46
           ],
           "yaxis": "y"
          },
          {
           "hovertemplate": "<b>%{hovertext}</b><br><br>ISO3=ISL<br>year=2020<br>Healthy life expectancy at birth=%{x}<br>money=%{marker.size}<extra></extra>",
           "hovertext": [
            "Iceland"
           ],
           "legendgroup": "ISL",
           "marker": {
            "color": "#FFA15A",
            "size": [
             71687
            ],
            "sizemode": "area",
            "sizeref": 197.2357,
            "symbol": "circle"
           },
           "mode": "markers",
           "name": "ISL",
           "orientation": "v",
           "showlegend": true,
           "type": "scatter",
           "x": [
            72.025
           ],
           "xaxis": "x",
           "y": [
            71687
           ],
           "yaxis": "y"
          },
          {
           "hovertemplate": "<b>%{hovertext}</b><br><br>ISO3=KOR<br>year=2020<br>Healthy life expectancy at birth=%{x}<br>money=%{marker.size}<extra></extra>",
           "hovertext": [
            "Korea, Republic of",
            "South Korea"
           ],
           "legendgroup": "KOR",
           "marker": {
            "color": "#19d3f3",
            "size": [
             48294,
             48294
            ],
            "sizemode": "area",
            "sizeref": 197.2357,
            "symbol": "circle"
           },
           "mode": "markers",
           "name": "KOR",
           "orientation": "v",
           "showlegend": true,
           "type": "scatter",
           "x": [
            73.375,
            73.375
           ],
           "xaxis": "x",
           "y": [
            48294,
            48294
           ],
           "yaxis": "y"
          },
          {
           "hovertemplate": "<b>%{hovertext}</b><br><br>ISO3=COL<br>year=2020<br>Healthy life expectancy at birth=%{x}<br>money=%{marker.size}<extra></extra>",
           "hovertext": [
            "Colombia"
           ],
           "legendgroup": "COL",
           "marker": {
            "color": "#B6E880",
            "size": [
             23617.24
            ],
            "sizemode": "area",
            "sizeref": 197.2357,
            "symbol": "circle"
           },
           "mode": "markers",
           "name": "COL",
           "orientation": "v",
           "showlegend": true,
           "type": "scatter",
           "x": [
            69.175
           ],
           "xaxis": "x",
           "y": [
            23617.24
           ],
           "yaxis": "y"
          }
         ],
         "name": "2020"
        },
        {
         "data": [
          {
           "hovertemplate": "<b>%{hovertext}</b><br><br>ISO3=AUS<br>year=2021<br>Healthy life expectancy at birth=%{x}<br>money=%{marker.size}<extra></extra>",
           "hovertext": [
            "Australia"
           ],
           "legendgroup": "AUS",
           "marker": {
            "color": "#636efa",
            "size": [
             60681.5
            ],
            "sizemode": "area",
            "sizeref": 197.2357,
            "symbol": "circle"
           },
           "mode": "markers",
           "name": "AUS",
           "orientation": "v",
           "showlegend": true,
           "type": "scatter",
           "x": [
            71.05
           ],
           "xaxis": "x",
           "y": [
            60681.5
           ],
           "yaxis": "y"
          },
          {
           "hovertemplate": "<b>%{hovertext}</b><br><br>ISO3=BEL<br>year=2021<br>Healthy life expectancy at birth=%{x}<br>money=%{marker.size}<extra></extra>",
           "hovertext": [
            "Belgium"
           ],
           "legendgroup": "BEL",
           "marker": {
            "color": "#EF553B",
            "size": [
             65520.82
            ],
            "sizemode": "area",
            "sizeref": 197.2357,
            "symbol": "circle"
           },
           "mode": "markers",
           "name": "BEL",
           "orientation": "v",
           "showlegend": true,
           "type": "scatter",
           "x": [
            70.9
           ],
           "xaxis": "x",
           "y": [
            65520.82
           ],
           "yaxis": "y"
          },
          {
           "hovertemplate": "<b>%{hovertext}</b><br><br>ISO3=CAN<br>year=2021<br>Healthy life expectancy at birth=%{x}<br>money=%{marker.size}<extra></extra>",
           "hovertext": [
            "Canada"
           ],
           "legendgroup": "CAN",
           "marker": {
            "color": "#00cc96",
            "size": [
             59568.78
            ],
            "sizemode": "area",
            "sizeref": 197.2357,
            "symbol": "circle"
           },
           "mode": "markers",
           "name": "CAN",
           "orientation": "v",
           "showlegend": true,
           "type": "scatter",
           "x": [
            71.4
           ],
           "xaxis": "x",
           "y": [
            59568.78
           ],
           "yaxis": "y"
          },
          {
           "hovertemplate": "<b>%{hovertext}</b><br><br>ISO3=CZE<br>year=2021<br>Healthy life expectancy at birth=%{x}<br>money=%{marker.size}<extra></extra>",
           "hovertext": [
            "Czechia"
           ],
           "legendgroup": "CZE",
           "marker": {
            "color": "#ab63fa",
            "size": [
             36269.71
            ],
            "sizemode": "area",
            "sizeref": 197.2357,
            "symbol": "circle"
           },
           "mode": "markers",
           "name": "CZE",
           "orientation": "v",
           "showlegend": true,
           "type": "scatter",
           "x": [
            69.05
           ],
           "xaxis": "x",
           "y": [
            36269.71
           ],
           "yaxis": "y"
          },
          {
           "hovertemplate": "<b>%{hovertext}</b><br><br>ISO3=DNK<br>year=2021<br>Healthy life expectancy at birth=%{x}<br>money=%{marker.size}<extra></extra>",
           "hovertext": [
            "Denmark"
           ],
           "legendgroup": "DNK",
           "marker": {
            "color": "#FFA15A",
            "size": [
             66503.05
            ],
            "sizemode": "area",
            "sizeref": 197.2357,
            "symbol": "circle"
           },
           "mode": "markers",
           "name": "DNK",
           "orientation": "v",
           "showlegend": true,
           "type": "scatter",
           "x": [
            71.25
           ],
           "xaxis": "x",
           "y": [
            66503.05
           ],
           "yaxis": "y"
          },
          {
           "hovertemplate": "<b>%{hovertext}</b><br><br>ISO3=FRA<br>year=2021<br>Healthy life expectancy at birth=%{x}<br>money=%{marker.size}<extra></extra>",
           "hovertext": [
            "France"
           ],
           "legendgroup": "FRA",
           "marker": {
            "color": "#19d3f3",
            "size": [
             52542.19
            ],
            "sizemode": "area",
            "sizeref": 197.2357,
            "symbol": "circle"
           },
           "mode": "markers",
           "name": "FRA",
           "orientation": "v",
           "showlegend": true,
           "type": "scatter",
           "x": [
            72.3
           ],
           "xaxis": "x",
           "y": [
            52542.19
           ],
           "yaxis": "y"
          },
          {
           "hovertemplate": "<b>%{hovertext}</b><br><br>ISO3=DEU<br>year=2021<br>Healthy life expectancy at birth=%{x}<br>money=%{marker.size}<extra></extra>",
           "hovertext": [
            "Germany"
           ],
           "legendgroup": "DEU",
           "marker": {
            "color": "#FF6692",
            "size": [
             60291.24
            ],
            "sizemode": "area",
            "sizeref": 197.2357,
            "symbol": "circle"
           },
           "mode": "markers",
           "name": "DEU",
           "orientation": "v",
           "showlegend": true,
           "type": "scatter",
           "x": [
            71.3
           ],
           "xaxis": "x",
           "y": [
            60291.24
           ],
           "yaxis": "y"
          },
          {
           "hovertemplate": "<b>%{hovertext}</b><br><br>ISO3=GRC<br>year=2021<br>Healthy life expectancy at birth=%{x}<br>money=%{marker.size}<extra></extra>",
           "hovertext": [
            "Greece"
           ],
           "legendgroup": "GRC",
           "marker": {
            "color": "#B6E880",
            "size": [
             27659.57
            ],
            "sizemode": "area",
            "sizeref": 197.2357,
            "symbol": "circle"
           },
           "mode": "markers",
           "name": "GRC",
           "orientation": "v",
           "showlegend": true,
           "type": "scatter",
           "x": [
            71.15
           ],
           "xaxis": "x",
           "y": [
            27659.57
           ],
           "yaxis": "y"
          },
          {
           "hovertemplate": "<b>%{hovertext}</b><br><br>ISO3=HUN<br>year=2021<br>Healthy life expectancy at birth=%{x}<br>money=%{marker.size}<extra></extra>",
           "hovertext": [
            "Hungary"
           ],
           "legendgroup": "HUN",
           "marker": {
            "color": "#FF97FF",
            "size": [
             28462.42
            ],
            "sizemode": "area",
            "sizeref": 197.2357,
            "symbol": "circle"
           },
           "mode": "markers",
           "name": "HUN",
           "orientation": "v",
           "showlegend": true,
           "type": "scatter",
           "x": [
            67.5
           ],
           "xaxis": "x",
           "y": [
            28462.42
           ],
           "yaxis": "y"
          },
          {
           "hovertemplate": "<b>%{hovertext}</b><br><br>ISO3=ITA<br>year=2021<br>Healthy life expectancy at birth=%{x}<br>money=%{marker.size}<extra></extra>",
           "hovertext": [
            "Italy"
           ],
           "legendgroup": "ITA",
           "marker": {
            "color": "#FECB52",
            "size": [
             45960.65
            ],
            "sizemode": "area",
            "sizeref": 197.2357,
            "symbol": "circle"
           },
           "mode": "markers",
           "name": "ITA",
           "orientation": "v",
           "showlegend": true,
           "type": "scatter",
           "x": [
            72.05
           ],
           "xaxis": "x",
           "y": [
            45960.65
           ],
           "yaxis": "y"
          },
          {
           "hovertemplate": "<b>%{hovertext}</b><br><br>ISO3=JPN<br>year=2021<br>Healthy life expectancy at birth=%{x}<br>money=%{marker.size}<extra></extra>",
           "hovertext": [
            "Japan"
           ],
           "legendgroup": "JPN",
           "marker": {
            "color": "#636efa",
            "size": [
             42041.31
            ],
            "sizemode": "area",
            "sizeref": 197.2357,
            "symbol": "circle"
           },
           "mode": "markers",
           "name": "JPN",
           "orientation": "v",
           "showlegend": true,
           "type": "scatter",
           "x": [
            74.35
           ],
           "xaxis": "x",
           "y": [
            42041.31
           ],
           "yaxis": "y"
          },
          {
           "hovertemplate": "<b>%{hovertext}</b><br><br>ISO3=MEX<br>year=2021<br>Healthy life expectancy at birth=%{x}<br>money=%{marker.size}<extra></extra>",
           "hovertext": [
            "Mexico"
           ],
           "legendgroup": "MEX",
           "marker": {
            "color": "#EF553B",
            "size": [
             17637.06
            ],
            "sizemode": "area",
            "sizeref": 197.2357,
            "symbol": "circle"
           },
           "mode": "markers",
           "name": "MEX",
           "orientation": "v",
           "showlegend": true,
           "type": "scatter",
           "x": [
            65.8
           ],
           "xaxis": "x",
           "y": [
            17637.06
           ],
           "yaxis": "y"
          },
          {
           "hovertemplate": "<b>%{hovertext}</b><br><br>ISO3=NLD<br>year=2021<br>Healthy life expectancy at birth=%{x}<br>money=%{marker.size}<extra></extra>",
           "hovertext": [
            "Netherlands"
           ],
           "legendgroup": "NLD",
           "marker": {
            "color": "#00cc96",
            "size": [
             66221.48
            ],
            "sizemode": "area",
            "sizeref": 197.2357,
            "symbol": "circle"
           },
           "mode": "markers",
           "name": "NLD",
           "orientation": "v",
           "showlegend": true,
           "type": "scatter",
           "x": [
            71.55
           ],
           "xaxis": "x",
           "y": [
            66221.48
           ],
           "yaxis": "y"
          },
          {
           "hovertemplate": "<b>%{hovertext}</b><br><br>ISO3=POL<br>year=2021<br>Healthy life expectancy at birth=%{x}<br>money=%{marker.size}<extra></extra>",
           "hovertext": [
            "Poland"
           ],
           "legendgroup": "POL",
           "marker": {
            "color": "#ab63fa",
            "size": [
             37126.69
            ],
            "sizemode": "area",
            "sizeref": 197.2357,
            "symbol": "circle"
           },
           "mode": "markers",
           "name": "POL",
           "orientation": "v",
           "showlegend": true,
           "type": "scatter",
           "x": [
            69.05
           ],
           "xaxis": "x",
           "y": [
            37126.69
           ],
           "yaxis": "y"
          },
          {
           "hovertemplate": "<b>%{hovertext}</b><br><br>ISO3=ESP<br>year=2021<br>Healthy life expectancy at birth=%{x}<br>money=%{marker.size}<extra></extra>",
           "hovertext": [
            "Spain"
           ],
           "legendgroup": "ESP",
           "marker": {
            "color": "#FFA15A",
            "size": [
             44443.89
            ],
            "sizemode": "area",
            "sizeref": 197.2357,
            "symbol": "circle"
           },
           "mode": "markers",
           "name": "ESP",
           "orientation": "v",
           "showlegend": true,
           "type": "scatter",
           "x": [
            72.35
           ],
           "xaxis": "x",
           "y": [
            44443.89
           ],
           "yaxis": "y"
          },
          {
           "hovertemplate": "<b>%{hovertext}</b><br><br>ISO3=SWE<br>year=2021<br>Healthy life expectancy at birth=%{x}<br>money=%{marker.size}<extra></extra>",
           "hovertext": [
            "Sweden"
           ],
           "legendgroup": "SWE",
           "marker": {
            "color": "#19d3f3",
            "size": [
             51928.98
            ],
            "sizemode": "area",
            "sizeref": 197.2357,
            "symbol": "circle"
           },
           "mode": "markers",
           "name": "SWE",
           "orientation": "v",
           "showlegend": true,
           "type": "scatter",
           "x": [
            72.15
           ],
           "xaxis": "x",
           "y": [
            51928.98
           ],
           "yaxis": "y"
          },
          {
           "hovertemplate": "<b>%{hovertext}</b><br><br>ISO3=GBR<br>year=2021<br>Healthy life expectancy at birth=%{x}<br>money=%{marker.size}<extra></extra>",
           "hovertext": [
            "United Kingdom"
           ],
           "legendgroup": "GBR",
           "marker": {
            "color": "#FF6692",
            "size": [
             54762.3
            ],
            "sizemode": "area",
            "sizeref": 197.2357,
            "symbol": "circle"
           },
           "mode": "markers",
           "name": "GBR",
           "orientation": "v",
           "showlegend": true,
           "type": "scatter",
           "x": [
            70.3
           ],
           "xaxis": "x",
           "y": [
            54762.3
           ],
           "yaxis": "y"
          },
          {
           "hovertemplate": "<b>%{hovertext}</b><br><br>ISO3=AUT<br>year=2021<br>Healthy life expectancy at birth=%{x}<br>money=%{marker.size}<extra></extra>",
           "hovertext": [
            "Austria"
           ],
           "legendgroup": "AUT",
           "marker": {
            "color": "#B6E880",
            "size": [
             65402.32
            ],
            "sizemode": "area",
            "sizeref": 197.2357,
            "symbol": "circle"
           },
           "mode": "markers",
           "name": "AUT",
           "orientation": "v",
           "showlegend": true,
           "type": "scatter",
           "x": [
            71.15
           ],
           "xaxis": "x",
           "y": [
            65402.32
           ],
           "yaxis": "y"
          },
          {
           "hovertemplate": "<b>%{hovertext}</b><br><br>ISO3=CHL<br>year=2021<br>Healthy life expectancy at birth=%{x}<br>money=%{marker.size}<extra></extra>",
           "hovertext": [
            "Chile"
           ],
           "legendgroup": "CHL",
           "marker": {
            "color": "#FF97FF",
            "size": [
             33042.33
            ],
            "sizemode": "area",
            "sizeref": 197.2357,
            "symbol": "circle"
           },
           "mode": "markers",
           "name": "CHL",
           "orientation": "v",
           "showlegend": true,
           "type": "scatter",
           "x": [
            70.3
           ],
           "xaxis": "x",
           "y": [
            33042.33
           ],
           "yaxis": "y"
          },
          {
           "hovertemplate": "<b>%{hovertext}</b><br><br>ISO3=CRI<br>year=2021<br>Healthy life expectancy at birth=%{x}<br>money=%{marker.size}<extra></extra>",
           "hovertext": [
            "Costa Rica"
           ],
           "legendgroup": "CRI",
           "marker": {
            "color": "#FECB52",
            "size": [
             30499.41
            ],
            "sizemode": "area",
            "sizeref": 197.2357,
            "symbol": "circle"
           },
           "mode": "markers",
           "name": "CRI",
           "orientation": "v",
           "showlegend": true,
           "type": "scatter",
           "x": [
            70
           ],
           "xaxis": "x",
           "y": [
            30499.41
           ],
           "yaxis": "y"
          },
          {
           "hovertemplate": "<b>%{hovertext}</b><br><br>ISO3=EST<br>year=2021<br>Healthy life expectancy at birth=%{x}<br>money=%{marker.size}<extra></extra>",
           "hovertext": [
            "Estonia"
           ],
           "legendgroup": "EST",
           "marker": {
            "color": "#636efa",
            "size": [
             37317.82
            ],
            "sizemode": "area",
            "sizeref": 197.2357,
            "symbol": "circle"
           },
           "mode": "markers",
           "name": "EST",
           "orientation": "v",
           "showlegend": true,
           "type": "scatter",
           "x": [
            69.65
           ],
           "xaxis": "x",
           "y": [
            37317.82
           ],
           "yaxis": "y"
          },
          {
           "hovertemplate": "<b>%{hovertext}</b><br><br>ISO3=FIN<br>year=2021<br>Healthy life expectancy at birth=%{x}<br>money=%{marker.size}<extra></extra>",
           "hovertext": [
            "Finland"
           ],
           "legendgroup": "FIN",
           "marker": {
            "color": "#EF553B",
            "size": [
             52785.32
            ],
            "sizemode": "area",
            "sizeref": 197.2357,
            "symbol": "circle"
           },
           "mode": "markers",
           "name": "FIN",
           "orientation": "v",
           "showlegend": true,
           "type": "scatter",
           "x": [
            71.15
           ],
           "xaxis": "x",
           "y": [
            52785.32
           ],
           "yaxis": "y"
          },
          {
           "hovertemplate": "<b>%{hovertext}</b><br><br>ISO3=IRL<br>year=2021<br>Healthy life expectancy at birth=%{x}<br>money=%{marker.size}<extra></extra>",
           "hovertext": [
            "Ireland"
           ],
           "legendgroup": "IRL",
           "marker": {
            "color": "#00cc96",
            "size": [
             53209.48
            ],
            "sizemode": "area",
            "sizeref": 197.2357,
            "symbol": "circle"
           },
           "mode": "markers",
           "name": "IRL",
           "orientation": "v",
           "showlegend": true,
           "type": "scatter",
           "x": [
            71.3
           ],
           "xaxis": "x",
           "y": [
            53209.48
           ],
           "yaxis": "y"
          },
          {
           "hovertemplate": "<b>%{hovertext}</b><br><br>ISO3=ISR<br>year=2021<br>Healthy life expectancy at birth=%{x}<br>money=%{marker.size}<extra></extra>",
           "hovertext": [
            "Israel"
           ],
           "legendgroup": "ISR",
           "marker": {
            "color": "#ab63fa",
            "size": [
             44338.87
            ],
            "sizemode": "area",
            "sizeref": 197.2357,
            "symbol": "circle"
           },
           "mode": "markers",
           "name": "ISR",
           "orientation": "v",
           "showlegend": true,
           "type": "scatter",
           "x": [
            72.7
           ],
           "xaxis": "x",
           "y": [
            44338.87
           ],
           "yaxis": "y"
          },
          {
           "hovertemplate": "<b>%{hovertext}</b><br><br>ISO3=LVA<br>year=2021<br>Healthy life expectancy at birth=%{x}<br>money=%{marker.size}<extra></extra>",
           "hovertext": [
            "Latvia"
           ],
           "legendgroup": "LVA",
           "marker": {
            "color": "#FFA15A",
            "size": [
             35923.06
            ],
            "sizemode": "area",
            "sizeref": 197.2357,
            "symbol": "circle"
           },
           "mode": "markers",
           "name": "LVA",
           "orientation": "v",
           "showlegend": true,
           "type": "scatter",
           "x": [
            66.4
           ],
           "xaxis": "x",
           "y": [
            35923.06
           ],
           "yaxis": "y"
          },
          {
           "hovertemplate": "<b>%{hovertext}</b><br><br>ISO3=LTU<br>year=2021<br>Healthy life expectancy at birth=%{x}<br>money=%{marker.size}<extra></extra>",
           "hovertext": [
            "Lithuania"
           ],
           "legendgroup": "LTU",
           "marker": {
            "color": "#19d3f3",
            "size": [
             47035.44
            ],
            "sizemode": "area",
            "sizeref": 197.2357,
            "symbol": "circle"
           },
           "mode": "markers",
           "name": "LTU",
           "orientation": "v",
           "showlegend": true,
           "type": "scatter",
           "x": [
            67.4
           ],
           "xaxis": "x",
           "y": [
            47035.44
           ],
           "yaxis": "y"
          },
          {
           "hovertemplate": "<b>%{hovertext}</b><br><br>ISO3=NZL<br>year=2021<br>Healthy life expectancy at birth=%{x}<br>money=%{marker.size}<extra></extra>",
           "hovertext": [
            "New Zealand"
           ],
           "legendgroup": "NZL",
           "marker": {
            "color": "#FF6692",
            "size": [
             51877.34
            ],
            "sizemode": "area",
            "sizeref": 197.2357,
            "symbol": "circle"
           },
           "mode": "markers",
           "name": "NZL",
           "orientation": "v",
           "showlegend": true,
           "type": "scatter",
           "x": [
            70.35
           ],
           "xaxis": "x",
           "y": [
            51877.34
           ],
           "yaxis": "y"
          },
          {
           "hovertemplate": "<b>%{hovertext}</b><br><br>ISO3=NOR<br>year=2021<br>Healthy life expectancy at birth=%{x}<br>money=%{marker.size}<extra></extra>",
           "hovertext": [
            "Norway"
           ],
           "legendgroup": "NOR",
           "marker": {
            "color": "#B6E880",
            "size": [
             53813.21
            ],
            "sizemode": "area",
            "sizeref": 197.2357,
            "symbol": "circle"
           },
           "mode": "markers",
           "name": "NOR",
           "orientation": "v",
           "showlegend": true,
           "type": "scatter",
           "x": [
            71.5
           ],
           "xaxis": "x",
           "y": [
            53813.21
           ],
           "yaxis": "y"
          },
          {
           "hovertemplate": "<b>%{hovertext}</b><br><br>ISO3=PRT<br>year=2021<br>Healthy life expectancy at birth=%{x}<br>money=%{marker.size}<extra></extra>",
           "hovertext": [
            "Portugal"
           ],
           "legendgroup": "PRT",
           "marker": {
            "color": "#FF97FF",
            "size": [
             32089.38
            ],
            "sizemode": "area",
            "sizeref": 197.2357,
            "symbol": "circle"
           },
           "mode": "markers",
           "name": "PRT",
           "orientation": "v",
           "showlegend": true,
           "type": "scatter",
           "x": [
            71.25
           ],
           "xaxis": "x",
           "y": [
            32089.38
           ],
           "yaxis": "y"
          },
          {
           "hovertemplate": "<b>%{hovertext}</b><br><br>ISO3=SVK<br>year=2021<br>Healthy life expectancy at birth=%{x}<br>money=%{marker.size}<extra></extra>",
           "hovertext": [
            "Slovakia"
           ],
           "legendgroup": "SVK",
           "marker": {
            "color": "#FECB52",
            "size": [
             27546.58
            ],
            "sizemode": "area",
            "sizeref": 197.2357,
            "symbol": "circle"
           },
           "mode": "markers",
           "name": "SVK",
           "orientation": "v",
           "showlegend": true,
           "type": "scatter",
           "x": [
            68.95
           ],
           "xaxis": "x",
           "y": [
            27546.58
           ],
           "yaxis": "y"
          },
          {
           "hovertemplate": "<b>%{hovertext}</b><br><br>ISO3=SVN<br>year=2021<br>Healthy life expectancy at birth=%{x}<br>money=%{marker.size}<extra></extra>",
           "hovertext": [
            "Slovenia"
           ],
           "legendgroup": "SVN",
           "marker": {
            "color": "#636efa",
            "size": [
             50466.69
            ],
            "sizemode": "area",
            "sizeref": 197.2357,
            "symbol": "circle"
           },
           "mode": "markers",
           "name": "SVN",
           "orientation": "v",
           "showlegend": true,
           "type": "scatter",
           "x": [
            71.05
           ],
           "xaxis": "x",
           "y": [
            50466.69
           ],
           "yaxis": "y"
          },
          {
           "hovertemplate": "<b>%{hovertext}</b><br><br>ISO3=CHE<br>year=2021<br>Healthy life expectancy at birth=%{x}<br>money=%{marker.size}<extra></extra>",
           "hovertext": [
            "Switzerland"
           ],
           "legendgroup": "CHE",
           "marker": {
            "color": "#EF553B",
            "size": [
             72358.44
            ],
            "sizemode": "area",
            "sizeref": 197.2357,
            "symbol": "circle"
           },
           "mode": "markers",
           "name": "CHE",
           "orientation": "v",
           "showlegend": true,
           "type": "scatter",
           "x": [
            72.9
           ],
           "xaxis": "x",
           "y": [
            72358.44
           ],
           "yaxis": "y"
          },
          {
           "hovertemplate": "<b>%{hovertext}</b><br><br>ISO3=USA<br>year=2021<br>Healthy life expectancy at birth=%{x}<br>money=%{marker.size}<extra></extra>",
           "hovertext": [
            "United States"
           ],
           "legendgroup": "USA",
           "marker": {
            "color": "#00cc96",
            "size": [
             78894.28
            ],
            "sizemode": "area",
            "sizeref": 197.2357,
            "symbol": "circle"
           },
           "mode": "markers",
           "name": "USA",
           "orientation": "v",
           "showlegend": true,
           "type": "scatter",
           "x": [
            65.85
           ],
           "xaxis": "x",
           "y": [
            78894.28
           ],
           "yaxis": "y"
          },
          {
           "hovertemplate": "<b>%{hovertext}</b><br><br>ISO3=ISL<br>year=2021<br>Healthy life expectancy at birth=%{x}<br>money=%{marker.size}<extra></extra>",
           "hovertext": [
            "Iceland"
           ],
           "legendgroup": "ISL",
           "marker": {
            "color": "#FFA15A",
            "size": [
             74654.52
            ],
            "sizemode": "area",
            "sizeref": 197.2357,
            "symbol": "circle"
           },
           "mode": "markers",
           "name": "ISL",
           "orientation": "v",
           "showlegend": true,
           "type": "scatter",
           "x": [
            72.05
           ],
           "xaxis": "x",
           "y": [
            74654.52
           ],
           "yaxis": "y"
          },
          {
           "hovertemplate": "<b>%{hovertext}</b><br><br>ISO3=KOR<br>year=2021<br>Healthy life expectancy at birth=%{x}<br>money=%{marker.size}<extra></extra>",
           "hovertext": [
            "Korea, Republic of",
            "South Korea"
           ],
           "legendgroup": "KOR",
           "marker": {
            "color": "#19d3f3",
            "size": [
             49142.98,
             49142.98
            ],
            "sizemode": "area",
            "sizeref": 197.2357,
            "symbol": "circle"
           },
           "mode": "markers",
           "name": "KOR",
           "orientation": "v",
           "showlegend": true,
           "type": "scatter",
           "x": [
            73.65,
            73.65
           ],
           "xaxis": "x",
           "y": [
            49142.98,
            49142.98
           ],
           "yaxis": "y"
          }
         ],
         "name": "2021"
        }
       ],
       "layout": {
        "legend": {
         "itemsizing": "constant",
         "title": {
          "text": "ISO3"
         },
         "tracegroupgap": 0
        },
        "margin": {
         "t": 60
        },
        "sliders": [
         {
          "active": 0,
          "currentvalue": {
           "prefix": "year="
          },
          "len": 0.9,
          "pad": {
           "b": 10,
           "t": 60
          },
          "steps": [
           {
            "args": [
             [
              "2005"
             ],
             {
              "frame": {
               "duration": 0,
               "redraw": false
              },
              "fromcurrent": true,
              "mode": "immediate",
              "transition": {
               "duration": 0,
               "easing": "linear"
              }
             }
            ],
            "label": "2005",
            "method": "animate"
           },
           {
            "args": [
             [
              "2006"
             ],
             {
              "frame": {
               "duration": 0,
               "redraw": false
              },
              "fromcurrent": true,
              "mode": "immediate",
              "transition": {
               "duration": 0,
               "easing": "linear"
              }
             }
            ],
            "label": "2006",
            "method": "animate"
           },
           {
            "args": [
             [
              "2007"
             ],
             {
              "frame": {
               "duration": 0,
               "redraw": false
              },
              "fromcurrent": true,
              "mode": "immediate",
              "transition": {
               "duration": 0,
               "easing": "linear"
              }
             }
            ],
            "label": "2007",
            "method": "animate"
           },
           {
            "args": [
             [
              "2008"
             ],
             {
              "frame": {
               "duration": 0,
               "redraw": false
              },
              "fromcurrent": true,
              "mode": "immediate",
              "transition": {
               "duration": 0,
               "easing": "linear"
              }
             }
            ],
            "label": "2008",
            "method": "animate"
           },
           {
            "args": [
             [
              "2009"
             ],
             {
              "frame": {
               "duration": 0,
               "redraw": false
              },
              "fromcurrent": true,
              "mode": "immediate",
              "transition": {
               "duration": 0,
               "easing": "linear"
              }
             }
            ],
            "label": "2009",
            "method": "animate"
           },
           {
            "args": [
             [
              "2010"
             ],
             {
              "frame": {
               "duration": 0,
               "redraw": false
              },
              "fromcurrent": true,
              "mode": "immediate",
              "transition": {
               "duration": 0,
               "easing": "linear"
              }
             }
            ],
            "label": "2010",
            "method": "animate"
           },
           {
            "args": [
             [
              "2011"
             ],
             {
              "frame": {
               "duration": 0,
               "redraw": false
              },
              "fromcurrent": true,
              "mode": "immediate",
              "transition": {
               "duration": 0,
               "easing": "linear"
              }
             }
            ],
            "label": "2011",
            "method": "animate"
           },
           {
            "args": [
             [
              "2012"
             ],
             {
              "frame": {
               "duration": 0,
               "redraw": false
              },
              "fromcurrent": true,
              "mode": "immediate",
              "transition": {
               "duration": 0,
               "easing": "linear"
              }
             }
            ],
            "label": "2012",
            "method": "animate"
           },
           {
            "args": [
             [
              "2013"
             ],
             {
              "frame": {
               "duration": 0,
               "redraw": false
              },
              "fromcurrent": true,
              "mode": "immediate",
              "transition": {
               "duration": 0,
               "easing": "linear"
              }
             }
            ],
            "label": "2013",
            "method": "animate"
           },
           {
            "args": [
             [
              "2014"
             ],
             {
              "frame": {
               "duration": 0,
               "redraw": false
              },
              "fromcurrent": true,
              "mode": "immediate",
              "transition": {
               "duration": 0,
               "easing": "linear"
              }
             }
            ],
            "label": "2014",
            "method": "animate"
           },
           {
            "args": [
             [
              "2015"
             ],
             {
              "frame": {
               "duration": 0,
               "redraw": false
              },
              "fromcurrent": true,
              "mode": "immediate",
              "transition": {
               "duration": 0,
               "easing": "linear"
              }
             }
            ],
            "label": "2015",
            "method": "animate"
           },
           {
            "args": [
             [
              "2016"
             ],
             {
              "frame": {
               "duration": 0,
               "redraw": false
              },
              "fromcurrent": true,
              "mode": "immediate",
              "transition": {
               "duration": 0,
               "easing": "linear"
              }
             }
            ],
            "label": "2016",
            "method": "animate"
           },
           {
            "args": [
             [
              "2017"
             ],
             {
              "frame": {
               "duration": 0,
               "redraw": false
              },
              "fromcurrent": true,
              "mode": "immediate",
              "transition": {
               "duration": 0,
               "easing": "linear"
              }
             }
            ],
            "label": "2017",
            "method": "animate"
           },
           {
            "args": [
             [
              "2018"
             ],
             {
              "frame": {
               "duration": 0,
               "redraw": false
              },
              "fromcurrent": true,
              "mode": "immediate",
              "transition": {
               "duration": 0,
               "easing": "linear"
              }
             }
            ],
            "label": "2018",
            "method": "animate"
           },
           {
            "args": [
             [
              "2019"
             ],
             {
              "frame": {
               "duration": 0,
               "redraw": false
              },
              "fromcurrent": true,
              "mode": "immediate",
              "transition": {
               "duration": 0,
               "easing": "linear"
              }
             }
            ],
            "label": "2019",
            "method": "animate"
           },
           {
            "args": [
             [
              "2020"
             ],
             {
              "frame": {
               "duration": 0,
               "redraw": false
              },
              "fromcurrent": true,
              "mode": "immediate",
              "transition": {
               "duration": 0,
               "easing": "linear"
              }
             }
            ],
            "label": "2020",
            "method": "animate"
           },
           {
            "args": [
             [
              "2021"
             ],
             {
              "frame": {
               "duration": 0,
               "redraw": false
              },
              "fromcurrent": true,
              "mode": "immediate",
              "transition": {
               "duration": 0,
               "easing": "linear"
              }
             }
            ],
            "label": "2021",
            "method": "animate"
           }
          ],
          "x": 0.1,
          "xanchor": "left",
          "y": 0,
          "yanchor": "top"
         }
        ],
        "template": {
         "data": {
          "bar": [
           {
            "error_x": {
             "color": "#2a3f5f"
            },
            "error_y": {
             "color": "#2a3f5f"
            },
            "marker": {
             "line": {
              "color": "#E5ECF6",
              "width": 0.5
             },
             "pattern": {
              "fillmode": "overlay",
              "size": 10,
              "solidity": 0.2
             }
            },
            "type": "bar"
           }
          ],
          "barpolar": [
           {
            "marker": {
             "line": {
              "color": "#E5ECF6",
              "width": 0.5
             },
             "pattern": {
              "fillmode": "overlay",
              "size": 10,
              "solidity": 0.2
             }
            },
            "type": "barpolar"
           }
          ],
          "carpet": [
           {
            "aaxis": {
             "endlinecolor": "#2a3f5f",
             "gridcolor": "white",
             "linecolor": "white",
             "minorgridcolor": "white",
             "startlinecolor": "#2a3f5f"
            },
            "baxis": {
             "endlinecolor": "#2a3f5f",
             "gridcolor": "white",
             "linecolor": "white",
             "minorgridcolor": "white",
             "startlinecolor": "#2a3f5f"
            },
            "type": "carpet"
           }
          ],
          "choropleth": [
           {
            "colorbar": {
             "outlinewidth": 0,
             "ticks": ""
            },
            "type": "choropleth"
           }
          ],
          "contour": [
           {
            "colorbar": {
             "outlinewidth": 0,
             "ticks": ""
            },
            "colorscale": [
             [
              0,
              "#0d0887"
             ],
             [
              0.1111111111111111,
              "#46039f"
             ],
             [
              0.2222222222222222,
              "#7201a8"
             ],
             [
              0.3333333333333333,
              "#9c179e"
             ],
             [
              0.4444444444444444,
              "#bd3786"
             ],
             [
              0.5555555555555556,
              "#d8576b"
             ],
             [
              0.6666666666666666,
              "#ed7953"
             ],
             [
              0.7777777777777778,
              "#fb9f3a"
             ],
             [
              0.8888888888888888,
              "#fdca26"
             ],
             [
              1,
              "#f0f921"
             ]
            ],
            "type": "contour"
           }
          ],
          "contourcarpet": [
           {
            "colorbar": {
             "outlinewidth": 0,
             "ticks": ""
            },
            "type": "contourcarpet"
           }
          ],
          "heatmap": [
           {
            "colorbar": {
             "outlinewidth": 0,
             "ticks": ""
            },
            "colorscale": [
             [
              0,
              "#0d0887"
             ],
             [
              0.1111111111111111,
              "#46039f"
             ],
             [
              0.2222222222222222,
              "#7201a8"
             ],
             [
              0.3333333333333333,
              "#9c179e"
             ],
             [
              0.4444444444444444,
              "#bd3786"
             ],
             [
              0.5555555555555556,
              "#d8576b"
             ],
             [
              0.6666666666666666,
              "#ed7953"
             ],
             [
              0.7777777777777778,
              "#fb9f3a"
             ],
             [
              0.8888888888888888,
              "#fdca26"
             ],
             [
              1,
              "#f0f921"
             ]
            ],
            "type": "heatmap"
           }
          ],
          "heatmapgl": [
           {
            "colorbar": {
             "outlinewidth": 0,
             "ticks": ""
            },
            "colorscale": [
             [
              0,
              "#0d0887"
             ],
             [
              0.1111111111111111,
              "#46039f"
             ],
             [
              0.2222222222222222,
              "#7201a8"
             ],
             [
              0.3333333333333333,
              "#9c179e"
             ],
             [
              0.4444444444444444,
              "#bd3786"
             ],
             [
              0.5555555555555556,
              "#d8576b"
             ],
             [
              0.6666666666666666,
              "#ed7953"
             ],
             [
              0.7777777777777778,
              "#fb9f3a"
             ],
             [
              0.8888888888888888,
              "#fdca26"
             ],
             [
              1,
              "#f0f921"
             ]
            ],
            "type": "heatmapgl"
           }
          ],
          "histogram": [
           {
            "marker": {
             "pattern": {
              "fillmode": "overlay",
              "size": 10,
              "solidity": 0.2
             }
            },
            "type": "histogram"
           }
          ],
          "histogram2d": [
           {
            "colorbar": {
             "outlinewidth": 0,
             "ticks": ""
            },
            "colorscale": [
             [
              0,
              "#0d0887"
             ],
             [
              0.1111111111111111,
              "#46039f"
             ],
             [
              0.2222222222222222,
              "#7201a8"
             ],
             [
              0.3333333333333333,
              "#9c179e"
             ],
             [
              0.4444444444444444,
              "#bd3786"
             ],
             [
              0.5555555555555556,
              "#d8576b"
             ],
             [
              0.6666666666666666,
              "#ed7953"
             ],
             [
              0.7777777777777778,
              "#fb9f3a"
             ],
             [
              0.8888888888888888,
              "#fdca26"
             ],
             [
              1,
              "#f0f921"
             ]
            ],
            "type": "histogram2d"
           }
          ],
          "histogram2dcontour": [
           {
            "colorbar": {
             "outlinewidth": 0,
             "ticks": ""
            },
            "colorscale": [
             [
              0,
              "#0d0887"
             ],
             [
              0.1111111111111111,
              "#46039f"
             ],
             [
              0.2222222222222222,
              "#7201a8"
             ],
             [
              0.3333333333333333,
              "#9c179e"
             ],
             [
              0.4444444444444444,
              "#bd3786"
             ],
             [
              0.5555555555555556,
              "#d8576b"
             ],
             [
              0.6666666666666666,
              "#ed7953"
             ],
             [
              0.7777777777777778,
              "#fb9f3a"
             ],
             [
              0.8888888888888888,
              "#fdca26"
             ],
             [
              1,
              "#f0f921"
             ]
            ],
            "type": "histogram2dcontour"
           }
          ],
          "mesh3d": [
           {
            "colorbar": {
             "outlinewidth": 0,
             "ticks": ""
            },
            "type": "mesh3d"
           }
          ],
          "parcoords": [
           {
            "line": {
             "colorbar": {
              "outlinewidth": 0,
              "ticks": ""
             }
            },
            "type": "parcoords"
           }
          ],
          "pie": [
           {
            "automargin": true,
            "type": "pie"
           }
          ],
          "scatter": [
           {
            "fillpattern": {
             "fillmode": "overlay",
             "size": 10,
             "solidity": 0.2
            },
            "type": "scatter"
           }
          ],
          "scatter3d": [
           {
            "line": {
             "colorbar": {
              "outlinewidth": 0,
              "ticks": ""
             }
            },
            "marker": {
             "colorbar": {
              "outlinewidth": 0,
              "ticks": ""
             }
            },
            "type": "scatter3d"
           }
          ],
          "scattercarpet": [
           {
            "marker": {
             "colorbar": {
              "outlinewidth": 0,
              "ticks": ""
             }
            },
            "type": "scattercarpet"
           }
          ],
          "scattergeo": [
           {
            "marker": {
             "colorbar": {
              "outlinewidth": 0,
              "ticks": ""
             }
            },
            "type": "scattergeo"
           }
          ],
          "scattergl": [
           {
            "marker": {
             "colorbar": {
              "outlinewidth": 0,
              "ticks": ""
             }
            },
            "type": "scattergl"
           }
          ],
          "scattermapbox": [
           {
            "marker": {
             "colorbar": {
              "outlinewidth": 0,
              "ticks": ""
             }
            },
            "type": "scattermapbox"
           }
          ],
          "scatterpolar": [
           {
            "marker": {
             "colorbar": {
              "outlinewidth": 0,
              "ticks": ""
             }
            },
            "type": "scatterpolar"
           }
          ],
          "scatterpolargl": [
           {
            "marker": {
             "colorbar": {
              "outlinewidth": 0,
              "ticks": ""
             }
            },
            "type": "scatterpolargl"
           }
          ],
          "scatterternary": [
           {
            "marker": {
             "colorbar": {
              "outlinewidth": 0,
              "ticks": ""
             }
            },
            "type": "scatterternary"
           }
          ],
          "surface": [
           {
            "colorbar": {
             "outlinewidth": 0,
             "ticks": ""
            },
            "colorscale": [
             [
              0,
              "#0d0887"
             ],
             [
              0.1111111111111111,
              "#46039f"
             ],
             [
              0.2222222222222222,
              "#7201a8"
             ],
             [
              0.3333333333333333,
              "#9c179e"
             ],
             [
              0.4444444444444444,
              "#bd3786"
             ],
             [
              0.5555555555555556,
              "#d8576b"
             ],
             [
              0.6666666666666666,
              "#ed7953"
             ],
             [
              0.7777777777777778,
              "#fb9f3a"
             ],
             [
              0.8888888888888888,
              "#fdca26"
             ],
             [
              1,
              "#f0f921"
             ]
            ],
            "type": "surface"
           }
          ],
          "table": [
           {
            "cells": {
             "fill": {
              "color": "#EBF0F8"
             },
             "line": {
              "color": "white"
             }
            },
            "header": {
             "fill": {
              "color": "#C8D4E3"
             },
             "line": {
              "color": "white"
             }
            },
            "type": "table"
           }
          ]
         },
         "layout": {
          "annotationdefaults": {
           "arrowcolor": "#2a3f5f",
           "arrowhead": 0,
           "arrowwidth": 1
          },
          "autotypenumbers": "strict",
          "coloraxis": {
           "colorbar": {
            "outlinewidth": 0,
            "ticks": ""
           }
          },
          "colorscale": {
           "diverging": [
            [
             0,
             "#8e0152"
            ],
            [
             0.1,
             "#c51b7d"
            ],
            [
             0.2,
             "#de77ae"
            ],
            [
             0.3,
             "#f1b6da"
            ],
            [
             0.4,
             "#fde0ef"
            ],
            [
             0.5,
             "#f7f7f7"
            ],
            [
             0.6,
             "#e6f5d0"
            ],
            [
             0.7,
             "#b8e186"
            ],
            [
             0.8,
             "#7fbc41"
            ],
            [
             0.9,
             "#4d9221"
            ],
            [
             1,
             "#276419"
            ]
           ],
           "sequential": [
            [
             0,
             "#0d0887"
            ],
            [
             0.1111111111111111,
             "#46039f"
            ],
            [
             0.2222222222222222,
             "#7201a8"
            ],
            [
             0.3333333333333333,
             "#9c179e"
            ],
            [
             0.4444444444444444,
             "#bd3786"
            ],
            [
             0.5555555555555556,
             "#d8576b"
            ],
            [
             0.6666666666666666,
             "#ed7953"
            ],
            [
             0.7777777777777778,
             "#fb9f3a"
            ],
            [
             0.8888888888888888,
             "#fdca26"
            ],
            [
             1,
             "#f0f921"
            ]
           ],
           "sequentialminus": [
            [
             0,
             "#0d0887"
            ],
            [
             0.1111111111111111,
             "#46039f"
            ],
            [
             0.2222222222222222,
             "#7201a8"
            ],
            [
             0.3333333333333333,
             "#9c179e"
            ],
            [
             0.4444444444444444,
             "#bd3786"
            ],
            [
             0.5555555555555556,
             "#d8576b"
            ],
            [
             0.6666666666666666,
             "#ed7953"
            ],
            [
             0.7777777777777778,
             "#fb9f3a"
            ],
            [
             0.8888888888888888,
             "#fdca26"
            ],
            [
             1,
             "#f0f921"
            ]
           ]
          },
          "colorway": [
           "#636efa",
           "#EF553B",
           "#00cc96",
           "#ab63fa",
           "#FFA15A",
           "#19d3f3",
           "#FF6692",
           "#B6E880",
           "#FF97FF",
           "#FECB52"
          ],
          "font": {
           "color": "#2a3f5f"
          },
          "geo": {
           "bgcolor": "white",
           "lakecolor": "white",
           "landcolor": "#E5ECF6",
           "showlakes": true,
           "showland": true,
           "subunitcolor": "white"
          },
          "hoverlabel": {
           "align": "left"
          },
          "hovermode": "closest",
          "mapbox": {
           "style": "light"
          },
          "paper_bgcolor": "white",
          "plot_bgcolor": "#E5ECF6",
          "polar": {
           "angularaxis": {
            "gridcolor": "white",
            "linecolor": "white",
            "ticks": ""
           },
           "bgcolor": "#E5ECF6",
           "radialaxis": {
            "gridcolor": "white",
            "linecolor": "white",
            "ticks": ""
           }
          },
          "scene": {
           "xaxis": {
            "backgroundcolor": "#E5ECF6",
            "gridcolor": "white",
            "gridwidth": 2,
            "linecolor": "white",
            "showbackground": true,
            "ticks": "",
            "zerolinecolor": "white"
           },
           "yaxis": {
            "backgroundcolor": "#E5ECF6",
            "gridcolor": "white",
            "gridwidth": 2,
            "linecolor": "white",
            "showbackground": true,
            "ticks": "",
            "zerolinecolor": "white"
           },
           "zaxis": {
            "backgroundcolor": "#E5ECF6",
            "gridcolor": "white",
            "gridwidth": 2,
            "linecolor": "white",
            "showbackground": true,
            "ticks": "",
            "zerolinecolor": "white"
           }
          },
          "shapedefaults": {
           "line": {
            "color": "#2a3f5f"
           }
          },
          "ternary": {
           "aaxis": {
            "gridcolor": "white",
            "linecolor": "white",
            "ticks": ""
           },
           "baxis": {
            "gridcolor": "white",
            "linecolor": "white",
            "ticks": ""
           },
           "bgcolor": "#E5ECF6",
           "caxis": {
            "gridcolor": "white",
            "linecolor": "white",
            "ticks": ""
           }
          },
          "title": {
           "x": 0.05
          },
          "xaxis": {
           "automargin": true,
           "gridcolor": "white",
           "linecolor": "white",
           "ticks": "",
           "title": {
            "standoff": 15
           },
           "zerolinecolor": "white",
           "zerolinewidth": 2
          },
          "yaxis": {
           "automargin": true,
           "gridcolor": "white",
           "linecolor": "white",
           "ticks": "",
           "title": {
            "standoff": 15
           },
           "zerolinecolor": "white",
           "zerolinewidth": 2
          }
         }
        },
        "updatemenus": [
         {
          "buttons": [
           {
            "args": [
             null,
             {
              "frame": {
               "duration": 500,
               "redraw": false
              },
              "fromcurrent": true,
              "mode": "immediate",
              "transition": {
               "duration": 500,
               "easing": "linear"
              }
             }
            ],
            "label": "&#9654;",
            "method": "animate"
           },
           {
            "args": [
             [
              null
             ],
             {
              "frame": {
               "duration": 0,
               "redraw": false
              },
              "fromcurrent": true,
              "mode": "immediate",
              "transition": {
               "duration": 0,
               "easing": "linear"
              }
             }
            ],
            "label": "&#9724;",
            "method": "animate"
           }
          ],
          "direction": "left",
          "pad": {
           "r": 10,
           "t": 70
          },
          "showactive": false,
          "type": "buttons",
          "x": 0.1,
          "xanchor": "right",
          "y": 0,
          "yanchor": "top"
         }
        ],
        "xaxis": {
         "anchor": "y",
         "domain": [
          0,
          1
         ],
         "range": [
          1.7781512503836434,
          1.9294189257142926
         ],
         "title": {
          "text": "Healthy life expectancy at birth"
         },
         "type": "log"
        },
        "yaxis": {
         "anchor": "x",
         "domain": [
          0,
          1
         ],
         "title": {
          "text": "money"
         }
        }
       }
      }
     },
     "metadata": {},
     "output_type": "display_data"
    }
   ],
   "source": [
    "fig2 = px.scatter(master,\n",
    " x = 'Healthy life expectancy at birth',\n",
    "y = 'money',\n",
    "size = 'money',\n",
    "# size = 'Healthy life expectancy at birth',\n",
    "color = 'ISO3',\n",
    "hover_name = 'Country name_x',\n",
    "log_x=True,\n",
    "animation_frame = 'year',\n",
    "range_x = [60,85])\n",
    "\n",
    "fig2.show()"
   ]
  }
 ],
 "metadata": {
  "kernelspec": {
   "display_name": "gis",
   "language": "python",
   "name": "python3"
  },
  "language_info": {
   "codemirror_mode": {
    "name": "ipython",
    "version": 3
   },
   "file_extension": ".py",
   "mimetype": "text/x-python",
   "name": "python",
   "nbconvert_exporter": "python",
   "pygments_lexer": "ipython3",
   "version": "3.11.3"
  },
  "orig_nbformat": 4
 },
 "nbformat": 4,
 "nbformat_minor": 2
}
